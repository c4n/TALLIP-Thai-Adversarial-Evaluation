{
 "cells": [
  {
   "cell_type": "code",
   "execution_count": 1,
   "metadata": {},
   "outputs": [],
   "source": [
    "import torch\n",
    "import math"
   ]
  },
  {
   "cell_type": "code",
   "execution_count": 2,
   "metadata": {},
   "outputs": [],
   "source": [
    "%load_ext autoreload\n",
    "%autoreload 2"
   ]
  },
  {
   "cell_type": "code",
   "execution_count": 3,
   "metadata": {},
   "outputs": [],
   "source": [
    "import re"
   ]
  },
  {
   "cell_type": "code",
   "execution_count": 4,
   "metadata": {},
   "outputs": [
    {
     "name": "stdout",
     "output_type": "stream",
     "text": [
      "/home/can/Documents/thai_nlp_research/BASIL/notebook\n"
     ]
    }
   ],
   "source": [
    "from pathlib import Path\n",
    "import os\n",
    "mypath = Path().absolute()\n",
    "print(mypath)"
   ]
  },
  {
   "cell_type": "code",
   "execution_count": 5,
   "metadata": {},
   "outputs": [],
   "source": [
    "os.chdir(\"/home/can/Documents/thai_nlp_research/BASIL/\")"
   ]
  },
  {
   "cell_type": "code",
   "execution_count": 6,
   "metadata": {},
   "outputs": [],
   "source": [
    "import sys\n",
    "sys.path.append('/home/can/Documents/thai_nlp_research/BASIL/')"
   ]
  },
  {
   "cell_type": "code",
   "execution_count": 7,
   "metadata": {},
   "outputs": [],
   "source": [
    "import basil"
   ]
  },
  {
   "cell_type": "code",
   "execution_count": 8,
   "metadata": {
    "scrolled": true
   },
   "outputs": [
    {
     "name": "stdout",
     "output_type": "stream",
     "text": [
      "Better speed can be achieved with apex installed from https://www.github.com/nvidia/apex.\n"
     ]
    },
    {
     "data": {
      "text/plain": [
       "device(type='cuda', index=0)"
      ]
     },
     "execution_count": 8,
     "metadata": {},
     "output_type": "execute_result"
    }
   ],
   "source": [
    "%autoreload 2\n",
    "from basil.preprocessing.prep_best_corpus import Best2010NECTEC\n",
    "from basil.preprocessing.prep_pytorch import PytorchPrepWordLevel\n",
    "from basil.models.multitasks.BiLSTM_BCA import LSTMTagger\n",
    "from basil.evaluation.stress_test import StressEval\n",
    "from basil.select_device import device\n",
    "torch.device(device)"
   ]
  },
  {
   "cell_type": "code",
   "execution_count": 9,
   "metadata": {},
   "outputs": [
    {
     "name": "stdout",
     "output_type": "stream",
     "text": [
      "Preprocessing BEST2010 corpus\n",
      "Done!\n"
     ]
    }
   ],
   "source": [
    "best2010  = Best2010NECTEC()"
   ]
  },
  {
   "cell_type": "code",
   "execution_count": 10,
   "metadata": {},
   "outputs": [],
   "source": [
    "from basil.evaluation.noise import NoiseGenerator\n",
    "from basil.preprocessing.prep_pytorch import PytorchPrepWordLevel\n",
    "prep_torch = PytorchPrepWordLevel(best2010.train_data, best2010.val_data, best2010.test_data)"
   ]
  },
  {
   "cell_type": "code",
   "execution_count": 11,
   "metadata": {},
   "outputs": [],
   "source": [
    "# noisy_data  = NoiseGenerator(best2010.test_data)"
   ]
  },
  {
   "cell_type": "code",
   "execution_count": 12,
   "metadata": {},
   "outputs": [],
   "source": [
    "# import pickle\n",
    "# pickle.dump( noisy_data, open( \"stress_best2010.p\", \"wb\" ) )"
   ]
  },
  {
   "cell_type": "code",
   "execution_count": 12,
   "metadata": {},
   "outputs": [
    {
     "name": "stdout",
     "output_type": "stream",
     "text": [
      "normal 0.12274917352465359 0.008765173045764829\n",
      "10 0.1267232890201871 0.008997549774391794\n",
      "20 0.13134803404375045 0.009425197592535243\n",
      "30 0.1348781388478582 0.008992488148117962\n",
      "40 0.13962628285301676 0.009184438236696874\n",
      "50 0.1443747650794279 0.009266620973269362\n",
      "60 0.14875677006400786 0.009131034482758621\n",
      "70 0.1536239784412079 0.009704856563874221\n",
      "80 0.15834476331152844 0.009583789704271631\n",
      "90 0.1624518344136932 0.010161800866741838\n",
      "100 0.16645125553914328 0.009795063183395536\n"
     ]
    }
   ],
   "source": [
    "CHAR_EMBEDDING_DIM = 100\n",
    "WORD_EMBEDDING_DIM = 128\n",
    "HIDDEN_DIM = 128\n",
    "\n",
    "model = LSTMTagger(CHAR_EMBEDDING_DIM,WORD_EMBEDDING_DIM,HIDDEN_DIM,\\\n",
    "                           len(prep_torch.char_to_index),len(prep_torch.word_to_index), prep_torch.prefix_size,\\\n",
    "                           len(prep_torch.pos_to_index),len(prep_torch.ner_to_index)).to(device)\n",
    "stress_eval  = StressEval(model, \"weights/model_bilstm_BCA_clp_seed1.p\",best2010,\"BiLSTM_U_BCA_clp-1\" )\n",
    "stress_eval.f1_summary(\"affix\")\n"
   ]
  },
  {
   "cell_type": "code",
   "execution_count": 16,
   "metadata": {},
   "outputs": [
    {
     "name": "stdout",
     "output_type": "stream",
     "text": [
      "normal 0.12267883519729901 0.009102765430784383\n",
      "10 0.1268070945151371 0.00941390422957089\n",
      "20 0.1305171625518745 0.009596182970795975\n",
      "30 0.13402558122665914 0.009524323449262068\n",
      "40 0.13794725481489947 0.009453511207421954\n",
      "50 0.14253245468653145 0.00979335743026666\n",
      "60 0.14567507209678554 0.008612650172801582\n",
      "70 0.14892611504450065 0.009812520556956474\n",
      "80 0.1534985140767053 0.009181373357523778\n",
      "90 0.1557155794712177 0.009218606814109668\n",
      "100 0.1603019372253692 0.009909655181699452\n"
     ]
    }
   ],
   "source": [
    "stress_eval  = StressEval(model, \"weights/model_bilstm_BCA_clp_seed2.p\",best2010,\"BiLSTM_U_BCA_clp-2\" )\n",
    "stress_eval.f1_summary(\"affix\")\n",
    "\n"
   ]
  },
  {
   "cell_type": "code",
   "execution_count": 17,
   "metadata": {},
   "outputs": [
    {
     "name": "stdout",
     "output_type": "stream",
     "text": [
      "normal 0.12245023563339663 0.009280123734983133\n",
      "10 0.12634082436519659 0.009572465716590482\n",
      "20 0.13021851089037528 0.009321175278622086\n",
      "30 0.13357307085298786 0.009128202341818575\n",
      "40 0.13821511705862052 0.009470547413969056\n",
      "50 0.14220713849237926 0.009722089840824608\n",
      "60 0.14472773153205828 0.009208726622699512\n",
      "70 0.14904350234426 0.009674161484080157\n",
      "80 0.15236261405325088 0.01018241359019623\n",
      "90 0.15462156797664764 0.01024563557171355\n",
      "100 0.15673310048160302 0.012090785482690094\n"
     ]
    }
   ],
   "source": [
    "stress_eval  = StressEval(model, \"weights/model_bilstm_BCA_clp_seed3.p\",best2010,\"BiLSTM_U_BCA_clp-3\" )\n",
    "stress_eval.f1_summary(\"affix\")"
   ]
  },
  {
   "cell_type": "code",
   "execution_count": 18,
   "metadata": {},
   "outputs": [
    {
     "name": "stdout",
     "output_type": "stream",
     "text": [
      "normal 0.12258211999718646 0.00964848162668616\n",
      "10 0.12647710487444608 0.00962360992301112\n",
      "20 0.13044242807906029 0.009955054672301603\n",
      "30 0.13289987339101075 0.008940388407206332\n",
      "40 0.13815357088690233 0.009324072689709539\n",
      "50 0.1419612653069299 0.00907445991885075\n",
      "60 0.14532153973306136 0.009085009733939\n",
      "70 0.14914527002521216 0.009552854019579173\n",
      "80 0.1530000593483551 0.009347899538236289\n",
      "90 0.1560490093068445 0.008633297834575789\n",
      "100 0.1601341741934491 0.008854344607675663\n"
     ]
    }
   ],
   "source": [
    "stress_eval  = StressEval(model, \"weights/model_bilstm_BCA_clp_seed4.p\",best2010,\"BiLSTM_U_BCA_clp-4\" )\n",
    "stress_eval.f1_summary(\"affix\")"
   ]
  },
  {
   "cell_type": "code",
   "execution_count": null,
   "metadata": {},
   "outputs": [],
   "source": []
  }
 ],
 "metadata": {
  "kernelspec": {
   "display_name": "Python (allennlp)",
   "language": "python",
   "name": "allennlp"
  },
  "language_info": {
   "codemirror_mode": {
    "name": "ipython",
    "version": 3
   },
   "file_extension": ".py",
   "mimetype": "text/x-python",
   "name": "python",
   "nbconvert_exporter": "python",
   "pygments_lexer": "ipython3",
   "version": "3.7.2"
  }
 },
 "nbformat": 4,
 "nbformat_minor": 2
}
