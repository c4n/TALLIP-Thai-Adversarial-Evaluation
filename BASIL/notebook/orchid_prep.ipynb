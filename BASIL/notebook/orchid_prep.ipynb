{
 "cells": [
  {
   "cell_type": "code",
   "execution_count": 3,
   "metadata": {
    "collapsed": true
   },
   "outputs": [],
   "source": [
    "filepath = 'orchid97.crp.utf'  \n",
    "with open(filepath) as fp:\n",
    "    count =0 \n",
    "    for line in fp:\n",
    "        if line[0]!= \"%\":\n",
    "            count+=1"
   ]
  },
  {
   "cell_type": "code",
   "execution_count": 4,
   "metadata": {
    "collapsed": true
   },
   "outputs": [],
   "source": [
    "import re\n",
    "file = open('orchid97.crp.utf', 'r')\n",
    "full_text = file.read()\n",
    "#(?<=^test_).+(?=\\.py$)\n",
    "text_files=re.split(r'%File:',full_text)\n",
    "file.close()\n",
    "text_files=text_files[1:]"
   ]
  },
  {
   "cell_type": "raw",
   "metadata": {},
   "source": [
    "### ORCHID format \n",
    "\n",
    "%TTitle: การประชุมทางวิชาการ ครั้งที่ 1\n",
    "%ETitle: [1st Annual Conference]\n",
    "%TAuthor:\n",
    "%EAuthor:\n",
    "%TInbook: การประชุมทางวิชาการ ครั้งที่ 1, โครงการวิจัยและพัฒนาอิเล็กทรอนิกส์และคอมพิวเตอร์, ปีงบ\n",
    "ประมาณ 2531, เล่ม 1\n",
    "%EInbook: The 1st Annual Conference, Electronics and Computer Research and Devel\n",
    "opment Project, Fiscal Year 1988, Book 1\n",
    "%TPublisher: ศูนย์เทคโนโลยีอิเล็กทรอนิกส์และคอมพิวเตอร์แห่งชาติ, กระทรวงวิทยาศาสตร์ เทคโนโลยีแ\n",
    "ละการพลังงาน\n",
    "%EPublisher: National Electronics and Computer Technology Center, Ministry of Science, Technology and Energy\n",
    "%Page:\n",
    "%Year: 1989\n",
    "%File:\n",
    "#P1<<< Paragraph#1\n",
    "#1<<<< sentence#1\n",
    "การประชุมทางวิชาการ ครั้งที่ 1/<<<< untokenized text\n",
    "การ/FIXN<<<< annotated word\n",
    "ประชุม/VACT\n",
    "ทาง/NCMN\n",
    "วิชาการ/NCMN\n",
    "<space>/PUNC\n",
    "ครั้ง/CFQC\n",
    "ที่ 1/DONM\n",
    "//<<<< endof sentence\n",
    "\n",
    "\n",
    "\n"
   ]
  },
  {
   "cell_type": "markdown",
   "metadata": {},
   "source": [
    "text_files[0]"
   ]
  },
  {
   "cell_type": "code",
   "execution_count": 18,
   "metadata": {
    "collapsed": true
   },
   "outputs": [],
   "source": [
    "special = []\n",
    "corpus = []\n",
    "for file in text_files:\n",
    "    temp_text = []\n",
    "    for line in file.splitlines():\n",
    "        if len(line)>0:\n",
    "            if line[0]!=\"#\" and line[0]!=\"%\" and \"//\" not in line:\n",
    "                temp_text.append(line.split(\"/\"))\n",
    "                if line[0]==\"<\":\n",
    "                    special.append(line.split(\"/\")[0])\n",
    "    corpus.append(temp_text)\n",
    "                "
   ]
  },
  {
   "cell_type": "code",
   "execution_count": 19,
   "metadata": {},
   "outputs": [
    {
     "data": {
      "text/plain": [
       "164"
      ]
     },
     "execution_count": 19,
     "metadata": {},
     "output_type": "execute_result"
    }
   ],
   "source": [
    "len(corpus)"
   ]
  },
  {
   "cell_type": "code",
   "execution_count": 20,
   "metadata": {
    "scrolled": true
   },
   "outputs": [
    {
     "data": {
      "text/plain": [
       "{'<---',\n",
       " '<----',\n",
       " '<---vp',\n",
       " '<0, 1, NP ฉัน>',\n",
       " '<100>',\n",
       " '<LI>',\n",
       " '<a>',\n",
       " '<ampersand>',\n",
       " '<apostrophe>',\n",
       " '<asterisk>',\n",
       " '<at_mark>',\n",
       " '<at_mark>FIXN',\n",
       " '<at_mark>NCMN',\n",
       " '<at_mark>PUNC',\n",
       " '<b>',\n",
       " '<c>',\n",
       " '<circumflex_accent>',\n",
       " '<colon>',\n",
       " '<comma>',\n",
       " '<dollar>',\n",
       " '<e>',\n",
       " '<equal>',\n",
       " '<exclamation>',\n",
       " '<f>',\n",
       " '<full_stop>',\n",
       " '<greater_than>',\n",
       " '<left_curly_bracket>',\n",
       " '<left_parenthesis>',\n",
       " '<less_than>',\n",
       " '<minus>',\n",
       " '<number>',\n",
       " '<plus>',\n",
       " '<question_mark>',\n",
       " '<quotation>',\n",
       " '<right_parenthesis>',\n",
       " '<semi_colon>',\n",
       " '<slash>',\n",
       " \"<slash>'\",\n",
       " '<space>'}"
      ]
     },
     "execution_count": 20,
     "metadata": {},
     "output_type": "execute_result"
    }
   ],
   "source": [
    "set(special)"
   ]
  },
  {
   "cell_type": "code",
   "execution_count": 21,
   "metadata": {
    "collapsed": true
   },
   "outputs": [],
   "source": [
    "orchid_sym_dict = {'<ampersand>':\"&\",\n",
    "                     '<apostrophe>':\"'\",\n",
    "                     '<asterisk>':\"*\",\n",
    "                     '<at_mark>':\"@\",\n",
    "                     '<at_mark>FIXN':\"@\",\n",
    "                     '<at_mark>NCMN':\"@\",\n",
    "                     '<at_mark>PUNC':\"@\",\n",
    "                     '<circumflex_accent>':\"^\",# NEED REVIEW\n",
    "                     '<colon>':\":\",\n",
    "                     '<comma>':\",\",\n",
    "                     '<dollar>':\"?\",\n",
    "                     '<equal>':\"=\",\n",
    "                     '<exclamation>':\"!\",\n",
    "                     '<full_stop>':\".\",\n",
    "                     '<greater_than>':\">\",\n",
    "                     '<left_curly_bracket>':\"{\",\n",
    "                     '<left_parenthesis>':\"(\",\n",
    "                     '<less_than>':\"<\",\n",
    "                     '<minus>':\"-\",\n",
    "                    # '<number>',\n",
    "                     '<plus>':\"+\",\n",
    "                     '<question_mark>':\"?\",\n",
    "                     '<quotation>':\"\\\"\",\n",
    "                     '<right_parenthesis>': \")\",\n",
    "                     '<semi_colon>' :\";\",\n",
    "                     '<slash>':\"/\",\n",
    "                     \"<slash>'\":\"/\",\n",
    "                     '<space>':\" \"}"
   ]
  },
  {
   "cell_type": "code",
   "execution_count": 38,
   "metadata": {
    "collapsed": true
   },
   "outputs": [],
   "source": [
    "clean_text = []\n",
    "for text in text_files:\n",
    "    temp_text = []\n",
    "    for line in text.splitlines():\n",
    "        if len(line)>0:\n",
    "            if line[0]!=\"#\" and line[0]!=\"%\" and \"//\" not in line and \"\\\\\" not in line:\n",
    "                if \"/\" in line:\n",
    "                    word,pos = line.split(\"/\")\n",
    "                    if word in orchid_sym_dict:\n",
    "                        word = orchid_sym_dict[word]\n",
    "                    temp_text.append([word,pos])\n",
    "    clean_text.append(temp_text)"
   ]
  },
  {
   "cell_type": "code",
   "execution_count": 41,
   "metadata": {},
   "outputs": [
    {
     "data": {
      "text/plain": [
       "[['สาร', 'NCMN'],\n",
       " ['รองปลัด', 'NCMN'],\n",
       " ['กระทรวงวิทยาศาสตร์ เทคโนโลยีและการพลังงาน', 'NPRP'],\n",
       " ['นับเป็น', 'VSTA'],\n",
       " ['นิมิตรหมาย', 'NCMN'],\n",
       " ['อัน', 'PREL'],\n",
       " ['ดี', 'VATT'],\n",
       " [' ', 'PUNC'],\n",
       " ['ที่', 'PREL'],\n",
       " ['ศูนย์เทคโนโลยีอิเล็กทรอนิกส์และคอมพิวเตอร์แห่งชาติ', 'NPRP'],\n",
       " ['ได้รับ', 'VSTA'],\n",
       " ['การ', 'FIXN'],\n",
       " ['จัดตั้ง', 'VACT'],\n",
       " ['ขึ้น', 'XVAE'],\n",
       " ['โดย', 'RPRE'],\n",
       " ['มติ', 'NCMN'],\n",
       " ['คณะ', 'NCMN'],\n",
       " ['รัฐมนตรี', 'NCMN'],\n",
       " ['เพื่อ', 'JSBR'],\n",
       " ['ทำหน้าที่', 'VACT'],\n",
       " ['กำหนด', 'VACT'],\n",
       " ['นโยบาย', 'NCMN'],\n",
       " ['และ', 'JCRG'],\n",
       " ['วางแผน', 'VACT'],\n",
       " ['งาน', 'NCMN'],\n",
       " ['ในอันที่จะ', 'JSBR'],\n",
       " ['สนับสนุน', 'VACT'],\n",
       " ['งานวิจัยและพัฒนา', 'NCMN'],\n",
       " ['ด้าน', 'RPRE'],\n",
       " ['อิเล็กทรอนิกส์', 'NCMN'],\n",
       " ['และ', 'JCRG'],\n",
       " ['คอมพิวเตอร์', 'NCMN'],\n",
       " [' ', 'PUNC'],\n",
       " ['ให้', 'JSBR'],\n",
       " ['เป็น', 'VSTA'],\n",
       " ['ไป', 'XVAE'],\n",
       " ['อย่าง', 'FIXV'],\n",
       " ['มี', 'VSTA'],\n",
       " ['ระบบ', 'NCMN'],\n",
       " ['บน', 'RPRE'],\n",
       " ['พื้นฐาน', 'NCMN'],\n",
       " ['ที่', 'PREL'],\n",
       " ['ตอบสนอง', 'VACT'],\n",
       " ['ต่อ', 'RPRE'],\n",
       " ['การ', 'FIXN'],\n",
       " ['พัฒนา', 'VACT'],\n",
       " ['ประเทศ', 'NCMN'],\n",
       " [' ', 'PUNC'],\n",
       " ['และ', 'JCRG'],\n",
       " ['การ', 'FIXN'],\n",
       " ['แก้ไข', 'VACT'],\n",
       " ['ปัญหา', 'NCMN'],\n",
       " ['พื้นฐาน', 'VATT'],\n",
       " ['ของ', 'RPRE'],\n",
       " ['ประเทศ', 'NCMN'],\n",
       " ['ผลงาน', 'NCMN'],\n",
       " ['ของ', 'RPRE'],\n",
       " ['ศูนย์ฯ', 'NCMN'],\n",
       " [' ', 'PUNC'],\n",
       " ['ใน', 'RPRE'],\n",
       " ['ระยะ', 'NCMN'],\n",
       " [' ', 'PUNC'],\n",
       " ['เวลา', 'NCMN'],\n",
       " [' ', 'PUNC'],\n",
       " ['1', 'DCNM'],\n",
       " [' ', 'PUNC'],\n",
       " ['ปี', 'CMTR'],\n",
       " [' ', 'PUNC'],\n",
       " ['ได้รับ', 'VSTA'],\n",
       " ['ผลสำเร็จ', 'NCMN'],\n",
       " ['เป็น', 'VSTA'],\n",
       " ['ที่', 'PREL'],\n",
       " ['น่าพอใจ', 'VSTA'],\n",
       " ['ซึ่ง', 'JSBR'],\n",
       " ['ทั้งนี้', 'JCRG'],\n",
       " [' ', 'PUNC'],\n",
       " ['เนื่องจาก', 'JSBR'],\n",
       " ['การ', 'FIXN'],\n",
       " ['ประสานงาน', 'VACT'],\n",
       " [' ', 'PUNC'],\n",
       " ['และ', 'JCRG'],\n",
       " ['ความ', 'FIXN'],\n",
       " ['ร่วมมือ', 'VACT'],\n",
       " ['เป็น', 'VSTA'],\n",
       " ['ไป', 'XVAE'],\n",
       " ['อย่าง', 'FIXV'],\n",
       " ['ดี', 'VATT'],\n",
       " ['ของ', 'RPRE'],\n",
       " ['นักวิจัย', 'NCMN'],\n",
       " ['และ', 'JCRG'],\n",
       " ['ผู้เกี่ยวข้อง', 'NCMN'],\n",
       " ['ผม', 'PPRS'],\n",
       " ['เชื่อ', 'VSTA'],\n",
       " ['แน่', 'ADVN'],\n",
       " ['ว่า', 'JSBR'],\n",
       " ['ผลงานวิจัยและพัฒนา', 'NCMN'],\n",
       " ['นี้', 'DDAC'],\n",
       " [' ', 'PUNC'],\n",
       " ['มีประโยชน์', 'VSTA'],\n",
       " ['อย่าง', 'FIXV'],\n",
       " ['สูง', 'VATT'],\n",
       " ['ต่อ', 'RPRE'],\n",
       " ['การ', 'FIXN'],\n",
       " ['พัฒนา', 'VACT'],\n",
       " ['ด้าน', 'NCMN'],\n",
       " ['อุตสาหกรรม', 'NCMN'],\n",
       " ['อิเล็กทรอนิกส์', 'NCMN'],\n",
       " ['และ', 'JCRG'],\n",
       " ['คอมพิวเตอร์', 'NCMN'],\n",
       " ['และ', 'JCRG'],\n",
       " ['หวัง', 'VSTA'],\n",
       " ['เป็น', 'FIXN'],\n",
       " ['อย่าง', 'FIXV'],\n",
       " ['ยิ่ง', 'VATT'],\n",
       " ['ว่า', 'JSBR'],\n",
       " [' ', 'PUNC'],\n",
       " ['จะ', 'XVBM'],\n",
       " ['ได้รับ', 'VSTA'],\n",
       " ['ความ', 'FIXN'],\n",
       " ['ร่วมมือ', 'VACT'],\n",
       " ['จาก', 'RPRE'],\n",
       " ['นักวิจัย', 'NCMN'],\n",
       " ['และ', 'JCRG'],\n",
       " ['ผู้เกี่ยวข้อง', 'NCMN'],\n",
       " [' ', 'PUNC'],\n",
       " ['เช่นเดียวกับที่', 'JSBR'],\n",
       " ['ผ่าน', 'VACT'],\n",
       " ['มา', 'XVAE'],\n",
       " ['ตลอดไป', 'ADVN'],\n",
       " ['(', 'PUNC'],\n",
       " ['นาย', 'NTTL'],\n",
       " ['ปกิต', 'NPRP'],\n",
       " [' ', 'PUNC'],\n",
       " ['กิระวานิช', 'NPRP'],\n",
       " [')', 'PUNC'],\n",
       " ['รองปลัด', 'NCMN'],\n",
       " ['กระทรวงวิทยาศาสตร์ เทคโนโลยีและการพลังงาน', 'NPRP']]"
      ]
     },
     "execution_count": 41,
     "metadata": {},
     "output_type": "execute_result"
    }
   ],
   "source": [
    "clean_text[3]"
   ]
  },
  {
   "cell_type": "code",
   "execution_count": null,
   "metadata": {
    "collapsed": true
   },
          "outputs": [],
   "source": []
  }
 ],
 "metadata": {
  "kernelspec": {
   "display_name": "Python 3",
   "language": "python",
   "name": "python3"
  },
  "language_info": {
   "codemirror_mode": {
    "name": "ipython",
    "version": 3
   },
   "file_extension": ".py",
   "mimetype": "text/x-python",
   "name": "python",
   "nbconvert_exporter": "python",
   "pygments_lexer": "ipython3",
   "version": "3.7.1"
  }
 },
 "nbformat": 4,
 "nbformat_minor": 2
}
