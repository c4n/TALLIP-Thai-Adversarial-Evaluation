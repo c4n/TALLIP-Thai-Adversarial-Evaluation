{
 "cells": [
  {
   "cell_type": "code",
   "execution_count": 1,
   "metadata": {},
   "outputs": [],
   "source": [
    "import torch\n",
    "import math"
   ]
  },
  {
   "cell_type": "code",
   "execution_count": 2,
   "metadata": {},
   "outputs": [
    {
     "name": "stdout",
     "output_type": "stream",
     "text": [
      "/home/datamind/can/BASIL/notebook\r\n"
     ]
    }
   ],
   "source": [
    "!pwd"
   ]
  },
  {
   "cell_type": "code",
   "execution_count": 3,
   "metadata": {},
   "outputs": [],
   "source": [
    "%load_ext autoreload\n",
    "%autoreload 2"
   ]
  },
  {
   "cell_type": "code",
   "execution_count": 4,
   "metadata": {},
   "outputs": [],
   "source": [
    "import re"
   ]
  },
  {
   "cell_type": "code",
   "execution_count": 5,
   "metadata": {},
   "outputs": [
    {
     "name": "stdout",
     "output_type": "stream",
     "text": [
      "/home/datamind/can/BASIL/notebook\n"
     ]
    }
   ],
   "source": [
    "from pathlib import Path\n",
    "import os\n",
    "mypath = Path().absolute()\n",
    "print(mypath)"
   ]
  },
  {
   "cell_type": "code",
   "execution_count": 6,
   "metadata": {},
   "outputs": [],
   "source": [
    "os.chdir(\"/home/datamind/can/BASIL\")"
   ]
  },
  {
   "cell_type": "code",
   "execution_count": 7,
   "metadata": {},
   "outputs": [],
   "source": [
    "import sys\n",
    "sys.path.append('/home/datamind/can/BASIL')"
   ]
  },
  {
   "cell_type": "code",
   "execution_count": 8,
   "metadata": {},
   "outputs": [],
   "source": [
    "import basil"
   ]
  },
  {
   "cell_type": "code",
   "execution_count": 9,
   "metadata": {
    "scrolled": true
   },
   "outputs": [
    {
     "name": "stderr",
     "output_type": "stream",
     "text": [
      "/home/datamind/can/BASIL/basil/preprocessing/prep_best_corpus.py:9: YAMLLoadWarning: calling yaml.load() without Loader=... is deprecated, as the default Loader is unsafe. Please read https://msg.pyyaml.org/load for full details.\n",
      "  cfg = yaml.load(ymlfile)\n"
     ]
    },
    {
     "data": {
      "text/plain": [
       "device(type='cuda', index=3)"
      ]
     },
     "execution_count": 9,
     "metadata": {},
     "output_type": "execute_result"
    }
   ],
   "source": [
    "%autoreload 2\n",
    "from basil.preprocessing.prep_best_corpus import Best2010NECTEC, BestSyllable2010NECTEC\n",
    "from basil.preprocessing.prep_pytorch import PytorchPrepWordLevel\n",
    "from basil.models.multitasks.elmo_lstm_pretrained import LSTMTagger\n",
    "from basil.evaluation.stress_test import StressEval\n",
    "from basil.select_device import device\n",
    "torch.device(device)"
   ]
  },
  {
   "cell_type": "code",
   "execution_count": 10,
   "metadata": {},
   "outputs": [
    {
     "name": "stdout",
     "output_type": "stream",
     "text": [
      "Preprocessing BEST2010 corpus\n",
      "Done!\n"
     ]
    }
   ],
   "source": [
    "best2010  = Best2010NECTEC()"
   ]
  },
  {
   "cell_type": "code",
   "execution_count": 11,
   "metadata": {},
   "outputs": [],
   "source": [
    "from basil.evaluation.noise import NoiseGenerator\n",
    "from basil.preprocessing.prep_pytorch import PytorchPrepWordLevel\n",
    "prep_torch = PytorchPrepWordLevel(best2010.train_data, best2010.val_data, best2010.test_data)"
   ]
  },
  {
   "cell_type": "code",
   "execution_count": 12,
   "metadata": {},
   "outputs": [],
   "source": [
    "# noisy_data  = NoiseGenerator(best2010.test_data)"
   ]
  },
  {
   "cell_type": "code",
   "execution_count": 13,
   "metadata": {},
   "outputs": [],
   "source": [
    "# import pickle\n",
    "# pickle.dump( noisy_data, open( \"stress_best2010.p\", \"wb\" ) )"
   ]
  },
  {
   "cell_type": "code",
   "execution_count": 14,
   "metadata": {},
   "outputs": [
    {
     "name": "stdout",
     "output_type": "stream",
     "text": [
      "normal 0.9422654216782725 0.800508947183194\n",
      "10 0.9060563631048284 0.7626235548040308\n",
      "20 0.8687964619665803 0.7239461030973946\n",
      "30 0.8314880391083679 0.680894714346773\n",
      "40 0.7923383640112366 0.6350159559036843\n",
      "50 0.7539318112378913 0.5901595626472288\n",
      "60 0.7162947527607794 0.5419003703983672\n",
      "70 0.6768056657647222 0.4927049987687762\n",
      "80 0.6395776183442358 0.4433163064833006\n",
      "90 0.5997480992040726 0.39679846326236595\n",
      "100 0.559204120076581 0.34478265826289467\n"
     ]
    }
   ],
   "source": [
    "CHAR_EMBEDDING_DIM = 100\n",
    "WORD_EMBEDDING_DIM = 128\n",
    "HIDDEN_DIM = 128\n",
    "\n",
    "model = LSTMTagger(CHAR_EMBEDDING_DIM,WORD_EMBEDDING_DIM,HIDDEN_DIM,\\\n",
    "                           len(prep_torch.char_to_index),len(prep_torch.word_to_index),\\\n",
    "                           len(prep_torch.pos_to_index),len(prep_torch.ner_to_index)).to(device)\n",
    "stress_eval  = StressEval(model, \"weights/model_elmo_pretrained_small_seed1.p\",best2010,\"BiLSTM_ELMO-1\" )\n",
    "stress_eval.f1_summary(\"elmo\")\n"
   ]
  },
  {
   "cell_type": "code",
   "execution_count": 15,
   "metadata": {},
   "outputs": [
    {
     "name": "stdout",
     "output_type": "stream",
     "text": [
      "normal 0.9427446015333755 0.7967510646113658\n",
      "10 0.9067201825283607 0.7563591022443891\n",
      "20 0.8699576211577689 0.7187927508638319\n",
      "30 0.8335154074246665 0.6771635411119586\n",
      "40 0.7946973576909634 0.628363508318906\n",
      "50 0.7563195146612739 0.5858534392327289\n",
      "60 0.7179640481643814 0.5373917043624933\n",
      "70 0.6802082898297149 0.48842230427436006\n",
      "80 0.6436247496917169 0.44059034702832073\n",
      "90 0.6050221786513446 0.39124705116733105\n",
      "100 0.5655634466886915 0.3447668720827866\n"
     ]
    }
   ],
   "source": [
    "stress_eval  = StressEval(model, \"weights/model_elmo_pretrained_small_seed2.p\",best2010,\"BiLSTM_ELMO-2\" )\n",
    "stress_eval.f1_summary(\"elmo\")\n",
    "\n"
   ]
  },
  {
   "cell_type": "code",
   "execution_count": 16,
   "metadata": {},
   "outputs": [
    {
     "name": "stdout",
     "output_type": "stream",
     "text": [
      "normal 0.9430037235515737 0.8004786771105309\n",
      "10 0.9072896884012098 0.7615189311430831\n",
      "20 0.8707187226615906 0.7207849882279962\n",
      "30 0.8336787963380189 0.6792756770750931\n",
      "40 0.7955862796601787 0.6308008213552361\n",
      "50 0.7570821903355138 0.5886554496279252\n",
      "60 0.7192213512931318 0.5343621525434128\n",
      "70 0.6792529141141378 0.4896275931017246\n",
      "80 0.6429493055143414 0.43725810063013787\n",
      "90 0.6039758914323144 0.3889551117715256\n",
      "100 0.5633113671632867 0.3401668692857262\n"
     ]
    }
   ],
   "source": [
    "stress_eval  = StressEval(model, \"weights/model_elmo_pretrained_small_seed3.p\",best2010,\"BiLSTM_ELMO-3\" )\n",
    "stress_eval.f1_summary(\"elmo\")\n",
    "\n"
   ]
  },
  {
   "cell_type": "markdown",
   "metadata": {},
   "source": [
    "# Check saved results"
   ]
  },
  {
   "cell_type": "code",
   "execution_count": 17,
   "metadata": {},
   "outputs": [],
   "source": [
    "CHAR_EMBEDDING_DIM = 100\n",
    "WORD_EMBEDDING_DIM = 128\n",
    "HIDDEN_DIM = 128\n",
    "\n",
    "model = LSTMTagger(CHAR_EMBEDDING_DIM,WORD_EMBEDDING_DIM,HIDDEN_DIM,\\\n",
    "                           len(prep_torch.char_to_index),len(prep_torch.word_to_index),\\\n",
    "                           len(prep_torch.pos_to_index),len(prep_torch.ner_to_index)).to(device)\n"
   ]
  },
  {
   "cell_type": "code",
   "execution_count": 18,
   "metadata": {},
   "outputs": [
    {
     "name": "stdout",
     "output_type": "stream",
     "text": [
      "normal 0.9422654216782725 0.800508947183194\n",
      "10 0.9060563631048284 0.7626235548040308\n",
      "20 0.8687964619665803 0.7239461030973946\n",
      "30 0.8314880391083679 0.680894714346773\n",
      "40 0.7923383640112366 0.6350159559036843\n",
      "50 0.7539318112378913 0.5901595626472288\n",
      "60 0.7162947527607794 0.5419003703983672\n",
      "70 0.6768056657647222 0.4927049987687762\n",
      "80 0.6395776183442358 0.4433163064833006\n",
      "90 0.5997480992040726 0.39679846326236595\n",
      "100 0.559204120076581 0.34478265826289467\n"
     ]
    }
   ],
   "source": [
    "stress_eval  = StressEval(model, \"weights/model_elmo_pretrained_small_seed1.p\",best2010,\"BiLSTM_ELMO-1\" )\n",
    "stress_eval.f1_summary_load()"
   ]
  },
  {
   "cell_type": "code",
   "execution_count": 19,
   "metadata": {},
   "outputs": [
    {
     "name": "stdout",
     "output_type": "stream",
     "text": [
      "normal 0.9427446015333755 0.7967510646113658\n",
      "10 0.9067201825283607 0.7563591022443891\n",
      "20 0.8699576211577689 0.7187927508638319\n",
      "30 0.8335154074246665 0.6771635411119586\n",
      "40 0.7946973576909634 0.628363508318906\n",
      "50 0.7563195146612739 0.5858534392327289\n",
      "60 0.7179640481643814 0.5373917043624933\n",
      "70 0.6802082898297149 0.48842230427436006\n",
      "80 0.6436247496917169 0.44059034702832073\n",
      "90 0.6050221786513446 0.39124705116733105\n",
      "100 0.5655634466886915 0.3447668720827866\n"
     ]
    }
   ],
   "source": [
    "stress_eval  = StressEval(model, \"weights/model_elmo_pretrained_small_seed2.p\",best2010,\"BiLSTM_ELMO-2\")\n",
    "stress_eval.f1_summary_load()"
   ]
  },
  {
   "cell_type": "code",
   "execution_count": 20,
   "metadata": {},
   "outputs": [
    {
     "name": "stdout",
     "output_type": "stream",
     "text": [
      "normal 0.9430037235515737 0.8004786771105309\n",
      "10 0.9072896884012098 0.7615189311430831\n",
      "20 0.8707187226615906 0.7207849882279962\n",
      "30 0.8336787963380189 0.6792756770750931\n",
      "40 0.7955862796601787 0.6308008213552361\n",
      "50 0.7570821903355138 0.5886554496279252\n",
      "60 0.7192213512931318 0.5343621525434128\n",
      "70 0.6792529141141378 0.4896275931017246\n",
      "80 0.6429493055143414 0.43725810063013787\n",
      "90 0.6039758914323144 0.3889551117715256\n",
      "100 0.5633113671632867 0.3401668692857262\n"
     ]
    }
   ],
   "source": [
    "stress_eval  = StressEval(model, \"weights/model_elmo_pretrained_small_seed3.p\",best2010,\"BiLSTM_ELMO-3\")\n",
    "stress_eval.f1_summary_load()"
   ]
  }
 ],
 "metadata": {
  "kernelspec": {
   "display_name": "Python 3",
   "language": "python",
   "name": "python3"
  },
  "language_info": {
   "codemirror_mode": {
    "name": "ipython",
    "version": 3
   },
   "file_extension": ".py",
   "mimetype": "text/x-python",
   "name": "python",
   "nbconvert_exporter": "python",
   "pygments_lexer": "ipython3",
   "version": "3.7.3"
  }
 },
 "nbformat": 4,
 "nbformat_minor": 2
}
