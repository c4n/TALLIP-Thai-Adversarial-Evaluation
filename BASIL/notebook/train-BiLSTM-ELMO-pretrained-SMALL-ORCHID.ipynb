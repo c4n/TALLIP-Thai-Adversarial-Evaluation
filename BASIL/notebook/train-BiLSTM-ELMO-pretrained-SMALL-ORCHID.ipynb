{
 "cells": [
  {
   "cell_type": "code",
   "execution_count": 11,
   "metadata": {},
   "outputs": [
    {
     "name": "stdout",
     "output_type": "stream",
     "text": [
      "The autoreload extension is already loaded. To reload it, use:\n",
      "  %reload_ext autoreload\n",
      "/home/datamind/can/BASIL\n"
     ]
    }
   ],
   "source": [
    "%load_ext autoreload\n",
    "%autoreload 2\n",
    "import torch\n",
    "import math\n",
    "from pathlib import Path\n",
    "import os\n",
    "os.chdir(\"/home/datamind/can/BASIL\")\n",
    "mypath = Path().absolute()\n",
    "print(mypath)\n",
    "from basil.select_device import device"
   ]
  },
  {
   "cell_type": "code",
   "execution_count": 12,
   "metadata": {},
   "outputs": [
    {
     "name": "stdout",
     "output_type": "stream",
     "text": [
      "/home/datamind/can/BASIL\r\n"
     ]
    }
   ],
   "source": [
    "!pwd"
   ]
  },
  {
   "cell_type": "code",
   "execution_count": 13,
   "metadata": {},
   "outputs": [
    {
     "data": {
      "text/plain": [
       "device(type='cuda', index=3)"
      ]
     },
     "execution_count": 13,
     "metadata": {},
     "output_type": "execute_result"
    }
   ],
   "source": [
    "torch.device(device)"
   ]
  },
  {
   "cell_type": "code",
   "execution_count": 14,
   "metadata": {},
   "outputs": [],
   "source": [
    "affixes = r\"^การ|^ความ|^นัก|^ผู้|^ไอ้|กร$|^ที่\\w+|^อย่าง|^แบบ|^โดย|^น่า\""
   ]
  },
  {
   "cell_type": "code",
   "execution_count": 15,
   "metadata": {},
   "outputs": [],
   "source": [
    "import sys\n",
    "sys.path.append('/home/datamind/can/BASIL')"
   ]
  },
  {
   "cell_type": "code",
   "execution_count": 16,
   "metadata": {},
   "outputs": [],
   "source": [
    "import basil"
   ]
  },
  {
   "cell_type": "code",
   "execution_count": 17,
   "metadata": {},
   "outputs": [],
   "source": [
    "from basil.select_device import device"
   ]
  },
  {
   "cell_type": "code",
   "execution_count": 18,
   "metadata": {},
   "outputs": [],
   "source": [
    "%autoreload 2\n",
    "from basil.preprocessing.prep_orchid_corpus import ORCHID\n"
   ]
  },
  {
   "cell_type": "code",
   "execution_count": 19,
   "metadata": {},
   "outputs": [
    {
     "name": "stdout",
     "output_type": "stream",
     "text": [
      "Preprocessing ORCHID corpus\n",
      "Done!\n"
     ]
    }
   ],
   "source": [
    "orchid  = ORCHID()"
   ]
  },
  {
   "cell_type": "code",
   "execution_count": 21,
   "metadata": {},
   "outputs": [],
   "source": [
    "%autoreload 2\n",
    "from basil.preprocessing.prep_pytorch_ORCHID import PytorchPrepWordLevel\n",
    "from basil.models.multitasks.elmo_lstm_orchid_pretrain import ORCHIDTagger\n",
    "from basil.training.train_elmo_orchid import TrainModel\n",
    "trainer = TrainModel(ORCHIDTagger, orchid,1)"
   ]
  },
  {
   "cell_type": "code",
   "execution_count": null,
   "metadata": {},
   "outputs": [
    {
     "name": "stdout",
     "output_type": "stream",
     "text": [
      "1\n",
      "Training\n",
      "Num of training text file: 132\n",
      " epoch 0: 4m 28s loss:1.0684 accuracy POS:0.7717 accuracy TYPE:0.9453epoch: 0\n",
      "F1 (POS): 0.7956586016658854\n",
      " epoch 1: 9m 28s loss:0.7157 accuracy POS:0.8558 accuracy TYPE:0.9611epoch: 1\n",
      "F1 (POS): 0.8634478779793027\n",
      " epoch 2: 14m 26s loss:0.4705 accuracy POS:0.8963 accuracy TYPE:0.9803epoch: 2\n",
      "F1 (POS): 0.8807557783146432\n",
      " epoch 3: 19m 24s loss:0.5272 accuracy POS:0.8873 accuracy TYPE:0.9714epoch: 3\n",
      "F1 (POS): 0.8930876573035733\n",
      " epoch 4: 24m 21s loss:0.3254 accuracy POS:0.9145 accuracy TYPE:0.9845epoch: 4\n",
      "F1 (POS): 0.8992175386723398\n",
      " epoch 5: 29m 18s loss:0.4491 accuracy POS:0.8996 accuracy TYPE:0.9744epoch: 5\n",
      "F1 (POS): 0.9035445137561751\n",
      " epoch 6: 34m 16s loss:0.2585 accuracy POS:0.9299 accuracy TYPE:0.9887epoch: 6\n",
      "F1 (POS): 0.9091695813651607\n",
      " epoch 7: 39m 10s loss:0.3917 accuracy POS:0.9045 accuracy TYPE:0.9773epoch: 7\n",
      "F1 (POS): 0.9120542314210507\n",
      " epoch 8: 44m 5s loss:0.2211 accuracy POS:0.9425 accuracy TYPE:0.98734epoch: 8\n",
      "F1 (POS): 0.9136407889517902\n",
      " epoch 9: 48m 59s loss:0.3609 accuracy POS:0.9148 accuracy TYPE:0.9793epoch: 9\n",
      "F1 (POS): 0.9147225327227491\n",
      " epoch 10: 53m 55s loss:0.2099 accuracy POS:0.9397 accuracy TYPE:0.9873epoch: 10\n",
      "F1 (POS): 0.9174990084015433\n",
      " epoch 11: 58m 51s loss:0.3347 accuracy POS:0.9163 accuracy TYPE:0.9822epoch: 11\n",
      "F1 (POS): 0.9187249846752965\n",
      " epoch 12: 63m 49s loss:0.1833 accuracy POS:0.9607 accuracy TYPE:0.9873epoch: 12\n",
      "F1 (POS): 0.9211769372228031\n",
      " epoch 13: 68m 44s loss:0.3211 accuracy POS:0.9138 accuracy TYPE:0.9808epoch: 13\n",
      "F1 (POS): 0.9227274366278441\n",
      " epoch 14: 73m 42s loss:0.1567 accuracy POS:0.9677 accuracy TYPE:0.9901epoch: 14\n",
      "F1 (POS): 0.9240976454043919\n",
      " epoch 15: 78m 37s loss:0.2918 accuracy POS:0.9227 accuracy TYPE:0.9847epoch: 15\n",
      "F1 (POS): 0.9229077272563372\n",
      " epoch 16: 83m 33s loss:0.1390 accuracy POS:0.9705 accuracy TYPE:0.9915epoch: 16\n",
      "F1 (POS): 0.923989471027296\n",
      " epoch 17: 88m 27s loss:0.2779 accuracy POS:0.9291 accuracy TYPE:0.9847epoch: 17\n",
      "F1 (POS): 0.9262250748206108\n",
      " epoch 18: 93m 24s loss:0.1317 accuracy POS:0.9761 accuracy TYPE:0.9873epoch: 18\n",
      "F1 (POS): 0.9265135398261999\n",
      " epoch 19: 98m 19s loss:0.2644 accuracy POS:0.9301 accuracy TYPE:0.9852epoch: 19\n",
      "F1 (POS): 0.9261529585692135\n",
      " epoch 20: 103m 15s loss:0.1014 accuracy POS:0.9817 accuracy TYPE:0.9929epoch: 20\n",
      "F1 (POS): 0.9279198067284462\n",
      " epoch 21: 108m 12s loss:0.2531 accuracy POS:0.9355 accuracy TYPE:0.9847epoch: 21\n",
      "F1 (POS): 0.9274510510943641\n",
      " epoch 22: 113m 7s loss:0.1057 accuracy POS:0.9733 accuracy TYPE:0.99572epoch: 22\n",
      "F1 (POS): 0.928713085493816\n",
      " epoch 23: 118m 2s loss:0.2420 accuracy POS:0.9335 accuracy TYPE:0.98724epoch: 23\n",
      "F1 (POS): 0.9293981898820899\n",
      " epoch 24: 122m 57s loss:0.0925 accuracy POS:0.9789 accuracy TYPE:0.9943epoch: 24\n",
      "F1 (POS): 0.9301193523960625\n",
      " epoch 25: 127m 51s loss:0.2298 accuracy POS:0.9340 accuracy TYPE:0.9876epoch: 25\n",
      "F1 (POS): 0.9293621317563913\n",
      " epoch 26: 132m 49s loss:0.0866 accuracy POS:0.9845 accuracy TYPE:0.9971epoch: 26\n",
      "F1 (POS): 0.9302996430245556\n",
      " epoch 27: 137m 42s loss:0.2196 accuracy POS:0.9360 accuracy TYPE:0.9886epoch: 27\n",
      "F1 (POS): 0.9304438755273501\n",
      " epoch 28: 142m 38s loss:0.0873 accuracy POS:0.9803 accuracy TYPE:0.9915epoch: 28\n",
      "F1 (POS): 0.9296145386362817\n",
      " epoch 29: 147m 31s loss:0.2106 accuracy POS:0.9424 accuracy TYPE:0.9881epoch: 29\n",
      "F1 (POS): 0.9315977355497062\n",
      " epoch 30: 152m 27s loss:0.0748 accuracy POS:0.9803 accuracy TYPE:0.9985epoch: 30\n",
      "F1 (POS): 0.9309126311614322\n",
      " epoch 31: 157m 23s loss:0.2094 accuracy POS:0.9434 accuracy TYPE:0.9906epoch: 31\n",
      "F1 (POS): 0.9305881080301446\n",
      " epoch 32: 162m 20s loss:0.0689 accuracy POS:0.9845 accuracy TYPE:0.9971epoch: 32\n",
      "F1 (POS): 0.9324270724407745\n",
      " epoch 33: 167m 13s loss:0.1993 accuracy POS:0.9448 accuracy TYPE:0.9901epoch: 33\n",
      "F1 (POS): 0.9314535030469117\n",
      " epoch 34: 172m 9s loss:0.0665 accuracy POS:0.9873 accuracy TYPE:0.99850epoch: 34\n",
      "F1 (POS): 0.9303357011502542\n",
      " epoch 35: 177m 6s loss:0.1889 accuracy POS:0.9468 accuracy TYPE:0.99015epoch: 35\n",
      "F1 (POS): 0.9317780261781993\n",
      " epoch 36: 182m 2s loss:0.0672 accuracy POS:0.9873 accuracy TYPE:0.99435epoch: 36\n",
      "F1 (POS): 0.9315256192983089\n",
      " epoch 37: 186m 57s loss:0.1856 accuracy POS:0.9517 accuracy TYPE:0.9891epoch: 37\n",
      "F1 (POS): 0.9320304330580896\n",
      " epoch 38: 191m 54s loss:0.0633 accuracy POS:0.9859 accuracy TYPE:0.9971epoch: 38\n",
      "F1 (POS): 0.9317780261781993\n",
      " epoch 39: 196m 50s loss:0.1929 accuracy POS:0.9458 accuracy TYPE:0.9906epoch: 39\n",
      "F1 (POS): 0.9322107236865828\n",
      "2\n",
      "Training\n",
      "Num of training text file: 132\n",
      " epoch 0: 4m 24s loss:1.1460 accuracy POS:0.7731 accuracy TYPE:0.9355epoch: 0\n",
      "F1 (POS): 0.783434897054051\n",
      " epoch 1: 9m 19s loss:0.7224 accuracy POS:0.8548 accuracy TYPE:0.9586epoch: 1\n",
      "F1 (POS): 0.8575704034904266\n",
      " epoch 2: 14m 15s loss:0.4652 accuracy POS:0.8949 accuracy TYPE:0.9789epoch: 2\n",
      "F1 (POS): 0.8828110914794649\n",
      " epoch 3: 19m 12s loss:0.5212 accuracy POS:0.8887 accuracy TYPE:0.9680epoch: 3\n",
      "F1 (POS): 0.8937727616918473\n",
      " epoch 4: 24m 9s loss:0.3363 accuracy POS:0.9075 accuracy TYPE:0.98037epoch: 4\n",
      "F1 (POS): 0.90210218872823\n",
      " epoch 5: 29m 3s loss:0.4442 accuracy POS:0.8991 accuracy TYPE:0.97248epoch: 5\n",
      "F1 (POS): 0.9073666750802293\n",
      " epoch 6: 33m 56s loss:0.2644 accuracy POS:0.9257 accuracy TYPE:0.9859epoch: 6\n",
      "F1 (POS): 0.909998918256229\n",
      " epoch 7: 38m 52s loss:0.3984 accuracy POS:0.9074 accuracy TYPE:0.9744epoch: 7\n",
      "F1 (POS): 0.913280207694804\n",
      " epoch 8: 43m 49s loss:0.2168 accuracy POS:0.9467 accuracy TYPE:0.9915epoch: 8\n",
      "F1 (POS): 0.9152994627339269\n",
      " epoch 9: 48m 42s loss:0.3494 accuracy POS:0.9192 accuracy TYPE:0.9798epoch: 9\n",
      "F1 (POS): 0.9187610428009952\n",
      " epoch 10: 53m 39s loss:0.1863 accuracy POS:0.9621 accuracy TYPE:0.9943epoch: 10\n",
      "F1 (POS): 0.9200591353261457\n",
      " epoch 11: 58m 34s loss:0.3240 accuracy POS:0.9202 accuracy TYPE:0.9788epoch: 11\n",
      "F1 (POS): 0.9226192622507482\n",
      " epoch 12: 63m 30s loss:0.1676 accuracy POS:0.9551 accuracy TYPE:0.9915epoch: 12\n",
      "F1 (POS): 0.9243861104099809\n",
      " epoch 13: 68m 23s loss:0.3009 accuracy POS:0.9222 accuracy TYPE:0.9822epoch: 13\n",
      "F1 (POS): 0.9253596798038438\n",
      " epoch 14: 73m 20s loss:0.1357 accuracy POS:0.9691 accuracy TYPE:0.9943epoch: 14\n",
      "F1 (POS): 0.9245303429127754\n",
      " epoch 15: 78m 14s loss:0.2933 accuracy POS:0.9242 accuracy TYPE:0.9837epoch: 15\n",
      "F1 (POS): 0.9256481448094328\n",
      " epoch 16: 83m 11s loss:0.1338 accuracy POS:0.9663 accuracy TYPE:0.9943epoch: 16\n",
      "F1 (POS): 0.9270183535859806\n",
      " epoch 17: 88m 4s loss:0.2791 accuracy POS:0.9271 accuracy TYPE:0.98086epoch: 17\n",
      "F1 (POS): 0.9273789348429669\n",
      " epoch 18: 93m 2s loss:0.1211 accuracy POS:0.9733 accuracy TYPE:0.99295epoch: 18\n",
      "F1 (POS): 0.9281361554826381\n",
      " epoch 19: 97m 54s loss:0.2637 accuracy POS:0.9291 accuracy TYPE:0.9803epoch: 19\n",
      "F1 (POS): 0.9292539573792953\n",
      " epoch 20: 102m 51s loss:0.1023 accuracy POS:0.9803 accuracy TYPE:0.9943epoch: 20\n",
      "F1 (POS): 0.9284606786139257\n",
      " epoch 21: 107m 47s loss:0.2553 accuracy POS:0.9340 accuracy TYPE:0.9852epoch: 21\n",
      "F1 (POS): 0.9304078174016515\n",
      " epoch 22: 112m 44s loss:0.0925 accuracy POS:0.9817 accuracy TYPE:0.9957epoch: 22\n",
      "F1 (POS): 0.9309847474128294\n",
      " epoch 23: 117m 39s loss:0.2403 accuracy POS:0.9360 accuracy TYPE:0.9832epoch: 23\n",
      "F1 (POS): 0.9293621317563913\n",
      " epoch 24: 122m 35s loss:0.0848 accuracy POS:0.9845 accuracy TYPE:0.9943epoch: 24\n",
      "F1 (POS): 0.930552049904446\n",
      " epoch 25: 127m 29s loss:0.2303 accuracy POS:0.9330 accuracy TYPE:0.9862epoch: 25\n",
      "F1 (POS): 0.9308765730357336\n",
      " epoch 26: 132m 24s loss:0.0734 accuracy POS:0.9831 accuracy TYPE:0.9971epoch: 26\n",
      "F1 (POS): 0.9308765730357336\n",
      " epoch 27: 137m 20s loss:0.2157 accuracy POS:0.9443 accuracy TYPE:0.9881epoch: 27\n",
      "F1 (POS): 0.932571304943569\n",
      " epoch 28: 142m 17s loss:0.0601 accuracy POS:0.9887 accuracy TYPE:0.9985epoch: 28\n",
      "F1 (POS): 0.9322107236865828\n",
      " epoch 29: 147m 13s loss:0.2154 accuracy POS:0.9419 accuracy TYPE:0.9852epoch: 29\n",
      "F1 (POS): 0.9324991886921717\n",
      " epoch 30: 152m 9s loss:0.0642 accuracy POS:0.9915 accuracy TYPE:0.99850epoch: 30\n",
      "F1 (POS): 0.9327155374463635\n",
      " epoch 31: 157m 5s loss:0.1975 accuracy POS:0.9448 accuracy TYPE:0.98725epoch: 31\n",
      "F1 (POS): 0.9316698518011034\n",
      " epoch 32: 162m 0s loss:0.0651 accuracy POS:0.9845 accuracy TYPE:0.99715epoch: 32\n",
      "F1 (POS): 0.9318501424295965\n",
      " epoch 33: 166m 56s loss:0.2015 accuracy POS:0.9448 accuracy TYPE:0.9876epoch: 33\n",
      "F1 (POS): 0.9326073630692676\n"
     ]
    },
    {
     "name": "stdout",
     "output_type": "stream",
     "text": [
      " epoch 34: 171m 55s loss:0.0719 accuracy POS:0.9845 accuracy TYPE:0.9943epoch: 34\n",
      "F1 (POS): 0.9323910143150759\n",
      " epoch 35: 176m 50s loss:0.1903 accuracy POS:0.9448 accuracy TYPE:0.9896epoch: 35\n",
      "F1 (POS): 0.932571304943569\n",
      " epoch 36: 181m 47s loss:0.0476 accuracy POS:0.9887 accuracy TYPE:0.9985epoch: 36\n",
      "F1 (POS): 0.9328958280748567\n",
      " epoch 37: 186m 40s loss:0.1869 accuracy POS:0.9468 accuracy TYPE:0.9881epoch: 37\n",
      "F1 (POS): 0.9329679443262541\n",
      " epoch 38: 191m 35s loss:0.0465 accuracy POS:0.9929 accuracy TYPE:0.9985epoch: 38\n",
      "F1 (POS): 0.932571304943569\n",
      " epoch 39: 196m 30s loss:0.1779 accuracy POS:0.9522 accuracy TYPE:0.9931epoch: 39\n",
      "F1 (POS): 0.9330761187033498\n",
      "3\n",
      "Training\n",
      "Num of training text file: 132\n",
      " epoch 0: 4m 25s loss:1.1355 accuracy POS:0.7703 accuracy TYPE:0.9383epoch: 0\n",
      "F1 (POS): 0.7897090109256121\n",
      " epoch 1: 9m 19s loss:0.7180 accuracy POS:0.8528 accuracy TYPE:0.9566epoch: 1\n",
      "F1 (POS): 0.862257959831248\n",
      " epoch 2: 14m 15s loss:0.4690 accuracy POS:0.8921 accuracy TYPE:0.9803epoch: 2\n",
      "F1 (POS): 0.8837846608733279\n",
      " epoch 3: 19m 10s loss:0.5203 accuracy POS:0.8902 accuracy TYPE:0.9694epoch: 3\n",
      "F1 (POS): 0.8951069123426965\n",
      " epoch 4: 24m 6s loss:0.3286 accuracy POS:0.9103 accuracy TYPE:0.98319epoch: 4\n",
      "F1 (POS): 0.9024267118595175\n",
      " epoch 5: 29m 0s loss:0.4385 accuracy POS:0.8981 accuracy TYPE:0.97447epoch: 5\n",
      "F1 (POS): 0.9061046406807775\n",
      " epoch 6: 33m 56s loss:0.2684 accuracy POS:0.9229 accuracy TYPE:0.9845epoch: 6\n",
      "F1 (POS): 0.9097465113763387\n",
      " epoch 7: 38m 52s loss:0.3835 accuracy POS:0.9099 accuracy TYPE:0.9778epoch: 7\n",
      "F1 (POS): 0.9140013702087766\n",
      " epoch 8: 43m 50s loss:0.2259 accuracy POS:0.9383 accuracy TYPE:0.9887epoch: 8\n",
      "F1 (POS): 0.9170302527674612\n",
      " epoch 9: 48m 45s loss:0.3602 accuracy POS:0.9153 accuracy TYPE:0.9793epoch: 9\n",
      "F1 (POS): 0.9182201709155158\n",
      " epoch 10: 53m 43s loss:0.1930 accuracy POS:0.9509 accuracy TYPE:0.9887epoch: 10\n",
      "F1 (POS): 0.9210327047200085\n",
      " epoch 11: 58m 37s loss:0.3367 accuracy POS:0.9153 accuracy TYPE:0.9793epoch: 11\n",
      "F1 (POS): 0.922258680993762\n",
      " epoch 12: 63m 34s loss:0.1647 accuracy POS:0.9565 accuracy TYPE:0.9901epoch: 12\n",
      "F1 (POS): 0.9237370641474058\n",
      " epoch 13: 68m 28s loss:0.3134 accuracy POS:0.9207 accuracy TYPE:0.9847epoch: 13\n",
      "F1 (POS): 0.9253596798038438\n",
      " epoch 14: 73m 26s loss:0.1578 accuracy POS:0.9621 accuracy TYPE:0.9901epoch: 14\n",
      "F1 (POS): 0.9243139941585836\n",
      " epoch 15: 78m 21s loss:0.2949 accuracy POS:0.9266 accuracy TYPE:0.9827epoch: 15\n",
      "F1 (POS): 0.9261169004435149\n",
      " epoch 16: 83m 18s loss:0.1427 accuracy POS:0.9677 accuracy TYPE:0.9859epoch: 16\n",
      "F1 (POS): 0.9277034579742545\n",
      " epoch 17: 88m 14s loss:0.2855 accuracy POS:0.9276 accuracy TYPE:0.9812epoch: 17\n",
      "F1 (POS): 0.9281361554826381\n",
      " epoch 18: 93m 10s loss:0.1205 accuracy POS:0.9733 accuracy TYPE:0.9901epoch: 18\n",
      "F1 (POS): 0.9285688529910215\n",
      " epoch 19: 98m 6s loss:0.2715 accuracy POS:0.9281 accuracy TYPE:0.98224epoch: 19\n",
      "F1 (POS): 0.9290736667508023\n",
      " epoch 20: 103m 4s loss:0.1065 accuracy POS:0.9761 accuracy TYPE:0.99012epoch: 20\n",
      "F1 (POS): 0.9308044567843363\n",
      " epoch 21: 107m 56s loss:0.2628 accuracy POS:0.9311 accuracy TYPE:0.9832epoch: 21\n",
      "F1 (POS): 0.9314895611726103\n",
      " epoch 22: 112m 53s loss:0.1050 accuracy POS:0.9747 accuracy TYPE:0.9929epoch: 22\n",
      "F1 (POS): 0.9325352468178704\n",
      " epoch 23: 117m 48s loss:0.2438 accuracy POS:0.9375 accuracy TYPE:0.9852epoch: 23\n",
      "F1 (POS): 0.9317780261781993\n",
      " epoch 24: 122m 45s loss:0.0903 accuracy POS:0.9817 accuracy TYPE:0.9929epoch: 24\n",
      "F1 (POS): 0.9324270724407745\n",
      " epoch 25: 127m 40s loss:0.2329 accuracy POS:0.9379 accuracy TYPE:0.9857epoch: 25\n",
      "F1 (POS): 0.9327876536977608\n",
      " epoch 26: 132m 35s loss:0.0774 accuracy POS:0.9775 accuracy TYPE:0.9971epoch: 26\n",
      "F1 (POS): 0.9313453286698158\n",
      " epoch 27: 137m 29s loss:0.2353 accuracy POS:0.9320 accuracy TYPE:0.9847epoch: 27\n",
      "F1 (POS): 0.931994374932391\n",
      " epoch 28: 142m 27s loss:0.0830 accuracy POS:0.9803 accuracy TYPE:0.9929epoch: 28\n",
      "F1 (POS): 0.9323549561893772\n",
      " epoch 29: 147m 22s loss:0.2154 accuracy POS:0.9404 accuracy TYPE:0.9886epoch: 29\n",
      "F1 (POS): 0.9332203512061443\n",
      " epoch 30: 152m 19s loss:0.0691 accuracy POS:0.9859 accuracy TYPE:0.9971epoch: 30\n",
      "F1 (POS): 0.933256409331843\n",
      " epoch 31: 157m 15s loss:0.2205 accuracy POS:0.9399 accuracy TYPE:0.9862epoch: 31\n",
      "F1 (POS): 0.9350232574910756\n",
      " epoch 32: 162m 8s loss:0.0658 accuracy POS:0.9873 accuracy TYPE:0.99717epoch: 32\n",
      "F1 (POS): 0.9336891068402264\n",
      " epoch 33: 167m 2s loss:0.2102 accuracy POS:0.9483 accuracy TYPE:0.98573epoch: 33\n",
      "F1 (POS): 0.9334366999603361\n",
      " epoch 34: 171m 58s loss:0.0641 accuracy POS:0.9845 accuracy TYPE:0.9929epoch: 34\n",
      "F1 (POS): 0.9342660368514044\n",
      " epoch 35: 176m 55s loss:0.2000 accuracy POS:0.9409 accuracy TYPE:0.9876epoch: 35\n",
      "F1 (POS): 0.9323188980636786\n",
      " epoch 36: 181m 50s loss:0.0619 accuracy POS:0.9859 accuracy TYPE:0.9943epoch: 36\n",
      "F1 (POS): 0.9335448743374319\n",
      " epoch 37: 186m 46s loss:0.1886 accuracy POS:0.9468 accuracy TYPE:0.9881epoch: 37\n",
      "F1 (POS): 0.9345545018569935\n",
      " epoch 38: 191m 43s loss:0.0591 accuracy POS:0.9859 accuracy TYPE:0.9971epoch: 38\n",
      "F1 (POS): 0.934302094977103\n",
      " epoch 39: 196m 38s loss:0.1862 accuracy POS:0.9527 accuracy TYPE:0.9891epoch: 39\n",
      "F1 (POS): 0.934302094977103\n",
      "4\n",
      "Training\n",
      "Num of training text file: 132\n",
      " epoch 0: 4m 25s loss:1.1302 accuracy POS:0.7829 accuracy TYPE:0.9383epoch: 0\n",
      "F1 (POS): 0.7927378934842966\n",
      " epoch 1: 9m 20s loss:0.7112 accuracy POS:0.8612 accuracy TYPE:0.9552epoch: 1\n",
      "F1 (POS): 0.8643493311217683\n",
      " epoch 2: 14m 18s loss:0.4642 accuracy POS:0.9033 accuracy TYPE:0.9761epoch: 2\n",
      "F1 (POS): 0.8846500558900948\n",
      " epoch 3: 19m 11s loss:0.5234 accuracy POS:0.8868 accuracy TYPE:0.9670epoch: 3\n",
      "F1 (POS): 0.8976309811416002\n",
      " epoch 4: 24m 7s loss:0.3275 accuracy POS:0.9187 accuracy TYPE:0.98875epoch: 4\n",
      "F1 (POS): 0.9026791187394079\n",
      " epoch 5: 29m 3s loss:0.4546 accuracy POS:0.8981 accuracy TYPE:0.97240epoch: 5\n",
      "F1 (POS): 0.9070782100746403\n",
      " epoch 6: 34m 0s loss:0.2539 accuracy POS:0.9299 accuracy TYPE:0.98597epoch: 6\n",
      "F1 (POS): 0.9124869289294343\n",
      " epoch 7: 38m 56s loss:0.3982 accuracy POS:0.9069 accuracy TYPE:0.9798epoch: 7\n",
      "F1 (POS): 0.9144701258428587\n",
      " epoch 8: 43m 54s loss:0.2292 accuracy POS:0.9313 accuracy TYPE:0.9915epoch: 8\n",
      "F1 (POS): 0.9168139040132693\n",
      " epoch 9: 48m 50s loss:0.3686 accuracy POS:0.9128 accuracy TYPE:0.9778epoch: 9\n",
      "F1 (POS): 0.9191216240579815\n",
      " epoch 10: 53m 46s loss:0.1825 accuracy POS:0.9551 accuracy TYPE:0.9915epoch: 10\n",
      "F1 (POS): 0.9200951934518443\n",
      " epoch 11: 58m 41s loss:0.3442 accuracy POS:0.9158 accuracy TYPE:0.9803epoch: 11\n",
      "F1 (POS): 0.9213211697255976\n",
      " epoch 12: 63m 35s loss:0.1619 accuracy POS:0.9635 accuracy TYPE:0.9943epoch: 12\n",
      "F1 (POS): 0.9221505066166661\n",
      " epoch 13: 68m 30s loss:0.3173 accuracy POS:0.9197 accuracy TYPE:0.9822epoch: 13\n",
      "F1 (POS): 0.923701006021707\n",
      " epoch 14: 73m 27s loss:0.1440 accuracy POS:0.9663 accuracy TYPE:0.9915epoch: 14\n",
      "F1 (POS): 0.9231961922619262\n",
      " epoch 15: 78m 23s loss:0.2960 accuracy POS:0.9207 accuracy TYPE:0.9832epoch: 15\n",
      "F1 (POS): 0.9249269822954603\n",
      " epoch 16: 83m 21s loss:0.1191 accuracy POS:0.9733 accuracy TYPE:0.9957epoch: 16\n",
      "F1 (POS): 0.9255399704323369\n",
      " epoch 17: 88m 17s loss:0.2803 accuracy POS:0.9271 accuracy TYPE:0.9817epoch: 17\n",
      "F1 (POS): 0.926693830454693\n",
      " epoch 18: 93m 10s loss:0.1152 accuracy POS:0.9733 accuracy TYPE:0.9915epoch: 18\n",
      "F1 (POS): 0.9268380629574875\n",
      " epoch 19: 98m 4s loss:0.2700 accuracy POS:0.9291 accuracy TYPE:0.98275epoch: 19\n",
      "F1 (POS): 0.9279198067284462\n",
      " epoch 20: 103m 1s loss:0.0944 accuracy POS:0.9789 accuracy TYPE:0.99575epoch: 20\n",
      "F1 (POS): 0.9273789348429669\n",
      " epoch 21: 107m 55s loss:0.2538 accuracy POS:0.9296 accuracy TYPE:0.9852epoch: 21\n",
      "F1 (POS): 0.9286049111167202\n",
      " epoch 22: 112m 53s loss:0.0988 accuracy POS:0.9789 accuracy TYPE:0.9957epoch: 22\n",
      "F1 (POS): 0.9299030036418707\n",
      " epoch 23: 117m 48s loss:0.2426 accuracy POS:0.9320 accuracy TYPE:0.9876epoch: 23\n",
      "F1 (POS): 0.9295424223848844\n",
      " epoch 24: 122m 45s loss:0.0758 accuracy POS:0.9859 accuracy TYPE:0.9971epoch: 24\n",
      "F1 (POS): 0.9306962824072404\n",
      " epoch 25: 127m 38s loss:0.2364 accuracy POS:0.9335 accuracy TYPE:0.9808epoch: 25\n",
      "F1 (POS): 0.9295424223848844\n",
      " epoch 26: 132m 33s loss:0.0855 accuracy POS:0.9803 accuracy TYPE:0.9971epoch: 26\n",
      "F1 (POS): 0.9296505967619804\n",
      " epoch 27: 137m 28s loss:0.2238 accuracy POS:0.9424 accuracy TYPE:0.9817epoch: 27\n",
      "F1 (POS): 0.9308044567843363\n"
     ]
    },
    {
     "name": "stdout",
     "output_type": "stream",
     "text": [
      " epoch 28: 142m 24s loss:0.0744 accuracy POS:0.9831 accuracy TYPE:0.9957epoch: 28\n",
      "F1 (POS): 0.9303357011502542\n",
      " epoch 29: 147m 20s loss:0.2230 accuracy POS:0.9419 accuracy TYPE:0.9857epoch: 29\n",
      "F1 (POS): 0.929578480510583\n",
      " epoch 30: 152m 18s loss:0.0623 accuracy POS:0.9915 accuracy TYPE:0.9971epoch: 30\n",
      "F1 (POS): 0.9322467818122814\n",
      " epoch 31: 157m 14s loss:0.2049 accuracy POS:0.9389 accuracy TYPE:0.9876epoch: 31\n",
      "F1 (POS): 0.9314895611726103\n",
      " epoch 32: 162m 12s loss:0.0628 accuracy POS:0.9929 accuracy TYPE:0.9985epoch: 32\n",
      "F1 (POS): 0.9318501424295965\n",
      " epoch 33: 167m 8s loss:0.2091 accuracy POS:0.9443 accuracy TYPE:0.98525epoch: 33\n",
      "F1 (POS): 0.9322107236865828\n",
      " epoch 34: 172m 3s loss:0.0568 accuracy POS:0.9873 accuracy TYPE:0.99857epoch: 34\n",
      "F1 (POS): 0.9315977355497062\n",
      " epoch 35: 176m 59s loss:0.2038 accuracy POS:0.9522 accuracy TYPE:0.9842epoch: 35\n",
      "F1 (POS): 0.9321746655608841\n",
      " epoch 36: 181m 55s loss:0.0563 accuracy POS:0.9901 accuracy TYPE:0.9985epoch: 36\n",
      "F1 (POS): 0.9322467818122814\n",
      " epoch 37: 186m 51s loss:0.1886 accuracy POS:0.9463 accuracy TYPE:0.9886epoch: 37\n",
      "F1 (POS): 0.9313813867955144\n",
      " epoch 38: 191m 49s loss:0.0498 accuracy POS:0.9943 accuracy TYPE:0.9957epoch: 38\n",
      "F1 (POS): 0.9321386074351855\n",
      " epoch 39: 196m 44s loss:0.1753 accuracy POS:0.9502 accuracy TYPE:0.9906epoch: 39\n",
      "F1 (POS): 0.9323910143150759\n",
      "5\n",
      "Training\n",
      "Num of training text file: 132\n",
      " epoch 0: 4m 25s loss:1.0977 accuracy POS:0.7815 accuracy TYPE:0.9327epoch: 0\n",
      "F1 (POS): 0.7881585115205711\n",
      " epoch 1: 9m 21s loss:0.7054 accuracy POS:0.8543 accuracy TYPE:0.9596epoch: 1\n",
      "F1 (POS): 0.862834889842426\n",
      " epoch 2: 14m 18s loss:0.4659 accuracy POS:0.8963 accuracy TYPE:0.9789epoch: 2\n",
      "F1 (POS): 0.8847942883928893\n",
      " epoch 3: 19m 14s loss:0.5217 accuracy POS:0.8907 accuracy TYPE:0.9655epoch: 3\n",
      "F1 (POS): 0.8938088198175458\n",
      " epoch 4: 24m 9s loss:0.3339 accuracy POS:0.9145 accuracy TYPE:0.98594epoch: 4\n",
      "F1 (POS): 0.9002271661919014\n",
      " epoch 5: 29m 4s loss:0.4384 accuracy POS:0.8961 accuracy TYPE:0.97298epoch: 5\n",
      "F1 (POS): 0.905563768795298\n",
      " epoch 6: 34m 2s loss:0.2842 accuracy POS:0.9299 accuracy TYPE:0.98314epoch: 6\n",
      "F1 (POS): 0.9098907438791332\n",
      " epoch 7: 38m 55s loss:0.3886 accuracy POS:0.9020 accuracy TYPE:0.9739"
     ]
    }
   ],
   "source": [
    "for i in range(5):\n",
    "    print(i+1)\n",
    "    trainer = TrainModel(ORCHIDTagger, orchid,i+1)\n",
    "    trainer.train(40)\n"
   ]
  },
  {
   "cell_type": "code",
   "execution_count": null,
   "metadata": {},
   "outputs": [],
   "source": [
    "# Print model's state_dict\n",
    "print(\"Model's state_dict:\")\n",
    "for param_tensor in trainer.model.state_dict():\n",
    "    print(param_tensor, \"\\t\", trainer.model.state_dict()[param_tensor].size())\n",
    "\n",
    "# Print optimizer's state_dict\n",
    "# print(\"Optimizer's state_dict:\")\n",
    "# for var_name in trainer.optimizer.state_dict():\n",
    "#     print(var_name, \"\\t\", trainer.optimizer.state_dict()[var_name])\n",
    "    \n"
   ]
  },
  {
   "cell_type": "code",
   "execution_count": null,
   "metadata": {},
   "outputs": [],
   "source": [
    "torch.save(trainer.model.state_dict(), \"elmo1.pt\")"
   ]
  },
  {
   "cell_type": "code",
   "execution_count": null,
   "metadata": {},
   "outputs": [],
   "source": [
    "trainer.model.state_dict().keys()"
   ]
  },
  {
   "cell_type": "code",
   "execution_count": null,
   "metadata": {},
   "outputs": [],
   "source": [
    "max_d = -100\n",
    "for i,data in enumerate(best2010.train_data):\n",
    "    if len(data)>max_d:\n",
    "        max_d = len(data)\n",
    "        print(max_d,i)"
   ]
  },
  {
   "cell_type": "code",
   "execution_count": null,
   "metadata": {},
   "outputs": [],
   "source": [
    "a = [1,2,3]"
   ]
  },
  {
   "cell_type": "code",
   "execution_count": null,
   "metadata": {},
   "outputs": [],
   "source": [
    "b = [4,5]"
   ]
  },
  {
   "cell_type": "code",
   "execution_count": null,
   "metadata": {},
   "outputs": [],
   "source": [
    "a.extend(b)"
   ]
  },
  {
   "cell_type": "code",
   "execution_count": 20,
   "metadata": {},
   "outputs": [
    {
     "data": {
      "text/plain": [
       "[1, 2, 3, 4, 5]"
      ]
     },
     "execution_count": 20,
     "metadata": {},
     "output_type": "execute_result"
    }
   ],
   "source": [
    "a\n"
   ]
  },
  {
   "cell_type": "code",
   "execution_count": 22,
   "metadata": {},
   "outputs": [
    {
     "data": {
      "text/plain": [
       "2"
      ]
     },
     "execution_count": 22,
     "metadata": {},
     "output_type": "execute_result"
    }
   ],
   "source": [
    "1+1"
   ]
  },
  {
   "cell_type": "code",
   "execution_count": null,
   "metadata": {},
   "outputs": [],
   "source": []
  }
 ],
 "metadata": {
  "kernelspec": {
   "display_name": "Python 3",
   "language": "python",
   "name": "python3"
  },
  "language_info": {
   "codemirror_mode": {
    "name": "ipython",
    "version": 3
   },
   "file_extension": ".py",
   "mimetype": "text/x-python",
   "name": "python",
   "nbconvert_exporter": "python",
   "pygments_lexer": "ipython3",
   "version": "3.7.3"
  }
 },
 "nbformat": 4,
 "nbformat_minor": 2
}
