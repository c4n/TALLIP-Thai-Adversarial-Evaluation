{
 "cells": [
  {
   "cell_type": "code",
   "execution_count": 1,
   "metadata": {},
   "outputs": [
    {
     "name": "stdout",
     "output_type": "stream",
     "text": [
      "/home/datamind/can/BASIL\n"
     ]
    }
   ],
   "source": [
    "%load_ext autoreload\n",
    "%autoreload 2\n",
    "import torch\n",
    "import math\n",
    "from pathlib import Path\n",
    "import os\n",
    "os.chdir(\"/home/datamind/can/BASIL/\")\n",
    "mypath = Path().absolute()\n",
    "print(mypath)\n",
    "from basil.select_device import device"
   ]
  },
  {
   "cell_type": "code",
   "execution_count": 2,
   "metadata": {},
   "outputs": [
    {
     "name": "stdout",
     "output_type": "stream",
     "text": [
      "/home/datamind/can/BASIL\r\n"
     ]
    }
   ],
   "source": [
    "!pwd"
   ]
  },
  {
   "cell_type": "code",
   "execution_count": 3,
   "metadata": {},
   "outputs": [
    {
     "data": {
      "text/plain": [
       "device(type='cuda', index=3)"
      ]
     },
     "execution_count": 3,
     "metadata": {},
     "output_type": "execute_result"
    }
   ],
   "source": [
    "torch.device(device)"
   ]
  },
  {
   "cell_type": "code",
   "execution_count": 4,
   "metadata": {},
   "outputs": [
    {
     "name": "stdout",
     "output_type": "stream",
     "text": [
      "/home/datamind/can/BASIL\n"
     ]
    }
   ],
   "source": [
    "from pathlib import Path\n",
    "import os\n",
    "os.chdir(\"/home/datamind/can/BASIL/\")\n",
    "mypath = Path().absolute()\n",
    "print(mypath)"
   ]
  },
  {
   "cell_type": "code",
   "execution_count": 5,
   "metadata": {},
   "outputs": [],
   "source": [
    "affixes = r\"^การ|^ความ|^นัก|^ผู้|^ไอ้|กร$|^ที่\\w+|^อย่าง|^แบบ|^โดย|^น่า\""
   ]
  },
  {
   "cell_type": "code",
   "execution_count": 6,
   "metadata": {},
   "outputs": [],
   "source": [
    "import sys\n",
    "sys.path.append('/home/datamind/can/BASIL/')"
   ]
  },
  {
   "cell_type": "code",
   "execution_count": 7,
   "metadata": {},
   "outputs": [],
   "source": [
    "import basil"
   ]
  },
  {
   "cell_type": "code",
   "execution_count": 8,
   "metadata": {},
   "outputs": [],
   "source": [
    "from basil.select_device import device"
   ]
  },
  {
   "cell_type": "code",
   "execution_count": 9,
   "metadata": {},
   "outputs": [],
   "source": [
    "%autoreload 2\n",
    "from basil.preprocessing.prep_orchid_corpus import ORCHID\n",
    "from basil.preprocessing.prep_pytorch_ORCHID import PytorchPrepWordLevel\n",
    "from basil.models.multitasks.BiLSTM_BCA import LSTMTagger\n",
    "from basil.training.train_BILSTM_U_BCA_clp_ORCHID import TrainModel\n",
    "\n"
   ]
  },
  {
   "cell_type": "code",
   "execution_count": 10,
   "metadata": {},
   "outputs": [
    {
     "name": "stdout",
     "output_type": "stream",
     "text": [
      "Preprocessing ORCHID corpus\n",
      "Done!\n"
     ]
    }
   ],
   "source": [
    "orchid  = ORCHID()"
   ]
  },
  {
   "cell_type": "code",
   "execution_count": 11,
   "metadata": {},
   "outputs": [
    {
     "name": "stdout",
     "output_type": "stream",
     "text": [
      "Training\n",
      "Num of training text file: 132\n",
      " epoch 0: 5m 40s loss:1.3279 accuracy POS:0.7288 accuracy TYPE:0.9286epoch: 0\n",
      "F1 (POS): 0.7725814012187645\n",
      " epoch 1: 11m 35s loss:0.8880 accuracy POS:0.8174 accuracy TYPE:0.9473epoch: 1\n",
      "F1 (POS): 0.8677748530631377\n",
      " epoch 2: 17m 30s loss:0.7605 accuracy POS:0.8346 accuracy TYPE:0.9434epoch: 2\n",
      "F1 (POS): 0.8939530523203403\n",
      " epoch 3: 23m 26s loss:0.6492 accuracy POS:0.8449 accuracy TYPE:0.9566epoch: 3\n",
      "F1 (POS): 0.9092056394908593\n",
      " epoch 4: 29m 20s loss:0.6409 accuracy POS:0.8459 accuracy TYPE:0.9552epoch: 4\n",
      "F1 (POS): 0.9170663108931598\n",
      " epoch 5: 35m 16s loss:0.5771 accuracy POS:0.8671 accuracy TYPE:0.9547epoch: 5\n",
      "F1 (POS): 0.9224750297479537\n",
      " epoch 6: 41m 11s loss:0.5346 accuracy POS:0.8740 accuracy TYPE:0.9635epoch: 6\n",
      "F1 (POS): 0.9277034579742545\n",
      " epoch 7: 47m 6s loss:0.5437 accuracy POS:0.8631 accuracy TYPE:0.95424epoch: 7\n",
      "F1 (POS): 0.9304438755273501\n",
      " epoch 8: 53m 1s loss:0.4961 accuracy POS:0.8838 accuracy TYPE:0.95713epoch: 8\n",
      "F1 (POS): 0.9336891068402264\n",
      " epoch 9: 58m 56s loss:0.4871 accuracy POS:0.8858 accuracy TYPE:0.9547epoch: 9\n",
      "F1 (POS): 0.9353117224966646\n",
      " epoch 10: 64m 50s loss:0.4623 accuracy POS:0.8892 accuracy TYPE:0.9591epoch: 10\n",
      "F1 (POS): 0.9356001875022536\n",
      " epoch 11: 70m 41s loss:0.4534 accuracy POS:0.8868 accuracy TYPE:0.9635epoch: 11\n",
      "F1 (POS): 0.938268488803952\n",
      " epoch 12: 76m 36s loss:0.4644 accuracy POS:0.8858 accuracy TYPE:0.9576epoch: 12\n",
      "F1 (POS): 0.9378357912955685\n",
      " epoch 13: 82m 31s loss:0.4449 accuracy POS:0.8887 accuracy TYPE:0.9665epoch: 13\n",
      "F1 (POS): 0.9380160819240616\n",
      " epoch 14: 88m 20s loss:0.4140 accuracy POS:0.8976 accuracy TYPE:0.9635epoch: 14\n",
      "F1 (POS): 0.9391699419464177\n",
      " epoch 15: 94m 0s loss:0.4096 accuracy POS:0.9030 accuracy TYPE:0.96300epoch: 15\n",
      "F1 (POS): 0.939710813831897\n",
      " epoch 16: 99m 42s loss:0.4409 accuracy POS:0.8941 accuracy TYPE:0.9621epoch: 16\n",
      "F1 (POS): 0.9410810226084448\n",
      " epoch 17: 105m 22s loss:0.4217 accuracy POS:0.8932 accuracy TYPE:0.9611epoch: 17\n",
      "F1 (POS): 0.9413694876140338\n",
      " epoch 18: 111m 2s loss:0.3829 accuracy POS:0.9084 accuracy TYPE:0.96457epoch: 18\n",
      "F1 (POS): 0.9418382432481159\n",
      " epoch 19: 116m 42s loss:0.4330 accuracy POS:0.8932 accuracy TYPE:0.9625epoch: 19\n",
      "F1 (POS): 0.9418382432481159\n",
      " epoch 20: 122m 22s loss:0.3977 accuracy POS:0.9084 accuracy TYPE:0.9611epoch: 20\n",
      "F1 (POS): 0.9412973713626366\n",
      " epoch 21: 128m 3s loss:0.3756 accuracy POS:0.9104 accuracy TYPE:0.96891epoch: 21\n",
      "F1 (POS): 0.9417300688710201\n",
      " epoch 22: 133m 44s loss:0.3871 accuracy POS:0.9060 accuracy TYPE:0.9616epoch: 22\n",
      "F1 (POS): 0.9414055457397325\n",
      " epoch 23: 139m 23s loss:0.3817 accuracy POS:0.9099 accuracy TYPE:0.9625epoch: 23\n",
      "F1 (POS): 0.9422709407564995\n",
      " epoch 24: 145m 3s loss:0.3855 accuracy POS:0.9084 accuracy TYPE:0.95969epoch: 24\n",
      "F1 (POS): 0.9421988245051022\n",
      " epoch 25: 150m 42s loss:0.3768 accuracy POS:0.9084 accuracy TYPE:0.9635epoch: 25\n",
      "F1 (POS): 0.9424872895106913\n",
      " epoch 26: 156m 17s loss:0.3975 accuracy POS:0.9119 accuracy TYPE:0.9606epoch: 26\n",
      "F1 (POS): 0.9422348826308008\n",
      " epoch 27: 161m 54s loss:0.3549 accuracy POS:0.9138 accuracy TYPE:0.9709epoch: 27\n",
      "F1 (POS): 0.9423069988821982\n",
      " epoch 28: 167m 31s loss:0.3633 accuracy POS:0.9153 accuracy TYPE:0.9675epoch: 28\n",
      "F1 (POS): 0.9425233476363899\n",
      " epoch 29: 173m 9s loss:0.3461 accuracy POS:0.9192 accuracy TYPE:0.96898epoch: 29\n",
      "F1 (POS): 0.9420545920023077\n",
      " epoch 30: 178m 45s loss:0.3552 accuracy POS:0.9084 accuracy TYPE:0.9719epoch: 30\n",
      "F1 (POS): 0.9430642195218693\n",
      " epoch 31: 184m 21s loss:0.3452 accuracy POS:0.9153 accuracy TYPE:0.9655epoch: 31\n",
      "F1 (POS): 0.9421627663794035\n",
      " epoch 32: 189m 56s loss:0.3674 accuracy POS:0.9084 accuracy TYPE:0.9630epoch: 32\n",
      "F1 (POS): 0.9414416038654311\n",
      " epoch 33: 195m 32s loss:0.3270 accuracy POS:0.9227 accuracy TYPE:0.9689epoch: 33\n",
      "F1 (POS): 0.9428118126419789\n",
      " epoch 34: 201m 7s loss:0.3393 accuracy POS:0.9232 accuracy TYPE:0.96803epoch: 34\n",
      "F1 (POS): 0.9434969170302527\n",
      " epoch 35: 206m 43s loss:0.3343 accuracy POS:0.9114 accuracy TYPE:0.9729epoch: 35\n",
      "F1 (POS): 0.9418021851224173\n",
      " epoch 36: 212m 19s loss:0.3692 accuracy POS:0.9168 accuracy TYPE:0.9685epoch: 36\n",
      "F1 (POS): 0.9432084520246637\n",
      " epoch 37: 217m 54s loss:0.3080 accuracy POS:0.9212 accuracy TYPE:0.9758epoch: 37\n",
      "F1 (POS): 0.9429199870190748\n",
      " epoch 38: 223m 29s loss:0.3148 accuracy POS:0.9163 accuracy TYPE:0.9699epoch: 38\n",
      "F1 (POS): 0.9433887426531569\n",
      " epoch 39: 229m 4s loss:0.3298 accuracy POS:0.9202 accuracy TYPE:0.96508epoch: 39\n",
      "F1 (POS): 0.9429199870190748\n"
     ]
    }
   ],
   "source": [
    "trainer = TrainModel(LSTMTagger, orchid,1)\n",
    "trainer.train(40)\n"
   ]
  },
  {
   "cell_type": "code",
   "execution_count": 12,
   "metadata": {},
   "outputs": [],
   "source": [
    "filehandle = open('done_bilstm_bca_clp_orchid.txt', 'w')\n",
    "filehandle.write('seed1\\n')\n",
    "filehandle.close()"
   ]
  },
  {
   "cell_type": "code",
   "execution_count": 13,
   "metadata": {},
   "outputs": [
    {
     "name": "stdout",
     "output_type": "stream",
     "text": [
      "Training\n",
      "Num of training text file: 132\n",
      " epoch 0: 5m 22s loss:1.3983 accuracy POS:0.7253 accuracy TYPE:0.9271epoch: 0\n",
      "F1 (POS): 0.7712833086936141\n",
      " epoch 1: 10m 58s loss:0.9002 accuracy POS:0.8134 accuracy TYPE:0.9429epoch: 1\n",
      "F1 (POS): 0.8630872967223163\n",
      " epoch 2: 16m 34s loss:0.7451 accuracy POS:0.8341 accuracy TYPE:0.9517epoch: 2\n",
      "F1 (POS): 0.8952872029711896\n",
      " epoch 3: 22m 9s loss:0.6425 accuracy POS:0.8513 accuracy TYPE:0.95172epoch: 3\n",
      "F1 (POS): 0.907979663217106\n",
      " epoch 4: 27m 47s loss:0.6161 accuracy POS:0.8597 accuracy TYPE:0.9483epoch: 4\n",
      "F1 (POS): 0.9157321602423105\n",
      " epoch 5: 33m 24s loss:0.5542 accuracy POS:0.8725 accuracy TYPE:0.9562epoch: 5\n",
      "F1 (POS): 0.9215375184797893\n",
      " epoch 6: 39m 1s loss:0.5482 accuracy POS:0.8759 accuracy TYPE:0.95320epoch: 6\n",
      "F1 (POS): 0.9247106335412685\n",
      " epoch 7: 44m 37s loss:0.5469 accuracy POS:0.875 accuracy TYPE:0.95320epoch: 7\n",
      "F1 (POS): 0.9300111780189666\n",
      " epoch 8: 50m 14s loss:0.4640 accuracy POS:0.8922 accuracy TYPE:0.9660epoch: 8\n",
      "F1 (POS): 0.9328597699491581\n",
      " epoch 9: 55m 50s loss:0.4805 accuracy POS:0.8937 accuracy TYPE:0.9586epoch: 9\n",
      "F1 (POS): 0.935275664370966\n",
      " epoch 10: 61m 26s loss:0.4532 accuracy POS:0.8917 accuracy TYPE:0.9630epoch: 10\n",
      "F1 (POS): 0.9379079075469657\n",
      " epoch 11: 67m 3s loss:0.4624 accuracy POS:0.8932 accuracy TYPE:0.96304epoch: 11\n",
      "F1 (POS): 0.9384848375581437\n",
      " epoch 12: 72m 38s loss:0.4210 accuracy POS:0.9000 accuracy TYPE:0.9675epoch: 12\n",
      "F1 (POS): 0.9395665813291024\n",
      " epoch 13: 78m 16s loss:0.4754 accuracy POS:0.8818 accuracy TYPE:0.9562epoch: 13\n",
      "F1 (POS): 0.9384127213067465\n",
      " epoch 14: 83m 54s loss:0.4387 accuracy POS:0.9025 accuracy TYPE:0.9635epoch: 14\n",
      "F1 (POS): 0.9402156275916778\n",
      " epoch 15: 89m 31s loss:0.4214 accuracy POS:0.8996 accuracy TYPE:0.9640epoch: 15\n",
      "F1 (POS): 0.9411531388598421\n",
      " epoch 16: 95m 9s loss:0.3944 accuracy POS:0.9094 accuracy TYPE:0.96809epoch: 16\n",
      "F1 (POS): 0.9425594057620885\n",
      " epoch 17: 100m 48s loss:0.4509 accuracy POS:0.8927 accuracy TYPE:0.9655epoch: 17\n",
      "F1 (POS): 0.9412973713626366\n",
      " epoch 18: 106m 26s loss:0.4157 accuracy POS:0.9015 accuracy TYPE:0.9611epoch: 18\n",
      "F1 (POS): 0.9421627663794035\n",
      " epoch 19: 112m 3s loss:0.3981 accuracy POS:0.9020 accuracy TYPE:0.96251epoch: 19\n",
      "F1 (POS): 0.9425233476363899\n",
      " epoch 20: 117m 41s loss:0.3795 accuracy POS:0.9050 accuracy TYPE:0.9670epoch: 20\n",
      "F1 (POS): 0.9432084520246637\n",
      " epoch 21: 123m 18s loss:0.3971 accuracy POS:0.9045 accuracy TYPE:0.9675epoch: 21\n",
      "F1 (POS): 0.9427396963905816\n",
      " epoch 22: 128m 54s loss:0.3585 accuracy POS:0.9124 accuracy TYPE:0.9709epoch: 22\n",
      "F1 (POS): 0.9431002776475679\n",
      " epoch 23: 134m 30s loss:0.3681 accuracy POS:0.9114 accuracy TYPE:0.9680epoch: 23\n",
      "F1 (POS): 0.9435329751559514\n",
      " epoch 24: 140m 8s loss:0.3251 accuracy POS:0.9187 accuracy TYPE:0.97243epoch: 24\n",
      "F1 (POS): 0.9440017307900336\n",
      " epoch 25: 145m 45s loss:0.3533 accuracy POS:0.9212 accuracy TYPE:0.9670epoch: 25\n",
      "F1 (POS): 0.9445426026755129\n",
      " epoch 26: 151m 21s loss:0.3261 accuracy POS:0.9242 accuracy TYPE:0.9744epoch: 26\n",
      "F1 (POS): 0.9442180795442253\n",
      " epoch 27: 156m 58s loss:0.3535 accuracy POS:0.9217 accuracy TYPE:0.9719epoch: 27\n",
      "F1 (POS): 0.9433887426531569\n",
      " epoch 28: 162m 34s loss:0.3496 accuracy POS:0.9153 accuracy TYPE:0.9660epoch: 28\n",
      "F1 (POS): 0.9438574982872391\n",
      " epoch 29: 168m 10s loss:0.3303 accuracy POS:0.9187 accuracy TYPE:0.9763epoch: 29\n",
      "F1 (POS): 0.9438935564129377\n",
      " epoch 30: 173m 47s loss:0.3504 accuracy POS:0.9133 accuracy TYPE:0.9699epoch: 30\n",
      "F1 (POS): 0.9454079976922798\n",
      " epoch 31: 179m 25s loss:0.3419 accuracy POS:0.9207 accuracy TYPE:0.9650epoch: 31\n",
      "F1 (POS): 0.9454079976922798\n",
      " epoch 32: 185m 2s loss:0.3491 accuracy POS:0.9143 accuracy TYPE:0.97532epoch: 32\n",
      "F1 (POS): 0.9447950095554033\n",
      " epoch 33: 190m 40s loss:0.3548 accuracy POS:0.9138 accuracy TYPE:0.9655epoch: 33\n",
      "F1 (POS): 0.9455161720693759\n",
      " epoch 34: 196m 18s loss:0.3440 accuracy POS:0.9192 accuracy TYPE:0.9704epoch: 34\n",
      "F1 (POS): 0.9434969170302527\n",
      " epoch 35: 201m 55s loss:0.2941 accuracy POS:0.9335 accuracy TYPE:0.9758epoch: 35\n",
      "F1 (POS): 0.9458767533263621\n",
      " epoch 36: 207m 31s loss:0.3396 accuracy POS:0.9183 accuracy TYPE:0.9675epoch: 36\n",
      "F1 (POS): 0.9448671258068005\n",
      " epoch 37: 213m 8s loss:0.3667 accuracy POS:0.9074 accuracy TYPE:0.96805epoch: 37\n",
      "F1 (POS): 0.9449392420581978\n",
      " epoch 38: 218m 46s loss:0.3502 accuracy POS:0.9187 accuracy TYPE:0.9665epoch: 38\n",
      "F1 (POS): 0.9444344282984171\n",
      " epoch 39: 224m 23s loss:0.3417 accuracy POS:0.9168 accuracy TYPE:0.9694epoch: 39\n",
      "F1 (POS): 0.9438214401615403\n"
     ]
    }
   ],
   "source": [
    "trainer = TrainModel(LSTMTagger, orchid,2)\n",
    "trainer.train(40)\n"
   ]
  },
  {
   "cell_type": "code",
   "execution_count": 14,
   "metadata": {},
   "outputs": [],
   "source": [
    "filehandle = open('done_bilstm_bca_clp_orchid.txt', 'a+')\n",
    "filehandle.write('seed2\\n')\n",
    "filehandle.close()"
   ]
  },
  {
   "cell_type": "code",
   "execution_count": 15,
   "metadata": {},
   "outputs": [
    {
     "name": "stdout",
     "output_type": "stream",
     "text": [
      "Training\n",
      "Num of training text file: 132\n",
      " epoch 0: 5m 23s loss:1.3263 accuracy POS:0.7303 accuracy TYPE:0.9202epoch: 0\n",
      "F1 (POS): 0.7853820358417769\n",
      " epoch 1: 11m 0s loss:0.8793 accuracy POS:0.8021 accuracy TYPE:0.95023epoch: 1\n",
      "F1 (POS): 0.8662604117837954\n",
      " epoch 2: 16m 37s loss:0.7233 accuracy POS:0.8346 accuracy TYPE:0.9557epoch: 2\n",
      "F1 (POS): 0.9000829336891069\n",
      " epoch 3: 22m 14s loss:0.6483 accuracy POS:0.8425 accuracy TYPE:0.9552epoch: 3\n",
      "F1 (POS): 0.9151552302311325\n",
      " epoch 4: 27m 50s loss:0.6136 accuracy POS:0.8572 accuracy TYPE:0.9562epoch: 4\n",
      "F1 (POS): 0.9238812966502001\n",
      " epoch 5: 33m 27s loss:0.5625 accuracy POS:0.8695 accuracy TYPE:0.9586epoch: 5\n",
      "F1 (POS): 0.9288573179966105\n",
      " epoch 6: 39m 3s loss:0.5441 accuracy POS:0.8720 accuracy TYPE:0.95661epoch: 6\n",
      "F1 (POS): 0.9320304330580896\n",
      " epoch 7: 44m 40s loss:0.5189 accuracy POS:0.8764 accuracy TYPE:0.9596epoch: 7\n",
      "F1 (POS): 0.9337251649659251\n",
      " epoch 8: 50m 16s loss:0.4794 accuracy POS:0.8799 accuracy TYPE:0.9630epoch: 8\n",
      "F1 (POS): 0.9333645837089388\n",
      " epoch 9: 55m 52s loss:0.4908 accuracy POS:0.8887 accuracy TYPE:0.9527epoch: 9\n",
      "F1 (POS): 0.9357083618793495\n",
      " epoch 10: 61m 29s loss:0.4662 accuracy POS:0.8892 accuracy TYPE:0.9625epoch: 10\n",
      "F1 (POS): 0.9377636750441712\n",
      " epoch 11: 67m 6s loss:0.4534 accuracy POS:0.8986 accuracy TYPE:0.95626epoch: 11\n",
      "F1 (POS): 0.9390978256950204\n",
      " epoch 12: 72m 42s loss:0.4571 accuracy POS:0.8956 accuracy TYPE:0.9571epoch: 12\n",
      "F1 (POS): 0.9389535931922258\n",
      " epoch 13: 78m 18s loss:0.4620 accuracy POS:0.8922 accuracy TYPE:0.9611epoch: 13\n",
      "F1 (POS): 0.9403959182201709\n",
      " epoch 14: 83m 55s loss:0.4462 accuracy POS:0.8941 accuracy TYPE:0.9571epoch: 14\n",
      "F1 (POS): 0.9401435113402805\n",
      " epoch 15: 89m 31s loss:0.3864 accuracy POS:0.9089 accuracy TYPE:0.9689epoch: 15\n",
      "F1 (POS): 0.9411531388598421\n",
      " epoch 16: 95m 8s loss:0.3974 accuracy POS:0.9069 accuracy TYPE:0.96704epoch: 16\n",
      "F1 (POS): 0.9424512313849926\n",
      " epoch 17: 100m 45s loss:0.4155 accuracy POS:0.9040 accuracy TYPE:0.9635epoch: 17\n",
      "F1 (POS): 0.9428839288933761\n",
      " epoch 18: 106m 22s loss:0.3936 accuracy POS:0.9060 accuracy TYPE:0.9650epoch: 18\n",
      "F1 (POS): 0.9418021851224173\n",
      " epoch 19: 111m 58s loss:0.4026 accuracy POS:0.9040 accuracy TYPE:0.9655epoch: 19\n",
      "F1 (POS): 0.940576208848664\n",
      " epoch 20: 117m 34s loss:0.4151 accuracy POS:0.8986 accuracy TYPE:0.9640epoch: 20\n",
      "F1 (POS): 0.9416940107453214\n",
      " epoch 21: 123m 10s loss:0.4091 accuracy POS:0.8996 accuracy TYPE:0.9650epoch: 21\n",
      "F1 (POS): 0.9428478707676775\n",
      " epoch 22: 128m 46s loss:0.3675 accuracy POS:0.9094 accuracy TYPE:0.9685epoch: 22\n",
      "F1 (POS): 0.9424872895106913\n",
      " epoch 23: 134m 22s loss:0.3483 accuracy POS:0.9153 accuracy TYPE:0.9709epoch: 23\n",
      "F1 (POS): 0.9423791151335954\n",
      " epoch 24: 140m 4s loss:0.3922 accuracy POS:0.9079 accuracy TYPE:0.96458epoch: 24\n",
      "F1 (POS): 0.940576208848664\n",
      " epoch 25: 145m 44s loss:0.3654 accuracy POS:0.9084 accuracy TYPE:0.9675epoch: 25\n",
      "F1 (POS): 0.9422709407564995\n",
      " epoch 26: 151m 23s loss:0.3842 accuracy POS:0.9060 accuracy TYPE:0.9635epoch: 26\n",
      "F1 (POS): 0.9429560451447734\n",
      " epoch 27: 157m 4s loss:0.3624 accuracy POS:0.9060 accuracy TYPE:0.96800epoch: 27\n",
      "F1 (POS): 0.9435329751559514\n",
      " epoch 28: 162m 46s loss:0.3827 accuracy POS:0.9124 accuracy TYPE:0.9640epoch: 28\n",
      "F1 (POS): 0.943280568276061\n",
      " epoch 29: 168m 31s loss:0.3611 accuracy POS:0.9124 accuracy TYPE:0.9650epoch: 29\n",
      "F1 (POS): 0.9446147189269102\n",
      " epoch 30: 174m 11s loss:0.3614 accuracy POS:0.9178 accuracy TYPE:0.9660epoch: 30\n",
      "F1 (POS): 0.943172393898965\n",
      " epoch 31: 179m 52s loss:0.3484 accuracy POS:0.9114 accuracy TYPE:0.9685epoch: 31\n",
      "F1 (POS): 0.9440738470414308\n",
      " epoch 32: 185m 35s loss:0.3634 accuracy POS:0.9114 accuracy TYPE:0.9660epoch: 32\n",
      "F1 (POS): 0.9423069988821982\n",
      " epoch 33: 191m 15s loss:0.3150 accuracy POS:0.9187 accuracy TYPE:0.9768epoch: 33\n",
      "F1 (POS): 0.9424872895106913\n",
      " epoch 34: 196m 55s loss:0.3569 accuracy POS:0.9119 accuracy TYPE:0.9616epoch: 34\n",
      "F1 (POS): 0.9434969170302527\n",
      " epoch 35: 202m 35s loss:0.3485 accuracy POS:0.9163 accuracy TYPE:0.9734epoch: 35\n",
      "F1 (POS): 0.9437132657844445\n",
      " epoch 36: 208m 15s loss:0.3059 accuracy POS:0.9207 accuracy TYPE:0.9734epoch: 36\n",
      "F1 (POS): 0.9449031839324992\n",
      " epoch 37: 213m 57s loss:0.3221 accuracy POS:0.9217 accuracy TYPE:0.9729epoch: 37\n",
      "F1 (POS): 0.9433526845274581\n",
      " epoch 38: 219m 38s loss:0.3035 accuracy POS:0.9242 accuracy TYPE:0.9694epoch: 38\n",
      "F1 (POS): 0.9442901957956226\n",
      " epoch 39: 225m 23s loss:0.3421 accuracy POS:0.9163 accuracy TYPE:0.9645epoch: 39\n",
      "F1 (POS): 0.94356903328165\n"
     ]
    }
   ],
   "source": [
    "trainer = TrainModel(LSTMTagger, orchid,3)\n",
    "trainer.train(40)\n"
   ]
  },
  {
   "cell_type": "code",
   "execution_count": 16,
   "metadata": {},
   "outputs": [],
   "source": [
    "filehandle = open('done_bilstm_bca_clp_orchid.txt', 'a+')\n",
    "filehandle.write('seed3\\n')\n",
    "filehandle.close()"
   ]
  },
  {
   "cell_type": "code",
   "execution_count": null,
   "metadata": {},
   "outputs": [],
   "source": []
  }
 ],
 "metadata": {
  "kernelspec": {
   "display_name": "Python 3",
   "language": "python",
   "name": "python3"
  },
  "language_info": {
   "codemirror_mode": {
    "name": "ipython",
    "version": 3
   },
   "file_extension": ".py",
   "mimetype": "text/x-python",
   "name": "python",
   "nbconvert_exporter": "python",
   "pygments_lexer": "ipython3",
   "version": "3.7.3"
  }
 },
 "nbformat": 4,
 "nbformat_minor": 2
}
