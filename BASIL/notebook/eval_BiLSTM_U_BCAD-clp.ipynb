{
 "cells": [
  {
   "cell_type": "code",
   "execution_count": 1,
   "metadata": {},
   "outputs": [],
   "source": [
    "import torch\n",
    "import math"
   ]
  },
  {
   "cell_type": "code",
   "execution_count": 2,
   "metadata": {},
   "outputs": [],
   "source": [
    "%load_ext autoreload\n",
    "%autoreload 2"
   ]
  },
  {
   "cell_type": "code",
   "execution_count": 3,
   "metadata": {},
   "outputs": [],
   "source": [
    "import re"
   ]
  },
  {
   "cell_type": "code",
   "execution_count": 4,
   "metadata": {},
   "outputs": [
    {
     "name": "stdout",
     "output_type": "stream",
     "text": [
      "/home/datamind/can/BASIL/notebook\n"
     ]
    }
   ],
   "source": [
    "from pathlib import Path\n",
    "import os\n",
    "mypath = Path().absolute()\n",
    "print(mypath)"
   ]
  },
  {
   "cell_type": "code",
   "execution_count": 5,
   "metadata": {},
   "outputs": [],
   "source": [
    "os.chdir(\"/home/datamind/can/BASIL/\")"
   ]
  },
  {
   "cell_type": "code",
   "execution_count": 6,
   "metadata": {},
   "outputs": [],
   "source": [
    "import sys\n",
    "sys.path.append('/home/datamind/can/BASIL/')"
   ]
  },
  {
   "cell_type": "code",
   "execution_count": 7,
   "metadata": {},
   "outputs": [],
   "source": [
    "import basil"
   ]
  },
  {
   "cell_type": "code",
   "execution_count": 8,
   "metadata": {
    "scrolled": true
   },
   "outputs": [
    {
     "name": "stderr",
     "output_type": "stream",
     "text": [
      "/home/datamind/can/BASIL/basil/preprocessing/prep_best_corpus.py:9: YAMLLoadWarning: calling yaml.load() without Loader=... is deprecated, as the default Loader is unsafe. Please read https://msg.pyyaml.org/load for full details.\n",
      "  cfg = yaml.load(ymlfile)\n"
     ]
    },
    {
     "data": {
      "text/plain": [
       "device(type='cuda', index=0)"
      ]
     },
     "execution_count": 8,
     "metadata": {},
     "output_type": "execute_result"
    }
   ],
   "source": [
    "%autoreload 2\n",
    "from basil.preprocessing.prep_best_corpus import Best2010NECTEC\n",
    "from basil.preprocessing.prep_pytorch import PytorchPrepWordLevel\n",
    "from basil.models.multitasks.BiLSTM_BCAD import LSTMTagger\n",
    "from basil.evaluation.stress_test import StressEval\n",
    "from basil.select_device import device\n",
    "torch.device(device)"
   ]
  },
  {
   "cell_type": "code",
   "execution_count": 9,
   "metadata": {},
   "outputs": [
    {
     "name": "stdout",
     "output_type": "stream",
     "text": [
      "Preprocessing BEST2010 corpus\n",
      "Done!\n"
     ]
    }
   ],
   "source": [
    "best2010  = Best2010NECTEC()"
   ]
  },
  {
   "cell_type": "code",
   "execution_count": 10,
   "metadata": {},
   "outputs": [],
   "source": [
    "from basil.evaluation.noise import NoiseGenerator\n",
    "from basil.preprocessing.prep_pytorch import PytorchPrepWordLevel\n",
    "prep_torch = PytorchPrepWordLevel(best2010.train_data, best2010.val_data, best2010.test_data)"
   ]
  },
  {
   "cell_type": "code",
   "execution_count": 11,
   "metadata": {},
   "outputs": [],
   "source": [
    "# noisy_data  = NoiseGenerator(best2010.test_data)"
   ]
  },
  {
   "cell_type": "code",
   "execution_count": 12,
   "metadata": {},
   "outputs": [],
   "source": [
    "# import pickle\n",
    "# pickle.dump( noisy_data, open( \"stress_best2010.p\", \"wb\" ) )"
   ]
  },
  {
   "cell_type": "code",
   "execution_count": 11,
   "metadata": {},
   "outputs": [
    {
     "name": "stdout",
     "output_type": "stream",
     "text": [
      "normal 0.9521083913624535 0.8223987185476874\n",
      "10 0.9118045297882816 0.786153784013033\n",
      "20 0.8694740451572062 0.7521191604603927\n",
      "30 0.8255583666525257 0.7099806016229064\n",
      "40 0.7795015628365813 0.6609458586025276\n",
      "50 0.7320745592825427 0.6119147998126258\n",
      "60 0.6833839261966989 0.5520856323107483\n",
      "70 0.6311319199446075 0.49108687889691544\n",
      "80 0.5789870507265968 0.4220158648509625\n",
      "90 0.5222341898753653 0.3473893206053673\n",
      "100 0.4626162574711431 0.2696197283953719\n"
     ]
    }
   ],
   "source": [
    "CHAR_EMBEDDING_DIM = 100\n",
    "WORD_EMBEDDING_DIM = 128\n",
    "HIDDEN_DIM = 128\n",
    "\n",
    "model = LSTMTagger(CHAR_EMBEDDING_DIM,WORD_EMBEDDING_DIM,HIDDEN_DIM,\\\n",
    "                           len(prep_torch.char_to_index),len(prep_torch.word_to_index),prep_torch.prefix_size,\\\n",
    "                           len(prep_torch.pos_to_index),len(prep_torch.ner_to_index)).to(device)\n",
    "stress_eval  = StressEval(model, \"weights/model_bilstm_BCAD_clp_seed1.p\",best2010,\"BiLSTM_BCAD_clp-1\" )\n",
    "stress_eval.f1_summary(\"affix\")\n"
   ]
  },
  {
   "cell_type": "code",
   "execution_count": 12,
   "metadata": {},
   "outputs": [
    {
     "name": "stdout",
     "output_type": "stream",
     "text": [
      "normal 0.9522490680171626 0.8227225846203302\n",
      "10 0.9115999147145907 0.7879525567682342\n",
      "20 0.8689635162284424 0.7553797425336106\n",
      "30 0.8251919488107197 0.7116100751652398\n",
      "40 0.7796490950415222 0.6650799800741685\n",
      "50 0.7315490530536164 0.6126914053281135\n",
      "60 0.6833327838042798 0.554490385684117\n",
      "70 0.6306073821372677 0.49783099801810043\n",
      "80 0.5802781484029658 0.4264119623930228\n",
      "90 0.5265638257184432 0.3574893390191897\n",
      "100 0.47210596655353726 0.28098899134121735\n"
     ]
    }
   ],
   "source": [
    "stress_eval  = StressEval(model, \"weights/model_bilstm_BCAD_clp_seed2.p\",best2010,\"BiLSTM_BCAD_clp-2\" )\n",
    "stress_eval.f1_summary(\"affix\")\n",
    "\n"
   ]
  },
  {
   "cell_type": "code",
   "execution_count": 13,
   "metadata": {},
   "outputs": [
    {
     "name": "stdout",
     "output_type": "stream",
     "text": [
      "normal 0.9508950552155869 0.8211689131983174\n",
      "10 0.9106899106041856 0.7831999241531565\n",
      "20 0.8686225246790242 0.7462292404029404\n",
      "30 0.824953015265917 0.7041859700101428\n",
      "40 0.7796613149981535 0.6551264980026632\n",
      "50 0.7320323215981431 0.6033661740558293\n",
      "60 0.6829919172424103 0.543975846264739\n",
      "70 0.6298957808958754 0.48278640098823783\n",
      "80 0.5788531884210897 0.4174543740671886\n",
      "90 0.5213633126104659 0.3460954079134071\n",
      "100 0.4605576428017121 0.2689353382058563\n"
     ]
    }
   ],
   "source": [
    "stress_eval  = StressEval(model, \"weights/model_bilstm_BCAD_clp_seed3.p\",best2010,\"BiLSTM_BCAD_clp-3\" )\n",
    "stress_eval.f1_summary(\"affix\")\n"
   ]
  },
  {
   "cell_type": "code",
   "execution_count": null,
   "metadata": {},
   "outputs": [],
   "source": []
  }
 ],
 "metadata": {
  "kernelspec": {
   "display_name": "Python 3",
   "language": "python",
   "name": "python3"
  },
  "language_info": {
   "codemirror_mode": {
    "name": "ipython",
    "version": 3
   },
   "file_extension": ".py",
   "mimetype": "text/x-python",
   "name": "python",
   "nbconvert_exporter": "python",
   "pygments_lexer": "ipython3",
   "version": "3.7.3"
  }
 },
 "nbformat": 4,
 "nbformat_minor": 2
}
