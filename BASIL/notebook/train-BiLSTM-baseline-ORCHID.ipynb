{
 "cells": [
  {
   "cell_type": "code",
   "execution_count": 1,
   "metadata": {},
   "outputs": [
    {
     "name": "stdout",
     "output_type": "stream",
     "text": [
      "/home/datamind/can/BASIL\n"
     ]
    }
   ],
   "source": [
    "%load_ext autoreload\n",
    "%autoreload 2\n",
    "import torch\n",
    "import math\n",
    "from pathlib import Path\n",
    "import os\n",
    "os.chdir(\"/home/datamind/can/BASIL\")\n",
    "mypath = Path().absolute()\n",
    "print(mypath)\n",
    "from basil.select_device import device"
   ]
  },
  {
   "cell_type": "code",
   "execution_count": 2,
   "metadata": {},
   "outputs": [
    {
     "data": {
      "text/plain": [
       "device(type='cuda', index=0)"
      ]
     },
     "execution_count": 2,
     "metadata": {},
     "output_type": "execute_result"
    }
   ],
   "source": [
    "torch.device(device)"
   ]
  },
  {
   "cell_type": "code",
   "execution_count": 3,
   "metadata": {},
   "outputs": [],
   "source": [
    "import sys\n",
    "sys.path.append(\"/home/datamind/can/BASIL\")"
   ]
  },
  {
   "cell_type": "code",
   "execution_count": 4,
   "metadata": {},
   "outputs": [],
   "source": [
    "import basil"
   ]
  },
  {
   "cell_type": "code",
   "execution_count": 5,
   "metadata": {},
   "outputs": [],
   "source": [
    "from basil.select_device import device"
   ]
  },
  {
   "cell_type": "code",
   "execution_count": 6,
   "metadata": {},
   "outputs": [],
   "source": [
    "%autoreload 2\n",
    "from basil.preprocessing.prep_orchid_corpus import ORCHID\n",
    "from basil.preprocessing.prep_pytorch_ORCHID import PytorchPrepWordLevel\n",
    "from basil.models.multitasks.wordlvlORCHID import ORCHIDTagger\n",
    "from basil.training.train_word_lvl_baseline_ORCHID import TrainModel\n",
    "\n"
   ]
  },
  {
   "cell_type": "code",
   "execution_count": 7,
   "metadata": {},
   "outputs": [
    {
     "name": "stdout",
     "output_type": "stream",
     "text": [
      "Preprocessing ORCHID corpus\n",
      "Done!\n"
     ]
    }
   ],
   "source": [
    "orchid  = ORCHID()"
   ]
  },
  {
   "cell_type": "code",
   "execution_count": 8,
   "metadata": {},
   "outputs": [
    {
     "name": "stdout",
     "output_type": "stream",
     "text": [
      "1\n",
      "Training\n",
      "Num of training text file: 132\n",
      " epoch 0: 0m 13s loss:1.3548 accuracy POS:0.7253 accuracy TYPE:0.9448epoch: 0\n",
      "F1 (POS): 0.7293837666318105\n",
      " epoch 1: 0m 28s loss:0.8532 accuracy POS:0.8218 accuracy TYPE:0.9685epoch: 1\n",
      "F1 (POS): 0.8298777629538816\n",
      " epoch 2: 0m 43s loss:0.6405 accuracy POS:0.8567 accuracy TYPE:0.9803epoch: 2\n",
      "F1 (POS): 0.8713806656330004\n",
      " epoch 3: 0m 58s loss:0.5286 accuracy POS:0.8828 accuracy TYPE:0.9832epoch: 3\n",
      "F1 (POS): 0.8911405185158475\n",
      " epoch 4: 1m 12s loss:0.4594 accuracy POS:0.8951 accuracy TYPE:0.9837epoch: 4\n",
      "F1 (POS): 0.9029315256192983\n",
      " epoch 5: 1m 27s loss:0.4109 accuracy POS:0.9060 accuracy TYPE:0.9842epoch: 5\n",
      "F1 (POS): 0.9119821151696534\n",
      " epoch 6: 1m 42s loss:0.3744 accuracy POS:0.9158 accuracy TYPE:0.9847epoch: 6\n",
      "F1 (POS): 0.9184725777954061\n",
      " epoch 7: 1m 57s loss:0.3452 accuracy POS:0.9207 accuracy TYPE:0.9847epoch: 7\n",
      "F1 (POS): 0.9217178091082826\n",
      " epoch 8: 2m 12s loss:0.3208 accuracy POS:0.9232 accuracy TYPE:0.9847epoch: 8\n",
      "F1 (POS): 0.9241697616557891\n",
      " epoch 9: 2m 26s loss:0.2996 accuracy POS:0.9256 accuracy TYPE:0.9862epoch: 9\n",
      "F1 (POS): 0.9259366098150218\n",
      " epoch 10: 2m 41s loss:0.2808 accuracy POS:0.9301 accuracy TYPE:0.9857epoch: 10\n",
      "F1 (POS): 0.9271265279630765\n",
      " epoch 11: 2m 56s loss:0.2638 accuracy POS:0.9320 accuracy TYPE:0.9876epoch: 11\n",
      "F1 (POS): 0.9284967367396243\n",
      " epoch 12: 3m 11s loss:0.2485 accuracy POS:0.9350 accuracy TYPE:0.9881epoch: 12\n",
      "F1 (POS): 0.9296145386362817\n",
      " epoch 13: 3m 26s loss:0.2353 accuracy POS:0.9375 accuracy TYPE:0.9881epoch: 13\n",
      "F1 (POS): 0.9303717592759528\n",
      " epoch 14: 3m 41s loss:0.2232 accuracy POS:0.9414 accuracy TYPE:0.9886epoch: 14\n",
      "F1 (POS): 0.9308765730357336\n",
      " epoch 15: 3m 56s loss:0.2124 accuracy POS:0.9443 accuracy TYPE:0.9891epoch: 15\n",
      "F1 (POS): 0.9313453286698158\n",
      " epoch 16: 4m 11s loss:0.2016 accuracy POS:0.9498 accuracy TYPE:0.9906epoch: 16\n",
      "F1 (POS): 0.9315256192983089\n",
      " epoch 17: 4m 26s loss:0.1923 accuracy POS:0.9547 accuracy TYPE:0.9911epoch: 17\n",
      "F1 (POS): 0.9320664911837883\n",
      " epoch 18: 4m 41s loss:0.1827 accuracy POS:0.9571 accuracy TYPE:0.9911epoch: 18\n",
      "F1 (POS): 0.9321025493094869\n",
      " epoch 19: 4m 56s loss:0.1734 accuracy POS:0.9596 accuracy TYPE:0.9911epoch: 19\n",
      "F1 (POS): 0.9318140843038979\n",
      " epoch 20: 5m 10s loss:0.1651 accuracy POS:0.9606 accuracy TYPE:0.9926epoch: 20\n",
      "F1 (POS): 0.931994374932391\n",
      " epoch 21: 5m 25s loss:0.1570 accuracy POS:0.9616 accuracy TYPE:0.9936epoch: 21\n",
      "F1 (POS): 0.9320664911837883\n",
      " epoch 22: 5m 40s loss:0.1489 accuracy POS:0.9640 accuracy TYPE:0.9945epoch: 22\n",
      "F1 (POS): 0.931417444921213\n",
      " epoch 23: 5m 55s loss:0.1413 accuracy POS:0.9630 accuracy TYPE:0.9950epoch: 23\n",
      "F1 (POS): 0.9315256192983089\n",
      " epoch 24: 6m 10s loss:0.1332 accuracy POS:0.9660 accuracy TYPE:0.9955epoch: 24\n",
      "F1 (POS): 0.9310929217899253\n",
      " epoch 25: 6m 25s loss:0.1272 accuracy POS:0.9694 accuracy TYPE:0.9965epoch: 25\n",
      "F1 (POS): 0.9310568636642267\n",
      " epoch 26: 6m 40s loss:0.1194 accuracy POS:0.9724 accuracy TYPE:0.9965epoch: 26\n",
      "F1 (POS): 0.9304078174016515\n",
      " epoch 27: 6m 55s loss:0.1139 accuracy POS:0.9734 accuracy TYPE:0.9965epoch: 27\n",
      "F1 (POS): 0.930552049904446\n",
      " epoch 28: 7m 10s loss:0.1057 accuracy POS:0.9744 accuracy TYPE:0.9975epoch: 28\n",
      "F1 (POS): 0.9297587711390762\n",
      " epoch 29: 7m 26s loss:0.0997 accuracy POS:0.9744 accuracy TYPE:0.9980epoch: 29\n",
      "F1 (POS): 0.9299030036418707\n",
      " epoch 30: 7m 40s loss:0.0974 accuracy POS:0.9753 accuracy TYPE:0.9985epoch: 30\n",
      "F1 (POS): 0.9289294342480078\n",
      " epoch 31: 7m 55s loss:0.0902 accuracy POS:0.9768 accuracy TYPE:0.9985epoch: 31\n",
      "F1 (POS): 0.9276313417228572\n",
      " epoch 32: 8m 10s loss:0.0842 accuracy POS:0.9783 accuracy TYPE:0.9985epoch: 32\n",
      "F1 (POS): 0.927270760465871\n",
      " epoch 33: 8m 25s loss:0.0792 accuracy POS:0.9803 accuracy TYPE:0.9985epoch: 33\n",
      "F1 (POS): 0.9267298885803916\n",
      " epoch 34: 8m 40s loss:0.0794 accuracy POS:0.9827 accuracy TYPE:0.9980epoch: 34\n",
      "F1 (POS): 0.9250712147982548\n",
      " epoch 35: 8m 54s loss:0.0728 accuracy POS:0.9832 accuracy TYPE:1.0989epoch: 35\n",
      "F1 (POS): 0.9283885623625284\n",
      " epoch 36: 9m 10s loss:0.0647 accuracy POS:0.9852 accuracy TYPE:0.9995epoch: 36\n",
      "F1 (POS): 0.9277395160999531\n",
      " epoch 37: 9m 25s loss:0.0609 accuracy POS:0.9876 accuracy TYPE:0.9995epoch: 37\n",
      "F1 (POS): 0.9261890166949122\n",
      " epoch 38: 9m 40s loss:0.0576 accuracy POS:0.9886 accuracy TYPE:1.0975epoch: 38\n",
      "F1 (POS): 0.9244221685356795\n",
      " epoch 39: 9m 56s loss:0.0513 accuracy POS:0.9906 accuracy TYPE:1.0975epoch: 39\n",
      "F1 (POS): 0.9231240760105289\n",
      "2\n",
      "Training\n",
      "Num of training text file: 132\n",
      " epoch 0: 0m 13s loss:1.3686 accuracy POS:0.7332 accuracy TYPE:0.9458epoch: 0\n",
      "F1 (POS): 0.7353333573720839\n",
      " epoch 1: 0m 28s loss:0.8464 accuracy POS:0.8193 accuracy TYPE:0.9704epoch: 1\n",
      "F1 (POS): 0.8289041935600188\n",
      " epoch 2: 0m 43s loss:0.6375 accuracy POS:0.8577 accuracy TYPE:0.9758epoch: 2\n",
      "F1 (POS): 0.8700825731078499\n",
      " epoch 3: 0m 58s loss:0.5190 accuracy POS:0.8804 accuracy TYPE:0.9788epoch: 3\n",
      "F1 (POS): 0.8905635885046695\n",
      " epoch 4: 1m 13s loss:0.4438 accuracy POS:0.8991 accuracy TYPE:0.9837epoch: 4\n",
      "F1 (POS): 0.9031839324991887\n",
      " epoch 5: 1m 28s loss:0.3927 accuracy POS:0.9094 accuracy TYPE:0.9842epoch: 5\n",
      "F1 (POS): 0.9100349763819277\n",
      " epoch 6: 1m 42s loss:0.3543 accuracy POS:0.9173 accuracy TYPE:0.9842epoch: 6\n",
      "F1 (POS): 0.9163451483791872\n",
      " epoch 7: 1m 57s loss:0.3237 accuracy POS:0.9222 accuracy TYPE:0.9837epoch: 7\n",
      "F1 (POS): 0.9203115422060362\n",
      " epoch 8: 2m 12s loss:0.2996 accuracy POS:0.9276 accuracy TYPE:0.9862epoch: 8\n",
      "F1 (POS): 0.9233043666390222\n",
      " epoch 9: 2m 27s loss:0.2801 accuracy POS:0.9340 accuracy TYPE:0.9867epoch: 9\n",
      "F1 (POS): 0.9258284354379259\n",
      " epoch 10: 2m 42s loss:0.2643 accuracy POS:0.9370 accuracy TYPE:0.9852epoch: 10\n",
      "F1 (POS): 0.9281361554826381\n",
      " epoch 11: 2m 57s loss:0.2509 accuracy POS:0.9414 accuracy TYPE:0.9862epoch: 11\n",
      "F1 (POS): 0.929290015504994\n",
      " epoch 12: 3m 12s loss:0.2393 accuracy POS:0.9434 accuracy TYPE:0.9862epoch: 12\n",
      "F1 (POS): 0.9306241661558431\n",
      " epoch 13: 3m 27s loss:0.2291 accuracy POS:0.9443 accuracy TYPE:0.9852epoch: 13\n",
      "F1 (POS): 0.9316337936754048\n",
      " epoch 14: 3m 42s loss:0.2201 accuracy POS:0.9463 accuracy TYPE:0.9867epoch: 14\n",
      "F1 (POS): 0.9321025493094869\n",
      " epoch 15: 3m 56s loss:0.2111 accuracy POS:0.9483 accuracy TYPE:0.9872epoch: 15\n",
      "F1 (POS): 0.9323910143150759\n",
      " epoch 16: 4m 11s loss:0.2019 accuracy POS:0.9498 accuracy TYPE:0.9876epoch: 16\n",
      "F1 (POS): 0.9328237118234595\n",
      " epoch 17: 4m 26s loss:0.1931 accuracy POS:0.9522 accuracy TYPE:0.9886epoch: 17\n",
      "F1 (POS): 0.9331482349547471\n",
      " epoch 18: 4m 41s loss:0.1846 accuracy POS:0.9552 accuracy TYPE:0.9886epoch: 18\n",
      "F1 (POS): 0.9337251649659251\n",
      " epoch 19: 4m 56s loss:0.1761 accuracy POS:0.9576 accuracy TYPE:0.9896epoch: 19\n",
      "F1 (POS): 0.9342299787257058\n",
      " epoch 20: 5m 11s loss:0.1682 accuracy POS:0.9586 accuracy TYPE:0.9901epoch: 20\n",
      "F1 (POS): 0.9340496880972127\n",
      " epoch 21: 5m 26s loss:0.1607 accuracy POS:0.9606 accuracy TYPE:0.9916epoch: 21\n",
      "F1 (POS): 0.9345905599826921\n",
      " epoch 22: 5m 40s loss:0.1526 accuracy POS:0.9625 accuracy TYPE:0.9926epoch: 22\n",
      "F1 (POS): 0.9349511412396784\n",
      " epoch 23: 5m 55s loss:0.1470 accuracy POS:0.9635 accuracy TYPE:0.9940epoch: 23\n",
      "F1 (POS): 0.934987199365377\n",
      " epoch 24: 6m 10s loss:0.1403 accuracy POS:0.9650 accuracy TYPE:0.9960epoch: 24\n",
      "F1 (POS): 0.9340496880972127\n",
      " epoch 25: 6m 25s loss:0.1338 accuracy POS:0.9665 accuracy TYPE:0.9965epoch: 25\n",
      "F1 (POS): 0.9341939206000072\n",
      " epoch 26: 6m 40s loss:0.1274 accuracy POS:0.9704 accuracy TYPE:0.9970epoch: 26\n",
      "F1 (POS): 0.9340857462229113\n",
      " epoch 27: 6m 54s loss:0.1214 accuracy POS:0.9719 accuracy TYPE:0.9970epoch: 27\n",
      "F1 (POS): 0.9337612230916237\n",
      " epoch 28: 7m 9s loss:0.1154 accuracy POS:0.9719 accuracy TYPE:0.99756epoch: 28\n",
      "F1 (POS): 0.9337612230916237\n",
      " epoch 29: 7m 24s loss:0.1090 accuracy POS:0.9734 accuracy TYPE:0.9975epoch: 29\n",
      "F1 (POS): 0.9333285255832402\n",
      " epoch 30: 7m 39s loss:0.1038 accuracy POS:0.9753 accuracy TYPE:0.9980epoch: 30\n",
      "F1 (POS): 0.9330761187033498\n",
      " epoch 31: 7m 54s loss:0.0993 accuracy POS:0.9763 accuracy TYPE:0.9995epoch: 31\n",
      "F1 (POS): 0.9331842930804457\n",
      " epoch 32: 8m 9s loss:0.0953 accuracy POS:0.9773 accuracy TYPE:0.99954epoch: 32\n",
      "F1 (POS): 0.9328237118234595\n",
      " epoch 33: 8m 24s loss:0.0897 accuracy POS:0.9773 accuracy TYPE:0.9995epoch: 33\n",
      "F1 (POS): 0.9330040024519525\n",
      " epoch 34: 8m 39s loss:0.0843 accuracy POS:0.9788 accuracy TYPE:0.9995epoch: 34\n",
      "F1 (POS): 0.9330040024519525\n"
     ]
    },
    {
     "name": "stdout",
     "output_type": "stream",
     "text": [
      " epoch 35: 8m 54s loss:0.0829 accuracy POS:0.9803 accuracy TYPE:0.9995epoch: 35\n",
      "F1 (POS): 0.9324991886921717\n",
      " epoch 36: 9m 9s loss:0.0784 accuracy POS:0.9822 accuracy TYPE:0.99901epoch: 36\n",
      "F1 (POS): 0.9328237118234595\n",
      " epoch 37: 9m 23s loss:0.0700 accuracy POS:0.9832 accuracy TYPE:0.9990epoch: 37\n",
      "F1 (POS): 0.9326794793206649\n",
      " epoch 38: 9m 38s loss:0.0649 accuracy POS:0.9872 accuracy TYPE:0.9995epoch: 38\n",
      "F1 (POS): 0.9314895611726103\n",
      " epoch 39: 9m 53s loss:0.0611 accuracy POS:0.9867 accuracy TYPE:0.9995epoch: 39\n",
      "F1 (POS): 0.9306241661558431\n",
      "3\n",
      "Training\n",
      "Num of training text file: 132\n",
      " epoch 0: 0m 13s loss:1.3814 accuracy POS:0.7239 accuracy TYPE:0.9325epoch: 0\n",
      "F1 (POS): 0.7271481628384957\n",
      " epoch 1: 0m 28s loss:0.8349 accuracy POS:0.8282 accuracy TYPE:0.9729epoch: 1\n",
      "F1 (POS): 0.8212238127862114\n",
      " epoch 2: 0m 42s loss:0.6279 accuracy POS:0.8651 accuracy TYPE:0.9793epoch: 2\n",
      "F1 (POS): 0.8685681318285076\n",
      " epoch 3: 0m 57s loss:0.5187 accuracy POS:0.8828 accuracy TYPE:0.9822epoch: 3\n",
      "F1 (POS): 0.891969855406916\n",
      " epoch 4: 1m 12s loss:0.4502 accuracy POS:0.8991 accuracy TYPE:0.9837epoch: 4\n",
      "F1 (POS): 0.9048786644070241\n",
      " epoch 5: 1m 27s loss:0.4017 accuracy POS:0.9094 accuracy TYPE:0.9847epoch: 5\n",
      "F1 (POS): 0.9136047308260916\n",
      " epoch 6: 1m 42s loss:0.3650 accuracy POS:0.9158 accuracy TYPE:0.9857epoch: 6\n",
      "F1 (POS): 0.9185446940468035\n",
      " epoch 7: 1m 57s loss:0.3352 accuracy POS:0.9192 accuracy TYPE:0.9852epoch: 7\n",
      "F1 (POS): 0.9222226228680633\n",
      " epoch 8: 2m 11s loss:0.3109 accuracy POS:0.9247 accuracy TYPE:0.9852epoch: 8\n",
      "F1 (POS): 0.9256120866837342\n",
      " epoch 9: 2m 27s loss:0.2910 accuracy POS:0.9271 accuracy TYPE:0.9852epoch: 9\n",
      "F1 (POS): 0.9282082717340353\n",
      " epoch 10: 2m 41s loss:0.2743 accuracy POS:0.9306 accuracy TYPE:0.9847epoch: 10\n",
      "F1 (POS): 0.9295063642591858\n",
      " epoch 11: 2m 56s loss:0.2599 accuracy POS:0.9350 accuracy TYPE:0.9852epoch: 11\n",
      "F1 (POS): 0.9302996430245556\n",
      " epoch 12: 3m 12s loss:0.2468 accuracy POS:0.9375 accuracy TYPE:0.9857epoch: 12\n",
      "F1 (POS): 0.9313092705441172\n",
      " epoch 13: 3m 27s loss:0.2351 accuracy POS:0.9399 accuracy TYPE:0.9857epoch: 13\n",
      "F1 (POS): 0.931705909926802\n",
      " epoch 14: 3m 41s loss:0.2239 accuracy POS:0.9429 accuracy TYPE:0.9867epoch: 14\n",
      "F1 (POS): 0.9321386074351855\n",
      " epoch 15: 3m 56s loss:0.2139 accuracy POS:0.9448 accuracy TYPE:0.9872epoch: 15\n",
      "F1 (POS): 0.9327515955720621\n",
      " epoch 16: 4m 11s loss:0.2043 accuracy POS:0.9498 accuracy TYPE:0.9881epoch: 16\n",
      "F1 (POS): 0.9327876536977608\n",
      " epoch 17: 4m 26s loss:0.1949 accuracy POS:0.9507 accuracy TYPE:0.9891epoch: 17\n",
      "F1 (POS): 0.9328597699491581\n",
      " epoch 18: 4m 41s loss:0.1861 accuracy POS:0.9532 accuracy TYPE:0.9891epoch: 18\n",
      "F1 (POS): 0.933256409331843\n",
      " epoch 19: 4m 56s loss:0.1776 accuracy POS:0.9547 accuracy TYPE:0.9896epoch: 19\n",
      "F1 (POS): 0.9332203512061443\n",
      " epoch 20: 5m 11s loss:0.1692 accuracy POS:0.9562 accuracy TYPE:0.9901epoch: 20\n",
      "F1 (POS): 0.9333285255832402\n",
      " epoch 21: 5m 26s loss:0.1617 accuracy POS:0.9586 accuracy TYPE:0.9916epoch: 21\n",
      "F1 (POS): 0.9333285255832402\n",
      " epoch 22: 5m 40s loss:0.1532 accuracy POS:0.9606 accuracy TYPE:0.9940epoch: 22\n",
      "F1 (POS): 0.9332203512061443\n",
      " epoch 23: 5m 56s loss:0.1466 accuracy POS:0.9601 accuracy TYPE:0.9945epoch: 23\n",
      "F1 (POS): 0.9327876536977608\n",
      " epoch 24: 6m 11s loss:0.1380 accuracy POS:0.9635 accuracy TYPE:0.9955epoch: 24\n",
      "F1 (POS): 0.9329679443262541\n",
      " epoch 25: 6m 25s loss:0.1320 accuracy POS:0.9645 accuracy TYPE:0.9965epoch: 25\n",
      "F1 (POS): 0.9325352468178704\n",
      " epoch 26: 6m 40s loss:0.1237 accuracy POS:0.9670 accuracy TYPE:0.9975epoch: 26\n",
      "F1 (POS): 0.9324991886921717\n",
      " epoch 27: 6m 55s loss:0.1173 accuracy POS:0.9685 accuracy TYPE:0.9980epoch: 27\n",
      "F1 (POS): 0.9324991886921717\n",
      " epoch 28: 7m 10s loss:0.1102 accuracy POS:0.9699 accuracy TYPE:0.9980epoch: 28\n",
      "F1 (POS): 0.9326794793206649\n",
      " epoch 29: 7m 25s loss:0.1050 accuracy POS:0.9724 accuracy TYPE:0.9985epoch: 29\n",
      "F1 (POS): 0.9321746655608841\n",
      " epoch 30: 7m 39s loss:0.0981 accuracy POS:0.9749 accuracy TYPE:0.9990epoch: 30\n",
      "F1 (POS): 0.9322107236865828\n",
      " epoch 31: 7m 54s loss:0.0931 accuracy POS:0.9778 accuracy TYPE:0.9990epoch: 31\n",
      "F1 (POS): 0.931705909926802\n",
      " epoch 32: 8m 9s loss:0.0866 accuracy POS:0.9783 accuracy TYPE:0.99904epoch: 32\n",
      "F1 (POS): 0.9317419680525006\n",
      " epoch 33: 8m 24s loss:0.0818 accuracy POS:0.9783 accuracy TYPE:0.9990epoch: 33\n",
      "F1 (POS): 0.9319583168066924\n",
      " epoch 34: 8m 39s loss:0.0761 accuracy POS:0.9808 accuracy TYPE:0.9990epoch: 34\n",
      "F1 (POS): 0.9316337936754048\n",
      " epoch 35: 8m 54s loss:0.0693 accuracy POS:0.9842 accuracy TYPE:0.9995epoch: 35\n",
      "F1 (POS): 0.9314535030469117\n",
      " epoch 36: 9m 9s loss:0.0670 accuracy POS:0.9857 accuracy TYPE:0.99908epoch: 36\n",
      "F1 (POS): 0.9283885623625284\n",
      " epoch 37: 9m 24s loss:0.0725 accuracy POS:0.9808 accuracy TYPE:1.0982epoch: 37\n",
      "F1 (POS): 0.9303357011502542\n",
      " epoch 38: 9m 39s loss:0.0695 accuracy POS:0.9817 accuracy TYPE:0.9990epoch: 38\n",
      "F1 (POS): 0.9314895611726103\n",
      " epoch 39: 9m 53s loss:0.0582 accuracy POS:0.9891 accuracy TYPE:1.0982epoch: 39\n",
      "F1 (POS): 0.9313813867955144\n"
     ]
    }
   ],
   "source": [
    "for i in range(3):\n",
    "    print(i+1)\n",
    "    trainer = TrainModel(ORCHIDTagger, orchid,i+1)\n",
    "    trainer.train(40)\n"
   ]
  },
  {
   "cell_type": "code",
   "execution_count": 9,
   "metadata": {},
   "outputs": [
    {
     "data": {
      "text/plain": [
       "2"
      ]
     },
     "execution_count": 9,
     "metadata": {},
     "output_type": "execute_result"
    }
   ],
   "source": [
    "1+1"
   ]
  },
  {
   "cell_type": "code",
   "execution_count": null,
   "metadata": {},
   "outputs": [],
   "source": []
  }
 ],
 "metadata": {
  "kernelspec": {
   "display_name": "Python 3",
   "language": "python",
   "name": "python3"
  },
  "language_info": {
   "codemirror_mode": {
    "name": "ipython",
    "version": 3
   },
   "file_extension": ".py",
   "mimetype": "text/x-python",
   "name": "python",
   "nbconvert_exporter": "python",
   "pygments_lexer": "ipython3",
   "version": "3.7.3"
  }
 },
 "nbformat": 4,
 "nbformat_minor": 2
}
