{
 "cells": [
  {
   "cell_type": "code",
   "execution_count": 1,
   "metadata": {},
   "outputs": [],
   "source": [
    "import torch\n",
    "import math"
   ]
  },
  {
   "cell_type": "code",
   "execution_count": 2,
   "metadata": {},
   "outputs": [],
   "source": [
    "%load_ext autoreload\n",
    "%autoreload 2"
   ]
  },
  {
   "cell_type": "code",
   "execution_count": 3,
   "metadata": {},
   "outputs": [],
   "source": [
    "import re"
   ]
  },
  {
   "cell_type": "code",
   "execution_count": 4,
   "metadata": {},
   "outputs": [
    {
     "name": "stdout",
     "output_type": "stream",
     "text": [
      "/home/datamind/can/BASIL/notebook\n"
     ]
    }
   ],
   "source": [
    "from pathlib import Path\n",
    "import os\n",
    "mypath = Path().absolute()\n",
    "print(mypath)"
   ]
  },
  {
   "cell_type": "code",
   "execution_count": 5,
   "metadata": {},
   "outputs": [],
   "source": [
    "os.chdir(\"/home/datamind/can/BASIL/\")"
   ]
  },
  {
   "cell_type": "code",
   "execution_count": 6,
   "metadata": {},
   "outputs": [],
   "source": [
    "import sys\n",
    "sys.path.append('/home/datamind/can/BASIL/')"
   ]
  },
  {
   "cell_type": "code",
   "execution_count": 7,
   "metadata": {},
   "outputs": [],
   "source": [
    "import basil"
   ]
  },
  {
   "cell_type": "code",
   "execution_count": 8,
   "metadata": {
    "scrolled": true
   },
   "outputs": [
    {
     "name": "stderr",
     "output_type": "stream",
     "text": [
      "/home/datamind/can/BASIL/basil/preprocessing/prep_best_corpus.py:9: YAMLLoadWarning: calling yaml.load() without Loader=... is deprecated, as the default Loader is unsafe. Please read https://msg.pyyaml.org/load for full details.\n",
      "  cfg = yaml.load(ymlfile)\n"
     ]
    },
    {
     "data": {
      "text/plain": [
       "device(type='cuda', index=0)"
      ]
     },
     "execution_count": 8,
     "metadata": {},
     "output_type": "execute_result"
    }
   ],
   "source": [
    "%autoreload 2\n",
    "from basil.preprocessing.prep_best_corpus import Best2010NECTEC\n",
    "from basil.preprocessing.prep_pytorch import PytorchPrepWordLevel\n",
    "from basil.models.multitasks.wordlvl_lstm import LSTMTagger\n",
    "from basil.evaluation.stress_test import StressEval\n",
    "from basil.select_device import device\n",
    "torch.device(device)"
   ]
  },
  {
   "cell_type": "code",
   "execution_count": 9,
   "metadata": {},
   "outputs": [
    {
     "name": "stdout",
     "output_type": "stream",
     "text": [
      "Preprocessing BEST2010 corpus\n",
      "Done!\n"
     ]
    }
   ],
   "source": [
    "best2010  = Best2010NECTEC()"
   ]
  },
  {
   "cell_type": "code",
   "execution_count": 10,
   "metadata": {},
   "outputs": [],
   "source": [
    "from basil.evaluation.noise import NoiseGenerator\n",
    "from basil.preprocessing.prep_pytorch import PytorchPrepWordLevel\n",
    "prep_torch = PytorchPrepWordLevel(best2010.train_data, best2010.val_data, best2010.test_data)"
   ]
  },
  {
   "cell_type": "code",
   "execution_count": 11,
   "metadata": {},
   "outputs": [],
   "source": [
    "# noisy_data  = NoiseGenerator(best2010.test_data)"
   ]
  },
  {
   "cell_type": "code",
   "execution_count": 12,
   "metadata": {},
   "outputs": [],
   "source": [
    "# import pickle\n",
    "# pickle.dump( noisy_data, open( \"stress_best2010.p\", \"wb\" ) )"
   ]
  },
  {
   "cell_type": "code",
   "execution_count": 13,
   "metadata": {},
   "outputs": [
    {
     "name": "stdout",
     "output_type": "stream",
     "text": [
      "normal 0.9485431173946683 0.8069704013220652\n",
      "10 0.902827600759654 0.7527959684156628\n",
      "20 0.8545359428852782 0.6994628743552493\n",
      "30 0.8053474713371316 0.6267886768975529\n",
      "40 0.7506945909826265 0.545133433210314\n",
      "50 0.6917202996412746 0.45084857835574166\n",
      "60 0.6278179292396426 0.35674219464088125\n",
      "70 0.5594710557782936 0.27466585712058683\n",
      "80 0.4885040796229866 0.20476568926813626\n",
      "90 0.4136333262995006 0.1525804038893044\n",
      "100 0.3358882321521597 0.11171646317343951\n"
     ]
    }
   ],
   "source": [
    "CHAR_EMBEDDING_DIM = 100\n",
    "WORD_EMBEDDING_DIM = 128\n",
    "HIDDEN_DIM = 128\n",
    "\n",
    "model = LSTMTagger(WORD_EMBEDDING_DIM,HIDDEN_DIM,\\\n",
    "                           len(prep_torch.char_to_index),len(prep_torch.word_to_index),\\\n",
    "                           len(prep_torch.pos_to_index),len(prep_torch.ner_to_index)).to(device)\n",
    "stress_eval  = StressEval(model, \"weights/model_bilstm_baseline_seed1.p\",best2010,\"BiLSTM_Baseline-1\" )\n",
    "stress_eval.f1_summary(\"word\")\n"
   ]
  },
  {
   "cell_type": "code",
   "execution_count": 14,
   "metadata": {},
   "outputs": [
    {
     "name": "stdout",
     "output_type": "stream",
     "text": [
      "normal 0.9481035028487023 0.8124124555543584\n",
      "10 0.9021549905043258 0.760969256234228\n",
      "20 0.854667827249068 0.7093069038082955\n",
      "30 0.8056508053738483 0.651391828097021\n",
      "40 0.7547654216782725 0.5845116937386264\n",
      "50 0.7028689245269748 0.5175621491579792\n",
      "60 0.650739431666315 0.445914253340009\n",
      "70 0.5977614827319406 0.3744064178042311\n",
      "80 0.5443922768516565 0.3070288477487018\n",
      "90 0.4858971653654076 0.24300697088926282\n",
      "100 0.425428184567771 0.18416455195807138\n"
     ]
    }
   ],
   "source": [
    "stress_eval  = StressEval(model, \"weights/model_bilstm_baseline_seed2.p\",best2010,\"BiLSTM_Baseline-2\" )\n",
    "stress_eval.f1_summary(\"word\")\n",
    "\n"
   ]
  },
  {
   "cell_type": "code",
   "execution_count": 15,
   "metadata": {},
   "outputs": [
    {
     "name": "stdout",
     "output_type": "stream",
     "text": [
      "normal 0.9482221987761131 0.8117841365327032\n",
      "10 0.9020406907223746 0.75958075786079\n",
      "20 0.8526280157557853 0.7075383339131365\n",
      "30 0.8033736020257438 0.6407370307886968\n",
      "40 0.7503181717270075 0.5691695546142986\n",
      "50 0.6927577899697546 0.4872653500195542\n",
      "60 0.6307589505521559 0.39734007722356446\n",
      "70 0.5628780685095308 0.3080485338725986\n",
      "80 0.4883138692709604 0.22847554794281116\n",
      "90 0.4095265309711171 0.16505685658920552\n",
      "100 0.32606569232358623 0.11576384430049014\n"
     ]
    }
   ],
   "source": [
    "stress_eval  = StressEval(model, \"weights/model_bilstm_baseline_seed3.p\",best2010,\"BiLSTM_Baseline-3\" )\n",
    "stress_eval.f1_summary(\"word\")\n"
   ]
  },
  {
   "cell_type": "code",
   "execution_count": 16,
   "metadata": {},
   "outputs": [
    {
     "name": "stdout",
     "output_type": "stream",
     "text": [
      "normal 0.9479584300485334 0.8067454258083527\n",
      "10 0.9013153267215306 0.7494574262698889\n",
      "20 0.8525181121192938 0.6880058482585766\n",
      "30 0.8021840098649721 0.619679101078099\n",
      "40 0.7504220299641274 0.5431452488360312\n",
      "50 0.6954702117183653 0.45710953358229883\n",
      "60 0.6397490680171626 0.36976543897867165\n",
      "70 0.5788021796137098 0.28787093777356937\n",
      "80 0.5158876696912147 0.21814484447936405\n",
      "90 0.4522310634369368 0.15520047441768525\n",
      "100 0.38730637428918724 0.1067410959446989\n"
     ]
    }
   ],
   "source": [
    "stress_eval  = StressEval(model, \"weights/model_bilstm_baseline_seed4.p\",best2010,\"BiLSTM_Baseline-4\" )\n",
    "stress_eval.f1_summary(\"word\")"
   ]
  },
  {
   "cell_type": "code",
   "execution_count": 17,
   "metadata": {},
   "outputs": [
    {
     "name": "stdout",
     "output_type": "stream",
     "text": [
      "normal 0.9476023422663008 0.8109537552855897\n",
      "10 0.9015790954491102 0.7571154181945171\n",
      "20 0.8533050221565731 0.7001775203214052\n",
      "30 0.8044594499542801 0.6340541897301082\n",
      "40 0.7519167194204122 0.563704268489681\n",
      "50 0.6974616656115917 0.4857677021555834\n",
      "60 0.6392303228529226 0.39702164180835514\n",
      "70 0.58052419638461 0.3100998726597278\n",
      "80 0.5170922135471618 0.22301539130513556\n",
      "90 0.44872335935851443 0.15022951519680355\n",
      "100 0.37412598940966224 0.09347066049324387\n"
     ]
    }
   ],
   "source": [
    "stress_eval  = StressEval(model, \"weights/model_bilstm_baseline_seed5.p\",best2010,\"BiLSTM_Baseline-5\" )\n",
    "stress_eval.f1_summary(\"word\")"
   ]
  },
  {
   "cell_type": "code",
   "execution_count": null,
   "metadata": {},
   "outputs": [],
   "source": []
  }
 ],
 "metadata": {
  "kernelspec": {
   "display_name": "Python 3",
   "language": "python",
   "name": "python3"
  },
  "language_info": {
   "codemirror_mode": {
    "name": "ipython",
    "version": 3
   },
   "file_extension": ".py",
   "mimetype": "text/x-python",
   "name": "python",
   "nbconvert_exporter": "python",
   "pygments_lexer": "ipython3",
   "version": "3.7.3"
  }
 },
 "nbformat": 4,
 "nbformat_minor": 2
}
