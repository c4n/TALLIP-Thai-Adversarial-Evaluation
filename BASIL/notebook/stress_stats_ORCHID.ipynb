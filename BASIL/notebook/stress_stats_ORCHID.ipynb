{
 "cells": [
  {
   "cell_type": "code",
   "execution_count": 1,
   "metadata": {},
   "outputs": [],
   "source": [
    "import torch\n",
    "import math"
   ]
  },
  {
   "cell_type": "code",
   "execution_count": 2,
   "metadata": {},
   "outputs": [],
   "source": [
    "%load_ext autoreload\n",
    "%autoreload 2"
   ]
  },
  {
   "cell_type": "code",
   "execution_count": 3,
   "metadata": {},
   "outputs": [],
   "source": [
    "import re"
   ]
  },
  {
   "cell_type": "code",
   "execution_count": 4,
   "metadata": {},
   "outputs": [
    {
     "name": "stdout",
     "output_type": "stream",
     "text": [
      "/home/datamind/can/BASIL/notebook\n"
     ]
    }
   ],
   "source": [
    "from pathlib import Path\n",
    "import os\n",
    "mypath = Path().absolute()\n",
    "print(mypath)"
   ]
  },
  {
   "cell_type": "code",
   "execution_count": 5,
   "metadata": {},
   "outputs": [],
   "source": [
    "os.chdir(\"/home/datamind/can/BASIL/\")"
   ]
  },
  {
   "cell_type": "code",
   "execution_count": 6,
   "metadata": {},
   "outputs": [],
   "source": [
    "import sys\n",
    "sys.path.append('/home/datamind/can/BASIL/')"
   ]
  },
  {
   "cell_type": "code",
   "execution_count": 7,
   "metadata": {},
   "outputs": [],
   "source": [
    "import basil"
   ]
  },
  {
   "cell_type": "code",
   "execution_count": 8,
   "metadata": {
    "scrolled": true
   },
   "outputs": [
    {
     "data": {
      "text/plain": [
       "device(type='cuda', index=1)"
      ]
     },
     "execution_count": 8,
     "metadata": {},
     "output_type": "execute_result"
    }
   ],
   "source": [
    "%autoreload 2\n",
    "from basil.preprocessing.prep_orchid_corpus import ORCHID\n",
    "from basil.preprocessing.prep_pytorch import PytorchPrepWordLevel\n",
    "from basil.models.multitasks.wordlvl_lstm import LSTMTagger\n",
    "from basil.evaluation.stress_test import StressEval\n",
    "from basil.select_device import device\n",
    "torch.device(device)"
   ]
  },
  {
   "cell_type": "code",
   "execution_count": 9,
   "metadata": {},
   "outputs": [
    {
     "name": "stdout",
     "output_type": "stream",
     "text": [
      "Preprocessing ORCHID corpus\n",
      "Done!\n"
     ]
    }
   ],
   "source": [
    "orchid  = ORCHID()"
   ]
  },
  {
   "cell_type": "code",
   "execution_count": 10,
   "metadata": {},
   "outputs": [],
   "source": [
    "from basil.evaluation.noise import OrchidNoiseGenerator\n",
    "from basil.preprocessing.prep_pytorch_ORCHID import PytorchPrepWordLevel\n",
    "prep_torch = PytorchPrepWordLevel(orchid.train_data, orchid.val_data, orchid.test_data)"
   ]
  },
  {
   "cell_type": "code",
   "execution_count": 11,
   "metadata": {},
   "outputs": [],
   "source": [
    "noisy_data  = OrchidNoiseGenerator(orchid.test_data)"
   ]
  },
  {
   "cell_type": "code",
   "execution_count": 12,
   "metadata": {},
   "outputs": [],
   "source": [
    "import pickle\n",
    "pickle.dump( noisy_data, open( \"stress_orchid.p\", \"wb\" ) )\n",
    "noisy_data = pickle.load( open( \"stress_orchid.p\", \"rb\" ) )"
   ]
  },
  {
   "cell_type": "code",
   "execution_count": 13,
   "metadata": {},
   "outputs": [],
   "source": [
    "def CountFrequency(my_list): \n",
    "      \n",
    "    # Creating an empty dictionary  \n",
    "    freq = {} \n",
    "    total = 0\n",
    "    for items in my_list: \n",
    "        freq[items] = my_list.count(items) \n",
    "       \n",
    "    for key, value in freq.items(): \n",
    "        print (\"% s : % d\"%(key, value)) \n",
    "        total += value\n",
    "    print(total)"
   ]
  },
  {
   "cell_type": "code",
   "execution_count": 14,
   "metadata": {},
   "outputs": [
    {
     "data": {
      "text/plain": [
       "45193"
      ]
     },
     "execution_count": 14,
     "metadata": {},
     "output_type": "execute_result"
    }
   ],
   "source": [
    "sum([len(nd) for nd in noisy_data.stress90 ])"
   ]
  },
  {
   "cell_type": "code",
   "execution_count": 15,
   "metadata": {},
   "outputs": [
    {
     "name": "stdout",
     "output_type": "stream",
     "text": [
      "no_error :  42254\n",
      "swap_char :  1326\n",
      "last_char :  1517\n",
      "move_tone :  41\n",
      "remove_tone :  55\n",
      "45193\n"
     ]
    }
   ],
   "source": [
    "error_list = []\n",
    "for data, errors in zip(noisy_data.stress10,noisy_data.error10):\n",
    "    for x,err in zip(data, errors):\n",
    "        error_list.append(err)\n",
    "       \n",
    "\n",
    "CountFrequency(error_list)"
   ]
  },
  {
   "cell_type": "code",
   "execution_count": 16,
   "metadata": {},
   "outputs": [
    {
     "name": "stdout",
     "output_type": "stream",
     "text": [
      "no_error :  39320\n",
      "swap_char :  2615\n",
      "last_char :  3066\n",
      "move_tone :  101\n",
      "remove_tone :  91\n",
      "45193\n"
     ]
    }
   ],
   "source": [
    "error_list = []\n",
    "for data, errors in zip(noisy_data.stress20,noisy_data.error20):\n",
    "    for x,err in zip(data, errors):\n",
    "        error_list.append(err)\n",
    "       \n",
    "         \n",
    "\n",
    "CountFrequency(error_list)"
   ]
  },
  {
   "cell_type": "code",
   "execution_count": 17,
   "metadata": {},
   "outputs": [
    {
     "name": "stdout",
     "output_type": "stream",
     "text": [
      "no_error :  36509\n",
      "swap_char :  3911\n",
      "last_char :  4486\n",
      "remove_tone :  131\n",
      "move_tone :  156\n",
      "45193\n"
     ]
    }
   ],
   "source": [
    "error_list = []\n",
    "for data, errors in zip(noisy_data.stress30,noisy_data.error30):\n",
    "    for x,err in zip(data, errors):\n",
    "        error_list.append(err)\n",
    "       \n",
    "\n",
    "\n",
    "CountFrequency(error_list)"
   ]
  },
  {
   "cell_type": "code",
   "execution_count": 18,
   "metadata": {},
   "outputs": [
    {
     "name": "stdout",
     "output_type": "stream",
     "text": [
      "no_error :  33550\n",
      "swap_char :  5266\n",
      "last_char :  5986\n",
      "remove_tone :  202\n",
      "move_tone :  189\n",
      "45193\n"
     ]
    }
   ],
   "source": [
    "error_list = []\n",
    "for data, errors in zip(noisy_data.stress40,noisy_data.error40):\n",
    "    for x,err in zip(data, errors):\n",
    "        error_list.append(err)\n",
    "       \n",
    "         \n",
    "\n",
    "         \n",
    "\n",
    "CountFrequency(error_list)"
   ]
  },
  {
   "cell_type": "code",
   "execution_count": 19,
   "metadata": {},
   "outputs": [
    {
     "name": "stdout",
     "output_type": "stream",
     "text": [
      "no_error :  30568\n",
      "swap_char :  6568\n",
      "last_char :  7571\n",
      "move_tone :  252\n",
      "remove_tone :  234\n",
      "45193\n"
     ]
    }
   ],
   "source": [
    "error_list = []\n",
    "for data, errors in zip(noisy_data.stress50,noisy_data.error50):\n",
    "    for x,err in zip(data, errors):\n",
    "        error_list.append(err)\n",
    "       \n",
    "         \n",
    "\n",
    "         \n",
    "\n",
    "CountFrequency(error_list)"
   ]
  },
  {
   "cell_type": "code",
   "execution_count": 20,
   "metadata": {},
   "outputs": [
    {
     "name": "stdout",
     "output_type": "stream",
     "text": [
      "no_error :  27690\n",
      "swap_char :  7891\n",
      "last_char :  9036\n",
      "move_tone :  277\n",
      "remove_tone :  299\n",
      "45193\n"
     ]
    }
   ],
   "source": [
    "error_list = []\n",
    "for data, errors in zip(noisy_data.stress60,noisy_data.error60):\n",
    "    for x,err in zip(data, errors):\n",
    "        error_list.append(err)\n",
    "       \n",
    "\n",
    "\n",
    "CountFrequency(error_list)"
   ]
  },
  {
   "cell_type": "code",
   "execution_count": 21,
   "metadata": {},
   "outputs": [
    {
     "name": "stdout",
     "output_type": "stream",
     "text": [
      "last_char :  10632\n",
      "no_error :  24615\n",
      "swap_char :  9274\n",
      "remove_tone :  332\n",
      "move_tone :  340\n",
      "45193\n"
     ]
    }
   ],
   "source": [
    "error_list = []\n",
    "for data, errors in zip(noisy_data.stress70,noisy_data.error70):\n",
    "    for x,err in zip(data, errors):\n",
    "        error_list.append(err)\n",
    "       \n",
    "\n",
    "         \n",
    "\n",
    "CountFrequency(error_list)"
   ]
  },
  {
   "cell_type": "code",
   "execution_count": 22,
   "metadata": {},
   "outputs": [
    {
     "name": "stdout",
     "output_type": "stream",
     "text": [
      "last_char :  12100\n",
      "no_error :  21703\n",
      "swap_char :  10629\n",
      "move_tone :  367\n",
      "remove_tone :  394\n",
      "45193\n"
     ]
    }
   ],
   "source": [
    "error_list = []\n",
    "for data, errors in zip(noisy_data.stress80,noisy_data.error80):\n",
    "    for x,err in zip(data, errors):\n",
    "        error_list.append(err)\n",
    "       \n",
    "         \n",
    "\n",
    "         \n",
    "\n",
    "CountFrequency(error_list)"
   ]
  },
  {
   "cell_type": "code",
   "execution_count": 23,
   "metadata": {},
   "outputs": [
    {
     "name": "stdout",
     "output_type": "stream",
     "text": [
      "last_char :  13697\n",
      "no_error :  18813\n",
      "swap_char :  11792\n",
      "move_tone :  430\n",
      "remove_tone :  461\n",
      "45193\n"
     ]
    }
   ],
   "source": [
    "error_list = []\n",
    "for data, errors in zip(noisy_data.stress90,noisy_data.error90):\n",
    "    for x,err in zip(data, errors):\n",
    "        error_list.append(err)\n",
    "       \n",
    "         \n",
    "\n",
    "\n",
    "CountFrequency(error_list)"
   ]
  },
  {
   "cell_type": "code",
   "execution_count": 24,
   "metadata": {},
   "outputs": [
    {
     "name": "stdout",
     "output_type": "stream",
     "text": [
      "last_char :  15139\n",
      "no_error :  15997\n",
      "swap_char :  13087\n",
      "move_tone :  486\n",
      "remove_tone :  484\n",
      "45193\n"
     ]
    }
   ],
   "source": [
    "error_list = []\n",
    "for data, errors in zip(noisy_data.stress100,noisy_data.error100):\n",
    "    for x,err in zip(data, errors):\n",
    "        error_list.append(err)\n",
    "       \n",
    "\n",
    "         \n",
    "\n",
    "CountFrequency(error_list)"
   ]
  }
 ],
 "metadata": {
  "kernelspec": {
   "display_name": "Python 3",
   "language": "python",
   "name": "python3"
  },
  "language_info": {
   "codemirror_mode": {
    "name": "ipython",
    "version": 3
   },
   "file_extension": ".py",
   "mimetype": "text/x-python",
   "name": "python",
   "nbconvert_exporter": "python",
   "pygments_lexer": "ipython3",
   "version": "3.7.3"
  }
 },
 "nbformat": 4,
 "nbformat_minor": 2
}
