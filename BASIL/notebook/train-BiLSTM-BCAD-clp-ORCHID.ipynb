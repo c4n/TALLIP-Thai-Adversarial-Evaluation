{
 "cells": [
  {
   "cell_type": "code",
   "execution_count": 1,
   "metadata": {},
   "outputs": [
    {
     "name": "stdout",
     "output_type": "stream",
     "text": [
      "/home/datamind/can/BASIL\n"
     ]
    }
   ],
   "source": [
    "%load_ext autoreload\n",
    "%autoreload 2\n",
    "import torch\n",
    "import math\n",
    "from pathlib import Path\n",
    "import os\n",
    "os.chdir(\"/home/datamind/can/BASIL/\")\n",
    "mypath = Path().absolute()\n",
    "print(mypath)\n",
    "from basil.select_device import device"
   ]
  },
  {
   "cell_type": "code",
   "execution_count": 2,
   "metadata": {},
   "outputs": [
    {
     "name": "stdout",
     "output_type": "stream",
     "text": [
      "/home/datamind/can/BASIL\r\n"
     ]
    }
   ],
   "source": [
    "!pwd"
   ]
  },
  {
   "cell_type": "code",
   "execution_count": 3,
   "metadata": {},
   "outputs": [
    {
     "data": {
      "text/plain": [
       "device(type='cuda', index=0)"
      ]
     },
     "execution_count": 3,
     "metadata": {},
     "output_type": "execute_result"
    }
   ],
   "source": [
    "torch.device(device)"
   ]
  },
  {
   "cell_type": "code",
   "execution_count": 4,
   "metadata": {},
   "outputs": [
    {
     "name": "stdout",
     "output_type": "stream",
     "text": [
      "/home/datamind/can/BASIL\n"
     ]
    }
   ],
   "source": [
    "from pathlib import Path\n",
    "import os\n",
    "os.chdir(\"/home/datamind/can/BASIL/\")\n",
    "mypath = Path().absolute()\n",
    "print(mypath)"
   ]
  },
  {
   "cell_type": "code",
   "execution_count": 5,
   "metadata": {},
   "outputs": [],
   "source": [
    "affixes = r\"^การ|^ความ|^นัก|^ผู้|^ไอ้|กร$|^ที่\\w+|^อย่าง|^แบบ|^โดย|^น่า\""
   ]
  },
  {
   "cell_type": "code",
   "execution_count": 6,
   "metadata": {},
   "outputs": [],
   "source": [
    "import sys\n",
    "sys.path.append('/home/datamind/can/BASIL/')"
   ]
  },
  {
   "cell_type": "code",
   "execution_count": 7,
   "metadata": {},
   "outputs": [],
   "source": [
    "import basil"
   ]
  },
  {
   "cell_type": "code",
   "execution_count": 8,
   "metadata": {},
   "outputs": [],
   "source": [
    "from basil.select_device import device"
   ]
  },
  {
   "cell_type": "code",
   "execution_count": 9,
   "metadata": {},
   "outputs": [],
   "source": [
    "%autoreload 2\n",
    "from basil.preprocessing.prep_orchid_corpus import ORCHID\n",
    "from basil.preprocessing.prep_pytorch_ORCHID import PytorchPrepWordLevel\n",
    "from basil.models.multitasks.BiLSTM_BCAD import LSTMTagger\n",
    "from basil.training.train_BILSTM_U_BCAD_clp_ORCHID import TrainModel\n",
    "\n"
   ]
  },
  {
   "cell_type": "code",
   "execution_count": 10,
   "metadata": {},
   "outputs": [
    {
     "name": "stdout",
     "output_type": "stream",
     "text": [
      "Preprocessing ORCHID corpus\n",
      "Done!\n"
     ]
    }
   ],
   "source": [
    "orchid  = ORCHID()"
   ]
  },
  {
   "cell_type": "code",
   "execution_count": 11,
   "metadata": {},
   "outputs": [
    {
     "name": "stdout",
     "output_type": "stream",
     "text": [
      "Training\n",
      "Num of training text file: 132\n",
      " epoch 0: 8m 17s loss:1.3061 accuracy POS:0.7372 accuracy TYPE:0.9315epoch: 0\n",
      "F1 (POS): 0.7772328994338874\n",
      " epoch 1: 16m 55s loss:0.8837 accuracy POS:0.8095 accuracy TYPE:0.9399epoch: 1\n",
      "F1 (POS): 0.8644935636245628\n",
      " epoch 2: 25m 31s loss:0.7547 accuracy POS:0.8336 accuracy TYPE:0.9478epoch: 2\n",
      "F1 (POS): 0.8945299823315184\n",
      " epoch 3: 34m 4s loss:0.6523 accuracy POS:0.8553 accuracy TYPE:0.95571epoch: 3\n",
      "F1 (POS): 0.9083041863483936\n",
      " epoch 4: 42m 36s loss:0.6483 accuracy POS:0.8543 accuracy TYPE:0.9532epoch: 4\n",
      "F1 (POS): 0.917715357155735\n",
      " epoch 5: 51m 5s loss:0.5709 accuracy POS:0.8735 accuracy TYPE:0.95765epoch: 5\n",
      "F1 (POS): 0.9218259834853785\n",
      " epoch 6: 59m 23s loss:0.5397 accuracy POS:0.8740 accuracy TYPE:0.9655epoch: 6\n",
      "F1 (POS): 0.926693830454693\n",
      " epoch 7: 67m 39s loss:0.5427 accuracy POS:0.8705 accuracy TYPE:0.9576epoch: 7\n",
      "F1 (POS): 0.9297948292647749\n",
      " epoch 8: 75m 57s loss:0.4857 accuracy POS:0.8833 accuracy TYPE:0.9616epoch: 8\n",
      "F1 (POS): 0.9332203512061443\n",
      " epoch 9: 84m 14s loss:0.4731 accuracy POS:0.8917 accuracy TYPE:0.9581epoch: 9\n",
      "F1 (POS): 0.9351674899938701\n",
      " epoch 10: 92m 30s loss:0.4539 accuracy POS:0.8897 accuracy TYPE:0.9625epoch: 10\n",
      "F1 (POS): 0.9368982800274042\n",
      " epoch 11: 100m 45s loss:0.4405 accuracy POS:0.8932 accuracy TYPE:0.9616epoch: 11\n",
      "F1 (POS): 0.9386290700609382\n",
      " epoch 12: 108m 57s loss:0.4636 accuracy POS:0.8946 accuracy TYPE:0.9596epoch: 12\n",
      "F1 (POS): 0.9388093606894313\n",
      " epoch 13: 117m 10s loss:0.4268 accuracy POS:0.8946 accuracy TYPE:0.9665epoch: 13\n",
      "F1 (POS): 0.9392060000721163\n",
      " epoch 14: 125m 21s loss:0.4029 accuracy POS:0.9000 accuracy TYPE:0.9660epoch: 14\n",
      "F1 (POS): 0.9406122669743626\n",
      " epoch 15: 133m 33s loss:0.3871 accuracy POS:0.9099 accuracy TYPE:0.9621epoch: 15\n",
      "F1 (POS): 0.9414416038654311\n",
      " epoch 16: 141m 47s loss:0.4156 accuracy POS:0.9025 accuracy TYPE:0.9650epoch: 16\n",
      "F1 (POS): 0.9403598600944723\n",
      " epoch 17: 149m 59s loss:0.4043 accuracy POS:0.9020 accuracy TYPE:0.9645epoch: 17\n",
      "F1 (POS): 0.9414416038654311\n",
      " epoch 18: 158m 12s loss:0.3633 accuracy POS:0.9094 accuracy TYPE:0.9709epoch: 18\n",
      "F1 (POS): 0.940576208848664\n",
      " epoch 19: 166m 24s loss:0.4092 accuracy POS:0.8976 accuracy TYPE:0.9650epoch: 19\n",
      "F1 (POS): 0.9418382432481159\n",
      " epoch 20: 174m 35s loss:0.3664 accuracy POS:0.9128 accuracy TYPE:0.9635epoch: 20\n",
      "F1 (POS): 0.9421988245051022\n",
      " epoch 21: 182m 49s loss:0.3517 accuracy POS:0.9119 accuracy TYPE:0.9704epoch: 21\n",
      "F1 (POS): 0.9414055457397325\n",
      " epoch 22: 191m 0s loss:0.3644 accuracy POS:0.9124 accuracy TYPE:0.96895epoch: 22\n",
      "F1 (POS): 0.9411170807341435\n",
      " epoch 23: 199m 12s loss:0.3619 accuracy POS:0.9163 accuracy TYPE:0.9660epoch: 23\n",
      "F1 (POS): 0.9428839288933761\n",
      " epoch 24: 207m 24s loss:0.3647 accuracy POS:0.9089 accuracy TYPE:0.9660epoch: 24\n",
      "F1 (POS): 0.942018533876609\n",
      " epoch 25: 215m 34s loss:0.3505 accuracy POS:0.9104 accuracy TYPE:0.9665epoch: 25\n",
      "F1 (POS): 0.9431363357732665\n",
      " epoch 26: 223m 46s loss:0.3774 accuracy POS:0.9133 accuracy TYPE:0.9680epoch: 26\n",
      "F1 (POS): 0.942992103270472\n",
      " epoch 27: 232m 1s loss:0.3339 accuracy POS:0.9247 accuracy TYPE:0.97097epoch: 27\n",
      "F1 (POS): 0.9429199870190748\n",
      " epoch 28: 240m 12s loss:0.3453 accuracy POS:0.9168 accuracy TYPE:0.9694epoch: 28\n",
      "F1 (POS): 0.9434608589045541\n",
      " epoch 29: 248m 25s loss:0.3177 accuracy POS:0.9207 accuracy TYPE:0.9744epoch: 29\n",
      "F1 (POS): 0.9434608589045541\n",
      " epoch 30: 256m 36s loss:0.3299 accuracy POS:0.9197 accuracy TYPE:0.9709epoch: 30\n",
      "F1 (POS): 0.9443623120470198\n",
      " epoch 31: 264m 48s loss:0.3431 accuracy POS:0.9133 accuracy TYPE:0.9680epoch: 31\n",
      "F1 (POS): 0.9418743013738146\n",
      " epoch 32: 272m 59s loss:0.3517 accuracy POS:0.9124 accuracy TYPE:0.9655epoch: 32\n",
      "F1 (POS): 0.943280568276061\n",
      " epoch 33: 281m 10s loss:0.3085 accuracy POS:0.9251 accuracy TYPE:0.9729epoch: 33\n",
      "F1 (POS): 0.9430281613961706\n",
      " epoch 34: 289m 21s loss:0.3091 accuracy POS:0.9242 accuracy TYPE:0.9680epoch: 34\n",
      "F1 (POS): 0.943280568276061\n",
      " epoch 35: 297m 32s loss:0.3179 accuracy POS:0.9163 accuracy TYPE:0.9709epoch: 35\n",
      "F1 (POS): 0.9431002776475679\n",
      " epoch 36: 305m 42s loss:0.3483 accuracy POS:0.9192 accuracy TYPE:0.9680epoch: 36\n",
      "F1 (POS): 0.9445065445498143\n",
      " epoch 37: 313m 53s loss:0.2944 accuracy POS:0.9281 accuracy TYPE:0.9734epoch: 37\n",
      "F1 (POS): 0.9430642195218693\n",
      " epoch 38: 322m 5s loss:0.2929 accuracy POS:0.9296 accuracy TYPE:0.97497epoch: 38\n",
      "F1 (POS): 0.9428839288933761\n",
      " epoch 39: 330m 19s loss:0.3005 accuracy POS:0.9281 accuracy TYPE:0.9729epoch: 39\n",
      "F1 (POS): 0.9428118126419789\n"
     ]
    }
   ],
   "source": [
    "trainer = TrainModel(LSTMTagger, orchid,1)\n",
    "trainer.train(40)\n"
   ]
  },
  {
   "cell_type": "code",
   "execution_count": 12,
   "metadata": {},
   "outputs": [],
   "source": [
    "filehandle = open('done_bilstm_bcad_clp_orchid.txt', 'w')\n",
    "filehandle.write('seed1\\n')\n",
    "filehandle.close()"
   ]
  },
  {
   "cell_type": "code",
   "execution_count": 13,
   "metadata": {},
   "outputs": [
    {
     "name": "stdout",
     "output_type": "stream",
     "text": [
      "Training\n",
      "Num of training text file: 132\n",
      " epoch 0: 7m 56s loss:1.3439 accuracy POS:0.7273 accuracy TYPE:0.9301epoch: 0\n",
      "F1 (POS): 0.7845166408250099\n",
      " epoch 1: 16m 10s loss:0.8917 accuracy POS:0.8134 accuracy TYPE:0.9434epoch: 1\n",
      "F1 (POS): 0.8655031911441243\n",
      " epoch 2: 24m 22s loss:0.7469 accuracy POS:0.8405 accuracy TYPE:0.9473epoch: 2\n",
      "F1 (POS): 0.8975228067645044\n",
      " epoch 3: 32m 34s loss:0.6465 accuracy POS:0.8562 accuracy TYPE:0.9557epoch: 3\n",
      "F1 (POS): 0.9138210795802835\n",
      " epoch 4: 40m 44s loss:0.6211 accuracy POS:0.8562 accuracy TYPE:0.9552epoch: 4\n",
      "F1 (POS): 0.921573576605488\n",
      " epoch 5: 48m 55s loss:0.5512 accuracy POS:0.8730 accuracy TYPE:0.9571epoch: 5\n",
      "F1 (POS): 0.9263332491977067\n",
      " epoch 6: 57m 8s loss:0.5452 accuracy POS:0.8735 accuracy TYPE:0.95814epoch: 6\n",
      "F1 (POS): 0.9291818411278981\n",
      " epoch 7: 65m 21s loss:0.5496 accuracy POS:0.8695 accuracy TYPE:0.9532epoch: 7\n",
      "F1 (POS): 0.9328597699491581\n",
      " epoch 8: 73m 35s loss:0.4630 accuracy POS:0.8897 accuracy TYPE:0.9655epoch: 8\n",
      "F1 (POS): 0.9353477806223632\n",
      " epoch 9: 81m 47s loss:0.4779 accuracy POS:0.8932 accuracy TYPE:0.9591epoch: 9\n",
      "F1 (POS): 0.936429524393322\n",
      " epoch 10: 89m 58s loss:0.4529 accuracy POS:0.8946 accuracy TYPE:0.9630epoch: 10\n",
      "F1 (POS): 0.9380881981754589\n",
      " epoch 11: 98m 11s loss:0.4524 accuracy POS:0.8951 accuracy TYPE:0.9596epoch: 11\n",
      "F1 (POS): 0.9404680344715681\n",
      " epoch 12: 106m 23s loss:0.4235 accuracy POS:0.9000 accuracy TYPE:0.9645epoch: 12\n",
      "F1 (POS): 0.9407564994771573\n",
      " epoch 13: 114m 36s loss:0.4657 accuracy POS:0.8917 accuracy TYPE:0.9591epoch: 13\n",
      "F1 (POS): 0.9401074532145819\n",
      " epoch 14: 122m 50s loss:0.4419 accuracy POS:0.8976 accuracy TYPE:0.9601epoch: 14\n",
      "F1 (POS): 0.9418382432481159\n",
      " epoch 15: 131m 1s loss:0.4165 accuracy POS:0.9030 accuracy TYPE:0.96453epoch: 15\n",
      "F1 (POS): 0.9412973713626366\n",
      " epoch 16: 139m 11s loss:0.3897 accuracy POS:0.9119 accuracy TYPE:0.9625epoch: 16\n",
      "F1 (POS): 0.9423430570078968\n",
      " epoch 17: 147m 22s loss:0.4436 accuracy POS:0.8986 accuracy TYPE:0.9621epoch: 17\n",
      "F1 (POS): 0.9425594057620885\n",
      " epoch 18: 155m 34s loss:0.3981 accuracy POS:0.9084 accuracy TYPE:0.9640epoch: 18\n",
      "F1 (POS): 0.9429199870190748\n",
      " epoch 19: 163m 47s loss:0.3893 accuracy POS:0.9094 accuracy TYPE:0.9645epoch: 19\n",
      "F1 (POS): 0.943280568276061\n",
      " epoch 20: 171m 59s loss:0.3727 accuracy POS:0.9119 accuracy TYPE:0.9645epoch: 20\n",
      "F1 (POS): 0.9434608589045541\n",
      " epoch 21: 180m 12s loss:0.3819 accuracy POS:0.9099 accuracy TYPE:0.9630epoch: 21\n",
      "F1 (POS): 0.9426675801391844\n",
      " epoch 22: 188m 24s loss:0.3525 accuracy POS:0.9197 accuracy TYPE:0.9675epoch: 22\n",
      "F1 (POS): 0.943280568276061\n",
      " epoch 23: 196m 37s loss:0.3653 accuracy POS:0.9133 accuracy TYPE:0.9709epoch: 23\n",
      "F1 (POS): 0.9446868351783074\n",
      " epoch 24: 204m 49s loss:0.3218 accuracy POS:0.9251 accuracy TYPE:0.9685epoch: 24\n",
      "F1 (POS): 0.9441820214185267\n",
      " epoch 25: 213m 0s loss:0.3675 accuracy POS:0.9133 accuracy TYPE:0.96707epoch: 25\n",
      "F1 (POS): 0.9430642195218693\n",
      " epoch 26: 221m 11s loss:0.3225 accuracy POS:0.9237 accuracy TYPE:0.9704epoch: 26\n",
      "F1 (POS): 0.9433166264017596\n",
      " epoch 27: 229m 23s loss:0.3487 accuracy POS:0.9197 accuracy TYPE:0.9689epoch: 27\n",
      "F1 (POS): 0.9449753001838964\n",
      " epoch 28: 237m 36s loss:0.3348 accuracy POS:0.9173 accuracy TYPE:0.9665epoch: 28\n",
      "F1 (POS): 0.9453358814408827\n",
      " epoch 29: 245m 47s loss:0.3188 accuracy POS:0.9187 accuracy TYPE:0.9685epoch: 29\n",
      "F1 (POS): 0.9451555908123895\n",
      " epoch 30: 254m 0s loss:0.3449 accuracy POS:0.9143 accuracy TYPE:0.96896epoch: 30\n",
      "F1 (POS): 0.9446147189269102\n",
      " epoch 31: 262m 13s loss:0.3433 accuracy POS:0.9202 accuracy TYPE:0.9660epoch: 31\n",
      "F1 (POS): 0.9444344282984171\n",
      " epoch 32: 270m 25s loss:0.3612 accuracy POS:0.9168 accuracy TYPE:0.9650epoch: 32\n",
      "F1 (POS): 0.9450834745609923\n",
      " epoch 33: 278m 36s loss:0.3370 accuracy POS:0.9212 accuracy TYPE:0.9680epoch: 33\n",
      "F1 (POS): 0.9451916489380882\n",
      " epoch 34: 286m 51s loss:0.3416 accuracy POS:0.9178 accuracy TYPE:0.9709epoch: 34\n",
      "F1 (POS): 0.9447589514297047\n",
      " epoch 35: 295m 3s loss:0.2742 accuracy POS:0.9355 accuracy TYPE:0.97631epoch: 35\n",
      "F1 (POS): 0.9464176252118415\n",
      " epoch 36: 303m 16s loss:0.3357 accuracy POS:0.9178 accuracy TYPE:0.9680epoch: 36\n",
      "F1 (POS): 0.9456604045721704\n",
      " epoch 37: 311m 30s loss:0.3604 accuracy POS:0.9099 accuracy TYPE:0.9635epoch: 37\n",
      "F1 (POS): 0.9456604045721704\n",
      " epoch 38: 319m 42s loss:0.3315 accuracy POS:0.9227 accuracy TYPE:0.9719epoch: 38\n",
      "F1 (POS): 0.9443623120470198\n",
      " epoch 39: 327m 54s loss:0.3258 accuracy POS:0.9158 accuracy TYPE:0.9694epoch: 39\n",
      "F1 (POS): 0.9439296145386363\n"
     ]
    }
   ],
   "source": [
    "trainer = TrainModel(LSTMTagger, orchid,2)\n",
    "trainer.train(40)\n"
   ]
  },
  {
   "cell_type": "code",
   "execution_count": 14,
   "metadata": {},
   "outputs": [],
   "source": [
    "filehandle = open('done_bilstm_bcad_clp_orchid.txt', 'a+')\n",
    "filehandle.write('seed2\\n')\n",
    "filehandle.close()"
   ]
  },
  {
   "cell_type": "code",
   "execution_count": 15,
   "metadata": {},
   "outputs": [
    {
     "name": "stdout",
     "output_type": "stream",
     "text": [
      "Training\n",
      "Num of training text file: 132\n",
      " epoch 0: 7m 52s loss:1.3751 accuracy POS:0.7145 accuracy TYPE:0.9148epoch: 0\n",
      "F1 (POS): 0.7754299931489561\n",
      " epoch 1: 16m 7s loss:0.8862 accuracy POS:0.8036 accuracy TYPE:0.94988epoch: 1\n",
      "F1 (POS): 0.8697941081022609\n",
      " epoch 2: 24m 21s loss:0.7187 accuracy POS:0.8316 accuracy TYPE:0.9527epoch: 2\n",
      "F1 (POS): 0.9034002812533805\n",
      " epoch 3: 32m 33s loss:0.6600 accuracy POS:0.8494 accuracy TYPE:0.9542epoch: 3\n",
      "F1 (POS): 0.9159124508708038\n",
      " epoch 4: 40m 45s loss:0.6258 accuracy POS:0.8617 accuracy TYPE:0.9522epoch: 4\n",
      "F1 (POS): 0.9206721234630225\n",
      " epoch 5: 48m 57s loss:0.5726 accuracy POS:0.8754 accuracy TYPE:0.9552epoch: 5\n",
      "F1 (POS): 0.9261529585692135\n",
      " epoch 6: 57m 10s loss:0.5388 accuracy POS:0.875 accuracy TYPE:0.95621epoch: 6\n",
      "F1 (POS): 0.9303357011502542\n",
      " epoch 7: 65m 24s loss:0.5297 accuracy POS:0.8794 accuracy TYPE:0.9591epoch: 7\n",
      "F1 (POS): 0.9330400605776512\n",
      " epoch 8: 73m 36s loss:0.4810 accuracy POS:0.8858 accuracy TYPE:0.9606epoch: 8\n",
      "F1 (POS): 0.9336169905888292\n",
      " epoch 9: 81m 48s loss:0.4987 accuracy POS:0.8887 accuracy TYPE:0.9566epoch: 9\n",
      "F1 (POS): 0.9365737568961165\n",
      " epoch 10: 90m 2s loss:0.4665 accuracy POS:0.8907 accuracy TYPE:0.96255epoch: 10\n",
      "F1 (POS): 0.9380521400497602\n",
      " epoch 11: 98m 13s loss:0.4639 accuracy POS:0.8907 accuracy TYPE:0.9562epoch: 11\n",
      "F1 (POS): 0.9374391519128836\n",
      " epoch 12: 106m 25s loss:0.4600 accuracy POS:0.8922 accuracy TYPE:0.9591epoch: 12\n",
      "F1 (POS): 0.93884541881513\n",
      " epoch 13: 114m 37s loss:0.4660 accuracy POS:0.8912 accuracy TYPE:0.9640epoch: 13\n",
      "F1 (POS): 0.939133883820719\n",
      " epoch 14: 122m 49s loss:0.4513 accuracy POS:0.8961 accuracy TYPE:0.9611epoch: 14\n",
      "F1 (POS): 0.9387733025637327\n",
      " epoch 15: 131m 4s loss:0.3974 accuracy POS:0.9045 accuracy TYPE:0.96999epoch: 15\n",
      "F1 (POS): 0.9406122669743626\n",
      " epoch 16: 139m 15s loss:0.4126 accuracy POS:0.9030 accuracy TYPE:0.9660epoch: 16\n",
      "F1 (POS): 0.9409007319799518\n",
      " epoch 17: 147m 28s loss:0.4143 accuracy POS:0.8986 accuracy TYPE:0.9625epoch: 17\n",
      "F1 (POS): 0.9414416038654311\n",
      " epoch 18: 155m 39s loss:0.3947 accuracy POS:0.9069 accuracy TYPE:0.9655epoch: 18\n",
      "F1 (POS): 0.9413334294883352\n",
      " epoch 19: 163m 50s loss:0.4095 accuracy POS:0.9045 accuracy TYPE:0.9625epoch: 19\n",
      "F1 (POS): 0.9405040925972666\n",
      " epoch 20: 172m 4s loss:0.4171 accuracy POS:0.9005 accuracy TYPE:0.96351epoch: 20\n",
      "F1 (POS): 0.9418743013738146\n",
      " epoch 21: 180m 17s loss:0.4180 accuracy POS:0.9010 accuracy TYPE:0.9586epoch: 21\n",
      "F1 (POS): 0.9427396963905816\n",
      " epoch 22: 188m 30s loss:0.3668 accuracy POS:0.9069 accuracy TYPE:0.9689epoch: 22\n",
      "F1 (POS): 0.943280568276061\n",
      " epoch 23: 196m 43s loss:0.3595 accuracy POS:0.9143 accuracy TYPE:0.9675epoch: 23\n",
      "F1 (POS): 0.9423791151335954\n",
      " epoch 24: 204m 56s loss:0.3979 accuracy POS:0.9035 accuracy TYPE:0.9655epoch: 24\n",
      "F1 (POS): 0.9433166264017596\n",
      " epoch 25: 213m 10s loss:0.3642 accuracy POS:0.9094 accuracy TYPE:0.9670epoch: 25\n",
      "F1 (POS): 0.9442901957956226\n",
      " epoch 26: 221m 23s loss:0.4001 accuracy POS:0.9015 accuracy TYPE:0.9601epoch: 26\n",
      "F1 (POS): 0.9437493239101431\n",
      " epoch 27: 229m 35s loss:0.3703 accuracy POS:0.9050 accuracy TYPE:0.9675epoch: 27\n",
      "F1 (POS): 0.9434969170302527\n",
      " epoch 28: 237m 48s loss:0.3832 accuracy POS:0.9084 accuracy TYPE:0.9635epoch: 28\n",
      "F1 (POS): 0.9423791151335954\n",
      " epoch 29: 246m 1s loss:0.3699 accuracy POS:0.9079 accuracy TYPE:0.96758epoch: 29\n",
      "F1 (POS): 0.9442541376699239\n",
      " epoch 30: 254m 13s loss:0.3632 accuracy POS:0.9119 accuracy TYPE:0.9709epoch: 30\n",
      "F1 (POS): 0.9439296145386363\n",
      " epoch 31: 262m 24s loss:0.3585 accuracy POS:0.9124 accuracy TYPE:0.9704epoch: 31\n",
      "F1 (POS): 0.9447950095554033\n",
      " epoch 32: 270m 38s loss:0.3629 accuracy POS:0.9143 accuracy TYPE:0.9694epoch: 32\n",
      "F1 (POS): 0.9442901957956226\n",
      " epoch 33: 278m 50s loss:0.3349 accuracy POS:0.9197 accuracy TYPE:0.9734epoch: 33\n",
      "F1 (POS): 0.9441459632928281\n",
      " epoch 34: 287m 3s loss:0.3623 accuracy POS:0.9084 accuracy TYPE:0.96114epoch: 34\n",
      "F1 (POS): 0.9426675801391844\n",
      " epoch 35: 295m 16s loss:0.3620 accuracy POS:0.9109 accuracy TYPE:0.9704epoch: 35\n",
      "F1 (POS): 0.9444704864241157\n",
      " epoch 36: 303m 30s loss:0.3105 accuracy POS:0.9217 accuracy TYPE:0.9699epoch: 36\n",
      "F1 (POS): 0.9445786608012116\n",
      " epoch 37: 311m 43s loss:0.3367 accuracy POS:0.9207 accuracy TYPE:0.9734epoch: 37\n",
      "F1 (POS): 0.9441820214185267\n",
      " epoch 38: 319m 55s loss:0.2956 accuracy POS:0.9261 accuracy TYPE:0.9724epoch: 38\n",
      "F1 (POS): 0.9448310676811019\n",
      " epoch 39: 328m 8s loss:0.3584 accuracy POS:0.9045 accuracy TYPE:0.96659epoch: 39\n",
      "F1 (POS): 0.9442180795442253\n"
     ]
    }
   ],
   "source": [
    "trainer = TrainModel(LSTMTagger, orchid,3)\n",
    "trainer.train(40)\n"
   ]
  },
  {
   "cell_type": "code",
   "execution_count": 16,
   "metadata": {},
   "outputs": [],
   "source": [
    "filehandle = open('done_bilstm_bcad_clp_orchid.txt', 'a+')\n",
    "filehandle.write('seed3\\n')\n",
    "filehandle.close()"
   ]
  },
  {
   "cell_type": "code",
   "execution_count": null,
   "metadata": {},
   "outputs": [],
   "source": []
  }
 ],
 "metadata": {
  "kernelspec": {
   "display_name": "Python 3",
   "language": "python",
   "name": "python3"
  },
  "language_info": {
   "codemirror_mode": {
    "name": "ipython",
    "version": 3
   },
   "file_extension": ".py",
   "mimetype": "text/x-python",
   "name": "python",
   "nbconvert_exporter": "python",
   "pygments_lexer": "ipython3",
   "version": "3.7.3"
  }
 },
 "nbformat": 4,
 "nbformat_minor": 2
}
