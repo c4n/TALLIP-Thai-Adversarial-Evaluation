{
 "cells": [
  {
   "cell_type": "code",
   "execution_count": 1,
   "metadata": {},
   "outputs": [],
   "source": [
    "import torch\n",
    "import math"
   ]
  },
  {
   "cell_type": "code",
   "execution_count": 2,
   "metadata": {},
   "outputs": [],
   "source": [
    "%load_ext autoreload\n",
    "%autoreload 2"
   ]
  },
  {
   "cell_type": "code",
   "execution_count": 3,
   "metadata": {},
   "outputs": [],
   "source": [
    "import re"
   ]
  },
  {
   "cell_type": "code",
   "execution_count": 4,
   "metadata": {},
   "outputs": [
    {
     "name": "stdout",
     "output_type": "stream",
     "text": [
      "/home/datamind/can/BASIL/notebook\n"
     ]
    }
   ],
   "source": [
    "from pathlib import Path\n",
    "import os\n",
    "mypath = Path().absolute()\n",
    "print(mypath)"
   ]
  },
  {
   "cell_type": "code",
   "execution_count": 5,
   "metadata": {},
   "outputs": [],
   "source": [
    "os.chdir(\"/home/datamind/can/BASIL\")"
   ]
  },
  {
   "cell_type": "code",
   "execution_count": 6,
   "metadata": {},
   "outputs": [],
   "source": [
    "import sys\n",
    "sys.path.append(\"/home/datamind/can/BASIL\")"
   ]
  },
  {
   "cell_type": "code",
   "execution_count": 7,
   "metadata": {},
   "outputs": [],
   "source": [
    "import basil"
   ]
  },
  {
   "cell_type": "code",
   "execution_count": 8,
   "metadata": {
    "scrolled": true
   },
   "outputs": [
    {
     "data": {
      "text/plain": [
       "device(type='cuda', index=3)"
      ]
     },
     "execution_count": 8,
     "metadata": {},
     "output_type": "execute_result"
    }
   ],
   "source": [
    "%autoreload 2\n",
    "from basil.preprocessing.prep_orchid_corpus import ORCHID\n",
    "from basil.preprocessing.prep_pytorch import PytorchPrepWordLevel\n",
    "from basil.models.multitasks.elmo_lstm_orchid_pretrain import ORCHIDTagger\n",
    "from basil.evaluation.orchid_stress_test import OrchidStressEval\n",
    "from basil.select_device import device\n",
    "torch.device(device)"
   ]
  },
  {
   "cell_type": "code",
   "execution_count": 9,
   "metadata": {},
   "outputs": [
    {
     "name": "stdout",
     "output_type": "stream",
     "text": [
      "Preprocessing ORCHID corpus\n",
      "Done!\n"
     ]
    }
   ],
   "source": [
    "orchid  = ORCHID()"
   ]
  },
  {
   "cell_type": "code",
   "execution_count": 10,
   "metadata": {},
   "outputs": [],
   "source": [
    "from basil.evaluation.noise import NoiseGenerator\n",
    "from basil.preprocessing.prep_pytorch_ORCHID import PytorchPrepWordLevel\n",
    "prep_torch = PytorchPrepWordLevel(orchid.train_data, orchid.val_data, orchid.test_data)"
   ]
  },
  {
   "cell_type": "code",
   "execution_count": 11,
   "metadata": {},
   "outputs": [],
   "source": [
    "# noisy_data  = NoiseGenerator(best2010.test_data)"
   ]
  },
  {
   "cell_type": "code",
   "execution_count": 12,
   "metadata": {},
   "outputs": [],
   "source": [
    "# import pickle\n",
    "# pickle.dump( noisy_data, open( \"stress_best2010.p\", \"wb\" ) )"
   ]
  },
  {
   "cell_type": "code",
   "execution_count": 14,
   "metadata": {},
   "outputs": [
    {
     "name": "stdout",
     "output_type": "stream",
     "text": [
      "normal 0.9346580222600845\n",
      "10 0.9110039165357466\n",
      "20 0.890845927466643\n",
      "30 0.8705109198327174\n",
      "40 0.847609143008873\n",
      "50 0.8245746022614122\n",
      "60 0.802690682185294\n",
      "70 0.779766778040847\n",
      "80 0.7595866616511406\n",
      "90 0.7351138450645013\n",
      "100 0.7124775960878897\n"
     ]
    }
   ],
   "source": [
    "CHAR_EMBEDDING_DIM = 100\n",
    "WORD_EMBEDDING_DIM = 128\n",
    "HIDDEN_DIM = 128\n",
    "\n",
    "model = ORCHIDTagger(WORD_EMBEDDING_DIM,HIDDEN_DIM,\\\n",
    "                          len(prep_torch.word_to_index),\\\n",
    "                           len(prep_torch.pos_to_index),  len(prep_torch.type_to_index)).to(device)\n",
    "stress_eval  = OrchidStressEval(model, \"weights/model_BILSTM_elmo_ORCHID_seed1.p\",orchid,\"BiLSTM_ELMO_ORCHID-1\" )\n",
    "stress_eval.f1_summary(\"elmo\")\n"
   ]
  },
  {
   "cell_type": "code",
   "execution_count": 19,
   "metadata": {},
   "outputs": [
    {
     "name": "stdout",
     "output_type": "stream",
     "text": [
      "normal 0.9339942026420021\n",
      "10 0.9121545372070896\n",
      "20 0.8896289248334918\n",
      "30 0.8715509039010466\n",
      "40 0.8492244374128738\n",
      "50 0.8266766977186732\n",
      "60 0.8052353240546103\n",
      "70 0.7803863430177241\n",
      "80 0.7609806828491138\n",
      "90 0.7356670280795699\n",
      "100 0.7158409488195073\n"
     ]
    }
   ],
   "source": [
    "stress_eval  = OrchidStressEval(model, \"weights/model_BILSTM_elmo_ORCHID_seed2.p\",orchid,\"BiLSTM_ELMO_ORCHID-2\" )\n",
    "stress_eval.f1_summary(\"elmo\")\n"
   ]
  },
  {
   "cell_type": "code",
   "execution_count": 20,
   "metadata": {},
   "outputs": [
    {
     "name": "stdout",
     "output_type": "stream",
     "text": [
      "normal 0.9323567809173987\n",
      "10 0.9121987918482951\n",
      "20 0.8902263624897663\n",
      "30 0.8701568827030736\n",
      "40 0.8477419069324895\n",
      "50 0.8261456420242073\n",
      "60 0.8037749208948288\n",
      "70 0.7799880512468745\n",
      "80 0.7579934945677428\n",
      "90 0.7329011130042264\n",
      "100 0.7105525191954506\n"
     ]
    }
   ],
   "source": [
    "stress_eval  = OrchidStressEval(model, \"weights/model_BILSTM_elmo_ORCHID_seed3.p\",orchid,\"BiLSTM_ELMO_ORCHID-3\" )\n",
    "stress_eval.f1_summary(\"elmo\")\n"
   ]
  },
  {
   "cell_type": "code",
   "execution_count": 21,
   "metadata": {},
   "outputs": [
    {
     "name": "stdout",
     "output_type": "stream",
     "text": [
      "normal 0.9334852742681389\n",
      "10 0.9124864470161309\n",
      "20 0.8909123094284513\n",
      "30 0.8709755935653751\n",
      "40 0.8482950899475582\n",
      "50 0.8271413714513309\n",
      "60 0.8047706503219526\n",
      "70 0.7812935631624367\n",
      "80 0.7592547518420995\n",
      "90 0.7346270440112407\n",
      "100 0.7117473945079991\n"
     ]
    }
   ],
   "source": [
    "stress_eval  = OrchidStressEval(model, \"weights/model_BILSTM_elmo_ORCHID_seed4.p\",orchid,\"BiLSTM_ELMO_ORCHID-4\" )\n",
    "stress_eval.f1_summary(\"elmo\")\n"
   ]
  },
  {
   "cell_type": "code",
   "execution_count": 22,
   "metadata": {},
   "outputs": [
    {
     "name": "stdout",
     "output_type": "stream",
     "text": [
      "normal 0.9106498794061028\n",
      "10 0.8920186754585887\n",
      "20 0.8711304848095944\n",
      "30 0.8503086761224083\n",
      "40 0.8301949416945102\n",
      "50 0.8088199499922555\n",
      "60 0.7878211227402474\n",
      "70 0.7649857278782113\n",
      "80 0.7452924125417655\n",
      "90 0.7196025933219747\n",
      "100 0.7012369172216937\n"
     ]
    }
   ],
   "source": [
    "stress_eval  = OrchidStressEval(model, \"weights/model_BILSTM_elmo_ORCHID_seed5.p\",orchid,\"BiLSTM_ELMO_ORCHID-5\" )\n",
    "stress_eval.f1_summary(\"elmo\")\n"
   ]
  },
  {
   "cell_type": "code",
   "execution_count": null,
   "metadata": {},
   "outputs": [],
   "source": []
  }
 ],
 "metadata": {
  "kernelspec": {
   "display_name": "Python 3",
   "language": "python",
   "name": "python3"
  },
  "language_info": {
   "codemirror_mode": {
    "name": "ipython",
    "version": 3
   },
   "file_extension": ".py",
   "mimetype": "text/x-python",
   "name": "python",
   "nbconvert_exporter": "python",
   "pygments_lexer": "ipython3",
   "version": "3.7.3"
  }
 },
 "nbformat": 4,
 "nbformat_minor": 2
}
