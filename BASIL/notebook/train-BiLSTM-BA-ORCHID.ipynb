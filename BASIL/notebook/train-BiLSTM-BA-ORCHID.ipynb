{
 "cells": [
  {
   "cell_type": "code",
   "execution_count": 1,
   "metadata": {},
   "outputs": [
    {
     "name": "stdout",
     "output_type": "stream",
     "text": [
      "/home/datamind/can/BASIL\n"
     ]
    }
   ],
   "source": [
    "%load_ext autoreload\n",
    "%autoreload 2\n",
    "import torch\n",
    "import math\n",
    "from pathlib import Path\n",
    "import os\n",
    "os.chdir(\"/home/datamind/can/BASIL/\")\n",
    "mypath = Path().absolute()\n",
    "print(mypath)\n",
    "from basil.select_device import device"
   ]
  },
  {
   "cell_type": "code",
   "execution_count": 2,
   "metadata": {},
   "outputs": [
    {
     "name": "stdout",
     "output_type": "stream",
     "text": [
      "/home/datamind/can/BASIL\r\n"
     ]
    }
   ],
   "source": [
    "!pwd"
   ]
  },
  {
   "cell_type": "code",
   "execution_count": 3,
   "metadata": {},
   "outputs": [
    {
     "data": {
      "text/plain": [
       "device(type='cuda', index=1)"
      ]
     },
     "execution_count": 3,
     "metadata": {},
     "output_type": "execute_result"
    }
   ],
   "source": [
    "torch.device(device)"
   ]
  },
  {
   "cell_type": "code",
   "execution_count": 4,
   "metadata": {},
   "outputs": [
    {
     "name": "stdout",
     "output_type": "stream",
     "text": [
      "/home/datamind/can/BASIL\n"
     ]
    }
   ],
   "source": [
    "from pathlib import Path\n",
    "import os\n",
    "os.chdir(\"/home/datamind/can/BASIL/\")\n",
    "mypath = Path().absolute()\n",
    "print(mypath)"
   ]
  },
  {
   "cell_type": "code",
   "execution_count": 5,
   "metadata": {},
   "outputs": [],
   "source": [
    "affixes = r\"^การ|^ความ|^นัก|^ผู้|^ไอ้|กร$|^ที่\\w+|^อย่าง|^แบบ|^โดย|^น่า\""
   ]
  },
  {
   "cell_type": "code",
   "execution_count": 6,
   "metadata": {},
   "outputs": [],
   "source": [
    "import sys\n",
    "sys.path.append('/home/datamind/can/BASIL/')"
   ]
  },
  {
   "cell_type": "code",
   "execution_count": 7,
   "metadata": {},
   "outputs": [],
   "source": [
    "import basil"
   ]
  },
  {
   "cell_type": "code",
   "execution_count": 8,
   "metadata": {},
   "outputs": [],
   "source": [
    "from basil.select_device import device"
   ]
  },
  {
   "cell_type": "code",
   "execution_count": 9,
   "metadata": {},
   "outputs": [],
   "source": [
    "%autoreload 2\n",
    "from basil.preprocessing.prep_orchid_corpus import ORCHID\n",
    "from basil.preprocessing.prep_pytorch_ORCHID import PytorchPrepWordLevel\n",
    "from basil.models.multitasks.BiLSTM_BA import LSTMTagger\n",
    "from basil.training.train_BiLSTM_BA_ORCHID import TrainModel\n",
    "\n"
   ]
  },
  {
   "cell_type": "code",
   "execution_count": 10,
   "metadata": {},
   "outputs": [
    {
     "name": "stdout",
     "output_type": "stream",
     "text": [
      "Preprocessing ORCHID corpus\n",
      "Done!\n"
     ]
    }
   ],
   "source": [
    "orchid  = ORCHID()"
   ]
  },
  {
   "cell_type": "code",
   "execution_count": 11,
   "metadata": {},
   "outputs": [
    {
     "name": "stdout",
     "output_type": "stream",
     "text": [
      "Training\n",
      "Num of training text file: 132\n",
      " epoch 0: 5m 41s loss:1.1009 accuracy POS:0.7691 accuracy TYPE:0.9635epoch: 0\n",
      "F1 (POS): 0.7801896657411748\n",
      " epoch 1: 11m 36s loss:0.6400 accuracy POS:0.8592 accuracy TYPE:0.9773epoch: 1\n",
      "F1 (POS): 0.8660080049039051\n",
      " epoch 2: 17m 32s loss:0.4787 accuracy POS:0.8951 accuracy TYPE:0.9798epoch: 2\n",
      "F1 (POS): 0.9000829336891069\n",
      " epoch 3: 23m 27s loss:0.3948 accuracy POS:0.9089 accuracy TYPE:0.9817epoch: 3\n",
      "F1 (POS): 0.9157321602423105\n",
      " epoch 4: 29m 22s loss:0.3439 accuracy POS:0.9192 accuracy TYPE:0.9827epoch: 4\n",
      "F1 (POS): 0.9243861104099809\n",
      " epoch 5: 35m 17s loss:0.3134 accuracy POS:0.9212 accuracy TYPE:0.9822epoch: 5\n",
      "F1 (POS): 0.929290015504994\n",
      " epoch 6: 41m 12s loss:0.2907 accuracy POS:0.9266 accuracy TYPE:0.9842epoch: 6\n",
      "F1 (POS): 0.9321386074351855\n",
      " epoch 7: 47m 9s loss:0.2702 accuracy POS:0.9335 accuracy TYPE:0.98523epoch: 7\n",
      "F1 (POS): 0.9338333393430209\n",
      " epoch 8: 53m 3s loss:0.2533 accuracy POS:0.9370 accuracy TYPE:0.98520epoch: 8\n",
      "F1 (POS): 0.9357804781307467\n",
      " epoch 9: 58m 58s loss:0.2398 accuracy POS:0.9424 accuracy TYPE:0.9862epoch: 9\n",
      "F1 (POS): 0.9363213500162262\n",
      " epoch 10: 64m 54s loss:0.2269 accuracy POS:0.9453 accuracy TYPE:0.9872epoch: 10\n",
      "F1 (POS): 0.9369703962788014\n",
      " epoch 11: 70m 51s loss:0.2182 accuracy POS:0.9458 accuracy TYPE:0.9876epoch: 11\n",
      "F1 (POS): 0.9375112681642809\n",
      " epoch 12: 76m 46s loss:0.2073 accuracy POS:0.9483 accuracy TYPE:0.9876epoch: 12\n",
      "F1 (POS): 0.9380521400497602\n",
      " epoch 13: 82m 41s loss:0.1987 accuracy POS:0.9522 accuracy TYPE:0.9881epoch: 13\n",
      "F1 (POS): 0.9384487794324451\n",
      " epoch 14: 88m 36s loss:0.1936 accuracy POS:0.9498 accuracy TYPE:0.9896epoch: 14\n",
      "F1 (POS): 0.9381603144268561\n",
      " epoch 15: 94m 32s loss:0.1826 accuracy POS:0.9552 accuracy TYPE:0.9891epoch: 15\n",
      "F1 (POS): 0.9393141744492122\n",
      " epoch 16: 100m 28s loss:0.1734 accuracy POS:0.9562 accuracy TYPE:0.9911epoch: 16\n",
      "F1 (POS): 0.939422348826308\n",
      " epoch 17: 106m 25s loss:0.1642 accuracy POS:0.9621 accuracy TYPE:0.9926epoch: 17\n",
      "F1 (POS): 0.9390257094436231\n",
      " epoch 18: 112m 20s loss:0.1618 accuracy POS:0.9640 accuracy TYPE:0.9916epoch: 18\n",
      "F1 (POS): 0.9385930119352396\n",
      " epoch 19: 118m 15s loss:0.1519 accuracy POS:0.9660 accuracy TYPE:0.9926epoch: 19\n",
      "F1 (POS): 0.9389175350665272\n",
      " epoch 20: 124m 11s loss:0.1438 accuracy POS:0.9675 accuracy TYPE:0.9940epoch: 20\n",
      "F1 (POS): 0.9389535931922258\n",
      " epoch 21: 130m 6s loss:0.1387 accuracy POS:0.9680 accuracy TYPE:0.99452epoch: 21\n",
      "F1 (POS): 0.9393502325749108\n",
      " epoch 22: 135m 57s loss:0.1311 accuracy POS:0.9714 accuracy TYPE:0.9960epoch: 22\n",
      "F1 (POS): 0.9392060000721163\n",
      " epoch 23: 141m 48s loss:0.1270 accuracy POS:0.9694 accuracy TYPE:0.9960epoch: 23\n",
      "F1 (POS): 0.9390978256950204\n",
      " epoch 24: 147m 40s loss:0.1177 accuracy POS:0.9719 accuracy TYPE:0.9965epoch: 24\n",
      "F1 (POS): 0.9393862907006094\n",
      " epoch 25: 153m 31s loss:0.1187 accuracy POS:0.9709 accuracy TYPE:0.9960epoch: 25\n",
      "F1 (POS): 0.9390617675693217\n",
      " epoch 26: 159m 15s loss:0.1081 accuracy POS:0.9729 accuracy TYPE:0.9970epoch: 26\n",
      "F1 (POS): 0.93884541881513\n",
      " epoch 27: 165m 0s loss:0.0992 accuracy POS:0.9773 accuracy TYPE:0.99706epoch: 27\n",
      "F1 (POS): 0.9389175350665272\n",
      " epoch 28: 171m 6s loss:0.0934 accuracy POS:0.9773 accuracy TYPE:0.99701epoch: 28\n",
      "F1 (POS): 0.9380881981754589\n",
      " epoch 29: 176m 43s loss:0.0871 accuracy POS:0.9798 accuracy TYPE:0.9975epoch: 29\n",
      "F1 (POS): 0.9375833844156781\n",
      " epoch 30: 182m 21s loss:0.0813 accuracy POS:0.9808 accuracy TYPE:0.9975epoch: 30\n",
      "F1 (POS): 0.9386651281866368\n",
      " epoch 31: 188m 0s loss:0.0752 accuracy POS:0.9822 accuracy TYPE:0.99853epoch: 31\n",
      "F1 (POS): 0.9383045469296506\n",
      " epoch 32: 193m 39s loss:0.0710 accuracy POS:0.9842 accuracy TYPE:0.9990epoch: 32\n",
      "F1 (POS): 0.9377636750441712\n",
      " epoch 33: 199m 18s loss:0.0672 accuracy POS:0.9847 accuracy TYPE:0.9995epoch: 33\n",
      "F1 (POS): 0.9376194425413767\n",
      " epoch 34: 204m 56s loss:0.0613 accuracy POS:0.9872 accuracy TYPE:0.9995epoch: 34\n",
      "F1 (POS): 0.9362131756391303\n",
      " epoch 35: 210m 34s loss:0.0600 accuracy POS:0.9872 accuracy TYPE:0.9995epoch: 35\n",
      "F1 (POS): 0.9362492337648289\n",
      " epoch 36: 216m 14s loss:0.0539 accuracy POS:0.9891 accuracy TYPE:0.9990epoch: 36\n",
      "F1 (POS): 0.9366819312732124\n",
      " epoch 37: 221m 52s loss:0.0517 accuracy POS:0.9896 accuracy TYPE:0.9995epoch: 37\n",
      "F1 (POS): 0.9359968268849386\n",
      " epoch 38: 227m 32s loss:0.0479 accuracy POS:0.9896 accuracy TYPE:1.0975epoch: 38\n",
      "F1 (POS): 0.9347708506111853\n",
      " epoch 39: 233m 11s loss:0.0492 accuracy POS:0.9896 accuracy TYPE:1.0968epoch: 39\n",
      "F1 (POS): 0.9336169905888292\n"
     ]
    }
   ],
   "source": [
    "trainer = TrainModel(LSTMTagger, orchid,1)\n",
    "trainer.train(40)\n"
   ]
  },
  {
   "cell_type": "code",
   "execution_count": 12,
   "metadata": {},
   "outputs": [],
   "source": [
    "filehandle = open('done_bilstm_ba_orchid.txt', 'w')\n",
    "filehandle.write('seed1\\n')\n",
    "filehandle.close()"
   ]
  },
  {
   "cell_type": "code",
   "execution_count": 13,
   "metadata": {},
   "outputs": [
    {
     "name": "stdout",
     "output_type": "stream",
     "text": [
      "Training\n",
      "Num of training text file: 132\n",
      " epoch 0: 5m 25s loss:1.1064 accuracy POS:0.7800 accuracy TYPE:0.9576epoch: 0\n",
      "F1 (POS): 0.7864277214870372\n",
      " epoch 1: 11m 3s loss:0.6425 accuracy POS:0.8671 accuracy TYPE:0.97538epoch: 1\n",
      "F1 (POS): 0.8768254426134929\n",
      " epoch 2: 16m 42s loss:0.4936 accuracy POS:0.8863 accuracy TYPE:0.9793epoch: 2\n",
      "F1 (POS): 0.902282479356723\n",
      " epoch 3: 22m 23s loss:0.4137 accuracy POS:0.9025 accuracy TYPE:0.9822epoch: 3\n",
      "F1 (POS): 0.9169941946417626\n",
      " epoch 4: 28m 1s loss:0.3649 accuracy POS:0.9124 accuracy TYPE:0.98089epoch: 4\n",
      "F1 (POS): 0.9251072729239534\n",
      " epoch 5: 33m 40s loss:0.3339 accuracy POS:0.9158 accuracy TYPE:0.9803epoch: 5\n",
      "F1 (POS): 0.9287852017452133\n",
      " epoch 6: 39m 18s loss:0.3098 accuracy POS:0.9207 accuracy TYPE:0.9827epoch: 6\n",
      "F1 (POS): 0.9314535030469117\n",
      " epoch 7: 45m 26s loss:0.2932 accuracy POS:0.9222 accuracy TYPE:0.9822epoch: 7\n",
      "F1 (POS): 0.9350593156167742\n",
      " epoch 8: 51m 4s loss:0.2740 accuracy POS:0.9261 accuracy TYPE:0.98270epoch: 8\n",
      "F1 (POS): 0.9374030937871849\n",
      " epoch 9: 56m 45s loss:0.2560 accuracy POS:0.9291 accuracy TYPE:0.9837epoch: 9\n",
      "F1 (POS): 0.9390617675693217\n",
      " epoch 10: 62m 22s loss:0.2396 accuracy POS:0.9330 accuracy TYPE:0.9837epoch: 10\n",
      "F1 (POS): 0.9392060000721163\n",
      " epoch 11: 68m 2s loss:0.2259 accuracy POS:0.9379 accuracy TYPE:0.98477epoch: 11\n",
      "F1 (POS): 0.9403959182201709\n",
      " epoch 12: 73m 41s loss:0.2164 accuracy POS:0.9429 accuracy TYPE:0.9852epoch: 12\n",
      "F1 (POS): 0.9400353369631846\n",
      " epoch 13: 79m 20s loss:0.2032 accuracy POS:0.9478 accuracy TYPE:0.9862epoch: 13\n",
      "F1 (POS): 0.9405401507229654\n",
      " epoch 14: 84m 58s loss:0.1950 accuracy POS:0.9507 accuracy TYPE:0.9857epoch: 14\n",
      "F1 (POS): 0.9408646738542531\n",
      " epoch 15: 90m 37s loss:0.1847 accuracy POS:0.9547 accuracy TYPE:0.9876epoch: 15\n",
      "F1 (POS): 0.9413694876140338\n",
      " epoch 16: 96m 16s loss:0.1769 accuracy POS:0.9576 accuracy TYPE:0.9872epoch: 16\n",
      "F1 (POS): 0.9425594057620885\n",
      " epoch 17: 101m 54s loss:0.1670 accuracy POS:0.9581 accuracy TYPE:0.9891epoch: 17\n",
      "F1 (POS): 0.9415137201168283\n",
      " epoch 18: 107m 33s loss:0.1609 accuracy POS:0.9586 accuracy TYPE:0.9901epoch: 18\n",
      "F1 (POS): 0.9427396963905816\n",
      " epoch 19: 113m 11s loss:0.1509 accuracy POS:0.9606 accuracy TYPE:0.9921epoch: 19\n",
      "F1 (POS): 0.9423069988821982\n",
      " epoch 20: 118m 50s loss:0.1428 accuracy POS:0.9630 accuracy TYPE:0.9936epoch: 20\n",
      "F1 (POS): 0.9423430570078968\n",
      " epoch 21: 124m 27s loss:0.1341 accuracy POS:0.9635 accuracy TYPE:0.9940epoch: 21\n",
      "F1 (POS): 0.9430281613961706\n",
      " epoch 22: 130m 5s loss:0.1255 accuracy POS:0.9665 accuracy TYPE:0.99500epoch: 22\n",
      "F1 (POS): 0.9422709407564995\n",
      " epoch 23: 135m 44s loss:0.1234 accuracy POS:0.9660 accuracy TYPE:0.9940epoch: 23\n",
      "F1 (POS): 0.9430281613961706\n",
      " epoch 24: 141m 24s loss:0.1119 accuracy POS:0.9680 accuracy TYPE:0.9965epoch: 24\n",
      "F1 (POS): 0.943280568276061\n",
      " epoch 25: 147m 4s loss:0.1060 accuracy POS:0.9719 accuracy TYPE:0.99705epoch: 25\n",
      "F1 (POS): 0.9434248007788555\n",
      " epoch 26: 152m 43s loss:0.0985 accuracy POS:0.9753 accuracy TYPE:0.9970epoch: 26\n",
      "F1 (POS): 0.9427396963905816\n",
      " epoch 27: 158m 23s loss:0.0932 accuracy POS:0.9768 accuracy TYPE:0.9970epoch: 27\n",
      "F1 (POS): 0.9427396963905816\n",
      " epoch 28: 164m 2s loss:0.0849 accuracy POS:0.9808 accuracy TYPE:0.99702epoch: 28\n",
      "F1 (POS): 0.9421627663794035\n",
      " epoch 29: 169m 40s loss:0.0780 accuracy POS:0.9827 accuracy TYPE:0.9975epoch: 29\n",
      "F1 (POS): 0.9424512313849926\n",
      " epoch 30: 175m 20s loss:0.0727 accuracy POS:0.9832 accuracy TYPE:0.9980epoch: 30\n",
      "F1 (POS): 0.941261313236938\n",
      " epoch 31: 180m 59s loss:0.0682 accuracy POS:0.9842 accuracy TYPE:0.9980epoch: 31\n",
      "F1 (POS): 0.9408646738542531\n",
      " epoch 32: 186m 38s loss:0.0648 accuracy POS:0.9862 accuracy TYPE:0.9985epoch: 32\n",
      "F1 (POS): 0.9403959182201709\n",
      " epoch 33: 192m 18s loss:0.0601 accuracy POS:0.9891 accuracy TYPE:0.9985epoch: 33\n",
      "F1 (POS): 0.940287743843075\n",
      " epoch 34: 197m 58s loss:0.0538 accuracy POS:0.9886 accuracy TYPE:0.9990epoch: 34\n",
      "F1 (POS): 0.9410449644827462\n",
      " epoch 35: 203m 36s loss:0.0513 accuracy POS:0.9896 accuracy TYPE:0.9995epoch: 35\n",
      "F1 (POS): 0.9410449644827462\n",
      " epoch 36: 209m 15s loss:0.0512 accuracy POS:0.9896 accuracy TYPE:0.9995epoch: 36\n",
      "F1 (POS): 0.9401074532145819\n",
      " epoch 37: 214m 52s loss:0.0494 accuracy POS:0.9911 accuracy TYPE:0.9990epoch: 37\n",
      "F1 (POS): 0.9402516857173764\n",
      " epoch 38: 220m 31s loss:0.1313 accuracy POS:0.9665 accuracy TYPE:0.9911epoch: 38\n",
      "F1 (POS): 0.93596076875924\n",
      " epoch 39: 226m 10s loss:0.0888 accuracy POS:0.9778 accuracy TYPE:0.9950epoch: 39\n",
      "F1 (POS): 0.9376555006670754\n"
     ]
    }
   ],
   "source": [
    "trainer = TrainModel(LSTMTagger, orchid,2)\n",
    "trainer.train(40)\n"
   ]
  },
  {
   "cell_type": "code",
   "execution_count": 14,
   "metadata": {},
   "outputs": [],
   "source": [
    "filehandle = open('done_bilstm_ba_orchid.txt', 'a+')\n",
    "filehandle.write('seed2\\n')\n",
    "filehandle.close()"
   ]
  },
  {
   "cell_type": "code",
   "execution_count": 15,
   "metadata": {},
   "outputs": [
    {
     "name": "stdout",
     "output_type": "stream",
     "text": [
      "Training\n",
      "Num of training text file: 132\n",
      " epoch 0: 5m 26s loss:1.1372 accuracy POS:0.7721 accuracy TYPE:0.9517epoch: 0\n",
      "F1 (POS): 0.7813435257635308\n",
      " epoch 1: 11m 5s loss:0.6793 accuracy POS:0.8528 accuracy TYPE:0.97838epoch: 1\n",
      "F1 (POS): 0.8671979230519598\n",
      " epoch 2: 16m 45s loss:0.5109 accuracy POS:0.8868 accuracy TYPE:0.9812epoch: 2\n",
      "F1 (POS): 0.9019218980997368\n",
      " epoch 3: 22m 24s loss:0.4210 accuracy POS:0.9010 accuracy TYPE:0.9827epoch: 3\n",
      "F1 (POS): 0.9153715789853244\n",
      " epoch 4: 28m 2s loss:0.3718 accuracy POS:0.9119 accuracy TYPE:0.98425epoch: 4\n",
      "F1 (POS): 0.9226913785021454\n",
      " epoch 5: 33m 40s loss:0.3372 accuracy POS:0.9207 accuracy TYPE:0.9852epoch: 5\n",
      "F1 (POS): 0.9279198067284462\n",
      " epoch 6: 39m 20s loss:0.3059 accuracy POS:0.9276 accuracy TYPE:0.9837epoch: 6\n",
      "F1 (POS): 0.9312371542927199\n",
      " epoch 7: 44m 58s loss:0.2841 accuracy POS:0.9301 accuracy TYPE:0.9847epoch: 7\n",
      "F1 (POS): 0.9335088162117333\n",
      " epoch 8: 50m 36s loss:0.2670 accuracy POS:0.9335 accuracy TYPE:0.9852epoch: 8\n",
      "F1 (POS): 0.9350593156167742\n",
      " epoch 9: 56m 14s loss:0.2549 accuracy POS:0.9375 accuracy TYPE:0.9867epoch: 9\n",
      "F1 (POS): 0.9356723037536508\n",
      " epoch 10: 61m 53s loss:0.2423 accuracy POS:0.9414 accuracy TYPE:0.9862epoch: 10\n",
      "F1 (POS): 0.9374752100385821\n",
      " epoch 11: 67m 32s loss:0.2276 accuracy POS:0.9434 accuracy TYPE:0.9862epoch: 11\n",
      "F1 (POS): 0.9379079075469657\n",
      " epoch 12: 73m 11s loss:0.2178 accuracy POS:0.9458 accuracy TYPE:0.9872epoch: 12\n",
      "F1 (POS): 0.9388814769408286\n",
      " epoch 13: 78m 52s loss:0.2086 accuracy POS:0.9468 accuracy TYPE:0.9867epoch: 13\n",
      "F1 (POS): 0.9386290700609382\n",
      " epoch 14: 84m 32s loss:0.1984 accuracy POS:0.9468 accuracy TYPE:0.9872epoch: 14\n",
      "F1 (POS): 0.9384487794324451\n",
      " epoch 15: 90m 11s loss:0.1877 accuracy POS:0.9478 accuracy TYPE:0.9896epoch: 15\n",
      "F1 (POS): 0.9392060000721163\n",
      " epoch 16: 95m 50s loss:0.1798 accuracy POS:0.9507 accuracy TYPE:0.9906epoch: 16\n",
      "F1 (POS): 0.9401435113402805\n",
      " epoch 17: 101m 29s loss:0.1705 accuracy POS:0.9517 accuracy TYPE:0.9906epoch: 17\n",
      "F1 (POS): 0.9403238019687736\n",
      " epoch 18: 107m 8s loss:0.1610 accuracy POS:0.9566 accuracy TYPE:0.99111epoch: 18\n",
      "F1 (POS): 0.94068438322576\n",
      " epoch 19: 112m 47s loss:0.1536 accuracy POS:0.9581 accuracy TYPE:0.9906epoch: 19\n",
      "F1 (POS): 0.9401435113402805\n",
      " epoch 20: 118m 26s loss:0.1424 accuracy POS:0.9625 accuracy TYPE:0.9921epoch: 20\n",
      "F1 (POS): 0.9395665813291024\n",
      " epoch 21: 124m 5s loss:0.1364 accuracy POS:0.9640 accuracy TYPE:0.99210epoch: 21\n",
      "F1 (POS): 0.9405401507229654\n",
      " epoch 22: 129m 44s loss:0.1307 accuracy POS:0.9655 accuracy TYPE:0.9936epoch: 22\n",
      "F1 (POS): 0.9401795694659791\n",
      " epoch 23: 135m 23s loss:0.1212 accuracy POS:0.9680 accuracy TYPE:0.9955epoch: 23\n",
      "F1 (POS): 0.9406483251000612\n",
      " epoch 24: 141m 2s loss:0.1148 accuracy POS:0.9709 accuracy TYPE:0.99652epoch: 24\n",
      "F1 (POS): 0.9410810226084448\n",
      " epoch 25: 146m 42s loss:0.1096 accuracy POS:0.9709 accuracy TYPE:0.9960epoch: 25\n",
      "F1 (POS): 0.9408646738542531\n",
      " epoch 26: 152m 21s loss:0.1044 accuracy POS:0.9719 accuracy TYPE:0.9965epoch: 26\n",
      "F1 (POS): 0.9398550463346915\n",
      " epoch 27: 158m 0s loss:0.1004 accuracy POS:0.9734 accuracy TYPE:0.99652epoch: 27\n",
      "F1 (POS): 0.9401795694659791\n",
      " epoch 28: 163m 39s loss:0.0928 accuracy POS:0.9763 accuracy TYPE:0.9980epoch: 28\n",
      "F1 (POS): 0.9400713950888833\n",
      " epoch 29: 169m 17s loss:0.0870 accuracy POS:0.9763 accuracy TYPE:0.9975epoch: 29\n",
      "F1 (POS): 0.9401074532145819\n",
      " epoch 30: 174m 55s loss:0.0806 accuracy POS:0.9793 accuracy TYPE:0.9985epoch: 30\n",
      "F1 (POS): 0.9398189882089929\n",
      " epoch 31: 180m 34s loss:0.0778 accuracy POS:0.9827 accuracy TYPE:0.9990epoch: 31\n",
      "F1 (POS): 0.9395305232034039\n",
      " epoch 32: 186m 12s loss:0.0712 accuracy POS:0.9832 accuracy TYPE:0.9990epoch: 32\n",
      "F1 (POS): 0.939710813831897\n",
      " epoch 33: 191m 50s loss:0.0678 accuracy POS:0.9852 accuracy TYPE:0.9995epoch: 33\n",
      "F1 (POS): 0.9394944650777053\n",
      " epoch 34: 197m 29s loss:0.0616 accuracy POS:0.9867 accuracy TYPE:0.9995epoch: 34\n",
      "F1 (POS): 0.9387011863123355\n",
      " epoch 35: 203m 8s loss:0.0576 accuracy POS:0.9886 accuracy TYPE:0.99955epoch: 35\n",
      "F1 (POS): 0.9393862907006094\n",
      " epoch 36: 208m 47s loss:0.0539 accuracy POS:0.9881 accuracy TYPE:0.9995epoch: 36\n",
      "F1 (POS): 0.9385208956838423\n",
      " epoch 37: 214m 27s loss:0.0488 accuracy POS:0.9891 accuracy TYPE:0.9995epoch: 37\n",
      "F1 (POS): 0.9387011863123355\n",
      " epoch 38: 220m 5s loss:0.0503 accuracy POS:0.9891 accuracy TYPE:1.00995epoch: 38\n",
      "F1 (POS): 0.9382324306782533\n",
      " epoch 39: 225m 44s loss:0.0429 accuracy POS:0.9931 accuracy TYPE:0.9990epoch: 39\n",
      "F1 (POS): 0.937691558792774\n"
     ]
    }
   ],
   "source": [
    "trainer = TrainModel(LSTMTagger, orchid,3)\n",
    "trainer.train(40)\n"
   ]
  },
  {
   "cell_type": "code",
   "execution_count": 16,
   "metadata": {},
   "outputs": [],
   "source": [
    "filehandle = open('done_bilstm_ba_orchid.txt', 'a+')\n",
    "filehandle.write('seed3\\n')\n",
    "filehandle.close()"
   ]
  },
  {
   "cell_type": "code",
   "execution_count": null,
   "metadata": {},
   "outputs": [],
   "source": []
  }
 ],
 "metadata": {
  "kernelspec": {
   "display_name": "Python 3",
   "language": "python",
   "name": "python3"
  },
  "language_info": {
   "codemirror_mode": {
    "name": "ipython",
    "version": 3
   },
   "file_extension": ".py",
   "mimetype": "text/x-python",
   "name": "python",
   "nbconvert_exporter": "python",
   "pygments_lexer": "ipython3",
   "version": "3.7.3"
  }
 },
 "nbformat": 4,
 "nbformat_minor": 2
}
