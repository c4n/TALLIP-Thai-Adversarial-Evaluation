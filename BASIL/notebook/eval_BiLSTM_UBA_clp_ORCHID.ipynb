{
 "cells": [
  {
   "cell_type": "code",
   "execution_count": 1,
   "metadata": {},
   "outputs": [],
   "source": [
    "import torch\n",
    "import math"
   ]
  },
  {
   "cell_type": "code",
   "execution_count": 2,
   "metadata": {},
   "outputs": [],
   "source": [
    "%load_ext autoreload\n",
    "%autoreload 2"
   ]
  },
  {
   "cell_type": "code",
   "execution_count": 3,
   "metadata": {},
   "outputs": [],
   "source": [
    "import re"
   ]
  },
  {
   "cell_type": "code",
   "execution_count": 4,
   "metadata": {},
   "outputs": [
    {
     "name": "stdout",
     "output_type": "stream",
     "text": [
      "/home/datamind/can/BASIL/notebook\n"
     ]
    }
   ],
   "source": [
    "from pathlib import Path\n",
    "import os\n",
    "mypath = Path().absolute()\n",
    "print(mypath)"
   ]
  },
  {
   "cell_type": "code",
   "execution_count": 5,
   "metadata": {},
   "outputs": [],
   "source": [
    "os.chdir(\"/home/datamind/can/BASIL\")"
   ]
  },
  {
   "cell_type": "code",
   "execution_count": 6,
   "metadata": {},
   "outputs": [],
   "source": [
    "import sys\n",
    "sys.path.append(\"/home/datamind/can/BASIL\")"
   ]
  },
  {
   "cell_type": "code",
   "execution_count": 7,
   "metadata": {},
   "outputs": [],
   "source": [
    "import basil"
   ]
  },
  {
   "cell_type": "code",
   "execution_count": 8,
   "metadata": {
    "scrolled": true
   },
   "outputs": [
    {
     "data": {
      "text/plain": [
       "device(type='cuda', index=1)"
      ]
     },
     "execution_count": 8,
     "metadata": {},
     "output_type": "execute_result"
    }
   ],
   "source": [
    "%autoreload 2\n",
    "from basil.preprocessing.prep_orchid_corpus import ORCHID\n",
    "from basil.preprocessing.prep_pytorch import PytorchPrepWordLevel\n",
    "from basil.models.multitasks.BiLSTM_BA import LSTMTagger\n",
    "from basil.evaluation.orchid_stress_test import OrchidStressEval\n",
    "from basil.select_device import device\n",
    "torch.device(device)"
   ]
  },
  {
   "cell_type": "code",
   "execution_count": 9,
   "metadata": {},
   "outputs": [
    {
     "name": "stdout",
     "output_type": "stream",
     "text": [
      "Preprocessing ORCHID corpus\n",
      "Done!\n"
     ]
    }
   ],
   "source": [
    "orchid  = ORCHID()"
   ]
  },
  {
   "cell_type": "code",
   "execution_count": 10,
   "metadata": {},
   "outputs": [],
   "source": [
    "from basil.evaluation.noise import NoiseGenerator\n",
    "from basil.preprocessing.prep_pytorch_ORCHID import PytorchPrepWordLevel\n",
    "prep_torch = PytorchPrepWordLevel(orchid.train_data, orchid.val_data, orchid.test_data)"
   ]
  },
  {
   "cell_type": "code",
   "execution_count": 11,
   "metadata": {},
   "outputs": [],
   "source": [
    "# noisy_data  = NoiseGenerator(best2010.test_data)"
   ]
  },
  {
   "cell_type": "code",
   "execution_count": 12,
   "metadata": {},
   "outputs": [],
   "source": [
    "# import pickle\n",
    "# pickle.dump( noisy_data, open( \"stress_best2010.p\", \"wb\" ) )"
   ]
  },
  {
   "cell_type": "code",
   "execution_count": 11,
   "metadata": {},
   "outputs": [
    {
     "name": "stdout",
     "output_type": "stream",
     "text": [
      "normal 0.9490407806518709\n",
      "10 0.9263381497134512\n",
      "20 0.9015998052795787\n",
      "30 0.8800256676918992\n",
      "40 0.851923970526409\n",
      "50 0.8275396632221804\n",
      "60 0.8025579182616777\n",
      "70 0.7732170911424335\n",
      "80 0.7457128316332176\n",
      "90 0.7170579514526586\n",
      "100 0.6861682118912221\n"
     ]
    }
   ],
   "source": [
    "CHAR_EMBEDDING_DIM = 100\n",
    "WORD_EMBEDDING_DIM = 128\n",
    "HIDDEN_DIM = 128\n",
    "\n",
    "model = LSTMTagger(CHAR_EMBEDDING_DIM,WORD_EMBEDDING_DIM,HIDDEN_DIM,\\\n",
    "                          len(prep_torch.char_to_index),len(prep_torch.word_to_index),\\\n",
    "                           len(prep_torch.pos_to_index),  len(prep_torch.type_to_index)).to(device)\n",
    "stress_eval  = OrchidStressEval(model, \"weights/model_BILSTM_U_BA_clp_orchid_seed1.p\",orchid,\"BiLSTM_UBA_clp_ORCHID-1\" )\n",
    "stress_eval.f1_summary(\"char\")\n"
   ]
  },
  {
   "cell_type": "code",
   "execution_count": 12,
   "metadata": {},
   "outputs": [
    {
     "name": "stdout",
     "output_type": "stream",
     "text": [
      "normal 0.9501028920408028\n",
      "10 0.926360277034054\n",
      "20 0.9024627707830859\n",
      "30 0.8787422830969398\n",
      "40 0.851304405549532\n",
      "50 0.8237558913991104\n",
      "60 0.7987077644767995\n",
      "70 0.765605292855088\n",
      "80 0.7351359723851038\n",
      "90 0.70313986679353\n",
      "100 0.6690195384240922\n"
     ]
    }
   ],
   "source": [
    "stress_eval  = OrchidStressEval(model, \"weights/model_BILSTM_U_BA_clp_orchid_seed2.p\",orchid,\"BiLSTM_UBA_clp_ORCHID-2\" )\n",
    "stress_eval.f1_summary(\"char\")"
   ]
  },
  {
   "cell_type": "code",
   "execution_count": 11,
   "metadata": {},
   "outputs": [
    {
     "name": "stdout",
     "output_type": "stream",
     "text": [
      "normal 0.9476910140951033\n",
      "10 0.9255858208129577\n",
      "20 0.9048082667669772\n",
      "30 0.8821941451109685\n",
      "40 0.8573230367534795\n",
      "50 0.8289336844201536\n",
      "60 0.8021374991702255\n",
      "70 0.7674418604651162\n",
      "80 0.7390967627729959\n",
      "90 0.7058172725864625\n",
      "100 0.6754807160400947\n"
     ]
    }
   ],
   "source": [
    "CHAR_EMBEDDING_DIM = 100\n",
    "WORD_EMBEDDING_DIM = 128\n",
    "HIDDEN_DIM = 128\n",
    "\n",
    "model = LSTMTagger(CHAR_EMBEDDING_DIM,WORD_EMBEDDING_DIM,HIDDEN_DIM,\\\n",
    "                          len(prep_torch.char_to_index),len(prep_torch.word_to_index),\\\n",
    "                           len(prep_torch.pos_to_index),  len(prep_torch.type_to_index)).to(device)\n",
    "stress_eval  = OrchidStressEval(model, \"weights/model_BILSTM_U_BA_clp_orchid_seed3.p\",orchid,\"BiLSTM_UBA_clp_ORCHID-3\" )\n",
    "stress_eval.f1_summary(\"char\")"
   ]
  },
  {
   "cell_type": "code",
   "execution_count": null,
   "metadata": {},
   "outputs": [],
   "source": []
  }
 ],
 "metadata": {
  "kernelspec": {
   "display_name": "Python 3",
   "language": "python",
   "name": "python3"
  },
  "language_info": {
   "codemirror_mode": {
    "name": "ipython",
    "version": 3
   },
   "file_extension": ".py",
   "mimetype": "text/x-python",
   "name": "python",
   "nbconvert_exporter": "python",
   "pygments_lexer": "ipython3",
   "version": "3.7.3"
  }
 },
 "nbformat": 4,
 "nbformat_minor": 2
}
