{
 "cells": [
  {
   "cell_type": "code",
   "execution_count": 1,
   "metadata": {},
   "outputs": [],
   "source": [
    "import torch\n",
    "import math"
   ]
  },
  {
   "cell_type": "code",
   "execution_count": 2,
   "metadata": {},
   "outputs": [],
   "source": [
    "%load_ext autoreload\n",
    "%autoreload 2"
   ]
  },
  {
   "cell_type": "code",
   "execution_count": 3,
   "metadata": {},
   "outputs": [],
   "source": [
    "import re"
   ]
  },
  {
   "cell_type": "code",
   "execution_count": 4,
   "metadata": {},
   "outputs": [
    {
     "name": "stdout",
     "output_type": "stream",
     "text": [
      "/home/datamind/can/BASIL/notebook\n"
     ]
    }
   ],
   "source": [
    "from pathlib import Path\n",
    "import os\n",
    "mypath = Path().absolute()\n",
    "print(mypath)"
   ]
  },
  {
   "cell_type": "code",
   "execution_count": 5,
   "metadata": {},
   "outputs": [],
   "source": [
    "os.chdir(\"/home/datamind/can/BASIL\")"
   ]
  },
  {
   "cell_type": "code",
   "execution_count": 6,
   "metadata": {},
   "outputs": [],
   "source": [
    "import sys\n",
    "sys.path.append(\"/home/datamind/can/BASIL\")"
   ]
  },
  {
   "cell_type": "code",
   "execution_count": 7,
   "metadata": {},
   "outputs": [],
   "source": [
    "import basil"
   ]
  },
  {
   "cell_type": "code",
   "execution_count": 8,
   "metadata": {
    "scrolled": true
   },
   "outputs": [
    {
     "data": {
      "text/plain": [
       "device(type='cuda', index=0)"
      ]
     },
     "execution_count": 8,
     "metadata": {},
     "output_type": "execute_result"
    }
   ],
   "source": [
    "%autoreload 2\n",
    "from basil.preprocessing.prep_orchid_corpus import ORCHID\n",
    "from basil.preprocessing.prep_pytorch import PytorchPrepWordLevel\n",
    "from basil.models.multitasks.wordlvlORCHID import ORCHIDTagger\n",
    "from basil.evaluation.orchid_stress_test import OrchidStressEval\n",
    "from basil.select_device import device\n",
    "torch.device(device)"
   ]
  },
  {
   "cell_type": "code",
   "execution_count": 9,
   "metadata": {},
   "outputs": [
    {
     "name": "stdout",
     "output_type": "stream",
     "text": [
      "Preprocessing ORCHID corpus\n",
      "Done!\n"
     ]
    }
   ],
   "source": [
    "orchid  = ORCHID()"
   ]
  },
  {
   "cell_type": "code",
   "execution_count": 10,
   "metadata": {},
   "outputs": [],
   "source": [
    "from basil.evaluation.noise import NoiseGenerator\n",
    "from basil.preprocessing.prep_pytorch_ORCHID import PytorchPrepWordLevel\n",
    "prep_torch = PytorchPrepWordLevel(orchid.train_data, orchid.val_data, orchid.test_data)"
   ]
  },
  {
   "cell_type": "code",
   "execution_count": 11,
   "metadata": {},
   "outputs": [],
   "source": [
    "# noisy_data  = NoiseGenerator(best2010.test_data)"
   ]
  },
  {
   "cell_type": "code",
   "execution_count": 12,
   "metadata": {},
   "outputs": [],
   "source": [
    "# import pickle\n",
    "# pickle.dump( noisy_data, open( \"stress_best2010.p\", \"wb\" ) )"
   ]
  },
  {
   "cell_type": "code",
   "execution_count": 13,
   "metadata": {},
   "outputs": [
    {
     "name": "stdout",
     "output_type": "stream",
     "text": [
      "normal 0.9346358949394817\n",
      "10 0.9046533755227579\n",
      "20 0.8730334343814307\n",
      "30 0.8378952492642666\n",
      "40 0.8001460403159781\n",
      "50 0.7610691921315248\n",
      "60 0.718938773703892\n",
      "70 0.6697718673245857\n",
      "80 0.6215343084105945\n",
      "90 0.5704644524594517\n",
      "100 0.5179563206691302\n"
     ]
    }
   ],
   "source": [
    "CHAR_EMBEDDING_DIM = 100\n",
    "WORD_EMBEDDING_DIM = 128\n",
    "HIDDEN_DIM = 128\n",
    "\n",
    "model = ORCHIDTagger(WORD_EMBEDDING_DIM,HIDDEN_DIM,\\\n",
    "                          len(prep_torch.word_to_index),\\\n",
    "                           len(prep_torch.pos_to_index),  len(prep_torch.type_to_index)).to(device)\n",
    "stress_eval  = OrchidStressEval(model, \"weights/model_BILSTM_U_orchid_seed1.p\",orchid,\"BiLSTM_U_ORCHID-1\" )\n",
    "stress_eval.f1_summary(\"word\")\n"
   ]
  },
  {
   "cell_type": "code",
   "execution_count": 14,
   "metadata": {},
   "outputs": [
    {
     "name": "stdout",
     "output_type": "stream",
     "text": [
      "normal 0.9392162503042507\n",
      "10 0.9099639324674175\n",
      "20 0.876618060319076\n",
      "30 0.8454406655898037\n",
      "40 0.8070718916646383\n",
      "50 0.7679729161595822\n",
      "60 0.7250901688314562\n",
      "70 0.6768747372380678\n",
      "80 0.6291239793773372\n",
      "90 0.576859248113646\n",
      "100 0.5163631535857323\n"
     ]
    }
   ],
   "source": [
    "stress_eval  = OrchidStressEval(model, \"weights/model_BILSTM_U_orchid_seed2.p\",orchid,\"BiLSTM_U_ORCHID-2\" )\n",
    "stress_eval.f1_summary(\"word\")"
   ]
  },
  {
   "cell_type": "code",
   "execution_count": 15,
   "metadata": {},
   "outputs": [
    {
     "name": "stdout",
     "output_type": "stream",
     "text": [
      "normal 0.9365388445113181\n",
      "10 0.9079060916513619\n",
      "20 0.8764189144336513\n",
      "30 0.8438032438652003\n",
      "40 0.8068727457792136\n",
      "50 0.7676188790299383\n",
      "60 0.7268603544796759\n",
      "70 0.6801717080078773\n",
      "80 0.6342353904365721\n",
      "90 0.581417476157812\n",
      "100 0.529130617573518\n"
     ]
    }
   ],
   "source": [
    "stress_eval  = OrchidStressEval(model, \"weights/model_BILSTM_U_orchid_seed3.p\",orchid,\"BiLSTM_U_ORCHID-3\" )\n",
    "stress_eval.f1_summary(\"word\")"
   ]
  }
 ],
 "metadata": {
  "kernelspec": {
   "display_name": "Python 3",
   "language": "python",
   "name": "python3"
  },
  "language_info": {
   "codemirror_mode": {
    "name": "ipython",
    "version": 3
   },
   "file_extension": ".py",
   "mimetype": "text/x-python",
   "name": "python",
   "nbconvert_exporter": "python",
   "pygments_lexer": "ipython3",
   "version": "3.7.3"
  }
 },
 "nbformat": 4,
 "nbformat_minor": 2
}
