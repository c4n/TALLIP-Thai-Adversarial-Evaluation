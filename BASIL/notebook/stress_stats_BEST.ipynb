{
 "cells": [
  {
   "cell_type": "code",
   "execution_count": 31,
   "metadata": {},
   "outputs": [],
   "source": [
    "import torch\n",
    "import math"
   ]
  },
  {
   "cell_type": "code",
   "execution_count": 32,
   "metadata": {},
   "outputs": [
    {
     "name": "stdout",
     "output_type": "stream",
     "text": [
      "The autoreload extension is already loaded. To reload it, use:\n",
      "  %reload_ext autoreload\n"
     ]
    }
   ],
   "source": [
    "%load_ext autoreload\n",
    "%autoreload 2"
   ]
  },
  {
   "cell_type": "code",
   "execution_count": 33,
   "metadata": {},
   "outputs": [],
   "source": [
    "import re"
   ]
  },
  {
   "cell_type": "code",
   "execution_count": 34,
   "metadata": {},
   "outputs": [
    {
     "name": "stdout",
     "output_type": "stream",
     "text": [
      "/home/datamind/can/BASIL\n"
     ]
    }
   ],
   "source": [
    "from pathlib import Path\n",
    "import os\n",
    "mypath = Path().absolute()\n",
    "print(mypath)"
   ]
  },
  {
   "cell_type": "code",
   "execution_count": 35,
   "metadata": {},
   "outputs": [],
   "source": [
    "os.chdir(\"/home/datamind/can/BASIL/\")"
   ]
  },
  {
   "cell_type": "code",
   "execution_count": 36,
   "metadata": {},
   "outputs": [],
   "source": [
    "import sys\n",
    "sys.path.append('/home/datamind/can/BASIL/')"
   ]
  },
  {
   "cell_type": "code",
   "execution_count": 37,
   "metadata": {},
   "outputs": [],
   "source": [
    "import basil"
   ]
  },
  {
   "cell_type": "code",
   "execution_count": 38,
   "metadata": {
    "scrolled": true
   },
   "outputs": [
    {
     "data": {
      "text/plain": [
       "device(type='cuda', index=1)"
      ]
     },
     "execution_count": 38,
     "metadata": {},
     "output_type": "execute_result"
    }
   ],
   "source": [
    "%autoreload 2\n",
    "from basil.preprocessing.prep_best_corpus import Best2010NECTEC\n",
    "from basil.preprocessing.prep_pytorch import PytorchPrepWordLevel\n",
    "from basil.models.multitasks.wordlvl_lstm import LSTMTagger\n",
    "from basil.evaluation.stress_test import StressEval\n",
    "from basil.select_device import device\n",
    "torch.device(device)"
   ]
  },
  {
   "cell_type": "code",
   "execution_count": 39,
   "metadata": {},
   "outputs": [
    {
     "name": "stdout",
     "output_type": "stream",
     "text": [
      "Preprocessing BEST2010 corpus\n",
      "Done!\n"
     ]
    }
   ],
   "source": [
    "best2010  = Best2010NECTEC()"
   ]
  },
  {
   "cell_type": "code",
   "execution_count": 40,
   "metadata": {},
   "outputs": [],
   "source": [
    "from basil.evaluation.noise import NoiseGenerator\n",
    "from basil.preprocessing.prep_pytorch import PytorchPrepWordLevel\n",
    "prep_torch = PytorchPrepWordLevel(best2010.train_data, best2010.val_data, best2010.test_data)"
   ]
  },
  {
   "cell_type": "code",
   "execution_count": 41,
   "metadata": {},
   "outputs": [],
   "source": [
    "# noisy_data  = NoiseGenerator(best2010.test_data)"
   ]
  },
  {
   "cell_type": "code",
   "execution_count": 12,
   "metadata": {},
   "outputs": [],
   "source": [
    "# import pickle\n",
    "# pickle.dump( noisy_data, open( \"stress_best2010.p\", \"wb\" ) )\n",
    "# noisy_data = pickle.load( open( \"stress_best2010.p\", \"rb\" ) )"
   ]
  },
  {
   "cell_type": "code",
   "execution_count": 42,
   "metadata": {},
   "outputs": [],
   "source": [
    "def CountFrequency(my_list): \n",
    "      \n",
    "    # Creating an empty dictionary  \n",
    "    freq = {} \n",
    "    total = 0\n",
    "    for items in my_list: \n",
    "        freq[items] = my_list.count(items) \n",
    "       \n",
    "    for key, value in freq.items(): \n",
    "        print (\"% s : % d\"%(key, value)) \n",
    "        total += value\n",
    "    print(total)"
   ]
  },
  {
   "cell_type": "code",
   "execution_count": 45,
   "metadata": {},
   "outputs": [
    {
     "data": {
      "text/plain": [
       "269781"
      ]
     },
     "execution_count": 45,
     "metadata": {},
     "output_type": "execute_result"
    }
   ],
   "source": [
    "sum([len(nd) for nd in noisy_data.stress90 ])"
   ]
  },
  {
   "cell_type": "code",
   "execution_count": 44,
   "metadata": {},
   "outputs": [
    {
     "name": "stdout",
     "output_type": "stream",
     "text": [
      "no_error :  251770\n",
      "swap_char :  8116\n",
      "last_char :  9492\n",
      "remove_tone :  200\n",
      "move_tone :  203\n",
      "269781\n"
     ]
    }
   ],
   "source": [
    "error_list = []\n",
    "for data, errors in zip(noisy_data.stress10,noisy_data.error10):\n",
    "    for x,err in zip(data, errors):\n",
    "            error_list.append(err)\n",
    "       \n",
    "\n",
    "CountFrequency(error_list)"
   ]
  },
  {
   "cell_type": "code",
   "execution_count": 46,
   "metadata": {
    "scrolled": true
   },
   "outputs": [
    {
     "name": "stdout",
     "output_type": "stream",
     "text": [
      "no_error :  233688\n",
      "swap_char :  16344\n",
      "last_char :  18896\n",
      "move_tone :  426\n",
      "remove_tone :  427\n",
      "269781\n"
     ]
    }
   ],
   "source": [
    "error_list = []\n",
    "for data, errors in zip(noisy_data.stress20,noisy_data.error20):\n",
    "    for x,err in zip(data, errors):\n",
    "            error_list.append(err)\n",
    "       \n",
    "\n",
    "       \n",
    "         \n",
    "\n",
    "CountFrequency(error_list)"
   ]
  },
  {
   "cell_type": "code",
   "execution_count": 47,
   "metadata": {},
   "outputs": [
    {
     "name": "stdout",
     "output_type": "stream",
     "text": [
      "no_error :  215771\n",
      "swap_char :  24706\n",
      "last_char :  28040\n",
      "remove_tone :  618\n",
      "move_tone :  646\n",
      "269781\n"
     ]
    }
   ],
   "source": [
    "error_list = []\n",
    "for data, errors in zip(noisy_data.stress30,noisy_data.error30):\n",
    "    for x,err in zip(data, errors):\n",
    "            error_list.append(err)\n",
    "       \n",
    "\n",
    "         \n",
    "\n",
    "\n",
    "CountFrequency(error_list)"
   ]
  },
  {
   "cell_type": "code",
   "execution_count": 48,
   "metadata": {},
   "outputs": [
    {
     "name": "stdout",
     "output_type": "stream",
     "text": [
      "no_error :  197545\n",
      "swap_char :  32978\n",
      "last_char :  37538\n",
      "move_tone :  846\n",
      "remove_tone :  874\n",
      "269781\n"
     ]
    }
   ],
   "source": [
    "error_list = []\n",
    "for data, errors in zip(noisy_data.stress40,noisy_data.error40):\n",
    "    for x,err in zip(data, errors):\n",
    "            error_list.append(err)\n",
    "       \n",
    "\n",
    "         \n",
    "\n",
    "         \n",
    "\n",
    "CountFrequency(error_list)"
   ]
  },
  {
   "cell_type": "code",
   "execution_count": 49,
   "metadata": {},
   "outputs": [
    {
     "name": "stdout",
     "output_type": "stream",
     "text": [
      "no_error :  179373\n",
      "swap_char :  41228\n",
      "last_char :  47059\n",
      "remove_tone :  1067\n",
      "move_tone :  1054\n",
      "269781\n"
     ]
    }
   ],
   "source": [
    "error_list = []\n",
    "for data, errors in zip(noisy_data.stress50,noisy_data.error50):\n",
    "    for x,err in zip(data, errors):\n",
    "            error_list.append(err)\n",
    "       \n",
    "\n",
    "       \n",
    "\n",
    "         \n",
    "\n",
    "CountFrequency(error_list)"
   ]
  },
  {
   "cell_type": "code",
   "execution_count": 50,
   "metadata": {},
   "outputs": [
    {
     "name": "stdout",
     "output_type": "stream",
     "text": [
      "no_error :  161358\n",
      "swap_char :  49534\n",
      "last_char :  56405\n",
      "move_tone :  1257\n",
      "remove_tone :  1227\n",
      "269781\n"
     ]
    }
   ],
   "source": [
    "error_list = []\n",
    "for data, errors in zip(noisy_data.stress60,noisy_data.error60):\n",
    "    for x,err in zip(data, errors):\n",
    "            error_list.append(err)\n",
    "       \n",
    "\n",
    "       \n",
    "         \n",
    "\n",
    "\n",
    "CountFrequency(error_list)"
   ]
  },
  {
   "cell_type": "code",
   "execution_count": 51,
   "metadata": {},
   "outputs": [
    {
     "name": "stdout",
     "output_type": "stream",
     "text": [
      "last_char :  65576\n",
      "no_error :  143523\n",
      "swap_char :  57829\n",
      "remove_tone :  1448\n",
      "move_tone :  1405\n",
      "269781\n"
     ]
    }
   ],
   "source": [
    "error_list = []\n",
    "for data, errors in zip(noisy_data.stress70,noisy_data.error70):\n",
    "    for x,err in zip(data, errors):\n",
    "            error_list.append(err)\n",
    "       \n",
    "\n",
    "\n",
    "         \n",
    "\n",
    "CountFrequency(error_list)"
   ]
  },
  {
   "cell_type": "code",
   "execution_count": 52,
   "metadata": {},
   "outputs": [
    {
     "name": "stdout",
     "output_type": "stream",
     "text": [
      "last_char :  75087\n",
      "no_error :  125422\n",
      "swap_char :  65996\n",
      "remove_tone :  1646\n",
      "move_tone :  1630\n",
      "269781\n"
     ]
    }
   ],
   "source": [
    "error_list = []\n",
    "for data, errors in zip(noisy_data.stress80,noisy_data.error80):\n",
    "    for x,err in zip(data, errors):\n",
    "            error_list.append(err)\n",
    "       \n",
    "\n",
    "       \n",
    "\n",
    "         \n",
    "\n",
    "CountFrequency(error_list)"
   ]
  },
  {
   "cell_type": "code",
   "execution_count": 53,
   "metadata": {},
   "outputs": [
    {
     "name": "stdout",
     "output_type": "stream",
     "text": [
      "last_char :  84277\n",
      "no_error :  107662\n",
      "swap_char :  74141\n",
      "remove_tone :  1910\n",
      "move_tone :  1791\n",
      "269781\n"
     ]
    }
   ],
   "source": [
    "error_list = []\n",
    "for data, errors in zip(noisy_data.stress90,noisy_data.error90):\n",
    "    for x,err in zip(data, errors):\n",
    "            error_list.append(err)\n",
    "       \n",
    "\n",
    "       \n",
    "\n",
    "\n",
    "CountFrequency(error_list)"
   ]
  },
  {
   "cell_type": "code",
   "execution_count": 54,
   "metadata": {},
   "outputs": [
    {
     "name": "stdout",
     "output_type": "stream",
     "text": [
      "last_char :  93659\n",
      "no_error :  89592\n",
      "swap_char :  82471\n",
      "remove_tone :  2033\n",
      "move_tone :  2026\n",
      "269781\n"
     ]
    }
   ],
   "source": [
    "error_list = []\n",
    "for data, errors in zip(noisy_data.stress100,noisy_data.error100):\n",
    "    for x,err in zip(data, errors):\n",
    "            error_list.append(err)\n",
    "       \n",
    "\n",
    "       \n",
    "\n",
    "         \n",
    "\n",
    "CountFrequency(error_list)"
   ]
  },
  {
   "cell_type": "code",
   "execution_count": null,
   "metadata": {},
   "outputs": [],
   "source": []
  }
 ],
 "metadata": {
  "kernelspec": {
   "display_name": "Python 3",
   "language": "python",
   "name": "python3"
  },
  "language_info": {
   "codemirror_mode": {
    "name": "ipython",
    "version": 3
   },
   "file_extension": ".py",
   "mimetype": "text/x-python",
   "name": "python",
   "nbconvert_exporter": "python",
   "pygments_lexer": "ipython3",
   "version": "3.7.3"
  }
 },
 "nbformat": 4,
 "nbformat_minor": 2
}
