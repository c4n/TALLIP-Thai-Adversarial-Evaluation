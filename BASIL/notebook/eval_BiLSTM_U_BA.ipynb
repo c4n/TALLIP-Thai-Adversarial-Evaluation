{
 "cells": [
  {
   "cell_type": "code",
   "execution_count": 1,
   "metadata": {},
   "outputs": [],
   "source": [
    "import torch\n",
    "import math"
   ]
  },
  {
   "cell_type": "code",
   "execution_count": 2,
   "metadata": {},
   "outputs": [],
   "source": [
    "%load_ext autoreload\n",
    "%autoreload 2"
   ]
  },
  {
   "cell_type": "code",
   "execution_count": 3,
   "metadata": {},
   "outputs": [],
   "source": [
    "import re"
   ]
  },
  {
   "cell_type": "code",
   "execution_count": 4,
   "metadata": {},
   "outputs": [
    {
     "name": "stdout",
     "output_type": "stream",
     "text": [
      "/home/datamind/can/BASIL/notebook\n"
     ]
    }
   ],
   "source": [
    "from pathlib import Path\n",
    "import os\n",
    "mypath = Path().absolute()\n",
    "print(mypath)"
   ]
  },
  {
   "cell_type": "code",
   "execution_count": 5,
   "metadata": {},
   "outputs": [],
   "source": [
    "os.chdir(\"/home/datamind/can/BASIL/\")"
   ]
  },
  {
   "cell_type": "code",
   "execution_count": 6,
   "metadata": {},
   "outputs": [],
   "source": [
    "import sys\n",
    "sys.path.append('/home/datamind/can/BASIL/')"
   ]
  },
  {
   "cell_type": "code",
   "execution_count": 7,
   "metadata": {},
   "outputs": [],
   "source": [
    "import basil"
   ]
  },
  {
   "cell_type": "code",
   "execution_count": 8,
   "metadata": {
    "scrolled": true
   },
   "outputs": [
    {
     "name": "stderr",
     "output_type": "stream",
     "text": [
      "/home/datamind/can/BASIL/basil/preprocessing/prep_best_corpus.py:9: YAMLLoadWarning: calling yaml.load() without Loader=... is deprecated, as the default Loader is unsafe. Please read https://msg.pyyaml.org/load for full details.\n",
      "  cfg = yaml.load(ymlfile)\n"
     ]
    },
    {
     "data": {
      "text/plain": [
       "device(type='cuda', index=0)"
      ]
     },
     "execution_count": 8,
     "metadata": {},
     "output_type": "execute_result"
    }
   ],
   "source": [
    "%autoreload 2\n",
    "from basil.preprocessing.prep_best_corpus import Best2010NECTEC\n",
    "from basil.preprocessing.prep_pytorch import PytorchPrepWordLevel\n",
    "from basil.models.multitasks.BiLSTM_BA import LSTMTagger\n",
    "from basil.evaluation.stress_test import StressEval\n",
    "from basil.select_device import device\n",
    "torch.device(device)"
   ]
  },
  {
   "cell_type": "code",
   "execution_count": 9,
   "metadata": {},
   "outputs": [
    {
     "name": "stdout",
     "output_type": "stream",
     "text": [
      "Preprocessing BEST2010 corpus\n",
      "Done!\n"
     ]
    }
   ],
   "source": [
    "best2010  = Best2010NECTEC()"
   ]
  },
  {
   "cell_type": "code",
   "execution_count": 10,
   "metadata": {},
   "outputs": [],
   "source": [
    "from basil.evaluation.noise import NoiseGenerator\n",
    "from basil.preprocessing.prep_pytorch import PytorchPrepWordLevel\n",
    "prep_torch = PytorchPrepWordLevel(best2010.train_data, best2010.val_data, best2010.test_data)"
   ]
  },
  {
   "cell_type": "code",
   "execution_count": 11,
   "metadata": {},
   "outputs": [],
   "source": [
    "# noisy_data  = NoiseGenerator(best2010.test_data)"
   ]
  },
  {
   "cell_type": "code",
   "execution_count": 12,
   "metadata": {},
   "outputs": [],
   "source": [
    "# import pickle\n",
    "# pickle.dump( noisy_data, open( \"stress_best2010.p\", \"wb\" ) )"
   ]
  },
  {
   "cell_type": "code",
   "execution_count": 13,
   "metadata": {},
   "outputs": [
    {
     "name": "stdout",
     "output_type": "stream",
     "text": [
      "normal 0.9517171344165436 0.8237252917044062\n",
      "10 0.9126346331384358 0.7895189234199145\n",
      "20 0.8711528062917911 0.7547649644910381\n",
      "30 0.8287301318644119 0.7127843735943186\n",
      "40 0.7847873107426099 0.6690128308707738\n",
      "50 0.7380795371615977 0.6138429270566302\n",
      "60 0.6907918308849874 0.5568343746574592\n",
      "70 0.6395455934300969 0.4921028727918548\n",
      "80 0.5877682375130244 0.42493469104867515\n",
      "90 0.5303394003341246 0.3553943087331508\n",
      "100 0.46993521667351795 0.27565681945698045\n"
     ]
    }
   ],
   "source": [
    "CHAR_EMBEDDING_DIM = 100\n",
    "WORD_EMBEDDING_DIM = 128\n",
    "HIDDEN_DIM = 128\n",
    "\n",
    "model = LSTMTagger(CHAR_EMBEDDING_DIM,WORD_EMBEDDING_DIM,HIDDEN_DIM,\\\n",
    "                           len(prep_torch.char_to_index),len(prep_torch.word_to_index),\\\n",
    "                           len(prep_torch.pos_to_index),len(prep_torch.ner_to_index)).to(device)\n",
    "stress_eval  = StressEval(model, \"weights/model_bilstm_BA_seed1.p\",best2010,\"BiLSTM_BA-1\" )\n",
    "stress_eval.f1_summary(\"char\")\n"
   ]
  },
  {
   "cell_type": "code",
   "execution_count": 14,
   "metadata": {},
   "outputs": [
    {
     "name": "stdout",
     "output_type": "stream",
     "text": [
      "normal 0.9517479074347612 0.8236457150490949\n",
      "10 0.9124347992377033 0.7900897859987849\n",
      "20 0.8707923207793521 0.7575234705107129\n",
      "30 0.8285304810765424 0.7176589967912679\n",
      "40 0.7845753449950981 0.6749134229117605\n",
      "50 0.7384060105421886 0.6286273140062871\n",
      "60 0.6909035755265691 0.5776413260851195\n",
      "70 0.6409292040261404 0.5210678312319504\n",
      "80 0.5912398169356506 0.4600781217186778\n",
      "90 0.5354406867216952 0.39576684489023367\n",
      "100 0.47586869404076 0.3274646020045607\n"
     ]
    }
   ],
   "source": [
    "stress_eval  = StressEval(model, \"weights/model_bilstm_BA_seed2.p\",best2010,\"BiLSTM_BA-2\" )\n",
    "stress_eval.f1_summary(\"char\")\n",
    "\n"
   ]
  },
  {
   "cell_type": "code",
   "execution_count": 15,
   "metadata": {},
   "outputs": [
    {
     "name": "stdout",
     "output_type": "stream",
     "text": [
      "normal 0.9509873742702397 0.8208539686788917\n",
      "10 0.9117354194738196 0.7887651384083046\n",
      "20 0.8699924164990602 0.7539983107647876\n",
      "30 0.828641015721169 0.7113600704671199\n",
      "40 0.783998135944184 0.6683771114747732\n",
      "50 0.7389730208592086 0.6213101638055669\n",
      "60 0.6926651688950051 0.5656734376105882\n",
      "70 0.64258076997485 0.5046219686162624\n",
      "80 0.5929163652673679 0.44675690028849885\n",
      "90 0.5406923180098112 0.3766298824910186\n",
      "100 0.48566181726212077 0.3050722479828703\n"
     ]
    }
   ],
   "source": [
    "stress_eval  = StressEval(model, \"weights/model_bilstm_BA_seed3.p\",best2010,\"BiLSTM_BA-3\" )\n",
    "stress_eval.f1_summary(\"char\")\n"
   ]
  },
  {
   "cell_type": "code",
   "execution_count": null,
   "metadata": {},
   "outputs": [],
   "source": []
  }
 ],
 "metadata": {
  "kernelspec": {
   "display_name": "Python 3",
   "language": "python",
   "name": "python3"
  },
  "language_info": {
   "codemirror_mode": {
    "name": "ipython",
    "version": 3
   },
   "file_extension": ".py",
   "mimetype": "text/x-python",
   "name": "python",
   "nbconvert_exporter": "python",
   "pygments_lexer": "ipython3",
   "version": "3.7.3"
  }
 },
 "nbformat": 4,
 "nbformat_minor": 2
}
