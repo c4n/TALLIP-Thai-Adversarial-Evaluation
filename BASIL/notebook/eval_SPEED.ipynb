{
 "cells": [
  {
   "cell_type": "code",
   "execution_count": 1,
   "metadata": {},
   "outputs": [],
   "source": [
    "import torch\n",
    "import math"
   ]
  },
  {
   "cell_type": "code",
   "execution_count": 2,
   "metadata": {},
   "outputs": [],
   "source": [
    "%load_ext autoreload\n",
    "%autoreload 2"
   ]
  },
  {
   "cell_type": "code",
   "execution_count": 3,
   "metadata": {},
   "outputs": [],
   "source": [
    "import re"
   ]
  },
  {
   "cell_type": "code",
   "execution_count": 4,
   "metadata": {},
   "outputs": [
    {
     "name": "stdout",
     "output_type": "stream",
     "text": [
      "/home/can/Documents/thai_nlp_research/BASIL/notebook\n"
     ]
    }
   ],
   "source": [
    "from pathlib import Path\n",
    "import os\n",
    "mypath = Path().absolute()\n",
    "print(mypath)"
   ]
  },
  {
   "cell_type": "code",
   "execution_count": 5,
   "metadata": {},
   "outputs": [],
   "source": [
    "os.chdir(\"/home/can/Documents/thai_nlp_research/BASIL\")"
   ]
  },
  {
   "cell_type": "code",
   "execution_count": 6,
   "metadata": {},
   "outputs": [],
   "source": [
    "import sys\n",
    "sys.path.append('/home/can/Documents/thai_nlp_research/BASIL')"
   ]
  },
  {
   "cell_type": "code",
   "execution_count": 7,
   "metadata": {},
   "outputs": [],
   "source": [
    "import basil"
   ]
  },
  {
   "cell_type": "code",
   "execution_count": 36,
   "metadata": {},
   "outputs": [
    {
     "data": {
      "text/plain": [
       "device(type='cuda', index=0)"
      ]
     },
     "execution_count": 36,
     "metadata": {},
     "output_type": "execute_result"
    }
   ],
   "source": [
    "%autoreload 2\n",
    "from basil.preprocessing.prep_best_corpus import Best2010NECTEC, BestSyllable2010NECTEC\n",
    "from basil.preprocessing.prep_pytorch import PytorchPrepWordLevel\n",
    "from basil.models.multitasks.elmo_lstm_pretrained import LSTMTagger\n",
    "from basil.evaluation.stress_test import StressEval\n",
    "from basil.select_device import device\n",
    "torch.device(device)"
   ]
  },
  {
   "cell_type": "code",
   "execution_count": 9,
   "metadata": {},
   "outputs": [
    {
     "name": "stdout",
     "output_type": "stream",
     "text": [
      "Preprocessing BEST2010 corpus\n",
      "Done!\n"
     ]
    }
   ],
   "source": [
    "best2010  = Best2010NECTEC()"
   ]
  },
  {
   "cell_type": "code",
   "execution_count": 10,
   "metadata": {},
   "outputs": [
    {
     "name": "stdout",
     "output_type": "stream",
     "text": [
      "0\n",
      "2\n",
      "6\n",
      "9\n",
      "11\n",
      "64\n",
      "93\n",
      "95\n"
     ]
    }
   ],
   "source": [
    "maxx = 0\n",
    "for i in range(len(best2010.test_data)):\n",
    "    if len(best2010.test_data[i]) > maxx:\n",
    "        maxx = len(best2010.test_data[i])\n",
    "        print(i)\n"
   ]
  },
  {
   "cell_type": "code",
   "execution_count": 40,
   "metadata": {},
   "outputs": [],
   "source": [
    "global_setup = \"\"\"\n",
    "from basil.preprocessing.prep_best_corpus import Best2010NECTEC\n",
    "best2010  = Best2010NECTEC()\n",
    "testset = best2010.test_data[95][:{n}]\n",
    "\"\"\"\n",
    "methods = [\n",
    "    {\n",
    "        'name': 'BiLSTM-ELMO',\n",
    "        'setup': \"\"\"\n",
    "from basil.models.multitasks.elmo_lstm_pretrained import LSTMTagger\n",
    "from basil.evaluation.speedeval import SpeedEvalElmo\n",
    "speed_eval  = SpeedEvalElmo(LSTMTagger, \"model_elmo_pretrained.p\",best2010 )\n",
    "        \"\"\",\n",
    "        'stmt': 'speed_eval.do_pred(testset)'\n",
    "    }\n",
    "    , {\n",
    "         'name': 'BiLSTM-U',\n",
    "        'setup': \"\"\"\n",
    "from basil.models.multitasks.wordlvl_lstm import LSTMTagger\n",
    "from basil.evaluation.speedeval import SpeedEvalU\n",
    "speed_eval  = SpeedEvalU(LSTMTagger, \"model_oct_word_2018best1.p\",best2010 )\n",
    "        \"\"\",\n",
    "        'stmt': 'speed_eval.do_pred(testset)'\n",
    "     },\n",
    "\n",
    "     {\n",
    "        'name': 'BiLSTM-U-BC',\n",
    "        'setup': \"\"\"\n",
    "from basil.models.multitasks.backoff_lstm_affix_rnn_init_clean import LSTMTagger\n",
    "from basil.evaluation.speedeval import SpeedEvalUBC\n",
    "speed_eval  = SpeedEvalUBC(LSTMTagger, \"model_affix_init_unk10_small.p\",best2010 )\n",
    "        \"\"\",\n",
    "        'stmt': 'speed_eval.do_pred(testset)'\n",
    "     },\n",
    "         {\n",
    "        'name': 'BiLSTM-U-BCAD',\n",
    "        'setup': \"\"\"\n",
    "from basil.models.multitasks.backoff_lstm_affix_rnn_init_char_attn_direction import LSTMTagger\n",
    "from basil.evaluation.speedeval import SpeedEvalUBCAD\n",
    "speed_eval  = SpeedEvalUBCAD(LSTMTagger, \"model_nov_2018best1_affix_char_attn_clipped_DIR.p\",best2010 )\n",
    "        \"\"\",\n",
    "        'stmt': 'speed_eval.do_pred(testset)'\n",
    "     }\n",
    "]"
   ]
  },
  {
   "cell_type": "code",
   "execution_count": 41,
   "metadata": {},
   "outputs": [
    {
     "data": {
      "text/plain": [
       "7561"
      ]
     },
     "execution_count": 41,
     "metadata": {},
     "output_type": "execute_result"
    }
   ],
   "source": [
    "len(best2010.test_data[95])"
   ]
  },
  {
   "cell_type": "code",
   "execution_count": 42,
   "metadata": {},
   "outputs": [],
   "source": [
    "# stress_eval  = StressEval(LSTMTagger, \"model_elmo_pretrained.p\",best2010 )\n",
    "# x=stress_eval.f1_summary()"
   ]
  },
  {
   "cell_type": "code",
   "execution_count": 43,
   "metadata": {},
   "outputs": [
    {
     "name": "stdout",
     "output_type": "stream",
     "text": [
      "Preprocessing BEST2010 corpus\n",
      "Done!\n",
      "Preprocessing BEST2010 corpus\n",
      "Done!\n",
      "Preprocessing BEST2010 corpus\n",
      "Done!\n",
      "Preprocessing BEST2010 corpus\n",
      "Done!\n",
      "Preprocessing BEST2010 corpus\n",
      "Done!\n",
      "Preprocessing BEST2010 corpus\n",
      "Done!\n",
      "Preprocessing BEST2010 corpus\n",
      "Done!\n",
      "Preprocessing BEST2010 corpus\n",
      "Done!\n",
      "Preprocessing BEST2010 corpus\n",
      "Done!\n",
      "Preprocessing BEST2010 corpus\n",
      "Done!\n",
      "Preprocessing BEST2010 corpus\n",
      "Done!\n",
      "Preprocessing BEST2010 corpus\n",
      "Done!\n",
      "Preprocessing BEST2010 corpus\n",
      "Done!\n",
      "Preprocessing BEST2010 corpus\n",
      "Done!\n",
      "Preprocessing BEST2010 corpus\n",
      "Done!\n",
      "Preprocessing BEST2010 corpus\n",
      "Done!\n",
      "Preprocessing BEST2010 corpus\n",
      "Done!\n",
      "Preprocessing BEST2010 corpus\n",
      "Done!\n",
      "Preprocessing BEST2010 corpus\n",
      "Done!\n",
      "Preprocessing BEST2010 corpus\n",
      "Done!\n",
      "Preprocessing BEST2010 corpus\n",
      "Done!\n",
      "Preprocessing BEST2010 corpus\n",
      "Done!\n",
      "Preprocessing BEST2010 corpus\n",
      "Done!\n",
      "Preprocessing BEST2010 corpus\n",
      "Done!\n",
      "Preprocessing BEST2010 corpus\n",
      "Done!\n",
      "Preprocessing BEST2010 corpus\n",
      "Done!\n",
      "Preprocessing BEST2010 corpus\n",
      "Done!\n",
      "Preprocessing BEST2010 corpus\n",
      "Done!\n",
      "Preprocessing BEST2010 corpus\n",
      "Done!\n",
      "Preprocessing BEST2010 corpus\n",
      "Done!\n",
      "Preprocessing BEST2010 corpus\n",
      "Done!\n",
      "Preprocessing BEST2010 corpus\n",
      "Done!\n",
      "Preprocessing BEST2010 corpus\n",
      "Done!\n",
      "Preprocessing BEST2010 corpus\n",
      "Done!\n",
      "Preprocessing BEST2010 corpus\n",
      "Done!\n",
      "Preprocessing BEST2010 corpus\n",
      "Done!\n",
      "Preprocessing BEST2010 corpus\n",
      "Done!\n",
      "Preprocessing BEST2010 corpus\n",
      "Done!\n",
      "Preprocessing BEST2010 corpus\n",
      "Done!\n",
      "Preprocessing BEST2010 corpus\n",
      "Done!\n",
      "Preprocessing BEST2010 corpus\n",
      "Done!\n",
      "Preprocessing BEST2010 corpus\n",
      "Done!\n",
      "Preprocessing BEST2010 corpus\n",
      "Done!\n",
      "Preprocessing BEST2010 corpus\n",
      "Done!\n",
      "Preprocessing BEST2010 corpus\n",
      "Done!\n",
      "Preprocessing BEST2010 corpus\n",
      "Done!\n",
      "Preprocessing BEST2010 corpus\n",
      "Done!\n",
      "Preprocessing BEST2010 corpus\n",
      "Done!\n",
      "Preprocessing BEST2010 corpus\n",
      "Done!\n",
      "Preprocessing BEST2010 corpus\n",
      "Done!\n",
      "Preprocessing BEST2010 corpus\n",
      "Done!\n",
      "Preprocessing BEST2010 corpus\n",
      "Done!\n",
      "Preprocessing BEST2010 corpus\n",
      "Done!\n",
      "Preprocessing BEST2010 corpus\n",
      "Done!\n",
      "Preprocessing BEST2010 corpus\n",
      "Done!\n",
      "Preprocessing BEST2010 corpus\n",
      "Done!\n",
      "Preprocessing BEST2010 corpus\n",
      "Done!\n",
      "Preprocessing BEST2010 corpus\n",
      "Done!\n",
      "Preprocessing BEST2010 corpus\n",
      "Done!\n",
      "Preprocessing BEST2010 corpus\n",
      "Done!\n",
      "Preprocessing BEST2010 corpus\n",
      "Done!\n",
      "Preprocessing BEST2010 corpus\n",
      "Done!\n",
      "Preprocessing BEST2010 corpus\n",
      "Done!\n",
      "Preprocessing BEST2010 corpus\n",
      "Done!\n",
      "Preprocessing BEST2010 corpus\n",
      "Done!\n",
      "Preprocessing BEST2010 corpus\n",
      "Done!\n",
      "Preprocessing BEST2010 corpus\n",
      "Done!\n",
      "Preprocessing BEST2010 corpus\n",
      "Done!\n",
      "Preprocessing BEST2010 corpus\n",
      "Done!\n",
      "Preprocessing BEST2010 corpus\n",
      "Done!\n",
      "Preprocessing BEST2010 corpus\n",
      "Done!\n",
      "Preprocessing BEST2010 corpus\n",
      "Done!\n",
      "Preprocessing BEST2010 corpus\n",
      "Done!\n",
      "Preprocessing BEST2010 corpus\n",
      "Done!\n",
      "Preprocessing BEST2010 corpus\n",
      "Done!\n",
      "Preprocessing BEST2010 corpus\n",
      "Done!\n",
      "Preprocessing BEST2010 corpus\n",
      "Done!\n",
      "Preprocessing BEST2010 corpus\n",
      "Done!\n",
      "Preprocessing BEST2010 corpus\n",
      "Done!\n",
      "Preprocessing BEST2010 corpus\n",
      "Done!\n",
      "Preprocessing BEST2010 corpus\n",
      "Done!\n",
      "Preprocessing BEST2010 corpus\n",
      "Done!\n",
      "Preprocessing BEST2010 corpus\n",
      "Done!\n",
      "Preprocessing BEST2010 corpus\n",
      "Done!\n",
      "Preprocessing BEST2010 corpus\n",
      "Done!\n",
      "Preprocessing BEST2010 corpus\n",
      "Done!\n",
      "Preprocessing BEST2010 corpus\n",
      "Done!\n",
      "Preprocessing BEST2010 corpus\n",
      "Done!\n",
      "Preprocessing BEST2010 corpus\n",
      "Done!\n",
      "Preprocessing BEST2010 corpus\n",
      "Done!\n",
      "Preprocessing BEST2010 corpus\n",
      "Done!\n",
      "Preprocessing BEST2010 corpus\n",
      "Done!\n",
      "Preprocessing BEST2010 corpus\n",
      "Done!\n",
      "Preprocessing BEST2010 corpus\n",
      "Done!\n",
      "Preprocessing BEST2010 corpus\n",
      "Done!\n",
      "Preprocessing BEST2010 corpus\n",
      "Done!\n",
      "Preprocessing BEST2010 corpus\n",
      "Done!\n",
      "Preprocessing BEST2010 corpus\n",
      "Done!\n",
      "Preprocessing BEST2010 corpus\n",
      "Done!\n",
      "Preprocessing BEST2010 corpus\n",
      "Done!\n"
     ]
    }
   ],
   "source": [
    "N = [200, 500, 1000, 2000,4000]\n",
    "repeat = 5\n",
    "import numpy as np\n",
    "import timeit\n",
    "# This cell needs to be executed twice\n",
    "results = np.zeros((len(methods), len(N), repeat))\n",
    "for i, method in enumerate(methods):\n",
    "    for j, n in enumerate(N):\n",
    "        setup = \"%s \\n\\n%s\" % (global_setup.format(n=n), method['setup'])\n",
    "        data = timeit.repeat(setup=setup, stmt=method['stmt'], repeat=repeat, number=1)\n",
    "        results[i, j, :] = data"
   ]
  },
  {
   "cell_type": "code",
   "execution_count": 44,
   "metadata": {},
   "outputs": [
    {
     "data": {
      "text/plain": [
       "<matplotlib.legend.Legend at 0x7fcea60c8780>"
      ]
     },
     "execution_count": 44,
     "metadata": {},
     "output_type": "execute_result"
    },
    {
     "data": {
      "image/png": "[encoded data removed]",
      "text/plain": [
       "<Figure size 576x360 with 1 Axes>"
      ]
     },
     "metadata": {
      "needs_background": "light"
     },
     "output_type": "display_data"
    }
   ],
   "source": [
    "import matplotlib.pyplot as plt\n",
    "%matplotlib inline\n",
    "plt.figure(figsize=(8, 5))\n",
    "\n",
    " \n",
    "for i, m in enumerate(methods):\n",
    "    res = results[i, :, :]\n",
    "    mean, std = np.mean(res, axis=1), np.std(res, axis=1)\n",
    "\n",
    "    plt.plot(N, mean, label=m['name'], marker=\"x\")\n",
    "    plt.fill_between(N, mean-2*std, mean+2*std, alpha=0.1)\n",
    "\n",
    "plt.ylabel(\"Execution Time (sec.)\")\n",
    "plt.xlabel(\"No. Words\")\n",
    "plt.yticks(np.arange(0, 6.5, 0.5))\n",
    "plt.xticks(N)\n",
    "plt.legend()"
   ]
  },
  {
   "cell_type": "code",
   "execution_count": 45,
   "metadata": {},
   "outputs": [
    {
     "data": {
      "text/html": [
       "<div>\n",
       "<style scoped>\n",
       "    .dataframe tbody tr th:only-of-type {\n",
       "        vertical-align: middle;\n",
       "    }\n",
       "\n",
       "    .dataframe tbody tr th {\n",
       "        vertical-align: top;\n",
       "    }\n",
       "\n",
       "    .dataframe thead th {\n",
       "        text-align: right;\n",
       "    }\n",
       "</style>\n",
       "<table border=\"1\" class=\"dataframe\">\n",
       "  <thead>\n",
       "    <tr style=\"text-align: right;\">\n",
       "      <th></th>\n",
       "      <th>method</th>\n",
       "      <th>Char(200)</th>\n",
       "      <th>Char(500)</th>\n",
       "      <th>Char(1000)</th>\n",
       "      <th>Char(2000)</th>\n",
       "      <th>Char(4000)</th>\n",
       "    </tr>\n",
       "  </thead>\n",
       "  <tbody>\n",
       "    <tr>\n",
       "      <th>0</th>\n",
       "      <td>BiLSTM-ELMO</td>\n",
       "      <td>0.3055±0.0036</td>\n",
       "      <td>0.7304±0.0029</td>\n",
       "      <td>1.4607±0.0305</td>\n",
       "      <td>3.0567±0.1416</td>\n",
       "      <td>5.6493±0.0199</td>\n",
       "    </tr>\n",
       "    <tr>\n",
       "      <th>1</th>\n",
       "      <td>BiLSTM-U</td>\n",
       "      <td>0.0100±0.0002</td>\n",
       "      <td>0.0237±0.0002</td>\n",
       "      <td>0.0462±0.0002</td>\n",
       "      <td>0.0927±0.0019</td>\n",
       "      <td>0.1787±0.0016</td>\n",
       "    </tr>\n",
       "    <tr>\n",
       "      <th>2</th>\n",
       "      <td>BiLSTM-U-BC</td>\n",
       "      <td>0.0578±0.0002</td>\n",
       "      <td>0.1430±0.0011</td>\n",
       "      <td>0.2825±0.0013</td>\n",
       "      <td>0.5639±0.0038</td>\n",
       "      <td>1.1294±0.0073</td>\n",
       "    </tr>\n",
       "    <tr>\n",
       "      <th>3</th>\n",
       "      <td>BiLSTM-U-BCAD</td>\n",
       "      <td>0.1358±0.0016</td>\n",
       "      <td>0.3317±0.0026</td>\n",
       "      <td>0.6618±0.0014</td>\n",
       "      <td>1.3210±0.0050</td>\n",
       "      <td>2.6467±0.0040</td>\n",
       "    </tr>\n",
       "  </tbody>\n",
       "</table>\n",
       "</div>"
      ],
      "text/plain": [
       "          method      Char(200)      Char(500)     Char(1000)     Char(2000)  \\\n",
       "0    BiLSTM-ELMO  0.3055±0.0036  0.7304±0.0029  1.4607±0.0305  3.0567±0.1416   \n",
       "1       BiLSTM-U  0.0100±0.0002  0.0237±0.0002  0.0462±0.0002  0.0927±0.0019   \n",
       "2    BiLSTM-U-BC  0.0578±0.0002  0.1430±0.0011  0.2825±0.0013  0.5639±0.0038   \n",
       "3  BiLSTM-U-BCAD  0.1358±0.0016  0.3317±0.0026  0.6618±0.0014  1.3210±0.0050   \n",
       "\n",
       "      Char(4000)  \n",
       "0  5.6493±0.0199  \n",
       "1  0.1787±0.0016  \n",
       "2  1.1294±0.0073  \n",
       "3  2.6467±0.0040  "
      ]
     },
     "execution_count": 45,
     "metadata": {},
     "output_type": "execute_result"
    }
   ],
   "source": [
    "import pandas as pd\n",
    "rows = []\n",
    "for i, m in enumerate(methods):\n",
    "\n",
    "  row = dict(\n",
    "      method=m[\"name\"],\n",
    "  )\n",
    "  for j, n in enumerate(N):\n",
    "    res = results[i, j, :]\n",
    "    mean, std = np.mean(res), np.std(res)\n",
    "    row['Char(%d)' % n] = \"%.4f±%.4f\" % (mean, std)\n",
    "    \n",
    "  rows.append(row)\n",
    "  \n",
    "pd.DataFrame(rows)[['method'] + list(map(lambda n: 'Char(%d)' % n, N))]"
   ]
  }
 ],
 "metadata": {
  "kernelspec": {
   "display_name": "Python (allennlp)",
   "language": "python",
   "name": "allennlp"
  },
  "language_info": {
   "codemirror_mode": {
    "name": "ipython",
    "version": 3
   },
   "file_extension": ".py",
   "mimetype": "text/x-python",
   "name": "python",
   "nbconvert_exporter": "python",
   "pygments_lexer": "ipython3",
   "version": "3.7.2"
  }
 },
 "nbformat": 4,
 "nbformat_minor": 2
}
