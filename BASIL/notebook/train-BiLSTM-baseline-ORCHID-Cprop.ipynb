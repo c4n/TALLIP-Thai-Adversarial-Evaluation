{
 "cells": [
  {
   "cell_type": "code",
   "execution_count": 1,
   "metadata": {},
   "outputs": [
    {
     "name": "stdout",
     "output_type": "stream",
     "text": [
      "/home/datamind/can/BASIL\n"
     ]
    }
   ],
   "source": [
    "%load_ext autoreload\n",
    "%autoreload 2\n",
    "import torch\n",
    "import math\n",
    "from pathlib import Path\n",
    "import os\n",
    "os.chdir(\"/home/datamind/can/BASIL\")\n",
    "mypath = Path().absolute()\n",
    "print(mypath)\n",
    "from basil.select_device import device"
   ]
  },
  {
   "cell_type": "code",
   "execution_count": 2,
   "metadata": {},
   "outputs": [
    {
     "name": "stdout",
     "output_type": "stream",
     "text": [
      "1.2.0\n"
     ]
    }
   ],
   "source": [
    "import torch\n",
    "print(torch.__version__)"
   ]
  },
  {
   "cell_type": "code",
   "execution_count": 3,
   "metadata": {},
   "outputs": [
    {
     "data": {
      "text/plain": [
       "device(type='cuda', index=0)"
      ]
     },
     "execution_count": 3,
     "metadata": {},
     "output_type": "execute_result"
    }
   ],
   "source": [
    "torch.device(device)"
   ]
  },
  {
   "cell_type": "code",
   "execution_count": 4,
   "metadata": {},
   "outputs": [],
   "source": [
    "import sys\n",
    "sys.path.append(\"/home/datamind/can/BASIL\")"
   ]
  },
  {
   "cell_type": "code",
   "execution_count": 5,
   "metadata": {},
   "outputs": [],
   "source": [
    "import basil"
   ]
  },
  {
   "cell_type": "code",
   "execution_count": 6,
   "metadata": {},
   "outputs": [],
   "source": [
    "from basil.select_device import device"
   ]
  },
  {
   "cell_type": "code",
   "execution_count": 7,
   "metadata": {
    "scrolled": true
   },
   "outputs": [],
   "source": [
    "%autoreload 2\n",
    "from basil.preprocessing.prep_orchid_corpus import ORCHID\n",
    "from basil.preprocessing.prep_pytorch_ORCHID import PytorchPrepWordLevel\n",
    "from basil.models.multitasks.wordlvlORCHID import ORCHIDTagger\n",
    "from basil.training.train_word_lvl_baseline_ORCHID_cprop import TrainModel\n",
    "\n"
   ]
  },
  {
   "cell_type": "code",
   "execution_count": 8,
   "metadata": {},
   "outputs": [
    {
     "name": "stdout",
     "output_type": "stream",
     "text": [
      "Preprocessing ORCHID corpus\n",
      "Done!\n"
     ]
    }
   ],
   "source": [
    "orchid  = ORCHID()"
   ]
  },
  {
   "cell_type": "code",
   "execution_count": 9,
   "metadata": {},
   "outputs": [
    {
     "name": "stdout",
     "output_type": "stream",
     "text": [
      "1\n",
      "Training\n",
      "Num of training text file: 132\n",
      " epoch 0: 0m 14s loss:1.4028 accuracy POS:0.7175 accuracy TYPE:0.9394epoch: 0\n",
      "F1 (POS): 0.7192874914361952\n",
      " epoch 1: 0m 29s loss:0.8935 accuracy POS:0.8095 accuracy TYPE:0.9675epoch: 1\n",
      "F1 (POS): 0.8183391627303211\n",
      " epoch 2: 0m 44s loss:0.6788 accuracy POS:0.8474 accuracy TYPE:0.9758epoch: 2\n",
      "F1 (POS): 0.8622219017055494\n",
      " epoch 3: 0m 59s loss:0.5588 accuracy POS:0.8745 accuracy TYPE:0.9817epoch: 3\n",
      "F1 (POS): 0.8855515090325605\n",
      " epoch 4: 1m 15s loss:0.4854 accuracy POS:0.8922 accuracy TYPE:0.9837epoch: 4\n",
      "F1 (POS): 0.8988930155410522\n",
      " epoch 5: 1m 30s loss:0.4341 accuracy POS:0.9005 accuracy TYPE:0.9847epoch: 5\n",
      "F1 (POS): 0.9074027332059279\n",
      " epoch 6: 1m 45s loss:0.3951 accuracy POS:0.9099 accuracy TYPE:0.9852epoch: 6\n",
      "F1 (POS): 0.9141816608372697\n",
      " epoch 7: 2m 0s loss:0.3653 accuracy POS:0.9163 accuracy TYPE:0.98574epoch: 7\n",
      "F1 (POS): 0.9193740309378718\n",
      " epoch 8: 2m 15s loss:0.3404 accuracy POS:0.9217 accuracy TYPE:0.9862epoch: 8\n",
      "F1 (POS): 0.9223668553708577\n",
      " epoch 9: 2m 30s loss:0.3194 accuracy POS:0.9227 accuracy TYPE:0.9862epoch: 9\n",
      "F1 (POS): 0.9240255291529946\n",
      " epoch 10: 2m 46s loss:0.3010 accuracy POS:0.9247 accuracy TYPE:0.9857epoch: 10\n",
      "F1 (POS): 0.9259726679407204\n",
      " epoch 11: 3m 1s loss:0.2848 accuracy POS:0.9296 accuracy TYPE:0.98676epoch: 11\n",
      "F1 (POS): 0.9270544117116792\n",
      " epoch 12: 3m 16s loss:0.2701 accuracy POS:0.9306 accuracy TYPE:0.9876epoch: 12\n",
      "F1 (POS): 0.9286770273681174\n",
      " epoch 13: 3m 31s loss:0.2567 accuracy POS:0.9325 accuracy TYPE:0.9881epoch: 13\n",
      "F1 (POS): 0.9299030036418707\n",
      " epoch 14: 3m 46s loss:0.2442 accuracy POS:0.9330 accuracy TYPE:0.9876epoch: 14\n",
      "F1 (POS): 0.9303717592759528\n",
      " epoch 15: 4m 1s loss:0.2325 accuracy POS:0.9370 accuracy TYPE:0.98918epoch: 15\n",
      "F1 (POS): 0.9306962824072404\n",
      " epoch 16: 4m 16s loss:0.2216 accuracy POS:0.9404 accuracy TYPE:0.9891epoch: 16\n",
      "F1 (POS): 0.9310208055385281\n",
      " epoch 17: 4m 32s loss:0.2113 accuracy POS:0.9409 accuracy TYPE:0.9901epoch: 17\n",
      "F1 (POS): 0.9311650380413226\n",
      " epoch 18: 4m 47s loss:0.2016 accuracy POS:0.9458 accuracy TYPE:0.9916epoch: 18\n",
      "F1 (POS): 0.9313453286698158\n",
      " epoch 19: 5m 2s loss:0.1922 accuracy POS:0.9488 accuracy TYPE:0.99214epoch: 19\n",
      "F1 (POS): 0.9320304330580896\n",
      " epoch 20: 5m 17s loss:0.1834 accuracy POS:0.9512 accuracy TYPE:0.9926epoch: 20\n",
      "F1 (POS): 0.9322107236865828\n",
      " epoch 21: 5m 32s loss:0.1747 accuracy POS:0.9547 accuracy TYPE:0.9926epoch: 21\n",
      "F1 (POS): 0.9324631305664731\n",
      " epoch 22: 5m 48s loss:0.1667 accuracy POS:0.9576 accuracy TYPE:0.9926epoch: 22\n",
      "F1 (POS): 0.9322107236865828\n",
      " epoch 23: 6m 3s loss:0.1587 accuracy POS:0.9581 accuracy TYPE:0.99365epoch: 23\n",
      "F1 (POS): 0.9319583168066924\n",
      " epoch 24: 6m 18s loss:0.1513 accuracy POS:0.9591 accuracy TYPE:0.9940epoch: 24\n",
      "F1 (POS): 0.9317419680525006\n",
      " epoch 25: 6m 33s loss:0.1441 accuracy POS:0.9601 accuracy TYPE:0.9950epoch: 25\n",
      "F1 (POS): 0.9318862005552951\n",
      " epoch 26: 6m 48s loss:0.1373 accuracy POS:0.9625 accuracy TYPE:0.9960epoch: 26\n",
      "F1 (POS): 0.9318501424295965\n",
      " epoch 27: 7m 3s loss:0.1306 accuracy POS:0.9655 accuracy TYPE:0.99607epoch: 27\n",
      "F1 (POS): 0.931994374932391\n",
      " epoch 28: 7m 19s loss:0.1243 accuracy POS:0.9685 accuracy TYPE:0.9960epoch: 28\n",
      "F1 (POS): 0.9321025493094869\n",
      " epoch 29: 7m 34s loss:0.1181 accuracy POS:0.9699 accuracy TYPE:0.9960epoch: 29\n",
      "F1 (POS): 0.9323188980636786\n",
      " epoch 30: 7m 49s loss:0.1123 accuracy POS:0.9714 accuracy TYPE:0.9965epoch: 30\n",
      "F1 (POS): 0.9319222586809938\n",
      " epoch 31: 8m 4s loss:0.1065 accuracy POS:0.9734 accuracy TYPE:0.99707epoch: 31\n",
      "F1 (POS): 0.9315977355497062\n",
      " epoch 32: 8m 19s loss:0.1012 accuracy POS:0.9773 accuracy TYPE:0.9975epoch: 32\n",
      "F1 (POS): 0.9310929217899253\n",
      " epoch 33: 8m 35s loss:0.0960 accuracy POS:0.9773 accuracy TYPE:0.9975epoch: 33\n",
      "F1 (POS): 0.9306962824072404\n",
      " epoch 34: 8m 50s loss:0.0912 accuracy POS:0.9778 accuracy TYPE:0.9975epoch: 34\n",
      "F1 (POS): 0.9303717592759528\n",
      " epoch 35: 9m 5s loss:0.0865 accuracy POS:0.9783 accuracy TYPE:0.99804epoch: 35\n",
      "F1 (POS): 0.9300111780189666\n",
      " epoch 36: 9m 20s loss:0.0820 accuracy POS:0.9793 accuracy TYPE:0.9990epoch: 36\n",
      "F1 (POS): 0.9299390617675694\n",
      " epoch 37: 9m 35s loss:0.0775 accuracy POS:0.9798 accuracy TYPE:0.9985epoch: 37\n",
      "F1 (POS): 0.9297587711390762\n",
      " epoch 38: 9m 51s loss:0.0731 accuracy POS:0.9812 accuracy TYPE:0.9995epoch: 38\n",
      "F1 (POS): 0.9300111780189666\n",
      " epoch 39: 10m 6s loss:0.0689 accuracy POS:0.9832 accuracy TYPE:0.9995epoch: 39\n",
      "F1 (POS): 0.929578480510583\n",
      "2\n",
      "Training\n",
      "Num of training text file: 132\n",
      " epoch 0: 0m 13s loss:1.4196 accuracy POS:0.7189 accuracy TYPE:0.9424epoch: 0\n",
      "F1 (POS): 0.7247322684166878\n",
      " epoch 1: 0m 28s loss:0.8867 accuracy POS:0.8125 accuracy TYPE:0.9685epoch: 1\n",
      "F1 (POS): 0.8197093715068692\n",
      " epoch 2: 0m 44s loss:0.6746 accuracy POS:0.8518 accuracy TYPE:0.9758epoch: 2\n",
      "F1 (POS): 0.8610680416831933\n",
      " epoch 3: 0m 59s loss:0.5557 accuracy POS:0.8740 accuracy TYPE:0.9788epoch: 3\n",
      "F1 (POS): 0.8840370677532182\n",
      " epoch 4: 1m 14s loss:0.4773 accuracy POS:0.8912 accuracy TYPE:0.9812epoch: 4\n",
      "F1 (POS): 0.897847329895792\n",
      " epoch 5: 1m 29s loss:0.4223 accuracy POS:0.9025 accuracy TYPE:0.9837epoch: 5\n",
      "F1 (POS): 0.9070421519489417\n",
      " epoch 6: 1m 45s loss:0.3816 accuracy POS:0.9114 accuracy TYPE:0.9827epoch: 6\n",
      "F1 (POS): 0.9128475101864205\n",
      " epoch 7: 2m 0s loss:0.3495 accuracy POS:0.9183 accuracy TYPE:0.98270epoch: 7\n",
      "F1 (POS): 0.9173547758987488\n",
      " epoch 8: 2m 15s loss:0.3231 accuracy POS:0.9222 accuracy TYPE:0.9842epoch: 8\n",
      "F1 (POS): 0.9206721234630225\n",
      " epoch 9: 2m 30s loss:0.3011 accuracy POS:0.9261 accuracy TYPE:0.9857epoch: 9\n",
      "F1 (POS): 0.9230159016334331\n",
      " epoch 10: 2m 46s loss:0.2831 accuracy POS:0.9281 accuracy TYPE:0.9862epoch: 10\n",
      "F1 (POS): 0.9251072729239534\n",
      " epoch 11: 3m 1s loss:0.2679 accuracy POS:0.9340 accuracy TYPE:0.98526epoch: 11\n",
      "F1 (POS): 0.9269462373345834\n",
      " epoch 12: 3m 16s loss:0.2544 accuracy POS:0.9360 accuracy TYPE:0.9857epoch: 12\n",
      "F1 (POS): 0.9286049111167202\n",
      " epoch 13: 3m 31s loss:0.2432 accuracy POS:0.9409 accuracy TYPE:0.9852epoch: 13\n",
      "F1 (POS): 0.9304438755273501\n",
      " epoch 14: 3m 46s loss:0.2333 accuracy POS:0.9404 accuracy TYPE:0.9852epoch: 14\n",
      "F1 (POS): 0.9313813867955144\n",
      " epoch 15: 4m 1s loss:0.2244 accuracy POS:0.9434 accuracy TYPE:0.98471epoch: 15\n",
      "F1 (POS): 0.9323910143150759\n",
      " epoch 16: 4m 17s loss:0.2161 accuracy POS:0.9458 accuracy TYPE:0.9867epoch: 16\n",
      "F1 (POS): 0.9332203512061443\n",
      " epoch 17: 4m 32s loss:0.2083 accuracy POS:0.9468 accuracy TYPE:0.9876epoch: 17\n",
      "F1 (POS): 0.9331842930804457\n",
      " epoch 18: 4m 47s loss:0.2009 accuracy POS:0.9488 accuracy TYPE:0.9876epoch: 18\n",
      "F1 (POS): 0.9333645837089388\n",
      " epoch 19: 5m 2s loss:0.1938 accuracy POS:0.9522 accuracy TYPE:0.98917epoch: 19\n",
      "F1 (POS): 0.9338333393430209\n",
      " epoch 20: 5m 17s loss:0.1871 accuracy POS:0.9537 accuracy TYPE:0.9896epoch: 20\n",
      "F1 (POS): 0.9339415137201168\n",
      " epoch 21: 5m 32s loss:0.1806 accuracy POS:0.9542 accuracy TYPE:0.9896epoch: 21\n",
      "F1 (POS): 0.9343381531028018\n",
      " epoch 22: 5m 48s loss:0.1743 accuracy POS:0.9566 accuracy TYPE:0.9916epoch: 22\n",
      "F1 (POS): 0.9345905599826921\n",
      " epoch 23: 6m 3s loss:0.1679 accuracy POS:0.9596 accuracy TYPE:0.99263epoch: 23\n",
      "F1 (POS): 0.934698734359788\n",
      " epoch 24: 6m 18s loss:0.1614 accuracy POS:0.9611 accuracy TYPE:0.9931epoch: 24\n",
      "F1 (POS): 0.9341218043486099\n",
      " epoch 25: 6m 33s loss:0.1548 accuracy POS:0.9621 accuracy TYPE:0.9940epoch: 25\n",
      "F1 (POS): 0.9340857462229113\n",
      " epoch 26: 6m 48s loss:0.1486 accuracy POS:0.9625 accuracy TYPE:0.9945epoch: 26\n",
      "F1 (POS): 0.9342660368514044\n",
      " epoch 27: 7m 3s loss:0.1429 accuracy POS:0.9640 accuracy TYPE:0.99550epoch: 27\n",
      "F1 (POS): 0.9342660368514044\n",
      " epoch 28: 7m 19s loss:0.1372 accuracy POS:0.9665 accuracy TYPE:0.9960epoch: 28\n",
      "F1 (POS): 0.934410269354199\n",
      " epoch 29: 7m 34s loss:0.1317 accuracy POS:0.9680 accuracy TYPE:0.9965epoch: 29\n",
      "F1 (POS): 0.9344463274798976\n",
      " epoch 30: 7m 49s loss:0.1259 accuracy POS:0.9685 accuracy TYPE:0.9970epoch: 30\n",
      "F1 (POS): 0.9342660368514044\n",
      " epoch 31: 8m 4s loss:0.1214 accuracy POS:0.9709 accuracy TYPE:0.99757epoch: 31\n",
      "F1 (POS): 0.9345545018569935\n",
      " epoch 32: 8m 19s loss:0.1161 accuracy POS:0.9719 accuracy TYPE:0.9975epoch: 32\n",
      "F1 (POS): 0.9340857462229113\n",
      " epoch 33: 8m 34s loss:0.1108 accuracy POS:0.9729 accuracy TYPE:0.9985epoch: 33\n",
      "F1 (POS): 0.9337972812173223\n",
      " epoch 34: 8m 50s loss:0.1059 accuracy POS:0.9744 accuracy TYPE:0.9985epoch: 34\n",
      "F1 (POS): 0.9331842930804457\n"
     ]
    },
    {
     "name": "stdout",
     "output_type": "stream",
     "text": [
      " epoch 35: 9m 5s loss:0.1010 accuracy POS:0.9753 accuracy TYPE:0.99851epoch: 35\n",
      "F1 (POS): 0.9328958280748567\n",
      " epoch 36: 9m 20s loss:0.0963 accuracy POS:0.9773 accuracy TYPE:0.9990epoch: 36\n",
      "F1 (POS): 0.9329318862005553\n",
      " epoch 37: 9m 35s loss:0.0917 accuracy POS:0.9788 accuracy TYPE:0.9990epoch: 37\n",
      "F1 (POS): 0.9325352468178704\n",
      " epoch 38: 9m 50s loss:0.0872 accuracy POS:0.9793 accuracy TYPE:0.9995epoch: 38\n",
      "F1 (POS): 0.9319222586809938\n",
      " epoch 39: 10m 5s loss:0.0830 accuracy POS:0.9812 accuracy TYPE:0.9995epoch: 39\n",
      "F1 (POS): 0.9317419680525006\n",
      "3\n",
      "Training\n",
      "Num of training text file: 132\n",
      " epoch 0: 0m 13s loss:1.4352 accuracy POS:0.7155 accuracy TYPE:0.9256epoch: 0\n",
      "F1 (POS): 0.7185302707965241\n",
      " epoch 1: 0m 29s loss:0.8766 accuracy POS:0.8179 accuracy TYPE:0.9694epoch: 1\n",
      "F1 (POS): 0.8118487001045686\n",
      " epoch 2: 0m 44s loss:0.6620 accuracy POS:0.8562 accuracy TYPE:0.9778epoch: 2\n",
      "F1 (POS): 0.8594454260267551\n",
      " epoch 3: 0m 59s loss:0.5505 accuracy POS:0.8754 accuracy TYPE:0.9808epoch: 3\n",
      "F1 (POS): 0.8845779396386976\n",
      " epoch 4: 1m 14s loss:0.4781 accuracy POS:0.8912 accuracy TYPE:0.9837epoch: 4\n",
      "F1 (POS): 0.8992535967980383\n",
      " epoch 5: 1m 29s loss:0.4275 accuracy POS:0.9025 accuracy TYPE:0.9837epoch: 5\n",
      "F1 (POS): 0.9090614069880648\n",
      " epoch 6: 1m 44s loss:0.3887 accuracy POS:0.9104 accuracy TYPE:0.9842epoch: 6\n",
      "F1 (POS): 0.9155518696138175\n",
      " epoch 7: 2m 0s loss:0.3577 accuracy POS:0.9124 accuracy TYPE:0.98379epoch: 7\n",
      "F1 (POS): 0.9190855659322829\n",
      " epoch 8: 2m 15s loss:0.3325 accuracy POS:0.9192 accuracy TYPE:0.9847epoch: 8\n",
      "F1 (POS): 0.9221144484909675\n",
      " epoch 9: 2m 30s loss:0.3116 accuracy POS:0.9256 accuracy TYPE:0.9852epoch: 9\n",
      "F1 (POS): 0.9248909241697617\n",
      " epoch 10: 2m 45s loss:0.2938 accuracy POS:0.9247 accuracy TYPE:0.9857epoch: 10\n",
      "F1 (POS): 0.9277395160999531\n",
      " epoch 11: 3m 0s loss:0.2786 accuracy POS:0.9291 accuracy TYPE:0.98628epoch: 11\n",
      "F1 (POS): 0.9293981898820899\n",
      " epoch 12: 3m 15s loss:0.2652 accuracy POS:0.9315 accuracy TYPE:0.9867epoch: 12\n",
      "F1 (POS): 0.9304078174016515\n",
      " epoch 13: 3m 31s loss:0.2532 accuracy POS:0.9340 accuracy TYPE:0.9862epoch: 13\n",
      "F1 (POS): 0.9310568636642267\n",
      " epoch 14: 3m 46s loss:0.2422 accuracy POS:0.9370 accuracy TYPE:0.9862epoch: 14\n",
      "F1 (POS): 0.93228283993798\n",
      " epoch 15: 4m 1s loss:0.2320 accuracy POS:0.9429 accuracy TYPE:0.98621epoch: 15\n",
      "F1 (POS): 0.9326794793206649\n",
      " epoch 16: 4m 16s loss:0.2224 accuracy POS:0.9448 accuracy TYPE:0.9876epoch: 16\n",
      "F1 (POS): 0.9330040024519525\n",
      " epoch 17: 4m 31s loss:0.2132 accuracy POS:0.9463 accuracy TYPE:0.9881epoch: 17\n",
      "F1 (POS): 0.9336530487145277\n",
      " epoch 18: 4m 47s loss:0.2043 accuracy POS:0.9478 accuracy TYPE:0.9881epoch: 18\n",
      "F1 (POS): 0.9337612230916237\n",
      " epoch 19: 5m 2s loss:0.1956 accuracy POS:0.9502 accuracy TYPE:0.98814epoch: 19\n",
      "F1 (POS): 0.9337972812173223\n",
      " epoch 20: 5m 17s loss:0.1872 accuracy POS:0.9532 accuracy TYPE:0.9881epoch: 20\n",
      "F1 (POS): 0.9335809324631306\n",
      " epoch 21: 5m 32s loss:0.1790 accuracy POS:0.9557 accuracy TYPE:0.9891epoch: 21\n",
      "F1 (POS): 0.9334006418346374\n",
      " epoch 22: 5m 47s loss:0.1712 accuracy POS:0.9562 accuracy TYPE:0.9896epoch: 22\n",
      "F1 (POS): 0.9335448743374319\n",
      " epoch 23: 6m 2s loss:0.1635 accuracy POS:0.9576 accuracy TYPE:0.99066epoch: 23\n",
      "F1 (POS): 0.9334727580860347\n",
      " epoch 24: 6m 18s loss:0.1561 accuracy POS:0.9601 accuracy TYPE:0.9906epoch: 24\n",
      "F1 (POS): 0.9336169905888292\n",
      " epoch 25: 6m 33s loss:0.1486 accuracy POS:0.9611 accuracy TYPE:0.9916epoch: 25\n",
      "F1 (POS): 0.9330761187033498\n",
      " epoch 26: 6m 48s loss:0.1415 accuracy POS:0.9630 accuracy TYPE:0.9921epoch: 26\n",
      "F1 (POS): 0.9328597699491581\n",
      " epoch 27: 7m 3s loss:0.1344 accuracy POS:0.9645 accuracy TYPE:0.99404epoch: 27\n",
      "F1 (POS): 0.9327155374463635\n",
      " epoch 28: 7m 18s loss:0.1274 accuracy POS:0.9655 accuracy TYPE:0.9965epoch: 28\n",
      "F1 (POS): 0.9326073630692676\n",
      " epoch 29: 7m 33s loss:0.1206 accuracy POS:0.9680 accuracy TYPE:0.9970epoch: 29\n",
      "F1 (POS): 0.9323549561893772\n",
      " epoch 30: 7m 49s loss:0.1140 accuracy POS:0.9724 accuracy TYPE:0.9985epoch: 30\n",
      "F1 (POS): 0.9323549561893772\n",
      " epoch 31: 8m 4s loss:0.1075 accuracy POS:0.9729 accuracy TYPE:0.99854epoch: 31\n",
      "F1 (POS): 0.9320664911837883\n",
      " epoch 32: 8m 19s loss:0.1013 accuracy POS:0.9739 accuracy TYPE:0.9985epoch: 32\n",
      "F1 (POS): 0.931994374932391\n",
      " epoch 33: 8m 34s loss:0.0954 accuracy POS:0.9749 accuracy TYPE:0.9995epoch: 33\n",
      "F1 (POS): 0.931705909926802\n",
      " epoch 34: 8m 49s loss:0.0896 accuracy POS:0.9763 accuracy TYPE:1.0986epoch: 34\n",
      "F1 (POS): 0.9318501424295965\n",
      " epoch 35: 9m 4s loss:0.0843 accuracy POS:0.9778 accuracy TYPE:1.09865epoch: 35\n",
      "F1 (POS): 0.9312371542927199\n",
      " epoch 36: 9m 19s loss:0.0789 accuracy POS:0.9798 accuracy TYPE:1.0989epoch: 36\n",
      "F1 (POS): 0.9310208055385281\n",
      " epoch 37: 9m 34s loss:0.0737 accuracy POS:0.9822 accuracy TYPE:1.0993epoch: 37\n",
      "F1 (POS): 0.9307683986586377\n",
      " epoch 38: 9m 49s loss:0.0686 accuracy POS:0.9842 accuracy TYPE:1.0996epoch: 38\n",
      "F1 (POS): 0.9300832942703638\n",
      " epoch 39: 10m 5s loss:0.0643 accuracy POS:0.9837 accuracy TYPE:1.0996epoch: 39\n",
      "F1 (POS): 0.9298669455161721\n"
     ]
    }
   ],
   "source": [
    "for i in range(3):\n",
    "    print(i+1)\n",
    "    trainer = TrainModel(ORCHIDTagger, orchid,i+1)\n",
    "    trainer.train(40)\n"
   ]
  },
  {
   "cell_type": "code",
   "execution_count": 10,
   "metadata": {},
   "outputs": [
    {
     "data": {
      "text/plain": [
       "2"
      ]
     },
     "execution_count": 10,
     "metadata": {},
     "output_type": "execute_result"
    }
   ],
   "source": [
    "1+1"
   ]
  },
  {
   "cell_type": "code",
   "execution_count": null,
   "metadata": {},
   "outputs": [],
   "source": []
  }
 ],
 "metadata": {
  "kernelspec": {
   "display_name": "Python 3",
   "language": "python",
   "name": "python3"
  },
  "language_info": {
   "codemirror_mode": {
    "name": "ipython",
    "version": 3
   },
   "file_extension": ".py",
   "mimetype": "text/x-python",
   "name": "python",
   "nbconvert_exporter": "python",
   "pygments_lexer": "ipython3",
   "version": "3.7.3"
  }
 },
 "nbformat": 4,
 "nbformat_minor": 2
}
