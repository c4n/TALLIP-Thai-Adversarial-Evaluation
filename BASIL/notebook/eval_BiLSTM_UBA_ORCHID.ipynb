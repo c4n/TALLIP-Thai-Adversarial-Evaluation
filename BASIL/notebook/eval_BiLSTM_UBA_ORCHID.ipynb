{
 "cells": [
  {
   "cell_type": "code",
   "execution_count": 1,
   "metadata": {},
   "outputs": [],
   "source": [
    "import torch\n",
    "import math"
   ]
  },
  {
   "cell_type": "code",
   "execution_count": 2,
   "metadata": {},
   "outputs": [],
   "source": [
    "%load_ext autoreload\n",
    "%autoreload 2"
   ]
  },
  {
   "cell_type": "code",
   "execution_count": 3,
   "metadata": {},
   "outputs": [],
   "source": [
    "import re"
   ]
  },
  {
   "cell_type": "code",
   "execution_count": 4,
   "metadata": {},
   "outputs": [
    {
     "name": "stdout",
     "output_type": "stream",
     "text": [
      "/home/datamind/can/BASIL/notebook\n"
     ]
    }
   ],
   "source": [
    "from pathlib import Path\n",
    "import os\n",
    "mypath = Path().absolute()\n",
    "print(mypath)"
   ]
  },
  {
   "cell_type": "code",
   "execution_count": 5,
   "metadata": {},
   "outputs": [],
   "source": [
    "os.chdir(\"/home/datamind/can/BASIL\")"
   ]
  },
  {
   "cell_type": "code",
   "execution_count": 6,
   "metadata": {},
   "outputs": [],
   "source": [
    "import sys\n",
    "sys.path.append(\"/home/datamind/can/BASIL\")"
   ]
  },
  {
   "cell_type": "code",
   "execution_count": 7,
   "metadata": {},
   "outputs": [],
   "source": [
    "import basil"
   ]
  },
  {
   "cell_type": "code",
   "execution_count": 8,
   "metadata": {
    "scrolled": true
   },
   "outputs": [
    {
     "data": {
      "text/plain": [
       "device(type='cuda', index=1)"
      ]
     },
     "execution_count": 8,
     "metadata": {},
     "output_type": "execute_result"
    }
   ],
   "source": [
    "%autoreload 2\n",
    "from basil.preprocessing.prep_orchid_corpus import ORCHID\n",
    "from basil.preprocessing.prep_pytorch import PytorchPrepWordLevel\n",
    "from basil.models.multitasks.BiLSTM_BA import LSTMTagger\n",
    "from basil.evaluation.orchid_stress_test import OrchidStressEval\n",
    "from basil.select_device import device\n",
    "torch.device(device)"
   ]
  },
  {
   "cell_type": "code",
   "execution_count": 9,
   "metadata": {},
   "outputs": [
    {
     "name": "stdout",
     "output_type": "stream",
     "text": [
      "Preprocessing ORCHID corpus\n",
      "Done!\n"
     ]
    }
   ],
   "source": [
    "orchid  = ORCHID()"
   ]
  },
  {
   "cell_type": "code",
   "execution_count": 10,
   "metadata": {},
   "outputs": [],
   "source": [
    "from basil.evaluation.noise import NoiseGenerator\n",
    "from basil.preprocessing.prep_pytorch_ORCHID import PytorchPrepWordLevel\n",
    "prep_torch = PytorchPrepWordLevel(orchid.train_data, orchid.val_data, orchid.test_data)"
   ]
  },
  {
   "cell_type": "code",
   "execution_count": 11,
   "metadata": {},
   "outputs": [],
   "source": [
    "# noisy_data  = NoiseGenerator(best2010.test_data)"
   ]
  },
  {
   "cell_type": "code",
   "execution_count": 12,
   "metadata": {},
   "outputs": [],
   "source": [
    "# import pickle\n",
    "# pickle.dump( noisy_data, open( \"stress_best2010.p\", \"wb\" ) )"
   ]
  },
  {
   "cell_type": "code",
   "execution_count": 13,
   "metadata": {},
   "outputs": [
    {
     "name": "stdout",
     "output_type": "stream",
     "text": [
      "normal 0.9460093377292944\n",
      "10 0.9183501869758591\n",
      "20 0.8897174341159029\n",
      "30 0.8630097581483859\n",
      "40 0.8319651273427301\n",
      "50 0.8013187883079238\n",
      "60 0.7722656163565154\n",
      "70 0.7388533622463656\n",
      "80 0.7053747261744076\n",
      "90 0.6707233421105039\n",
      "100 0.6363374858938331\n"
     ]
    }
   ],
   "source": [
    "CHAR_EMBEDDING_DIM = 100\n",
    "WORD_EMBEDDING_DIM = 128\n",
    "HIDDEN_DIM = 128\n",
    "\n",
    "model = LSTMTagger(CHAR_EMBEDDING_DIM,WORD_EMBEDDING_DIM,HIDDEN_DIM,\\\n",
    "                          len(prep_torch.char_to_index),len(prep_torch.word_to_index),\\\n",
    "                           len(prep_torch.pos_to_index),  len(prep_torch.type_to_index)).to(device)\n",
    "stress_eval  = OrchidStressEval(model, \"weights/model_BILSTM_U_BA_orchid_seed1.p\",orchid,\"BiLSTM_UBA_ORCHID-1\" )\n",
    "stress_eval.f1_summary(\"char\")\n"
   ]
  },
  {
   "cell_type": "code",
   "execution_count": 14,
   "metadata": {},
   "outputs": [
    {
     "name": "stdout",
     "output_type": "stream",
     "text": [
      "normal 0.9479565419423363\n",
      "10 0.9177527493195848\n",
      "20 0.8884340495209435\n",
      "30 0.8575000553183015\n",
      "40 0.8260128781005908\n",
      "50 0.7916491492045228\n",
      "60 0.7616002478259908\n",
      "70 0.7242493306485518\n",
      "80 0.6890226362489766\n",
      "90 0.6522470294072091\n",
      "100 0.6179275551523467\n"
     ]
    }
   ],
   "source": [
    "stress_eval  = OrchidStressEval(model, \"weights/model_BILSTM_U_BA_orchid_seed2.p\",orchid,\"BiLSTM_UBA_ORCHID-2\" )\n",
    "stress_eval.f1_summary(\"char\")"
   ]
  },
  {
   "cell_type": "code",
   "execution_count": 15,
   "metadata": {},
   "outputs": [
    {
     "name": "stdout",
     "output_type": "stream",
     "text": [
      "normal 0.9466952846679796\n",
      "10 0.9168012745336666\n",
      "20 0.8886995773681765\n",
      "30 0.8612395725001659\n",
      "40 0.8293541035116058\n",
      "50 0.7975350164848538\n",
      "60 0.7672648419002944\n",
      "70 0.732303675347952\n",
      "80 0.6986922753523775\n",
      "90 0.6659217135397075\n",
      "100 0.6325758413913659\n"
     ]
    }
   ],
   "source": [
    "stress_eval  = OrchidStressEval(model, \"weights/model_BILSTM_U_BA_orchid_seed3.p\",orchid,\"BiLSTM_UBA_ORCHID-3\" )\n",
    "stress_eval.f1_summary(\"char\")"
   ]
  },
  {
   "cell_type": "code",
   "execution_count": null,
   "metadata": {},
   "outputs": [],
   "source": []
  }
 ],
 "metadata": {
  "kernelspec": {
   "display_name": "Python 3",
   "language": "python",
   "name": "python3"
  },
  "language_info": {
   "codemirror_mode": {
    "name": "ipython",
    "version": 3
   },
   "file_extension": ".py",
   "mimetype": "text/x-python",
   "name": "python",
   "nbconvert_exporter": "python",
   "pygments_lexer": "ipython3",
   "version": "3.7.3"
  }
 },
 "nbformat": 4,
 "nbformat_minor": 2
}
