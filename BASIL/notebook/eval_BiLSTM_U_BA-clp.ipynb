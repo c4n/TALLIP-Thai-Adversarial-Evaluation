{
 "cells": [
  {
   "cell_type": "code",
   "execution_count": 1,
   "metadata": {},
   "outputs": [],
   "source": [
    "import torch\n",
    "import math"
   ]
  },
  {
   "cell_type": "code",
   "execution_count": 2,
   "metadata": {},
   "outputs": [],
   "source": [
    "%load_ext autoreload\n",
    "%autoreload 2"
   ]
  },
  {
   "cell_type": "code",
   "execution_count": 3,
   "metadata": {},
   "outputs": [],
   "source": [
    "import re"
   ]
  },
  {
   "cell_type": "code",
   "execution_count": 4,
   "metadata": {},
   "outputs": [
    {
     "name": "stdout",
     "output_type": "stream",
     "text": [
      "/home/datamind/can/BASIL/notebook\n"
     ]
    }
   ],
   "source": [
    "from pathlib import Path\n",
    "import os\n",
    "mypath = Path().absolute()\n",
    "print(mypath)"
   ]
  },
  {
   "cell_type": "code",
   "execution_count": 5,
   "metadata": {},
   "outputs": [],
   "source": [
    "os.chdir(\"/home/datamind/can/BASIL/\")"
   ]
  },
  {
   "cell_type": "code",
   "execution_count": 6,
   "metadata": {},
   "outputs": [],
   "source": [
    "import sys\n",
    "sys.path.append('/home/datamind/can/BASIL/')"
   ]
  },
  {
   "cell_type": "code",
   "execution_count": 7,
   "metadata": {},
   "outputs": [],
   "source": [
    "import basil"
   ]
  },
  {
   "cell_type": "code",
   "execution_count": 8,
   "metadata": {
    "scrolled": true
   },
   "outputs": [
    {
     "name": "stderr",
     "output_type": "stream",
     "text": [
      "/home/datamind/can/BASIL/basil/preprocessing/prep_best_corpus.py:9: YAMLLoadWarning: calling yaml.load() without Loader=... is deprecated, as the default Loader is unsafe. Please read https://msg.pyyaml.org/load for full details.\n",
      "  cfg = yaml.load(ymlfile)\n"
     ]
    },
    {
     "data": {
      "text/plain": [
       "device(type='cuda', index=0)"
      ]
     },
     "execution_count": 8,
     "metadata": {},
     "output_type": "execute_result"
    }
   ],
   "source": [
    "%autoreload 2\n",
    "from basil.preprocessing.prep_best_corpus import Best2010NECTEC\n",
    "from basil.preprocessing.prep_pytorch import PytorchPrepWordLevel\n",
    "from basil.models.multitasks.BiLSTM_BA import LSTMTagger\n",
    "from basil.evaluation.stress_test import StressEval\n",
    "from basil.select_device import device\n",
    "torch.device(device)"
   ]
  },
  {
   "cell_type": "code",
   "execution_count": 9,
   "metadata": {},
   "outputs": [
    {
     "name": "stdout",
     "output_type": "stream",
     "text": [
      "Preprocessing BEST2010 corpus\n",
      "Done!\n"
     ]
    }
   ],
   "source": [
    "best2010  = Best2010NECTEC()"
   ]
  },
  {
   "cell_type": "code",
   "execution_count": 10,
   "metadata": {},
   "outputs": [],
   "source": [
    "from basil.evaluation.noise import NoiseGenerator\n",
    "from basil.preprocessing.prep_pytorch import PytorchPrepWordLevel\n",
    "prep_torch = PytorchPrepWordLevel(best2010.train_data, best2010.val_data, best2010.test_data)"
   ]
  },
  {
   "cell_type": "code",
   "execution_count": 11,
   "metadata": {},
   "outputs": [],
   "source": [
    "# noisy_data  = NoiseGenerator(best2010.test_data)"
   ]
  },
  {
   "cell_type": "code",
   "execution_count": 12,
   "metadata": {},
   "outputs": [],
   "source": [
    "# import pickle\n",
    "# pickle.dump( noisy_data, open( \"stress_best2010.p\", \"wb\" ) )"
   ]
  },
  {
   "cell_type": "code",
   "execution_count": 13,
   "metadata": {},
   "outputs": [
    {
     "name": "stdout",
     "output_type": "stream",
     "text": [
      "normal 0.9524732714356052 0.820920613742495\n",
      "10 0.9124084221910094 0.7860106698280973\n",
      "20 0.8704826758517001 0.7531926406926407\n",
      "30 0.8273867093393357 0.7090564545813963\n",
      "40 0.7825962715716682 0.6655610077030621\n",
      "50 0.7357638690447407 0.61284990232107\n",
      "60 0.686774187166563 0.550478677110531\n",
      "70 0.6351384324544145 0.4849466973804039\n",
      "80 0.5822580006946613 0.4166266903499332\n",
      "90 0.5261054330166839 0.34551092771277847\n",
      "100 0.46300038036272967 0.26508552601886537\n"
     ]
    }
   ],
   "source": [
    "CHAR_EMBEDDING_DIM = 100\n",
    "WORD_EMBEDDING_DIM = 128\n",
    "HIDDEN_DIM = 128\n",
    "\n",
    "model = LSTMTagger(CHAR_EMBEDDING_DIM,WORD_EMBEDDING_DIM,HIDDEN_DIM,\\\n",
    "                           len(prep_torch.char_to_index),len(prep_torch.word_to_index),\\\n",
    "                           len(prep_torch.pos_to_index),len(prep_torch.ner_to_index)).to(device)\n",
    "stress_eval  = StressEval(model, \"weights/model_bilstm_BA_clp_seed1.p\",best2010,\"BiLSTM_BA_clp-1\" )\n",
    "stress_eval.f1_summary(\"char\")\n"
   ]
  },
  {
   "cell_type": "code",
   "execution_count": 14,
   "metadata": {},
   "outputs": [
    {
     "name": "stdout",
     "output_type": "stream",
     "text": [
      "normal 0.9521039952169937 0.8250428357249946\n",
      "10 0.9124907953883522 0.7889952863953755\n",
      "20 0.870421333989836 0.7528024556137006\n",
      "30 0.826256116271811 0.707768861669697\n",
      "40 0.7808102345415777 0.6610911878233732\n",
      "50 0.732514304429922 0.6053522246125598\n",
      "60 0.6830240855005595 0.5460938030272178\n",
      "70 0.6282217273844355 0.48012256861177716\n",
      "80 0.5725609501429919 0.40798653492824194\n",
      "90 0.5096146025004341 0.33148033765699\n",
      "100 0.4409896789368975 0.25336767687839096\n"
     ]
    }
   ],
   "source": [
    "stress_eval  = StressEval(model, \"weights/model_bilstm_BA_clp_seed2.p\",best2010,\"BiLSTM_BA_clp-2\" )\n",
    "stress_eval.f1_summary(\"char\")\n",
    "\n"
   ]
  },
  {
   "cell_type": "code",
   "execution_count": 15,
   "metadata": {},
   "outputs": [
    {
     "name": "stdout",
     "output_type": "stream",
     "text": [
      "normal 0.9526403249630724 0.8243625306732102\n",
      "10 0.9127777008447248 0.7898713114424122\n",
      "20 0.8709010898188325 0.753402711398915\n",
      "30 0.8272962071504721 0.7101638902003102\n",
      "40 0.7819412020733589 0.665227481245615\n",
      "50 0.7325158606984423 0.6071021317127487\n",
      "60 0.6827497818139451 0.5502191526099084\n",
      "70 0.628615398144484 0.4797592213782231\n",
      "80 0.5744174695378013 0.4137625927470833\n",
      "90 0.5149364828403616 0.34284061045880854\n",
      "100 0.45116906138589474 0.2673196475692115\n"
     ]
    }
   ],
   "source": [
    "stress_eval  = StressEval(model, \"weights/model_bilstm_BA_clp_seed3.p\",best2010,\"BiLSTM_BA_clp-3\" )\n",
    "stress_eval.f1_summary(\"char\")\n"
   ]
  },
  {
   "cell_type": "code",
   "execution_count": null,
   "metadata": {},
   "outputs": [],
   "source": []
  }
 ],
 "metadata": {
  "kernelspec": {
   "display_name": "Python 3",
   "language": "python",
   "name": "python3"
  },
  "language_info": {
   "codemirror_mode": {
    "name": "ipython",
    "version": 3
   },
   "file_extension": ".py",
   "mimetype": "text/x-python",
   "name": "python",
   "nbconvert_exporter": "python",
   "pygments_lexer": "ipython3",
   "version": "3.7.3"
  }
 },
 "nbformat": 4,
 "nbformat_minor": 2
}
