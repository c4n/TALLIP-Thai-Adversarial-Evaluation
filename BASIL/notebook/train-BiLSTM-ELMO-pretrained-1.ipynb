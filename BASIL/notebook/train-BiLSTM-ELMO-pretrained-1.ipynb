{
 "cells": [
  {
   "cell_type": "code",
   "execution_count": 1,
   "metadata": {},
   "outputs": [
    {
     "name": "stdout",
     "output_type": "stream",
     "text": [
      "/home/datamind/can/BASIL\n"
     ]
    }
   ],
   "source": [
    "%load_ext autoreload\n",
    "%autoreload 2\n",
    "import torch\n",
    "import math\n",
    "from pathlib import Path\n",
    "import os\n",
    "os.chdir(\"/home/datamind/can/BASIL\")\n",
    "mypath = Path().absolute()\n",
    "print(mypath)\n",
    "from basil.select_device import device"
   ]
  },
  {
   "cell_type": "code",
   "execution_count": 2,
   "metadata": {},
   "outputs": [
    {
     "name": "stdout",
     "output_type": "stream",
     "text": [
      "/home/datamind/can/BASIL\r\n"
     ]
    }
   ],
   "source": [
    "!pwd"
   ]
  },
  {
   "cell_type": "code",
   "execution_count": 3,
   "metadata": {
    "scrolled": true
   },
   "outputs": [
    {
     "data": {
      "text/plain": [
       "device(type='cuda', index=0)"
      ]
     },
     "execution_count": 3,
     "metadata": {},
     "output_type": "execute_result"
    }
   ],
   "source": [
    "torch.device(device)"
   ]
  },
  {
   "cell_type": "code",
   "execution_count": 4,
   "metadata": {},
   "outputs": [
    {
     "name": "stdout",
     "output_type": "stream",
     "text": [
      "/home/datamind/can/BASIL\n"
     ]
    }
   ],
   "source": [
    "from pathlib import Path\n",
    "import os\n",
    "os.chdir(\"/home/datamind/can/BASIL\")\n",
    "mypath = Path().absolute()\n",
    "print(mypath)"
   ]
  },
  {
   "cell_type": "code",
   "execution_count": 5,
   "metadata": {},
   "outputs": [],
   "source": [
    "affixes = r\"^การ|^ความ|^นัก|^ผู้|^ไอ้|กร$|^ที่\\w+|^อย่าง|^แบบ|^โดย|^น่า\""
   ]
  },
  {
   "cell_type": "code",
   "execution_count": 6,
   "metadata": {},
   "outputs": [],
   "source": [
    "import sys\n",
    "sys.path.append('/home/can/Documents/thai_nlp_research/BASIL')"
   ]
  },
  {
   "cell_type": "code",
   "execution_count": 7,
   "metadata": {},
   "outputs": [],
   "source": [
    "import basil"
   ]
  },
  {
   "cell_type": "code",
   "execution_count": 8,
   "metadata": {},
   "outputs": [],
   "source": [
    "from basil.select_device import device"
   ]
  },
  {
   "cell_type": "code",
   "execution_count": 9,
   "metadata": {},
   "outputs": [
    {
     "name": "stderr",
     "output_type": "stream",
     "text": [
      "/home/datamind/can/BASIL/basil/preprocessing/prep_best_corpus.py:9: YAMLLoadWarning: calling yaml.load() without Loader=... is deprecated, as the default Loader is unsafe. Please read https://msg.pyyaml.org/load for full details.\n",
      "  cfg = yaml.load(ymlfile)\n"
     ]
    }
   ],
   "source": [
    "%autoreload 2\n",
    "from basil.preprocessing.prep_best_corpus import Best2010NECTEC, BestSyllable2010NECTEC\n",
    "\n"
   ]
  },
  {
   "cell_type": "code",
   "execution_count": 10,
   "metadata": {},
   "outputs": [
    {
     "name": "stdout",
     "output_type": "stream",
     "text": [
      "Preprocessing BEST2010 corpus\n",
      "Done!\n"
     ]
    }
   ],
   "source": [
    "best2010  = Best2010NECTEC()"
   ]
  },
  {
   "cell_type": "code",
   "execution_count": 11,
   "metadata": {},
   "outputs": [],
   "source": [
    "%autoreload 2\n",
    "from basil.preprocessing.prep_best_corpus import Best2010NECTEC, BestSyllable2010NECTEC\n",
    "from basil.preprocessing.prep_pytorch import PytorchPrepWordLevel\n",
    "from basil.models.multitasks.elmo_lstm_pretrained import LSTMTagger\n",
    "from basil.training.train_elmo_small import TrainModel\n"
   ]
  },
  {
   "cell_type": "code",
   "execution_count": null,
   "metadata": {
    "scrolled": true
   },
   "outputs": [
    {
     "name": "stdout",
     "output_type": "stream",
     "text": [
      "Training\n",
      "Num of training text file: 4975\n",
      " epoch 0: 64m 46s loss:0.3507 accuracy POS:0.9342 accuracy NER:0.9615epoch: 0\n",
      "F1 (POS): 0.9342739528976082 F1 (NER) 0.7596979220413714\n",
      " epoch 1: 132m 43s loss:0.3145 accuracy POS:0.9460 accuracy NER:0.9608epoch: 1\n",
      "F1 (POS): 0.9412295803205938 F1 (NER) 0.7765739793545986\n",
      " epoch 2: 200m 39s loss:0.3075 accuracy POS:0.9519 accuracy NER:0.9623epoch: 2\n",
      "F1 (POS): 0.9442897149065757 F1 (NER) 0.7848412459122852\n",
      " epoch 3: 268m 17s loss:0.2914 accuracy POS:0.9527 accuracy NER:0.9623epoch: 3\n",
      "F1 (POS): 0.9454455028884042 F1 (NER) 0.7850336974204044\n",
      " epoch 4: 335m 10s loss:0.2663 accuracy POS:0.9527 accuracy NER:0.9623epoch: 4\n",
      "F1 (POS): 0.9470140403228892 F1 (NER) 0.789572471324296\n",
      " epoch 5: 401m 57s loss:0.2899 accuracy POS:0.9460 accuracy NER:0.9601epoch: 5\n",
      "F1 (POS): 0.9472927115732611 F1 (NER) 0.7904521565994489\n",
      " epoch 6: 468m 47s loss:0.2727 accuracy POS:0.9505 accuracy NER:0.9593epoch: 6\n",
      "F1 (POS): 0.9476261524924442 F1 (NER) 0.7936625077834921\n",
      " epoch 7: 513m 3s loss:0.3195 accuracy POS:0.9606 accuracy NER:0.93012"
     ]
    }
   ],
   "source": [
    "\n",
    "trainer = TrainModel(LSTMTagger, best2010,1)\n",
    "trainer.train(40)\n"
   ]
  },
  {
   "cell_type": "code",
   "execution_count": null,
   "metadata": {},
   "outputs": [],
   "source": [
    "filehandle = open('elmo_last_1.txt', 'w')\n",
    "filehandle.write('Hello, world!\\n')\n",
    "filehandle.close()"
   ]
  },
  {
   "cell_type": "code",
   "execution_count": null,
   "metadata": {},
   "outputs": [],
   "source": [
    "torch.save(trainer.model.state_dict(), \"elmo1.pt\")"
   ]
  },
  {
   "cell_type": "code",
   "execution_count": null,
   "metadata": {},
   "outputs": [],
   "source": [
    "trainer.model.state_dict().keys()"
   ]
  },
  {
   "cell_type": "code",
   "execution_count": null,
   "metadata": {},
   "outputs": [],
   "source": [
    "max_d = -100\n",
    "for i,data in enumerate(best2010.train_data):\n",
    "    if len(data)>max_d:\n",
    "        max_d = len(data)\n",
    "        print(max_d,i)"
   ]
  },
  {
   "cell_type": "code",
   "execution_count": null,
   "metadata": {},
   "outputs": [],
   "source": [
    "a = [1,2,3]"
   ]
  },
  {
   "cell_type": "code",
   "execution_count": null,
   "metadata": {},
   "outputs": [],
   "source": [
    "b = [4,5]"
   ]
  },
  {
   "cell_type": "code",
   "execution_count": null,
   "metadata": {},
   "outputs": [],
   "source": [
    "a.extend(b)"
   ]
  },
  {
   "cell_type": "code",
   "execution_count": null,
   "metadata": {},
   "outputs": [],
   "source": [
    "a\n"
   ]
  },
  {
   "cell_type": "code",
   "execution_count": null,
   "metadata": {},
   "outputs": [],
   "source": [
    "1+1"
   ]
  },
  {
   "cell_type": "code",
   "execution_count": null,
   "metadata": {},
   "outputs": [],
   "source": []
  }
 ],
 "metadata": {
  "kernelspec": {
   "display_name": "Python 3",
   "language": "python",
   "name": "python3"
  },
  "language_info": {
   "codemirror_mode": {
    "name": "ipython",
    "version": 3
   },
   "file_extension": ".py",
   "mimetype": "text/x-python",
   "name": "python",
   "nbconvert_exporter": "python",
   "pygments_lexer": "ipython3",
   "version": "3.7.3"
  }
 },
 "nbformat": 4,
 "nbformat_minor": 2
}
