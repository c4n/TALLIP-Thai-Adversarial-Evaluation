{
 "cells": [
  {
   "cell_type": "code",
   "execution_count": 1,
   "metadata": {},
   "outputs": [],
   "source": [
    "import torch\n",
    "import math"
   ]
  },
  {
   "cell_type": "code",
   "execution_count": 2,
   "metadata": {},
   "outputs": [],
   "source": [
    "%load_ext autoreload\n",
    "%autoreload 2"
   ]
  },
  {
   "cell_type": "code",
   "execution_count": 3,
   "metadata": {},
   "outputs": [],
   "source": [
    "import re"
   ]
  },
  {
   "cell_type": "code",
   "execution_count": 4,
   "metadata": {},
   "outputs": [
    {
     "name": "stdout",
     "output_type": "stream",
     "text": [
      "/home/datamind/can/BASIL/notebook\n"
     ]
    }
   ],
   "source": [
    "from pathlib import Path\n",
    "import os\n",
    "mypath = Path().absolute()\n",
    "print(mypath)"
   ]
  },
  {
   "cell_type": "code",
   "execution_count": 5,
   "metadata": {},
   "outputs": [],
   "source": [
    "os.chdir(\"/home/datamind/can/BASIL\")"
   ]
  },
  {
   "cell_type": "code",
   "execution_count": 6,
   "metadata": {},
   "outputs": [],
   "source": [
    "import sys\n",
    "sys.path.append(\"/home/datamind/can/BASIL\")"
   ]
  },
  {
   "cell_type": "code",
   "execution_count": 7,
   "metadata": {},
   "outputs": [],
   "source": [
    "import basil"
   ]
  },
  {
   "cell_type": "code",
   "execution_count": 8,
   "metadata": {
    "scrolled": true
   },
   "outputs": [
    {
     "data": {
      "text/plain": [
       "device(type='cuda', index=1)"
      ]
     },
     "execution_count": 8,
     "metadata": {},
     "output_type": "execute_result"
    }
   ],
   "source": [
    "%autoreload 2\n",
    "from basil.preprocessing.prep_orchid_corpus import ORCHID\n",
    "from basil.preprocessing.prep_pytorch import PytorchPrepWordLevel\n",
    "from basil.models.multitasks.BILSTM_UBC import LSTMTagger\n",
    "from basil.evaluation.orchid_stress_test import OrchidStressEval\n",
    "from basil.select_device import device\n",
    "torch.device(device)"
   ]
  },
  {
   "cell_type": "code",
   "execution_count": 9,
   "metadata": {},
   "outputs": [
    {
     "name": "stdout",
     "output_type": "stream",
     "text": [
      "Preprocessing ORCHID corpus\n",
      "Done!\n"
     ]
    }
   ],
   "source": [
    "orchid  = ORCHID()"
   ]
  },
  {
   "cell_type": "code",
   "execution_count": 10,
   "metadata": {},
   "outputs": [],
   "source": [
    "from basil.evaluation.noise import NoiseGenerator\n",
    "from basil.preprocessing.prep_pytorch_ORCHID import PytorchPrepWordLevel\n",
    "prep_torch = PytorchPrepWordLevel(orchid.train_data, orchid.val_data, orchid.test_data)"
   ]
  },
  {
   "cell_type": "code",
   "execution_count": 11,
   "metadata": {},
   "outputs": [],
   "source": [
    "# noisy_data  = NoiseGenerator(best2010.test_data)"
   ]
  },
  {
   "cell_type": "code",
   "execution_count": 12,
   "metadata": {},
   "outputs": [],
   "source": [
    "# import pickle\n",
    "# pickle.dump( noisy_data, open( \"stress_best2010.p\", \"wb\" ) )"
   ]
  },
  {
   "cell_type": "code",
   "execution_count": 13,
   "metadata": {},
   "outputs": [
    {
     "name": "stdout",
     "output_type": "stream",
     "text": [
      "normal 0.9503684198880358\n",
      "10 0.9252760383245193\n",
      "20 0.9008253490584825\n",
      "30 0.876352532471843\n",
      "40 0.8465470316199412\n",
      "50 0.8191534087137389\n",
      "60 0.791029584227646\n",
      "70 0.7583696590179895\n",
      "80 0.7239395481601133\n",
      "90 0.6894651826610316\n",
      "100 0.6554333635740048\n"
     ]
    }
   ],
   "source": [
    "CHAR_EMBEDDING_DIM = 100\n",
    "WORD_EMBEDDING_DIM = 128\n",
    "HIDDEN_DIM = 128\n",
    "\n",
    "model = LSTMTagger(CHAR_EMBEDDING_DIM,WORD_EMBEDDING_DIM,HIDDEN_DIM,\\\n",
    "                          len(prep_torch.char_to_index),len(prep_torch.word_to_index),prep_torch.prefix_size,\\\n",
    "                           len(prep_torch.pos_to_index),  len(prep_torch.type_to_index)).to(device)\n",
    "stress_eval  = OrchidStressEval(model, \"weights/model_BILSTM_UB_C_orchid_seed1.p\",orchid,\"BiLSTM_UBC_ORCHID-1\" )\n",
    "stress_eval.f1_summary(\"affix\")\n"
   ]
  },
  {
   "cell_type": "code",
   "execution_count": 14,
   "metadata": {},
   "outputs": [
    {
     "name": "stdout",
     "output_type": "stream",
     "text": [
      "normal 0.951408403956365\n",
      "10 0.9245237094240258\n",
      "20 0.8982364525479609\n",
      "30 0.8725023786869648\n",
      "40 0.843050914964707\n",
      "50 0.8133117960746133\n",
      "60 0.7853649901533424\n",
      "70 0.7497842586241232\n",
      "80 0.7148673467129867\n",
      "90 0.6813223286792203\n",
      "100 0.6460292523178368\n"
     ]
    }
   ],
   "source": [
    "stress_eval  = OrchidStressEval(model, \"weights/model_BILSTM_UB_C_orchid_seed2.p\",orchid,\"BiLSTM_UBC_ORCHID-2\" )\n",
    "stress_eval.f1_summary(\"affix\")"
   ]
  },
  {
   "cell_type": "code",
   "execution_count": 15,
   "metadata": {},
   "outputs": [
    {
     "name": "stdout",
     "output_type": "stream",
     "text": [
      "normal 0.9491071626136791\n",
      "10 0.9239705264089572\n",
      "20 0.8992764366162902\n",
      "30 0.8745380921824176\n",
      "40 0.8476755249706813\n",
      "50 0.8201491381408625\n",
      "60 0.7937291173411811\n",
      "70 0.7635031973978272\n",
      "80 0.7312636912796231\n",
      "90 0.7005730976036112\n",
      "100 0.6720288540260659\n"
     ]
    }
   ],
   "source": [
    "stress_eval  = OrchidStressEval(model, \"weights/model_BILSTM_UB_C_orchid_seed3.p\",orchid,\"BiLSTM_UBC_ORCHID-3\" )\n",
    "stress_eval.f1_summary(\"affix\")"
   ]
  },
  {
   "cell_type": "code",
   "execution_count": null,
   "metadata": {},
   "outputs": [],
   "source": []
  }
 ],
 "metadata": {
  "kernelspec": {
   "display_name": "Python 3",
   "language": "python",
   "name": "python3"
  },
  "language_info": {
   "codemirror_mode": {
    "name": "ipython",
    "version": 3
   },
   "file_extension": ".py",
   "mimetype": "text/x-python",
   "name": "python",
   "nbconvert_exporter": "python",
   "pygments_lexer": "ipython3",
   "version": "3.7.3"
  }
 },
 "nbformat": 4,
 "nbformat_minor": 2
}
