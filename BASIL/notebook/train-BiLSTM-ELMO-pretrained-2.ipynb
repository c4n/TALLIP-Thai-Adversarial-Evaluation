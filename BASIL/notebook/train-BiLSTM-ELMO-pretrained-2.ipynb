{
 "cells": [
  {
   "cell_type": "code",
   "execution_count": 1,
   "metadata": {},
   "outputs": [
    {
     "name": "stdout",
     "output_type": "stream",
     "text": [
      "/home/datamind/can/BASIL\n"
     ]
    }
   ],
   "source": [
    "%load_ext autoreload\n",
    "%autoreload 2\n",
    "import torch\n",
    "import math\n",
    "from pathlib import Path\n",
    "import os\n",
    "os.chdir(\"/home/datamind/can/BASIL\")\n",
    "mypath = Path().absolute()\n",
    "print(mypath)\n",
    "from basil.select_device import device"
   ]
  },
  {
   "cell_type": "code",
   "execution_count": 2,
   "metadata": {},
   "outputs": [
    {
     "name": "stdout",
     "output_type": "stream",
     "text": [
      "/home/datamind/can/BASIL\r\n"
     ]
    }
   ],
   "source": [
    "!pwd"
   ]
  },
  {
   "cell_type": "code",
   "execution_count": 3,
   "metadata": {
    "scrolled": true
   },
   "outputs": [
    {
     "data": {
      "text/plain": [
       "device(type='cuda', index=1)"
      ]
     },
     "execution_count": 3,
     "metadata": {},
     "output_type": "execute_result"
    }
   ],
   "source": [
    "torch.device(device)"
   ]
  },
  {
   "cell_type": "code",
   "execution_count": 4,
   "metadata": {},
   "outputs": [
    {
     "name": "stdout",
     "output_type": "stream",
     "text": [
      "/home/datamind/can/BASIL\n"
     ]
    }
   ],
   "source": [
    "from pathlib import Path\n",
    "import os\n",
    "os.chdir(\"/home/datamind/can/BASIL\")\n",
    "mypath = Path().absolute()\n",
    "print(mypath)"
   ]
  },
  {
   "cell_type": "code",
   "execution_count": 5,
   "metadata": {},
   "outputs": [],
   "source": [
    "affixes = r\"^การ|^ความ|^นัก|^ผู้|^ไอ้|กร$|^ที่\\w+|^อย่าง|^แบบ|^โดย|^น่า\""
   ]
  },
  {
   "cell_type": "code",
   "execution_count": 6,
   "metadata": {},
   "outputs": [],
   "source": [
    "import sys\n",
    "sys.path.append('/home/can/Documents/thai_nlp_research/BASIL')"
   ]
  },
  {
   "cell_type": "code",
   "execution_count": 7,
   "metadata": {},
   "outputs": [],
   "source": [
    "import basil"
   ]
  },
  {
   "cell_type": "code",
   "execution_count": 8,
   "metadata": {},
   "outputs": [],
   "source": [
    "from basil.select_device import device"
   ]
  },
  {
   "cell_type": "code",
   "execution_count": 9,
   "metadata": {},
   "outputs": [
    {
     "name": "stderr",
     "output_type": "stream",
     "text": [
      "/home/datamind/can/BASIL/basil/preprocessing/prep_best_corpus.py:9: YAMLLoadWarning: calling yaml.load() without Loader=... is deprecated, as the default Loader is unsafe. Please read https://msg.pyyaml.org/load for full details.\n",
      "  cfg = yaml.load(ymlfile)\n"
     ]
    }
   ],
   "source": [
    "%autoreload 2\n",
    "from basil.preprocessing.prep_best_corpus import Best2010NECTEC, BestSyllable2010NECTEC\n",
    "\n"
   ]
  },
  {
   "cell_type": "code",
   "execution_count": 10,
   "metadata": {},
   "outputs": [
    {
     "name": "stdout",
     "output_type": "stream",
     "text": [
      "Preprocessing BEST2010 corpus\n",
      "Done!\n"
     ]
    }
   ],
   "source": [
    "best2010  = Best2010NECTEC()"
   ]
  },
  {
   "cell_type": "code",
   "execution_count": 11,
   "metadata": {},
   "outputs": [],
   "source": [
    "%autoreload 2\n",
    "from basil.preprocessing.prep_best_corpus import Best2010NECTEC, BestSyllable2010NECTEC\n",
    "from basil.preprocessing.prep_pytorch import PytorchPrepWordLevel\n",
    "from basil.models.multitasks.elmo_lstm_pretrained import LSTMTagger\n",
    "from basil.training.train_elmo_small import TrainModel\n"
   ]
  },
  {
   "cell_type": "code",
   "execution_count": null,
   "metadata": {
    "scrolled": true
   },
   "outputs": [
    {
     "name": "stdout",
     "output_type": "stream",
     "text": [
      "Training\n",
      "Num of training text file: 4975\n",
      " epoch 0: 67m 11s loss:0.3727 accuracy POS:0.9379 accuracy NER:0.9615epoch: 0\n",
      "F1 (POS): 0.9339357721648776 F1 (NER) 0.7560542309490417\n",
      " epoch 1: 137m 44s loss:0.3641 accuracy POS:0.9357 accuracy NER:0.9571epoch: 1\n",
      "F1 (POS): 0.9412097770738408 F1 (NER) 0.7746127867707\n",
      " epoch 2: 208m 10s loss:0.3511 accuracy POS:0.9446 accuracy NER:0.9527epoch: 2\n",
      "F1 (POS): 0.9435322203008556 F1 (NER) 0.7814756526569153\n",
      " epoch 3: 277m 47s loss:0.3224 accuracy POS:0.9446 accuracy NER:0.9593epoch: 3\n",
      "F1 (POS): 0.9453109756797392 F1 (NER) 0.7833139128408297\n",
      " epoch 4: 347m 18s loss:0.3177 accuracy POS:0.9497 accuracy NER:0.9527epoch: 4\n",
      "F1 (POS): 0.946149019847889 F1 (NER) 0.7892677732249925\n",
      " epoch 5: 416m 48s loss:0.3231 accuracy POS:0.9483 accuracy NER:0.9579epoch: 5\n",
      "F1 (POS): 0.9468501451836888 F1 (NER) 0.789992101472843\n",
      " epoch 6: 486m 19s loss:0.2943 accuracy POS:0.9519 accuracy NER:0.9564epoch: 6\n",
      "F1 (POS): 0.9474268137787504 F1 (NER) 0.7909505193273035\n",
      " epoch 7: 512m 53s loss:0.2119 accuracy POS:0.9641 accuracy NER:0.9641"
     ]
    }
   ],
   "source": [
    "\n",
    "trainer = TrainModel(LSTMTagger, best2010,2)\n",
    "trainer.train(40)\n"
   ]
  },
  {
   "cell_type": "code",
   "execution_count": null,
   "metadata": {},
   "outputs": [],
   "source": [
    "filehandle = open('elmo_last_2.txt', 'w')\n",
    "filehandle.write('Hello, world!\\n')\n",
    "filehandle.close()"
   ]
  },
  {
   "cell_type": "code",
   "execution_count": null,
   "metadata": {},
   "outputs": [],
   "source": [
    "torch.save(trainer.model.state_dict(), \"elmo1.pt\")"
   ]
  },
  {
   "cell_type": "code",
   "execution_count": null,
   "metadata": {},
   "outputs": [],
   "source": [
    "trainer.model.state_dict().keys()"
   ]
  },
  {
   "cell_type": "code",
   "execution_count": null,
   "metadata": {},
   "outputs": [],
   "source": [
    "max_d = -100\n",
    "for i,data in enumerate(best2010.train_data):\n",
    "    if len(data)>max_d:\n",
    "        max_d = len(data)\n",
    "        print(max_d,i)"
   ]
  },
  {
   "cell_type": "code",
   "execution_count": null,
   "metadata": {},
   "outputs": [],
   "source": [
    "a = [1,2,3]"
   ]
  },
  {
   "cell_type": "code",
   "execution_count": null,
   "metadata": {},
   "outputs": [],
   "source": [
    "b = [4,5]"
   ]
  },
  {
   "cell_type": "code",
   "execution_count": null,
   "metadata": {},
   "outputs": [],
   "source": [
    "a.extend(b)"
   ]
  },
  {
   "cell_type": "code",
   "execution_count": null,
   "metadata": {},
   "outputs": [],
   "source": [
    "a\n"
   ]
  },
  {
   "cell_type": "code",
   "execution_count": null,
   "metadata": {},
   "outputs": [],
   "source": [
    "1+1"
   ]
  },
  {
   "cell_type": "code",
   "execution_count": null,
   "metadata": {},
   "outputs": [],
   "source": []
  }
 ],
 "metadata": {
  "kernelspec": {
   "display_name": "Python 3",
   "language": "python",
   "name": "python3"
  },
  "language_info": {
   "codemirror_mode": {
    "name": "ipython",
    "version": 3
   },
   "file_extension": ".py",
   "mimetype": "text/x-python",
   "name": "python",
   "nbconvert_exporter": "python",
   "pygments_lexer": "ipython3",
   "version": "3.7.3"
  }
 },
 "nbformat": 4,
 "nbformat_minor": 2
}
