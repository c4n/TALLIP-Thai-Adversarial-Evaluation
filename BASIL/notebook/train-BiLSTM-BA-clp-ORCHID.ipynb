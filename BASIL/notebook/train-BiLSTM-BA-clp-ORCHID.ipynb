{
 "cells": [
  {
   "cell_type": "code",
   "execution_count": 1,
   "metadata": {},
   "outputs": [
    {
     "name": "stdout",
     "output_type": "stream",
     "text": [
      "/home/datamind/can/BASIL\n"
     ]
    }
   ],
   "source": [
    "%load_ext autoreload\n",
    "%autoreload 2\n",
    "import torch\n",
    "import math\n",
    "from pathlib import Path\n",
    "import os\n",
    "os.chdir(\"/home/datamind/can/BASIL/\")\n",
    "mypath = Path().absolute()\n",
    "print(mypath)\n",
    "from basil.select_device import device"
   ]
  },
  {
   "cell_type": "code",
   "execution_count": 2,
   "metadata": {},
   "outputs": [
    {
     "name": "stdout",
     "output_type": "stream",
     "text": [
      "/home/datamind/can/BASIL\r\n"
     ]
    }
   ],
   "source": [
    "!pwd"
   ]
  },
  {
   "cell_type": "code",
   "execution_count": 3,
   "metadata": {},
   "outputs": [
    {
     "data": {
      "text/plain": [
       "device(type='cuda', index=0)"
      ]
     },
     "execution_count": 3,
     "metadata": {},
     "output_type": "execute_result"
    }
   ],
   "source": [
    "torch.device(device)"
   ]
  },
  {
   "cell_type": "code",
   "execution_count": 4,
   "metadata": {},
   "outputs": [
    {
     "name": "stdout",
     "output_type": "stream",
     "text": [
      "/home/datamind/can/BASIL\n"
     ]
    }
   ],
   "source": [
    "from pathlib import Path\n",
    "import os\n",
    "os.chdir(\"/home/datamind/can/BASIL/\")\n",
    "mypath = Path().absolute()\n",
    "print(mypath)"
   ]
  },
  {
   "cell_type": "code",
   "execution_count": 5,
   "metadata": {},
   "outputs": [],
   "source": [
    "affixes = r\"^การ|^ความ|^นัก|^ผู้|^ไอ้|กร$|^ที่\\w+|^อย่าง|^แบบ|^โดย|^น่า\""
   ]
  },
  {
   "cell_type": "code",
   "execution_count": 6,
   "metadata": {},
   "outputs": [],
   "source": [
    "import sys\n",
    "sys.path.append('/home/datamind/can/BASIL/')"
   ]
  },
  {
   "cell_type": "code",
   "execution_count": 7,
   "metadata": {},
   "outputs": [],
   "source": [
    "import basil"
   ]
  },
  {
   "cell_type": "code",
   "execution_count": 8,
   "metadata": {},
   "outputs": [],
   "source": [
    "from basil.select_device import device"
   ]
  },
  {
   "cell_type": "code",
   "execution_count": 9,
   "metadata": {},
   "outputs": [],
   "source": [
    "%autoreload 2\n",
    "from basil.preprocessing.prep_orchid_corpus import ORCHID\n",
    "from basil.preprocessing.prep_pytorch_ORCHID import PytorchPrepWordLevel\n",
    "from basil.models.multitasks.BiLSTM_BA import LSTMTagger\n",
    "from basil.training.train_BiLSTM_BA_clp_ORCHID import TrainModel\n",
    "\n"
   ]
  },
  {
   "cell_type": "code",
   "execution_count": 10,
   "metadata": {},
   "outputs": [
    {
     "name": "stdout",
     "output_type": "stream",
     "text": [
      "Preprocessing ORCHID corpus\n",
      "Done!\n"
     ]
    }
   ],
   "source": [
    "orchid  = ORCHID()"
   ]
  },
  {
   "cell_type": "code",
   "execution_count": 11,
   "metadata": {},
   "outputs": [
    {
     "name": "stdout",
     "output_type": "stream",
     "text": [
      "Training\n",
      "Num of training text file: 132\n",
      " epoch 0: 5m 38s loss:1.3455 accuracy POS:0.7209 accuracy TYPE:0.9350epoch: 0\n",
      "F1 (POS): 0.7712833086936141\n",
      " epoch 1: 11m 28s loss:0.8822 accuracy POS:0.8125 accuracy TYPE:0.9438epoch: 1\n",
      "F1 (POS): 0.8629430642195218\n",
      " epoch 2: 17m 20s loss:0.7329 accuracy POS:0.8371 accuracy TYPE:0.9483epoch: 2\n",
      "F1 (POS): 0.896008365485162\n",
      " epoch 3: 23m 10s loss:0.6302 accuracy POS:0.8484 accuracy TYPE:0.9581epoch: 3\n",
      "F1 (POS): 0.9128835683121191\n",
      " epoch 4: 29m 1s loss:0.6260 accuracy POS:0.8523 accuracy TYPE:0.95125epoch: 4\n",
      "F1 (POS): 0.9195903796920636\n",
      " epoch 5: 34m 51s loss:0.5525 accuracy POS:0.8686 accuracy TYPE:0.9566epoch: 5\n",
      "F1 (POS): 0.926008726066419\n",
      " epoch 6: 40m 42s loss:0.5223 accuracy POS:0.8809 accuracy TYPE:0.9616epoch: 6\n",
      "F1 (POS): 0.9308044567843363\n",
      " epoch 7: 46m 35s loss:0.5261 accuracy POS:0.8725 accuracy TYPE:0.9571epoch: 7\n",
      "F1 (POS): 0.9343742112285004\n",
      " epoch 8: 52m 25s loss:0.4871 accuracy POS:0.8838 accuracy TYPE:0.9591epoch: 8\n",
      "F1 (POS): 0.9353477806223632\n",
      " epoch 9: 58m 17s loss:0.4723 accuracy POS:0.8917 accuracy TYPE:0.9562epoch: 9\n",
      "F1 (POS): 0.9374752100385821\n",
      " epoch 10: 64m 8s loss:0.4309 accuracy POS:0.8932 accuracy TYPE:0.96256epoch: 10\n",
      "F1 (POS): 0.9378357912955685\n",
      " epoch 11: 69m 58s loss:0.4312 accuracy POS:0.8956 accuracy TYPE:0.9625epoch: 11\n",
      "F1 (POS): 0.9401074532145819\n",
      " epoch 12: 75m 47s loss:0.4538 accuracy POS:0.8946 accuracy TYPE:0.9586epoch: 12\n",
      "F1 (POS): 0.9384127213067465\n",
      " epoch 13: 81m 32s loss:0.4249 accuracy POS:0.9000 accuracy TYPE:0.9680epoch: 13\n",
      "F1 (POS): 0.9398911044603901\n",
      " epoch 14: 87m 19s loss:0.4028 accuracy POS:0.9055 accuracy TYPE:0.9621epoch: 14\n",
      "F1 (POS): 0.9401435113402805\n",
      " epoch 15: 93m 1s loss:0.3952 accuracy POS:0.9104 accuracy TYPE:0.95810epoch: 15\n",
      "F1 (POS): 0.9407564994771573\n",
      " epoch 16: 98m 39s loss:0.4208 accuracy POS:0.8996 accuracy TYPE:0.9621epoch: 16\n",
      "F1 (POS): 0.941549778242527\n",
      " epoch 17: 104m 13s loss:0.4041 accuracy POS:0.9040 accuracy TYPE:0.9685epoch: 17\n",
      "F1 (POS): 0.9423069988821982\n",
      " epoch 18: 109m 48s loss:0.3599 accuracy POS:0.9104 accuracy TYPE:0.9689epoch: 18\n",
      "F1 (POS): 0.9424512313849926\n",
      " epoch 19: 115m 23s loss:0.4094 accuracy POS:0.9025 accuracy TYPE:0.9621epoch: 19\n",
      "F1 (POS): 0.9434608589045541\n",
      " epoch 20: 120m 57s loss:0.3632 accuracy POS:0.9133 accuracy TYPE:0.9645epoch: 20\n",
      "F1 (POS): 0.9428118126419789\n",
      " epoch 21: 126m 34s loss:0.3569 accuracy POS:0.9104 accuracy TYPE:0.9719epoch: 21\n",
      "F1 (POS): 0.9432084520246637\n",
      " epoch 22: 132m 11s loss:0.3663 accuracy POS:0.9109 accuracy TYPE:0.9645epoch: 22\n",
      "F1 (POS): 0.942992103270472\n",
      " epoch 23: 137m 51s loss:0.3732 accuracy POS:0.9128 accuracy TYPE:0.9665epoch: 23\n",
      "F1 (POS): 0.9436050914073486\n",
      " epoch 24: 143m 26s loss:0.3702 accuracy POS:0.9099 accuracy TYPE:0.9650epoch: 24\n",
      "F1 (POS): 0.9436411495330472\n",
      " epoch 25: 149m 2s loss:0.3555 accuracy POS:0.9133 accuracy TYPE:0.96355epoch: 25\n",
      "F1 (POS): 0.9436050914073486\n",
      " epoch 26: 154m 37s loss:0.3750 accuracy POS:0.9124 accuracy TYPE:0.9655epoch: 26\n",
      "F1 (POS): 0.9428478707676775\n",
      " epoch 27: 160m 12s loss:0.3310 accuracy POS:0.9202 accuracy TYPE:0.9729epoch: 27\n",
      "F1 (POS): 0.9438214401615403\n",
      " epoch 28: 165m 47s loss:0.3430 accuracy POS:0.9217 accuracy TYPE:0.9709epoch: 28\n",
      "F1 (POS): 0.9438935564129377\n",
      " epoch 29: 171m 22s loss:0.3206 accuracy POS:0.9256 accuracy TYPE:0.9694epoch: 29\n",
      "F1 (POS): 0.9427396963905816\n",
      " epoch 30: 176m 57s loss:0.3300 accuracy POS:0.9148 accuracy TYPE:0.9739epoch: 30\n",
      "F1 (POS): 0.9442901957956226\n",
      " epoch 31: 182m 32s loss:0.3412 accuracy POS:0.9158 accuracy TYPE:0.9699epoch: 31\n",
      "F1 (POS): 0.9446147189269102\n",
      " epoch 32: 188m 9s loss:0.3366 accuracy POS:0.9192 accuracy TYPE:0.96855epoch: 32\n",
      "F1 (POS): 0.9443262539213212\n",
      " epoch 33: 193m 43s loss:0.3064 accuracy POS:0.9330 accuracy TYPE:0.9699epoch: 33\n",
      "F1 (POS): 0.9441459632928281\n",
      " epoch 34: 199m 19s loss:0.3233 accuracy POS:0.9251 accuracy TYPE:0.9689epoch: 34\n",
      "F1 (POS): 0.945011358309595\n",
      " epoch 35: 204m 54s loss:0.3215 accuracy POS:0.9153 accuracy TYPE:0.9724epoch: 35\n",
      "F1 (POS): 0.9425594057620885\n",
      " epoch 36: 210m 29s loss:0.3392 accuracy POS:0.9212 accuracy TYPE:0.9704epoch: 36\n",
      "F1 (POS): 0.9440377889157322\n",
      " epoch 37: 216m 5s loss:0.2817 accuracy POS:0.9281 accuracy TYPE:0.97392epoch: 37\n",
      "F1 (POS): 0.9458046370749649\n",
      " epoch 38: 221m 41s loss:0.3001 accuracy POS:0.9251 accuracy TYPE:0.9739epoch: 38\n",
      "F1 (POS): 0.9441820214185267\n",
      " epoch 39: 227m 17s loss:0.3026 accuracy POS:0.9242 accuracy TYPE:0.9694epoch: 39\n",
      "F1 (POS): 0.9440738470414308\n"
     ]
    }
   ],
   "source": [
    "trainer = TrainModel(LSTMTagger, orchid,1)\n",
    "trainer.train(40)\n"
   ]
  },
  {
   "cell_type": "code",
   "execution_count": 12,
   "metadata": {},
   "outputs": [],
   "source": [
    "filehandle = open('done_bilstm_ba_clp_orchid.txt', 'w')\n",
    "filehandle.write('seed1\\n')\n",
    "filehandle.close()"
   ]
  },
  {
   "cell_type": "code",
   "execution_count": 13,
   "metadata": {},
   "outputs": [
    {
     "name": "stdout",
     "output_type": "stream",
     "text": [
      "Training\n",
      "Num of training text file: 132\n",
      " epoch 0: 5m 22s loss:1.3489 accuracy POS:0.7204 accuracy TYPE:0.9296epoch: 0\n",
      "F1 (POS): 0.7759348069087368\n",
      " epoch 1: 10m 59s loss:0.8839 accuracy POS:0.8174 accuracy TYPE:0.9458epoch: 1\n",
      "F1 (POS): 0.8702989218620416\n",
      " epoch 2: 16m 36s loss:0.7403 accuracy POS:0.8400 accuracy TYPE:0.9478epoch: 2\n",
      "F1 (POS): 0.9022103631053258\n",
      " epoch 3: 22m 14s loss:0.6375 accuracy POS:0.8553 accuracy TYPE:0.9576epoch: 3\n",
      "F1 (POS): 0.915984567122201\n",
      " epoch 4: 27m 50s loss:0.6217 accuracy POS:0.8587 accuracy TYPE:0.9542epoch: 4\n",
      "F1 (POS): 0.9234485991418167\n",
      " epoch 5: 33m 29s loss:0.5466 accuracy POS:0.8794 accuracy TYPE:0.9566epoch: 5\n",
      "F1 (POS): 0.9275231673457613\n",
      " epoch 6: 39m 4s loss:0.5427 accuracy POS:0.8740 accuracy TYPE:0.95329epoch: 6\n",
      "F1 (POS): 0.930552049904446\n",
      " epoch 7: 44m 41s loss:0.5516 accuracy POS:0.8705 accuracy TYPE:0.9562epoch: 7\n",
      "F1 (POS): 0.9327876536977608\n",
      " epoch 8: 50m 17s loss:0.4605 accuracy POS:0.8912 accuracy TYPE:0.9680epoch: 8\n",
      "F1 (POS): 0.9353838387480619\n",
      " epoch 9: 55m 53s loss:0.4789 accuracy POS:0.8843 accuracy TYPE:0.9601epoch: 9\n",
      "F1 (POS): 0.9353838387480619\n",
      " epoch 10: 61m 28s loss:0.4576 accuracy POS:0.8917 accuracy TYPE:0.9625epoch: 10\n",
      "F1 (POS): 0.9374030937871849\n",
      " epoch 11: 67m 3s loss:0.4616 accuracy POS:0.8858 accuracy TYPE:0.96114epoch: 11\n",
      "F1 (POS): 0.9396026394548012\n",
      " epoch 12: 72m 39s loss:0.4316 accuracy POS:0.8907 accuracy TYPE:0.9665epoch: 12\n",
      "F1 (POS): 0.9396747557061984\n",
      " epoch 13: 78m 15s loss:0.4734 accuracy POS:0.8813 accuracy TYPE:0.9635epoch: 13\n",
      "F1 (POS): 0.9385930119352396\n",
      " epoch 14: 83m 50s loss:0.4454 accuracy POS:0.8882 accuracy TYPE:0.9611epoch: 14\n",
      "F1 (POS): 0.9400713950888833\n",
      " epoch 15: 89m 26s loss:0.4411 accuracy POS:0.8917 accuracy TYPE:0.9630epoch: 15\n",
      "F1 (POS): 0.9406122669743626\n",
      " epoch 16: 95m 1s loss:0.3977 accuracy POS:0.9020 accuracy TYPE:0.96557epoch: 16\n",
      "F1 (POS): 0.9416940107453214\n",
      " epoch 17: 100m 37s loss:0.4499 accuracy POS:0.8956 accuracy TYPE:0.9581epoch: 17\n",
      "F1 (POS): 0.9420545920023077\n",
      " epoch 18: 106m 13s loss:0.4173 accuracy POS:0.8991 accuracy TYPE:0.9640epoch: 18\n",
      "F1 (POS): 0.9422709407564995\n",
      " epoch 19: 111m 49s loss:0.3995 accuracy POS:0.9045 accuracy TYPE:0.9665epoch: 19\n",
      "F1 (POS): 0.9433166264017596\n",
      " epoch 20: 117m 25s loss:0.3872 accuracy POS:0.9030 accuracy TYPE:0.9660epoch: 20\n",
      "F1 (POS): 0.9438574982872391\n",
      " epoch 21: 123m 1s loss:0.4051 accuracy POS:0.9060 accuracy TYPE:0.96558epoch: 21\n",
      "F1 (POS): 0.9427757545162803\n",
      " epoch 22: 128m 37s loss:0.3714 accuracy POS:0.9064 accuracy TYPE:0.9719epoch: 22\n",
      "F1 (POS): 0.943172393898965\n",
      " epoch 23: 134m 12s loss:0.3738 accuracy POS:0.9104 accuracy TYPE:0.9739epoch: 23\n",
      "F1 (POS): 0.9446147189269102\n",
      " epoch 24: 139m 48s loss:0.3304 accuracy POS:0.9217 accuracy TYPE:0.9675epoch: 24\n",
      "F1 (POS): 0.944722893304006\n",
      " epoch 25: 145m 24s loss:0.3682 accuracy POS:0.9124 accuracy TYPE:0.9675epoch: 25\n",
      "F1 (POS): 0.9456243464464718\n",
      " epoch 26: 150m 59s loss:0.3323 accuracy POS:0.9237 accuracy TYPE:0.9714epoch: 26\n",
      "F1 (POS): 0.9451555908123895\n",
      " epoch 27: 156m 37s loss:0.3523 accuracy POS:0.9153 accuracy TYPE:0.9689epoch: 27\n",
      "F1 (POS): 0.9449392420581978\n",
      " epoch 28: 162m 13s loss:0.3401 accuracy POS:0.9124 accuracy TYPE:0.9680epoch: 28\n",
      "F1 (POS): 0.9452637651894854\n",
      " epoch 29: 167m 48s loss:0.3242 accuracy POS:0.9202 accuracy TYPE:0.9719epoch: 29\n",
      "F1 (POS): 0.9441820214185267\n",
      " epoch 30: 173m 23s loss:0.3551 accuracy POS:0.9153 accuracy TYPE:0.9650epoch: 30\n",
      "F1 (POS): 0.9441099051671294\n",
      " epoch 31: 179m 0s loss:0.3436 accuracy POS:0.9124 accuracy TYPE:0.97196epoch: 31\n",
      "F1 (POS): 0.9451916489380882\n",
      " epoch 32: 184m 37s loss:0.3815 accuracy POS:0.9124 accuracy TYPE:0.9724epoch: 32\n",
      "F1 (POS): 0.9457325208235676\n",
      " epoch 33: 190m 14s loss:0.3541 accuracy POS:0.9148 accuracy TYPE:0.9719epoch: 33\n",
      "F1 (POS): 0.9454801139436773\n",
      " epoch 34: 195m 52s loss:0.3466 accuracy POS:0.9163 accuracy TYPE:0.9724epoch: 34\n",
      "F1 (POS): 0.9448310676811019\n",
      " epoch 35: 201m 27s loss:0.2898 accuracy POS:0.9296 accuracy TYPE:0.9744epoch: 35\n",
      "F1 (POS): 0.9458767533263621\n",
      " epoch 36: 207m 3s loss:0.3457 accuracy POS:0.9178 accuracy TYPE:0.96607epoch: 36\n",
      "F1 (POS): 0.9450474164352937\n",
      " epoch 37: 212m 39s loss:0.3639 accuracy POS:0.9099 accuracy TYPE:0.9660epoch: 37\n",
      "F1 (POS): 0.9455522301950745\n",
      " epoch 38: 218m 15s loss:0.3512 accuracy POS:0.9192 accuracy TYPE:0.9714epoch: 38\n",
      "F1 (POS): 0.9452277070637868\n",
      " epoch 39: 223m 49s loss:0.3375 accuracy POS:0.9148 accuracy TYPE:0.9699epoch: 39\n",
      "F1 (POS): 0.9445426026755129\n"
     ]
    }
   ],
   "source": [
    "trainer = TrainModel(LSTMTagger, orchid,2)\n",
    "trainer.train(40)\n"
   ]
  },
  {
   "cell_type": "code",
   "execution_count": 14,
   "metadata": {},
   "outputs": [],
   "source": [
    "filehandle = open('done_bilstm_ba_clp_orchid.txt', 'a+')\n",
    "filehandle.write('seed2\\n')\n",
    "filehandle.close()"
   ]
  },
  {
   "cell_type": "code",
   "execution_count": 15,
   "metadata": {},
   "outputs": [
    {
     "name": "stdout",
     "output_type": "stream",
     "text": [
      "Training\n",
      "Num of training text file: 132\n",
      " epoch 0: 5m 18s loss:1.3992 accuracy POS:0.7145 accuracy TYPE:0.9109epoch: 0\n",
      "F1 (POS): 0.7777016550679696\n",
      " epoch 1: 10m 50s loss:0.9084 accuracy POS:0.7923 accuracy TYPE:0.9493epoch: 1\n",
      "F1 (POS): 0.8604911116720153\n",
      " epoch 2: 16m 22s loss:0.7346 accuracy POS:0.8292 accuracy TYPE:0.9517epoch: 2\n",
      "F1 (POS): 0.8978112717700935\n",
      " epoch 3: 21m 54s loss:0.6584 accuracy POS:0.8459 accuracy TYPE:0.9566epoch: 3\n",
      "F1 (POS): 0.9141095445858725\n",
      " epoch 4: 27m 25s loss:0.6169 accuracy POS:0.8538 accuracy TYPE:0.9566epoch: 4\n",
      "F1 (POS): 0.9221144484909675\n",
      " epoch 5: 32m 57s loss:0.5623 accuracy POS:0.8705 accuracy TYPE:0.9591epoch: 5\n",
      "F1 (POS): 0.9278837486027476\n",
      " epoch 6: 38m 30s loss:0.5403 accuracy POS:0.8725 accuracy TYPE:0.9596epoch: 6\n",
      "F1 (POS): 0.9303357011502542\n",
      " epoch 7: 44m 1s loss:0.5306 accuracy POS:0.8754 accuracy TYPE:0.95623epoch: 7\n",
      "F1 (POS): 0.933256409331843\n",
      " epoch 8: 49m 33s loss:0.4805 accuracy POS:0.8887 accuracy TYPE:0.9611epoch: 8\n",
      "F1 (POS): 0.9350593156167742\n",
      " epoch 9: 55m 5s loss:0.4954 accuracy POS:0.8887 accuracy TYPE:0.95718epoch: 9\n",
      "F1 (POS): 0.9363213500162262\n",
      " epoch 10: 60m 37s loss:0.4677 accuracy POS:0.8853 accuracy TYPE:0.9640epoch: 10\n",
      "F1 (POS): 0.9387372444380341\n",
      " epoch 11: 66m 9s loss:0.4456 accuracy POS:0.8981 accuracy TYPE:0.96256epoch: 11\n",
      "F1 (POS): 0.93884541881513\n",
      " epoch 12: 73m 25s loss:0.4576 accuracy POS:0.8932 accuracy TYPE:0.9601epoch: 12\n",
      "F1 (POS): 0.9385930119352396\n",
      " epoch 13: 79m 0s loss:0.4579 accuracy POS:0.8932 accuracy TYPE:0.96608epoch: 13\n",
      "F1 (POS): 0.9407204413514586\n",
      " epoch 14: 84m 36s loss:0.4522 accuracy POS:0.8941 accuracy TYPE:0.9611epoch: 14\n",
      "F1 (POS): 0.9396026394548012\n",
      " epoch 15: 90m 13s loss:0.3934 accuracy POS:0.9138 accuracy TYPE:0.9680epoch: 15\n",
      "F1 (POS): 0.9403598600944723\n",
      " epoch 16: 95m 51s loss:0.4149 accuracy POS:0.9035 accuracy TYPE:0.9665epoch: 16\n",
      "F1 (POS): 0.94068438322576\n",
      " epoch 17: 101m 27s loss:0.4096 accuracy POS:0.9015 accuracy TYPE:0.9645epoch: 17\n",
      "F1 (POS): 0.9414776619911297\n",
      " epoch 18: 107m 2s loss:0.3881 accuracy POS:0.9020 accuracy TYPE:0.96602epoch: 18\n",
      "F1 (POS): 0.9413694876140338\n",
      " epoch 19: 112m 39s loss:0.4018 accuracy POS:0.9060 accuracy TYPE:0.9635epoch: 19\n",
      "F1 (POS): 0.941261313236938\n",
      " epoch 20: 118m 14s loss:0.4155 accuracy POS:0.9010 accuracy TYPE:0.9640epoch: 20\n",
      "F1 (POS): 0.9412973713626366\n",
      " epoch 21: 123m 52s loss:0.4108 accuracy POS:0.9015 accuracy TYPE:0.9616epoch: 21\n",
      "F1 (POS): 0.943280568276061\n",
      " epoch 22: 129m 27s loss:0.3644 accuracy POS:0.9074 accuracy TYPE:0.9699epoch: 22\n",
      "F1 (POS): 0.9419103594995131\n",
      " epoch 23: 135m 3s loss:0.3543 accuracy POS:0.9178 accuracy TYPE:0.96993epoch: 23\n",
      "F1 (POS): 0.9428478707676775\n",
      " epoch 24: 140m 39s loss:0.3835 accuracy POS:0.9109 accuracy TYPE:0.9675epoch: 24\n",
      "F1 (POS): 0.9441459632928281\n",
      " epoch 25: 146m 16s loss:0.3556 accuracy POS:0.9133 accuracy TYPE:0.9680epoch: 25\n",
      "F1 (POS): 0.9444704864241157\n",
      " epoch 26: 151m 52s loss:0.3975 accuracy POS:0.9015 accuracy TYPE:0.9630epoch: 26\n",
      "F1 (POS): 0.9444704864241157\n",
      " epoch 27: 157m 29s loss:0.3562 accuracy POS:0.9153 accuracy TYPE:0.9694epoch: 27\n",
      "F1 (POS): 0.9445786608012116\n",
      " epoch 28: 163m 5s loss:0.3782 accuracy POS:0.9148 accuracy TYPE:0.96216epoch: 28\n",
      "F1 (POS): 0.9429199870190748\n",
      " epoch 29: 168m 41s loss:0.3568 accuracy POS:0.9133 accuracy TYPE:0.9645epoch: 29\n",
      "F1 (POS): 0.9452277070637868\n",
      " epoch 30: 174m 20s loss:0.3682 accuracy POS:0.9133 accuracy TYPE:0.9655epoch: 30\n",
      "F1 (POS): 0.9436411495330472\n",
      " epoch 31: 179m 56s loss:0.3451 accuracy POS:0.9153 accuracy TYPE:0.9694epoch: 31\n",
      "F1 (POS): 0.9441099051671294\n",
      " epoch 32: 185m 32s loss:0.3648 accuracy POS:0.9143 accuracy TYPE:0.9665epoch: 32\n",
      "F1 (POS): 0.9431363357732665\n",
      " epoch 33: 191m 9s loss:0.3208 accuracy POS:0.9237 accuracy TYPE:0.97247epoch: 33\n",
      "F1 (POS): 0.943172393898965\n",
      " epoch 34: 196m 45s loss:0.3663 accuracy POS:0.9168 accuracy TYPE:0.9625epoch: 34\n",
      "F1 (POS): 0.9437132657844445\n",
      " epoch 35: 202m 22s loss:0.3427 accuracy POS:0.9158 accuracy TYPE:0.9719epoch: 35\n",
      "F1 (POS): 0.9442180795442253\n",
      " epoch 36: 207m 58s loss:0.3099 accuracy POS:0.9266 accuracy TYPE:0.9724epoch: 36\n",
      "F1 (POS): 0.9447589514297047\n",
      " epoch 37: 213m 32s loss:0.3163 accuracy POS:0.9311 accuracy TYPE:0.9699epoch: 37\n",
      "F1 (POS): 0.9447950095554033\n",
      " epoch 38: 219m 7s loss:0.3048 accuracy POS:0.9192 accuracy TYPE:0.97049epoch: 38\n",
      "F1 (POS): 0.9438214401615403\n",
      " epoch 39: 224m 42s loss:0.3526 accuracy POS:0.9124 accuracy TYPE:0.9699epoch: 39\n",
      "F1 (POS): 0.9451195326866909\n"
     ]
    }
   ],
   "source": [
    "trainer = TrainModel(LSTMTagger, orchid,3)\n",
    "trainer.train(40)\n"
   ]
  },
  {
   "cell_type": "code",
   "execution_count": 16,
   "metadata": {},
   "outputs": [],
   "source": [
    "filehandle = open('done_bilstm_ba_clp_orchid.txt', 'a+')\n",
    "filehandle.write('seed3\\n')\n",
    "filehandle.close()"
   ]
  },
  {
   "cell_type": "code",
   "execution_count": null,
   "metadata": {},
   "outputs": [],
   "source": []
  }
 ],
 "metadata": {
  "kernelspec": {
   "display_name": "Python 3",
   "language": "python",
   "name": "python3"
  },
  "language_info": {
   "codemirror_mode": {
    "name": "ipython",
    "version": 3
   },
   "file_extension": ".py",
   "mimetype": "text/x-python",
   "name": "python",
   "nbconvert_exporter": "python",
   "pygments_lexer": "ipython3",
   "version": "3.7.3"
  }
 },
 "nbformat": 4,
 "nbformat_minor": 2
}
