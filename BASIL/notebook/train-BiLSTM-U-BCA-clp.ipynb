{
 "cells": [
  {
   "cell_type": "code",
   "execution_count": 1,
   "metadata": {},
   "outputs": [
    {
     "name": "stdout",
     "output_type": "stream",
     "text": [
      "/home/can/Documents/thai_nlp_research/BASIL\n"
     ]
    }
   ],
   "source": [
    "%load_ext autoreload\n",
    "%autoreload 2\n",
    "import torch\n",
    "import math\n",
    "from pathlib import Path\n",
    "import os\n",
    "os.chdir(\"/home/can/Documents/thai_nlp_research/BASIL\")\n",
    "mypath = Path().absolute()\n",
    "print(mypath)\n",
    "from basil.select_device import device"
   ]
  },
  {
   "cell_type": "code",
   "execution_count": 2,
   "metadata": {},
   "outputs": [
    {
     "data": {
      "text/plain": [
       "device(type='cuda', index=0)"
      ]
     },
     "execution_count": 2,
     "metadata": {},
     "output_type": "execute_result"
    }
   ],
   "source": [
    "torch.device(device)"
   ]
  },
  {
   "cell_type": "code",
   "execution_count": 3,
   "metadata": {},
   "outputs": [
    {
     "name": "stdout",
     "output_type": "stream",
     "text": [
      "/home/can/Documents/thai_nlp_research/BASIL\n"
     ]
    }
   ],
   "source": [
    "from pathlib import Path\n",
    "import os\n",
    "os.chdir(\"/home/can/Documents/thai_nlp_research/BASIL\")\n",
    "mypath = Path().absolute()\n",
    "print(mypath)"
   ]
  },
  {
   "cell_type": "code",
   "execution_count": 4,
   "metadata": {},
   "outputs": [],
   "source": [
    "affixes = r\"^การ|^ความ|^นัก|^ผู้|^ไอ้|กร$|^ที่\\w+|^อย่าง|^แบบ|^โดย|^น่า\""
   ]
  },
  {
   "cell_type": "code",
   "execution_count": 5,
   "metadata": {},
   "outputs": [],
   "source": [
    "import sys\n",
    "sys.path.append('/home/can/Documents/thai_nlp_research/BASIL')"
   ]
  },
  {
   "cell_type": "code",
   "execution_count": 6,
   "metadata": {},
   "outputs": [],
   "source": [
    "import basil"
   ]
  },
  {
   "cell_type": "code",
   "execution_count": 7,
   "metadata": {},
   "outputs": [],
   "source": [
    "from basil.select_device import device"
   ]
  },
  {
   "cell_type": "code",
   "execution_count": 8,
   "metadata": {},
   "outputs": [],
   "source": [
    "%autoreload 2\n",
    "from basil.preprocessing.prep_best_corpus import Best2010NECTEC\n",
    "from basil.models.multitasks.BiLSTM_BCA import LSTMTagger\n",
    "from basil.training.train_BiLSTM_BCA_clp import TrainModel\n",
    "\n"
   ]
  },
  {
   "cell_type": "code",
   "execution_count": 9,
   "metadata": {},
   "outputs": [
    {
     "name": "stdout",
     "output_type": "stream",
     "text": [
      "Preprocessing BEST2010 corpus\n",
      "Done!\n"
     ]
    }
   ],
   "source": [
    "best2010  = Best2010NECTEC()"
   ]
  },
  {
   "cell_type": "code",
   "execution_count": 10,
   "metadata": {},
   "outputs": [
    {
     "name": "stdout",
     "output_type": "stream",
     "text": [
      "Training\n",
      "Num of training text file: 4975\n",
      " epoch 0: 73m 57s loss:0.6888 accuracy POS:0.8639 accuracy NER:0.9102epoch: 0\n",
      "F1 (POS): 0.9357701331405921 F1 (NER) 0.7085745296671491\n",
      " epoch 1: 150m 13s loss:0.4956 accuracy POS:0.9135 accuracy NER:0.9292epoch: 1\n",
      "F1 (POS): 0.9458775749023387 F1 (NER) 0.7688613226866243\n",
      " epoch 2: 226m 21s loss:0.4909 accuracy POS:0.8958 accuracy NER:0.9363epoch: 2\n",
      "F1 (POS): 0.950369133869108 F1 (NER) 0.7882377328318874\n",
      " epoch 3: 303m 50s loss:0.4033 accuracy POS:0.9273 accuracy NER:0.9351epoch: 3\n",
      "F1 (POS): 0.9528128172916416 F1 (NER) 0.7966163922870192\n",
      " epoch 4: 379m 10s loss:0.3955 accuracy POS:0.9146 accuracy NER:0.9493epoch: 4\n",
      "F1 (POS): 0.9539141957356003 F1 (NER) 0.8004986799647991\n",
      " epoch 5: 454m 26s loss:0.4498 accuracy POS:0.9194 accuracy NER:0.9115epoch: 5\n",
      "F1 (POS): 0.9541436495780917 F1 (NER) 0.8109547356409282\n",
      " epoch 6: 529m 41s loss:0.3456 accuracy POS:0.9261 accuracy NER:0.9609epoch: 6\n",
      "F1 (POS): 0.955514636286978 F1 (NER) 0.8129584709354999\n",
      " epoch 7: 604m 57s loss:0.4204 accuracy POS:0.9233 accuracy NER:0.9351epoch: 7\n",
      "F1 (POS): 0.9558014535900922 F1 (NER) 0.8158675666239962\n",
      " epoch 8: 680m 14s loss:0.4006 accuracy POS:0.9073 accuracy NER:0.9507epoch: 8\n",
      "F1 (POS): 0.9566676418454972 F1 (NER) 0.8180753921798173\n",
      " epoch 9: 755m 28s loss:0.3666 accuracy POS:0.9332 accuracy NER:0.9351epoch: 9\n",
      "F1 (POS): 0.9569659318407361 F1 (NER) 0.8159328651767243\n",
      " epoch 10: 830m 42s loss:0.3276 accuracy POS:0.9232 accuracy NER:0.9638epoch: 10\n",
      "F1 (POS): 0.9575854572154628 F1 (NER) 0.8181302456834482\n",
      " epoch 11: 905m 54s loss:0.4323 accuracy POS:0.9174 accuracy NER:0.9292epoch: 11\n",
      "F1 (POS): 0.958009946824072 F1 (NER) 0.8206936753133198\n",
      " epoch 12: 981m 16s loss:0.3109 accuracy POS:0.9348 accuracy NER:0.9667epoch: 12\n",
      "F1 (POS): 0.9584803272011794 F1 (NER) 0.8207807284864317\n",
      " epoch 13: 1056m 35s loss:0.3754 accuracy POS:0.9351 accuracy NER:0.9332epoch: 13\n",
      "F1 (POS): 0.9584287000866188 F1 (NER) 0.819635898330716\n",
      " epoch 14: 1131m 58s loss:0.2480 accuracy POS:0.9464 accuracy NER:0.9681epoch: 14\n",
      "F1 (POS): 0.9585491633539268 F1 (NER) 0.822203478564365\n",
      " epoch 15: 1207m 20s loss:0.4292 accuracy POS:0.9155 accuracy NER:0.9194epoch: 15\n",
      "F1 (POS): 0.95853195431574 F1 (NER) 0.8225046739807824\n",
      " epoch 16: 1282m 40s loss:0.2923 accuracy POS:0.9464 accuracy NER:0.9594epoch: 16\n",
      "F1 (POS): 0.9588187716188542 F1 (NER) 0.8212862751916084\n",
      " epoch 17: 1357m 58s loss:0.4065 accuracy POS:0.9096 accuracy NER:0.9332epoch: 17\n",
      "F1 (POS): 0.9588531896952279 F1 (NER) 0.8236369174535486\n",
      " epoch 18: 1433m 19s loss:0.2758 accuracy POS:0.9406 accuracy NER:0.9681epoch: 18\n",
      "F1 (POS): 0.9586696266212348 F1 (NER) 0.8208248620389195\n",
      " epoch 19: 1508m 40s loss:0.3965 accuracy POS:0.9332 accuracy NER:0.9430epoch: 19\n",
      "F1 (POS): 0.9589334985400999 F1 (NER) 0.8234372960981339\n",
      " epoch 20: 1584m 2s loss:0.3269 accuracy POS:0.9319 accuracy NER:0.96387epoch: 20\n",
      "F1 (POS): 0.9589908620007228 F1 (NER) 0.8221302396082318\n",
      " epoch 21: 1659m 24s loss:0.3414 accuracy POS:0.9312 accuracy NER:0.9371epoch: 21\n",
      "F1 (POS): 0.959174425074716 F1 (NER) 0.8236247593962112\n",
      " epoch 22: 1734m 48s loss:0.3588 accuracy POS:0.9189 accuracy NER:0.9638epoch: 22\n",
      "F1 (POS): 0.9589334985400999 F1 (NER) 0.8233843833391344\n",
      " epoch 23: 1810m 7s loss:0.3897 accuracy POS:0.9292 accuracy NER:0.92535epoch: 23\n",
      "F1 (POS): 0.9587958262346051 F1 (NER) 0.824123381347301\n",
      " epoch 24: 1885m 30s loss:0.2156 accuracy POS:0.9522 accuracy NER:0.9811epoch: 24\n",
      "F1 (POS): 0.959639069105761 F1 (NER) 0.8241675368372202\n",
      " epoch 25: 1960m 53s loss:0.5441 accuracy POS:0.8939 accuracy NER:0.9096epoch: 25\n",
      "F1 (POS): 0.9590195437310342 F1 (NER) 0.8252142338416848\n",
      " epoch 26: 2036m 11s loss:0.2521 accuracy POS:0.9479 accuracy NER:0.9667epoch: 26\n",
      "F1 (POS): 0.9594555060317679 F1 (NER) 0.8266408597180495\n",
      " epoch 27: 2111m 51s loss:0.3982 accuracy POS:0.9233 accuracy NER:0.9273epoch: 27\n",
      "F1 (POS): 0.959174425074716 F1 (NER) 0.8262411860946617\n",
      " epoch 28: 2188m 31s loss:0.2037 accuracy POS:0.9565 accuracy NER:0.9696epoch: 28\n",
      "F1 (POS): 0.9596964325663838 F1 (NER) 0.8249301139902377\n",
      " epoch 29: 2263m 56s loss:0.3957 accuracy POS:0.9312 accuracy NER:0.9410epoch: 29\n",
      "F1 (POS): 0.959197370458965 F1 (NER) 0.8267481627010114\n",
      " epoch 30: 2339m 22s loss:0.3103 accuracy POS:0.9377 accuracy NER:0.9652epoch: 30\n",
      "F1 (POS): 0.9595358148766399 F1 (NER) 0.8271280838905246\n",
      " epoch 31: 2414m 46s loss:0.3595 accuracy POS:0.9292 accuracy NER:0.9430epoch: 31\n",
      "F1 (POS): 0.9591858977668405 F1 (NER) 0.8250955543606213\n",
      " epoch 32: 2490m 9s loss:0.3192 accuracy POS:0.9232 accuracy NER:0.97104epoch: 32\n",
      "F1 (POS): 0.9594096152632696 F1 (NER) 0.8258027191206248\n",
      " epoch 33: 2565m 35s loss:0.3915 accuracy POS:0.9312 accuracy NER:0.9292epoch: 33\n",
      "F1 (POS): 0.9590424891152833 F1 (NER) 0.827939410598805\n",
      " epoch 34: 2640m 58s loss:0.2336 accuracy POS:0.9435 accuracy NER:0.9725epoch: 34\n",
      "F1 (POS): 0.9589392348861622 F1 (NER) 0.8235039529113048\n",
      " epoch 35: 2716m 21s loss:0.3502 accuracy POS:0.9253 accuracy NER:0.9528epoch: 35\n",
      "F1 (POS): 0.9593866698790204 F1 (NER) 0.8259690816797415\n",
      " epoch 36: 2794m 20s loss:0.2200 accuracy POS:0.9479 accuracy NER:0.9811epoch: 36\n",
      "F1 (POS): 0.9590080710389096 F1 (NER) 0.8271567392217347\n",
      " epoch 37: 2870m 52s loss:0.3242 accuracy POS:0.9489 accuracy NER:0.9489epoch: 37\n",
      "F1 (POS): 0.9590482254613456 F1 (NER) 0.8268317674734093\n",
      " epoch 38: 2947m 2s loss:0.2388 accuracy POS:0.9493 accuracy NER:0.97256epoch: 38\n",
      "F1 (POS): 0.9592948883420239 F1 (NER) 0.8261311199465999\n",
      " epoch 39: 3023m 0s loss:0.2831 accuracy POS:0.9449 accuracy NER:0.95286epoch: 39\n",
      "F1 (POS): 0.9595071331463284 F1 (NER) 0.8273852456651568\n"
     ]
    }
   ],
   "source": [
    "trainer = TrainModel(LSTMTagger, best2010,1)\n",
    "trainer.train(40)\n"
   ]
  },
  {
   "cell_type": "code",
   "execution_count": 11,
   "metadata": {},
   "outputs": [
    {
     "name": "stdout",
     "output_type": "stream",
     "text": [
      "Training\n",
      "Num of training text file: 4975\n",
      " epoch 0: 74m 31s loss:0.6394 accuracy POS:0.8798 accuracy NER:0.9117epoch: 0\n",
      "F1 (POS): 0.9355923064126612 F1 (NER) 0.7253364400830459\n",
      " epoch 1: 151m 1s loss:0.6341 accuracy POS:0.8958 accuracy NER:0.90177epoch: 1\n",
      "F1 (POS): 0.947391970262782 F1 (NER) 0.775071907957814\n",
      " epoch 2: 227m 21s loss:0.5180 accuracy POS:0.9001 accuracy NER:0.9305epoch: 2\n",
      "F1 (POS): 0.9514418305827554 F1 (NER) 0.7889873213157623\n",
      " epoch 3: 303m 46s loss:0.4840 accuracy POS:0.9155 accuracy NER:0.9332epoch: 3\n",
      "F1 (POS): 0.9534208699742438 F1 (NER) 0.7996140520152626\n",
      " epoch 4: 380m 12s loss:0.4275 accuracy POS:0.8986 accuracy NER:0.9565epoch: 4\n",
      "F1 (POS): 0.9548175406492989 F1 (NER) 0.8084218568636957\n",
      " epoch 5: 456m 35s loss:0.4297 accuracy POS:0.9332 accuracy NER:0.9371epoch: 5\n",
      "F1 (POS): 0.955482958701058 F1 (NER) 0.8118281928662309\n",
      " epoch 6: 533m 3s loss:0.3837 accuracy POS:0.9117 accuracy NER:0.96233epoch: 6\n",
      "F1 (POS): 0.9555288496011795 F1 (NER) 0.8122780092085069\n",
      " epoch 7: 613m 36s loss:0.4879 accuracy POS:0.9214 accuracy NER:0.9332epoch: 7\n",
      "F1 (POS): 0.9568998402423039 F1 (NER) 0.8160677776633769\n",
      " epoch 8: 693m 50s loss:0.3281 accuracy POS:0.9319 accuracy NER:0.9522epoch: 8\n",
      "F1 (POS): 0.9572871672202241 F1 (NER) 0.8177241863732146\n",
      " epoch 9: 773m 20s loss:0.3908 accuracy POS:0.9312 accuracy NER:0.9371epoch: 9\n",
      "F1 (POS): 0.9574046401436386 F1 (NER) 0.8199509116409537\n",
      " epoch 10: 852m 52s loss:0.2905 accuracy POS:0.9334 accuracy NER:0.9696epoch: 10\n",
      "F1 (POS): 0.9577231295209577 F1 (NER) 0.8191038494139654\n",
      " epoch 11: 932m 22s loss:0.3915 accuracy POS:0.9253 accuracy NER:0.9390epoch: 11\n",
      "F1 (POS): 0.9579411106713246 F1 (NER) 0.8221011263860684\n",
      " epoch 12: 1011m 55s loss:0.2935 accuracy POS:0.9305 accuracy NER:0.9696epoch: 12\n",
      "F1 (POS): 0.9576370843300235 F1 (NER) 0.821052325243001\n",
      " epoch 13: 1091m 25s loss:0.3584 accuracy POS:0.9312 accuracy NER:0.9371epoch: 13\n",
      "F1 (POS): 0.9583426548956846 F1 (NER) 0.8211571409743883\n",
      " epoch 14: 1170m 58s loss:0.3083 accuracy POS:0.9319 accuracy NER:0.9623epoch: 14\n",
      "F1 (POS): 0.9576513037317906 F1 (NER) 0.8192735836636778\n",
      " epoch 15: 1250m 33s loss:0.4293 accuracy POS:0.9174 accuracy NER:0.9214epoch: 15\n",
      "F1 (POS): 0.9585835814303005 F1 (NER) 0.8239183304935412\n",
      " epoch 16: 1330m 15s loss:0.3207 accuracy POS:0.9406 accuracy NER:0.9594epoch: 16\n",
      "F1 (POS): 0.9586868356594217 F1 (NER) 0.8232203835040715\n",
      " epoch 17: 1409m 54s loss:0.3735 accuracy POS:0.9253 accuracy NER:0.9351epoch: 17\n",
      "F1 (POS): 0.9587212537357954 F1 (NER) 0.8211389203802215\n",
      " epoch 18: 1489m 45s loss:0.3427 accuracy POS:0.9160 accuracy NER:0.9580epoch: 18\n",
      "F1 (POS): 0.9586237358527365 F1 (NER) 0.8244194691039489\n",
      " epoch 19: 1569m 33s loss:0.3690 accuracy POS:0.9430 accuracy NER:0.9508epoch: 19\n",
      "F1 (POS): 0.9589449712322246 F1 (NER) 0.8242424242424242\n",
      " epoch 20: 1649m 27s loss:0.2953 accuracy POS:0.9290 accuracy NER:0.9710epoch: 20\n",
      "F1 (POS): 0.9589334985400999 F1 (NER) 0.8232062763890309\n",
      " epoch 21: 1729m 16s loss:0.3420 accuracy POS:0.9371 accuracy NER:0.9371epoch: 21\n",
      "F1 (POS): 0.9590941162298439 F1 (NER) 0.8225985725985726\n",
      " epoch 22: 1809m 8s loss:0.3616 accuracy POS:0.9232 accuracy NER:0.95655epoch: 22\n",
      "F1 (POS): 0.9588531896952279 F1 (NER) 0.8235794039211088\n",
      " epoch 23: 1888m 57s loss:0.3183 accuracy POS:0.9410 accuracy NER:0.9489epoch: 23\n",
      "F1 (POS): 0.9592203158432142 F1 (NER) 0.822588139629436\n",
      " epoch 24: 1968m 49s loss:0.3019 accuracy POS:0.9305 accuracy NER:0.9623epoch: 24\n",
      "F1 (POS): 0.9591457433444045 F1 (NER) 0.8246876954175938\n",
      " epoch 25: 2048m 42s loss:0.3899 accuracy POS:0.9292 accuracy NER:0.9332epoch: 25\n",
      "F1 (POS): 0.9587958262346051 F1 (NER) 0.8228926560266099\n",
      " epoch 26: 2128m 38s loss:0.2753 accuracy POS:0.9363 accuracy NER:0.9710epoch: 26\n",
      "F1 (POS): 0.9594382969935811 F1 (NER) 0.8249959998254469\n",
      " epoch 27: 2208m 29s loss:0.3445 accuracy POS:0.9371 accuracy NER:0.9430epoch: 27\n",
      "F1 (POS): 0.9592088431510897 F1 (NER) 0.8206805900394333\n",
      " epoch 28: 2288m 23s loss:0.3210 accuracy POS:0.9247 accuracy NER:0.9609epoch: 28\n",
      "F1 (POS): 0.9586638902751725 F1 (NER) 0.8221118950149523\n",
      " epoch 29: 2368m 15s loss:0.3495 accuracy POS:0.9390 accuracy NER:0.9410epoch: 29\n",
      "F1 (POS): 0.9589908620007228 F1 (NER) 0.8219410021748333\n",
      " epoch 30: 2448m 8s loss:0.2263 accuracy POS:0.9479 accuracy NER:0.97533epoch: 30\n",
      "F1 (POS): 0.9593465154565844 F1 (NER) 0.8237722792428691\n",
      " epoch 31: 2527m 53s loss:0.3470 accuracy POS:0.9312 accuracy NER:0.9253epoch: 31\n",
      "F1 (POS): 0.958755671812169 F1 (NER) 0.8215428471697016\n",
      " epoch 32: 2607m 34s loss:0.3099 accuracy POS:0.9363 accuracy NER:0.9638epoch: 32\n",
      "F1 (POS): 0.9590023346928473 F1 (NER) 0.8234129006888716\n",
      " epoch 33: 2687m 13s loss:0.3421 accuracy POS:0.9292 accuracy NER:0.9489epoch: 33\n",
      "F1 (POS): 0.9588302443109787 F1 (NER) 0.8230602944613227\n",
      " epoch 34: 2767m 12s loss:0.3102 accuracy POS:0.9421 accuracy NER:0.9710epoch: 34\n",
      "F1 (POS): 0.95913427065228 F1 (NER) 0.8249770912423092\n",
      " epoch 35: 2846m 34s loss:0.3341 accuracy POS:0.9390 accuracy NER:0.9469epoch: 35\n",
      "F1 (POS): 0.9588524815860123 F1 (NER) 0.8239989474145872\n",
      " epoch 36: 2926m 0s loss:0.2105 accuracy POS:0.9536 accuracy NER:0.97680epoch: 36\n",
      "F1 (POS): 0.9590252800770965 F1 (NER) 0.8219505442464335\n",
      " epoch 37: 3005m 23s loss:0.3364 accuracy POS:0.9351 accuracy NER:0.9548epoch: 37\n",
      "F1 (POS): 0.959174425074716 F1 (NER) 0.8218035422067109\n",
      " epoch 38: 3084m 46s loss:0.2530 accuracy POS:0.9507 accuracy NER:0.9652epoch: 38\n",
      "F1 (POS): 0.959357988148709 F1 (NER) 0.8240889778280478\n",
      " epoch 39: 3164m 7s loss:0.3170 accuracy POS:0.9469 accuracy NER:0.94492epoch: 39\n",
      "F1 (POS): 0.9597882141033804 F1 (NER) 0.8218778273939819\n"
     ]
    }
   ],
   "source": [
    "trainer = TrainModel(LSTMTagger, best2010,2)\n",
    "trainer.train(40)\n"
   ]
  },
  {
   "cell_type": "code",
   "execution_count": 12,
   "metadata": {},
   "outputs": [
    {
     "name": "stdout",
     "output_type": "stream",
     "text": [
      "Training\n",
      "Num of training text file: 4975\n",
      " epoch 0: 77m 23s loss:0.7091 accuracy POS:0.8567 accuracy NER:0.9088epoch: 0\n",
      "F1 (POS): 0.936412603899568 F1 (NER) 0.7205132030434135\n",
      " epoch 1: 156m 40s loss:0.4928 accuracy POS:0.9076 accuracy NER:0.9312epoch: 1\n",
      "F1 (POS): 0.9474952244919032 F1 (NER) 0.7708732145486673\n",
      " epoch 2: 235m 58s loss:0.4618 accuracy POS:0.9015 accuracy NER:0.9450epoch: 2\n",
      "F1 (POS): 0.9513672580839456 F1 (NER) 0.7862447529867613\n",
      " epoch 3: 315m 3s loss:0.4649 accuracy POS:0.9155 accuracy NER:0.92736epoch: 3\n",
      "F1 (POS): 0.9536445874706729 F1 (NER) 0.7988177801188073\n",
      " epoch 4: 391m 16s loss:0.4417 accuracy POS:0.9131 accuracy NER:0.9551epoch: 4\n",
      "F1 (POS): 0.9539199320816626 F1 (NER) 0.8025221122690254\n",
      " epoch 5: 467m 32s loss:0.5288 accuracy POS:0.8939 accuracy NER:0.9155epoch: 5\n",
      "F1 (POS): 0.9553999093657323 F1 (NER) 0.8086882900767817\n",
      " epoch 6: 543m 51s loss:0.3101 accuracy POS:0.9334 accuracy NER:0.9681epoch: 6\n",
      "F1 (POS): 0.9559104441652756 F1 (NER) 0.8140400017506237\n",
      " epoch 7: 620m 9s loss:0.4935 accuracy POS:0.9056 accuracy NER:0.92731epoch: 7\n",
      "F1 (POS): 0.9563750881963207 F1 (NER) 0.8138196336718784\n",
      " epoch 8: 696m 28s loss:0.3477 accuracy POS:0.9218 accuracy NER:0.9594epoch: 8\n",
      "F1 (POS): 0.9566160147309367 F1 (NER) 0.8146168338956316\n",
      " epoch 9: 772m 45s loss:0.4765 accuracy POS:0.9135 accuracy NER:0.9292epoch: 9\n",
      "F1 (POS): 0.9572298037596012 F1 (NER) 0.8187585484387278\n",
      " epoch 10: 849m 4s loss:0.3512 accuracy POS:0.9175 accuracy NER:0.97254epoch: 10\n",
      "F1 (POS): 0.9574822029863418 F1 (NER) 0.8210504885993484\n",
      " epoch 11: 925m 23s loss:0.4402 accuracy POS:0.9253 accuracy NER:0.9312epoch: 11\n",
      "F1 (POS): 0.9572011220292898 F1 (NER) 0.819305233363972\n",
      " epoch 12: 1001m 44s loss:0.2533 accuracy POS:0.9464 accuracy NER:0.9739epoch: 12\n",
      "F1 (POS): 0.9578722745185771 F1 (NER) 0.8206996661344171\n",
      " epoch 13: 1078m 0s loss:0.4134 accuracy POS:0.9115 accuracy NER:0.93901epoch: 13\n",
      "F1 (POS): 0.957969792401636 F1 (NER) 0.8223096693626846\n",
      " epoch 14: 1154m 17s loss:0.3033 accuracy POS:0.9334 accuracy NER:0.9667epoch: 14\n",
      "F1 (POS): 0.95813041009138 F1 (NER) 0.8250487187690876\n",
      " epoch 15: 1230m 34s loss:0.3654 accuracy POS:0.9233 accuracy NER:0.9508epoch: 15\n",
      "F1 (POS): 0.9580845193228817 F1 (NER) 0.8243381003699065\n",
      " epoch 16: 1306m 51s loss:0.3051 accuracy POS:0.9377 accuracy NER:0.9696epoch: 16\n",
      "F1 (POS): 0.9586294721987987 F1 (NER) 0.823946733346902\n",
      " epoch 17: 1383m 9s loss:0.4329 accuracy POS:0.9155 accuracy NER:0.93908epoch: 17\n",
      "F1 (POS): 0.9587441991200445 F1 (NER) 0.8246161890514023\n",
      " epoch 18: 1459m 23s loss:0.3824 accuracy POS:0.9276 accuracy NER:0.9565epoch: 18\n",
      "F1 (POS): 0.9587728808503558 F1 (NER) 0.8263561834990407\n",
      " epoch 19: 1535m 35s loss:0.3757 accuracy POS:0.9390 accuracy NER:0.9292epoch: 19\n",
      "F1 (POS): 0.9588589260412902 F1 (NER) 0.8245484006917498\n",
      " epoch 20: 1611m 54s loss:0.2515 accuracy POS:0.9319 accuracy NER:0.9782epoch: 20\n",
      "F1 (POS): 0.9590769071916571 F1 (NER) 0.8250673932577756\n",
      " epoch 21: 1688m 12s loss:0.3594 accuracy POS:0.9410 accuracy NER:0.9410epoch: 21\n",
      "F1 (POS): 0.9589908620007228 F1 (NER) 0.8249390031369815\n",
      " epoch 22: 1764m 38s loss:0.3562 accuracy POS:0.9276 accuracy NER:0.9739epoch: 22\n",
      "F1 (POS): 0.9592088431510897 F1 (NER) 0.8265421536498362\n",
      " epoch 23: 1841m 3s loss:0.3635 accuracy POS:0.9292 accuracy NER:0.94891epoch: 23\n",
      "F1 (POS): 0.9596964325663838 F1 (NER) 0.8265916897346339\n",
      " epoch 24: 1917m 27s loss:0.2539 accuracy POS:0.9377 accuracy NER:0.9826epoch: 24\n",
      "F1 (POS): 0.9595128694923908 F1 (NER) 0.8255474770342636\n",
      " epoch 25: 1993m 49s loss:0.3331 accuracy POS:0.9390 accuracy NER:0.9508epoch: 25\n",
      "F1 (POS): 0.9595931783372628 F1 (NER) 0.8229559245085344\n",
      " epoch 26: 2070m 16s loss:0.3193 accuracy POS:0.9261 accuracy NER:0.9652epoch: 26\n",
      "F1 (POS): 0.9596275964136365 F1 (NER) 0.8248994467757627\n",
      " epoch 27: 2146m 38s loss:0.2905 accuracy POS:0.9430 accuracy NER:0.9587epoch: 27\n",
      "F1 (POS): 0.9594555060317679 F1 (NER) 0.8249233139982847\n",
      " epoch 28: 2223m 2s loss:0.2977 accuracy POS:0.9319 accuracy NER:0.96967epoch: 28\n",
      "F1 (POS): 0.9595128694923908 F1 (NER) 0.8247118541121347\n",
      " epoch 29: 2299m 28s loss:0.3474 accuracy POS:0.9312 accuracy NER:0.9528epoch: 29\n",
      "F1 (POS): 0.9594210879553942 F1 (NER) 0.8241321258562637\n",
      " epoch 30: 2375m 53s loss:0.2420 accuracy POS:0.9551 accuracy NER:0.9753epoch: 30\n",
      "F1 (POS): 0.9589392348861622 F1 (NER) 0.8231951628178042\n",
      " epoch 31: 2452m 18s loss:0.3416 accuracy POS:0.9371 accuracy NER:0.9390epoch: 31\n",
      "F1 (POS): 0.9591801614207782 F1 (NER) 0.8237805497872588\n",
      " epoch 32: 2528m 41s loss:0.2558 accuracy POS:0.9421 accuracy NER:0.9696epoch: 32\n",
      "F1 (POS): 0.9593694608408336 F1 (NER) 0.8255964598162947\n",
      " epoch 33: 2605m 1s loss:0.3913 accuracy POS:0.9253 accuracy NER:0.94696epoch: 33\n",
      "F1 (POS): 0.9598226321797542 F1 (NER) 0.8250776239807318\n",
      " epoch 34: 2681m 24s loss:0.2521 accuracy POS:0.9479 accuracy NER:0.9811epoch: 34\n",
      "F1 (POS): 0.9597021689124462 F1 (NER) 0.8267780484975055\n",
      " epoch 35: 2757m 45s loss:0.3468 accuracy POS:0.9332 accuracy NER:0.9508epoch: 35\n",
      "F1 (POS): 0.9590998525759062 F1 (NER) 0.8259413376636557\n",
      " epoch 36: 2834m 8s loss:0.2808 accuracy POS:0.9334 accuracy NER:0.97394epoch: 36\n",
      "F1 (POS): 0.959679223528197 F1 (NER) 0.8249720321376165\n",
      " epoch 37: 2910m 31s loss:0.3241 accuracy POS:0.9351 accuracy NER:0.9705epoch: 37\n",
      "F1 (POS): 0.9597079052585085 F1 (NER) 0.8277879661164964\n",
      " epoch 38: 2986m 55s loss:0.2359 accuracy POS:0.9450 accuracy NER:0.9768epoch: 38\n",
      "F1 (POS): 0.9594612423778301 F1 (NER) 0.826618893646771\n",
      " epoch 39: 3063m 19s loss:0.3331 accuracy POS:0.9449 accuracy NER:0.9548epoch: 39\n",
      "F1 (POS): 0.9597021689124462 F1 (NER) 0.8257214865317657\n"
     ]
    }
   ],
   "source": [
    "trainer = TrainModel(LSTMTagger, best2010,3)\n",
    "trainer.train(40)\n"
   ]
  },
  {
   "cell_type": "code",
   "execution_count": 13,
   "metadata": {},
   "outputs": [
    {
     "name": "stdout",
     "output_type": "stream",
     "text": [
      "Training\n",
      "Num of training text file: 4975\n",
      " epoch 0: 73m 52s loss:0.6506 accuracy POS:0.8639 accuracy NER:0.9204epoch: 0\n",
      "F1 (POS): 0.9370233441272555 F1 (NER) 0.7232010980649589\n",
      " epoch 1: 149m 38s loss:0.4698 accuracy POS:0.9096 accuracy NER:0.9332epoch: 1\n",
      "F1 (POS): 0.9471108893057301 F1 (NER) 0.7679824691284907\n",
      " epoch 2: 225m 28s loss:0.3822 accuracy POS:0.9146 accuracy NER:0.9594epoch: 2\n",
      "F1 (POS): 0.9513156309693851 F1 (NER) 0.792140549630482\n",
      " epoch 3: 301m 21s loss:0.4446 accuracy POS:0.9155 accuracy NER:0.9273epoch: 3\n",
      "F1 (POS): 0.9540518680410952 F1 (NER) 0.7970277439873372\n",
      " epoch 4: 377m 12s loss:0.3923 accuracy POS:0.9088 accuracy NER:0.9594epoch: 4\n",
      "F1 (POS): 0.9547287568764449 F1 (NER) 0.8068534003859424\n",
      " epoch 5: 453m 3s loss:0.4268 accuracy POS:0.9332 accuracy NER:0.93711epoch: 5\n",
      "F1 (POS): 0.9553023914826734 F1 (NER) 0.812120680325831\n",
      " epoch 6: 528m 57s loss:0.3952 accuracy POS:0.9088 accuracy NER:0.9580epoch: 6\n",
      "F1 (POS): 0.9561456343538293 F1 (NER) 0.8133461437680147\n",
      " epoch 7: 608m 37s loss:0.3890 accuracy POS:0.9312 accuracy NER:0.9371epoch: 7\n",
      "F1 (POS): 0.9566676418454972 F1 (NER) 0.8160887736824477\n",
      " epoch 8: 684m 54s loss:0.3400 accuracy POS:0.9189 accuracy NER:0.9710epoch: 8\n",
      "F1 (POS): 0.9569774045328606 F1 (NER) 0.8168833253089393\n",
      " epoch 9: 761m 6s loss:0.4206 accuracy POS:0.9253 accuracy NER:0.94104epoch: 9\n",
      "F1 (POS): 0.9572298037596012 F1 (NER) 0.8184318118989072\n",
      " epoch 10: 837m 20s loss:0.3425 accuracy POS:0.9073 accuracy NER:0.9739epoch: 10\n",
      "F1 (POS): 0.957183912991103 F1 (NER) 0.8193845436531064\n",
      " epoch 11: 913m 33s loss:0.3505 accuracy POS:0.9430 accuracy NER:0.9548epoch: 11\n",
      "F1 (POS): 0.9572929035662864 F1 (NER) 0.8205869048140204\n",
      " epoch 12: 989m 48s loss:0.3143 accuracy POS:0.9204 accuracy NER:0.9652epoch: 12\n",
      "F1 (POS): 0.95752809375484 F1 (NER) 0.8194456639447419\n",
      " epoch 13: 1066m 2s loss:0.3807 accuracy POS:0.9174 accuracy NER:0.95288epoch: 13\n",
      "F1 (POS): 0.9579640560555738 F1 (NER) 0.8221731306599565\n",
      " epoch 14: 1142m 17s loss:0.2514 accuracy POS:0.9565 accuracy NER:0.9782epoch: 14\n",
      "F1 (POS): 0.958009946824072 F1 (NER) 0.8186794738916544\n",
      " epoch 15: 1218m 31s loss:0.4173 accuracy POS:0.9214 accuracy NER:0.9430epoch: 15\n",
      "F1 (POS): 0.958210718936252 F1 (NER) 0.819863623753413\n",
      " epoch 16: 1294m 47s loss:0.2822 accuracy POS:0.9319 accuracy NER:0.9710epoch: 16\n",
      "F1 (POS): 0.9577632839433937 F1 (NER) 0.8212027169457783\n",
      " epoch 17: 1371m 4s loss:0.4128 accuracy POS:0.9273 accuracy NER:0.93514epoch: 17\n",
      "F1 (POS): 0.9578722745185771 F1 (NER) 0.8227297920130685\n",
      " epoch 18: 1447m 20s loss:0.3097 accuracy POS:0.9247 accuracy NER:0.9638epoch: 18\n",
      "F1 (POS): 0.9584917998933039 F1 (NER) 0.8231383754154761\n",
      " epoch 19: 1523m 33s loss:0.4511 accuracy POS:0.9174 accuracy NER:0.9371epoch: 19\n",
      "F1 (POS): 0.958210718936252 F1 (NER) 0.8222368133070694\n",
      " epoch 20: 1599m 49s loss:0.4212 accuracy POS:0.9146 accuracy NER:0.9536epoch: 20\n",
      "F1 (POS): 0.9587269900818577 F1 (NER) 0.8232423718721408\n",
      " epoch 21: 1676m 10s loss:0.3881 accuracy POS:0.9312 accuracy NER:0.9410epoch: 21\n",
      "F1 (POS): 0.9583197095114354 F1 (NER) 0.8234951428030469\n",
      " epoch 22: 1752m 33s loss:0.3485 accuracy POS:0.9160 accuracy NER:0.9768epoch: 22\n",
      "F1 (POS): 0.9585491633539268 F1 (NER) 0.8221245229907572\n",
      " epoch 23: 1828m 47s loss:0.3261 accuracy POS:0.9390 accuracy NER:0.9587epoch: 23\n",
      "F1 (POS): 0.9585606360460514 F1 (NER) 0.8217670437175176\n",
      " epoch 24: 1905m 2s loss:0.3081 accuracy POS:0.9319 accuracy NER:0.96813epoch: 24\n",
      "F1 (POS): 0.9586065268145497 F1 (NER) 0.8217828973170838\n",
      " epoch 25: 1981m 14s loss:0.3079 accuracy POS:0.9548 accuracy NER:0.9587epoch: 25\n",
      "F1 (POS): 0.9588589260412902 F1 (NER) 0.8223957805051221\n",
      " epoch 26: 2057m 29s loss:0.3252 accuracy POS:0.9348 accuracy NER:0.9623epoch: 26\n",
      "F1 (POS): 0.9587384627739822 F1 (NER) 0.8238438841985336\n",
      " epoch 27: 2134m 25s loss:0.3406 accuracy POS:0.9351 accuracy NER:0.9587epoch: 27\n",
      "F1 (POS): 0.9583369185496222 F1 (NER) 0.8222267430032841\n",
      " epoch 28: 2211m 51s loss:0.2917 accuracy POS:0.9290 accuracy NER:0.9753epoch: 28\n",
      "F1 (POS): 0.9587614081582314 F1 (NER) 0.823856361308346\n",
      " epoch 29: 2290m 48s loss:0.3228 accuracy POS:0.9371 accuracy NER:0.9548epoch: 29\n",
      "F1 (POS): 0.9588474533491657 F1 (NER) 0.8242857974050154\n",
      " epoch 30: 2369m 17s loss:0.2773 accuracy POS:0.9392 accuracy NER:0.9710epoch: 30\n",
      "F1 (POS): 0.9587900898885428 F1 (NER) 0.8258400034863959\n",
      " epoch 31: 2446m 1s loss:0.2986 accuracy POS:0.9371 accuracy NER:0.94695epoch: 31\n",
      "F1 (POS): 0.9587269900818577 F1 (NER) 0.8211545991096157\n",
      " epoch 32: 2523m 3s loss:0.3068 accuracy POS:0.9247 accuracy NER:0.97680epoch: 32\n",
      "F1 (POS): 0.9588130352727919 F1 (NER) 0.8225255972696246\n",
      " epoch 33: 2599m 53s loss:0.2842 accuracy POS:0.9371 accuracy NER:0.9528epoch: 33\n",
      "F1 (POS): 0.9588761350794771 F1 (NER) 0.8204881041055077\n",
      " epoch 34: 2676m 46s loss:0.3187 accuracy POS:0.9348 accuracy NER:0.9609epoch: 34\n",
      "F1 (POS): 0.9594612423778301 F1 (NER) 0.8249356541464904\n",
      " epoch 35: 2753m 32s loss:0.2702 accuracy POS:0.9449 accuracy NER:0.9685epoch: 35\n",
      "F1 (POS): 0.9583598639338714 F1 (NER) 0.8209729099912613\n",
      " epoch 36: 2830m 25s loss:0.2519 accuracy POS:0.9479 accuracy NER:0.9753epoch: 36\n",
      "F1 (POS): 0.9592547339195879 F1 (NER) 0.8223375411795575\n",
      " epoch 37: 2907m 18s loss:0.2651 accuracy POS:0.9528 accuracy NER:0.9607epoch: 37\n",
      "F1 (POS): 0.9588818714255394 F1 (NER) 0.8210517136129764\n",
      " epoch 38: 2988m 20s loss:0.2953 accuracy POS:0.9377 accuracy NER:0.9681epoch: 38\n",
      "F1 (POS): 0.9591055889219685 F1 (NER) 0.819926145825791\n",
      " epoch 39: 3064m 49s loss:0.3665 accuracy POS:0.9253 accuracy NER:0.9489epoch: 39\n",
      "F1 (POS): 0.95873272642792 F1 (NER) 0.8216402440804649\n"
     ]
    }
   ],
   "source": [
    "trainer = TrainModel(LSTMTagger, best2010,4)\n",
    "trainer.train(40)\n"
   ]
  },
  {
   "cell_type": "code",
   "execution_count": null,
   "metadata": {},
   "outputs": [],
   "source": []
  }
 ],
 "metadata": {
  "kernelspec": {
   "display_name": "Python 3",
   "language": "python",
   "name": "python3"
  },
  "language_info": {
   "codemirror_mode": {
    "name": "ipython",
    "version": 3
   },
   "file_extension": ".py",
   "mimetype": "text/x-python",
   "name": "python",
   "nbconvert_exporter": "python",
   "pygments_lexer": "ipython3",
   "version": "3.7.3"
  }
 },
 "nbformat": 4,
 "nbformat_minor": 2
}
